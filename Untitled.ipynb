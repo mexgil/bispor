{
 "cells": [
  {
   "cell_type": "markdown",
   "metadata": {},
   "source": [
    "Съемка точек C,D,E производится с двух стоянок: A и B.  \n",
    "В результате съемки со стоянки A, измеряются расстояния AC, AD, AE и углы между линиями в направлении точек.  \n",
    "В результате съемки со стоянки B измеряются расстояние BC, BE, BD и углы $\\alpha$ и $\\beta$  "
   ]
  },
  {
   "cell_type": "code",
   "execution_count": 125,
   "metadata": {
    "collapsed": false
   },
   "outputs": [
    {
     "data": {
      "image/jpeg": "[encoded data removed]",
      "text/plain": [
       "<IPython.core.display.Image object>"
      ]
     },
     "execution_count": 125,
     "metadata": {},
     "output_type": "execute_result"
    }
   ],
   "source": [
    "from IPython.core.display import Image\n",
    "Image(filename=('images/1.jpg'))"
   ]
  },
  {
   "cell_type": "markdown",
   "metadata": {},
   "source": [
    "Рассмотрим измерения, произведенные со стоянки A в произвольной системе координат с начало отсчета в точке A, и осью абсцисс, совпадающей с отрезком AE."
   ]
  },
  {
   "cell_type": "code",
   "execution_count": 126,
   "metadata": {
    "collapsed": false
   },
   "outputs": [
    {
     "data": {
      "image/jpeg": "[encoded data removed]",
      "text/plain": [
       "<IPython.core.display.Image object>"
      ]
     },
     "execution_count": 126,
     "metadata": {},
     "output_type": "execute_result"
    }
   ],
   "source": [
    "Image(filename=('images/2.jpg'))"
   ]
  },
  {
   "cell_type": "markdown",
   "metadata": {
    "collapsed": true
   },
   "source": [
    "Нам известно значение углов alpha и beta, длины отрезков AC, AD, AE.  \n",
    "Этой информации достаточно, чтобы вычислить значение координат точек C,D и E по формулам:  \n",
    "Cx = AC*cos(alpha+beta)   \n",
    "Cy = AC*sin(alpha+beta)    \n",
    "Dx = AD*cos(alpha)    \n",
    "Dy = AD*sin(alpha)  \n",
    "Ex = AE*cos(0)  \n",
    "Ey = AE*sin(0)  "
   ]
  },
  {
   "cell_type": "code",
   "execution_count": 127,
   "metadata": {
    "collapsed": false
   },
   "outputs": [],
   "source": [
    "from math import cos, sin, acos, sqrt\n",
    "\n",
    "alpha = 1.0472\n",
    "beta = 0\n",
    "AE = 10\n",
    "AD = 15\n",
    "AC = 15\n",
    "\n",
    "Cx = AC*cos(alpha+beta)\n",
    "Cy = AC*sin(alpha+beta)\n",
    "Dx = AD*cos(alpha)\n",
    "Dy = AD*sin(alpha)\n",
    "Ex = AE\n",
    "Ey = 0"
   ]
  },
  {
   "cell_type": "markdown",
   "metadata": {
    "collapsed": true
   },
   "source": [
    "Аналогичным образом вычислим значения координат точек, измеренных со стоянки B."
   ]
  },
  {
   "cell_type": "code",
   "execution_count": 128,
   "metadata": {
    "collapsed": true
   },
   "outputs": [],
   "source": [
    "alpha = 1.0472\n",
    "beta = 0\n",
    "BM = 10\n",
    "BL = 15\n",
    "BN = 15\n",
    "\n",
    "Lx = BL*cos(alpha+beta)\n",
    "Ly = BL*sin(alpha+beta)\n",
    "Mx = BM*cos(alpha)\n",
    "My = BM*sin(alpha)\n",
    "Nx = BN\n",
    "Ny = 0"
   ]
  },
  {
   "cell_type": "markdown",
   "metadata": {
    "collapsed": true
   },
   "source": [
    "Вычисляем длину сторон и значение угла NML:"
   ]
  },
  {
   "cell_type": "code",
   "execution_count": 129,
   "metadata": {
    "collapsed": false
   },
   "outputs": [],
   "source": [
    "ML = sqrt((Lx - Mx)**2 + (Ly-My)**2)\n",
    "MN = sqrt((Nx - Mx)**2 + (Ny-My)**2)\n",
    "NL = sqrt((Nx - Lx)**2 + (Ny-Ly)**2)\n",
    "a_NML = acos((MN**2+NL**2-ML**2)/(2*MN*NL))"
   ]
  },
  {
   "cell_type": "markdown",
   "metadata": {
    "collapsed": true
   },
   "source": [
    "Переносим треугольник MNL в систему координат угла CDE, таким образом, чтобы точка M совпадала с начало системы координат(0,0), а точка M лежала на оси абсцисс, т.е. угол LMx = 0"
   ]
  },
  {
   "cell_type": "code",
   "execution_count": 130,
   "metadata": {
    "collapsed": false
   },
   "outputs": [
    {
     "data": {
      "image/jpeg": "[encoded data removed]",
      "text/plain": [
       "<IPython.core.display.Image object>"
      ]
     },
     "execution_count": 130,
     "metadata": {},
     "output_type": "execute_result"
    }
   ],
   "source": [
    "Image(filename=('images/3.jpg'))"
   ]
  },
  {
   "cell_type": "markdown",
   "metadata": {
    "collapsed": true
   },
   "source": [
    "Определяем координаты треугольника MNL в новой системе координат"
   ]
  },
  {
   "cell_type": "code",
   "execution_count": 131,
   "metadata": {
    "collapsed": false
   },
   "outputs": [],
   "source": [
    "a_LMx = 0\n",
    "My = 0\n",
    "Mx = 0\n",
    "Lx = ML*cos(a_LMx)\n",
    "Ly = ML*sin(a_LMx)\n",
    "Nx = MN*cos(a_NML+a_LMx)\n",
    "Ny = MN*sin(a_NML+a_LMx)"
   ]
  },
  {
   "cell_type": "markdown",
   "metadata": {
    "collapsed": true
   },
   "source": [
    "Критерием оценки, как близко расположенны координаты вершин треугольника MNL от вершина тругольника CDE будет сумма расстояний между соответствующими вершинами двух треугольников.  \n",
    "Не знаю, нужно ли будет находить соответствие между вершинами (при съемке, как я полагаю, как-то фиксируют, какие пункты измерялись).  \n",
    "Пока что для простоты примем, что E-M,D-L,C-N\n",
    "\n",
    "$$dist=\\sqrt{(Ex-Mx)^2+(Ey-My)^2}+\\sqrt{(Dx - Lx)^2+(Dy-Ly)^2)} + \\sqrt{(Cx-Nx)^2+(Cy-Ny)^2}$$"
   ]
  },
  {
   "cell_type": "code",
   "execution_count": 149,
   "metadata": {
    "collapsed": false
   },
   "outputs": [
    {
     "data": {
      "text/plain": [
       "33.22881629510081"
      ]
     },
     "execution_count": 149,
     "metadata": {},
     "output_type": "execute_result"
    }
   ],
   "source": [
    "dist = sqrt((Ex-Mx)**2+(Ey-My)**2)+sqrt((Dx-Lx)**2+(Dy-Ly)**2) + sqrt((Cx-Nx)**2+(Cy-Ny)**2)\n",
    "dist"
   ]
  },
  {
   "cell_type": "markdown",
   "metadata": {
    "collapsed": true
   },
   "source": [
    "Посмотрим, как изменения положения треугольника MNL путем изменения угла a_LMx на rot_angl радиан и координат точки M (My на step_y, Mx на step_x) влияет на сумму расстояний до соответствующих вершин."
   ]
  },
  {
   "cell_type": "code",
   "execution_count": 158,
   "metadata": {
    "collapsed": false
   },
   "outputs": [],
   "source": [
    "rot_angl = 0\n",
    "step_x = 0\n",
    "step_y = 0\n",
    "n_a_LMx = 0+rot_angl\n",
    "n_My = 0+step_y\n",
    "n_Mx = 0+step_x\n",
    "n_Lx = ML*cos(n_a_LMx)+step_x\n",
    "n_Ly = ML*sin(n_a_LMx)+step_y\n",
    "n_Nx = MN*cos(a_NML+n_a_LMx)+step_x\n",
    "n_Ny = MN*sin(a_NML+n_a_LMx)+step_y\n",
    "n_dist = sqrt((Ex-Mx)**2+(Ey-My)**2)+sqrt((Dx-Lx)**2+(Dy-Ly)**2) + sqrt((Cx-Nx)**2+(Cy-Ny)**2)\n"
   ]
  },
  {
   "cell_type": "code",
   "execution_count": 159,
   "metadata": {
    "collapsed": false
   },
   "outputs": [
    {
     "data": {
      "text/plain": [
       "33.22881629510081"
      ]
     },
     "execution_count": 159,
     "metadata": {},
     "output_type": "execute_result"
    }
   ],
   "source": [
    "n_dist"
   ]
  },
  {
   "cell_type": "code",
   "execution_count": 184,
   "metadata": {
    "collapsed": false
   },
   "outputs": [],
   "source": [
    "def cal_dist(ML,MN,a_NML):\n",
    "    a_LMx = 0\n",
    "    My = 0\n",
    "    Mx = 0\n",
    "    Lx = ML*cos(a_LMx)\n",
    "    Ly = ML*sin(a_LMx)\n",
    "    Nx = MN*cos(a_NML+a_LMx)\n",
    "    Ny = MN*sin(a_NML+a_LMx)\n",
    "    return sqrt((Ex-Mx)**2+(Ey-My)**2)+sqrt((Dx-Lx)**2+(Dy-Ly)**2) + sqrt((Cx-Nx)**2+(Cy-Ny)**2)\n",
    "\n",
    "def calc_n_dist(ML,MN,a_NML,rot_angl, step_x, step_y):\n",
    "    n_a_LMx = 0+rot_angl\n",
    "    n_Mx = 0+step_x\n",
    "    n_My = 0+step_y\n",
    "    n_Lx = ML*cos(n_a_LMx)+step_x\n",
    "    n_Ly = ML*sin(n_a_LMx)+step_y\n",
    "    n_Nx = MN*cos(a_NML+n_a_LMx)+step_x\n",
    "    n_Ny = MN*sin(a_NML+n_a_LMx)+step_y\n",
    "    return sqrt((Ex-n_Mx)**2+(Ey-n_My)**2)+sqrt((Dx-n_Lx)**2+(Dy-n_Ly)**2) + sqrt((Cx-n_Nx)**2+(Cy-n_Ny)**2)\n",
    "\n",
    "    "
   ]
  },
  {
   "cell_type": "code",
   "execution_count": 206,
   "metadata": {
    "collapsed": false
   },
   "outputs": [
    {
     "data": {
      "text/plain": [
       "22.16716227503412"
      ]
     },
     "execution_count": 206,
     "metadata": {},
     "output_type": "execute_result"
    }
   ],
   "source": [
    "calc_n_dist(ML,MN,a_NML,0.2,1,10)"
   ]
  },
  {
   "cell_type": "code",
   "execution_count": null,
   "metadata": {
    "collapsed": true
   },
   "outputs": [],
   "source": []
  }
 ],
 "metadata": {
  "kernelspec": {
   "display_name": "Python 3",
   "language": "python",
   "name": "python3"
  },
  "language_info": {
   "codemirror_mode": {
    "name": "ipython",
    "version": 3
   },
   "file_extension": ".py",
   "mimetype": "text/x-python",
   "name": "python",
   "nbconvert_exporter": "python",
   "pygments_lexer": "ipython3",
   "version": "3.5.1"
  }
 },
 "nbformat": 4,
 "nbformat_minor": 0
}
