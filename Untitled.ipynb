{
 "cells": [
  {
   "cell_type": "markdown",
   "metadata": {},
   "source": [
    "Съемка точек C,D,E производится с двух стоянок: A и B.  \n",
    "В результате съемки со стоянки A, измеряются расстояния AC, AD, AE и углы между линиями в направлении точек.  \n",
    "В результате съемки со стоянки B измеряются расстояние BC, BE, BD и углы $\\alpha$ и $\\beta$  "
   ]
  },
  {
   "cell_type": "code",
   "execution_count": 1,
   "metadata": {
    "collapsed": false
   },
   "outputs": [
    {
     "data": {
      "image/jpeg": "[encoded data removed]",
      "text/plain": [
       "<IPython.core.display.Image object>"
      ]
     },
     "execution_count": 1,
     "metadata": {},
     "output_type": "execute_result"
    }
   ],
   "source": [
    "from IPython.core.display import Image\n",
    "Image(filename=('images/1.jpg'))"
   ]
  },
  {
   "cell_type": "markdown",
   "metadata": {},
   "source": [
    "Рассмотрим измерения, произведенные со стоянки A в произвольной системе координат с начало отсчета в точке A, и осью абсцисс, совпадающей с отрезком AE.\n",
    "\n",
    "Нам известно значение углов alpha и beta, длины отрезков AC, AD, AE.  \n",
    "Этой информации достаточно, чтобы вычислить значение координат точек C,D и E по формулам:  \n",
    "Cx = AC*cos(alpha+beta)   \n",
    "Cy = AC*sin(alpha+beta)    \n",
    "Dx = AD*cos(beta)    \n",
    "Dy = AD*sin(beta)  \n",
    "Ex = AE*cos(0)  \n",
    "Ey = AE*sin(0)  "
   ]
  },
  {
   "cell_type": "code",
   "execution_count": 113,
   "metadata": {
    "collapsed": false
   },
   "outputs": [
    {
     "data": {
      "image/png": "[encoded data removed]",
      "text/plain": [
       "<matplotlib.figure.Figure at 0x7e3c9b0>"
      ]
     },
     "metadata": {},
     "output_type": "display_data"
    }
   ],
   "source": [
    "#Image(filename=('images/2.jpg'))\n",
    "         \n",
    "import matplotlib.pyplot as plt\n",
    "%matplotlib inline\n",
    "\n",
    "fig_size = [9,6]\n",
    "plt.rcParams[\"figure.figsize\"] = fig_size\n",
    "\n",
    "from math import cos, sin, acos, sqrt\n",
    "\n",
    "alpha = 1.0472\n",
    "beta = 0\n",
    "AE = 15\n",
    "AD = 10\n",
    "AC = 20\n",
    "\n",
    "Cx = AC*cos(alpha+beta)\n",
    "Cy = AC*sin(alpha+beta)\n",
    "Dx = AD*cos(beta)\n",
    "Dy = AD*sin(beta)\n",
    "Ex = AE\n",
    "Ey = 0\n",
    "\n",
    "def npl(Cx,Cy,Dx,Dy,Ex,Ey,lt='CDE'):\n",
    "    plt.plot([0,Cx,Dx,Ex],[0,Cy,Dy,Ey],'ro')\n",
    "    plt.axhline(0, color='black')\n",
    "    plt.axvline(0, color='black')\n",
    "    plt.axis([-10, 20, -10, 20])\n",
    "    #plt.annotate('A', xy=(0, 0),xytext=(-1,-1))\n",
    "    plt.annotate(lt[0], xy=(Cx, Cy),xytext=(Cx-1,Cy-1))\n",
    "    plt.annotate(lt[1], xy=(Dx, Dy),xytext=(Dx-1,Dy-1))\n",
    "    plt.annotate(lt[2], xy=(Ex, Ey),xytext=(Ex-1,Ey-1))\n",
    "    return plt.show()\n",
    "\n",
    "npl(Cx,Cy,Dx,Dy,Ex,Ey)\n"
   ]
  },
  {
   "cell_type": "markdown",
   "metadata": {
    "collapsed": true
   },
   "source": [
    "Аналогичным образом вычислим значения координат точек, измеренных со стоянки B."
   ]
  },
  {
   "cell_type": "code",
   "execution_count": 114,
   "metadata": {
    "collapsed": false
   },
   "outputs": [
    {
     "data": {
      "image/png": "[encoded data removed]",
      "text/plain": [
       "<matplotlib.figure.Figure at 0x7e56550>"
      ]
     },
     "metadata": {},
     "output_type": "display_data"
    }
   ],
   "source": [
    "alpha = 1.0472\n",
    "beta = 0\n",
    "BM = 15\n",
    "BL = 10\n",
    "BN = 20\n",
    "\n",
    "Nx = BN*cos(alpha+beta)\n",
    "Ny = BN*sin(alpha+beta)\n",
    "Lx = BL*cos(beta)\n",
    "Ly = BL*sin(beta)\n",
    "Mx = BM\n",
    "My = 0\n",
    "\n",
    "npl(Nx,Ny,Lx,Ly,Mx,My,'NLM')"
   ]
  },
  {
   "cell_type": "markdown",
   "metadata": {
    "collapsed": true
   },
   "source": [
    "Вычисляем длину сторон и значение угла NML:"
   ]
  },
  {
   "cell_type": "code",
   "execution_count": 115,
   "metadata": {
    "collapsed": false
   },
   "outputs": [
    {
     "name": "stdout",
     "output_type": "stream",
     "text": [
      "5.0 18.027791668323456 17.320532563722793\n",
      "1.5707986795261617\n"
     ]
    }
   ],
   "source": [
    "ML = sqrt((Lx - Mx)**2 + (Ly-My)**2)\n",
    "MN = sqrt((Nx - Mx)**2 + (Ny-My)**2)\n",
    "NL = sqrt((Nx - Lx)**2 + (Ny-Ly)**2)\n",
    "#a_NML = acos((MN**2+NL**2-ML**2)/(2*MN*NL))\n",
    "a_NLM = acos((NL**2+ML**2-MN**2)/(2*ML*MN))\n",
    "print(ML,MN,NL)\n",
    "print(a_NLM)"
   ]
  },
  {
   "cell_type": "markdown",
   "metadata": {
    "collapsed": true
   },
   "source": [
    "Переносим треугольник MNL в систему координат угла CDE, таким образом, чтобы точка L совпадала с начало системы координат(0,0), а точка M лежала на оси абсцисс, т.е. угол LMx = 0"
   ]
  },
  {
   "cell_type": "markdown",
   "metadata": {
    "collapsed": true
   },
   "source": [
    "Определяем координаты треугольника MNL в новой системе координат"
   ]
  },
  {
   "cell_type": "code",
   "execution_count": 116,
   "metadata": {
    "collapsed": false
   },
   "outputs": [
    {
     "data": {
      "image/png": "[encoded data removed]",
      "text/plain": [
       "<matplotlib.figure.Figure at 0x7e560b8>"
      ]
     },
     "metadata": {},
     "output_type": "display_data"
    }
   ],
   "source": [
    "a_LMx = 0\n",
    "Lx = 0\n",
    "Ly = 0\n",
    "Mx = ML*cos(a_LMx)\n",
    "My = ML*sin(a_LMx)\n",
    "Nx = NL*cos(a_NLM+a_LMx)\n",
    "Ny = NL*sin(a_NLM+a_LMx)\n",
    "npl(Nx,Ny,Lx,Ly,Mx,My,'NLM')"
   ]
  },
  {
   "cell_type": "markdown",
   "metadata": {
    "collapsed": true
   },
   "source": [
    "Критерием оценки, как близко расположенны координаты вершин треугольника MNL от вершина тругольника CDE будет сумма расстояний между соответствующими вершинами двух треугольников.  \n",
    "Не знаю, нужно ли будет находить соответствие между вершинами (при съемке, как я полагаю, как-то фиксируют, какие пункты измерялись).  \n",
    "Пока что для простоты примем, что E-M,D-L,C-N\n",
    "\n",
    "$$dist=\\sqrt{(Ex-Mx)^2+(Ey-My)^2}+\\sqrt{(Dx - Lx)^2+(Dy-Ly)^2)} + \\sqrt{(Cx-Nx)^2+(Cy-Ny)^2}$$"
   ]
  },
  {
   "cell_type": "code",
   "execution_count": 136,
   "metadata": {
    "collapsed": false
   },
   "outputs": [
    {
     "data": {
      "text/plain": [
       "29.999998336009405"
      ]
     },
     "execution_count": 136,
     "metadata": {},
     "output_type": "execute_result"
    }
   ],
   "source": [
    "dist = sqrt((Ex-Mx)**2+(Ey-My)**2)+sqrt((Dx-Lx)**2+(Dy-Ly)**2) + sqrt((Cx-Nx)**2+(Cy-Ny)**2)\n",
    "dist"
   ]
  },
  {
   "cell_type": "markdown",
   "metadata": {
    "collapsed": true
   },
   "source": [
    "Посмотрим, как изменения положения треугольника MNL путем изменения угла a_LMx на rot_angl радиан и координат точки M (My на step_y, Mx на step_x) влияет на сумму расстояний до соответствующих вершин."
   ]
  },
  {
   "cell_type": "code",
   "execution_count": 134,
   "metadata": {
    "collapsed": false
   },
   "outputs": [],
   "source": [
    "rot_angl = 0\n",
    "step_x = 0\n",
    "step_y = 0\n",
    "n_a_LMx = 0+rot_angl\n",
    "n_Lx = 0+step_x\n",
    "n_Ly = 0+step_y\n",
    "n_Mx = ML*cos(a_LMx)+step_x\n",
    "n_My = ML*sin(a_LMx)+step_y\n",
    "n_Nx = NL*cos(a_NLM+a_LMx)+step_x\n",
    "n_Ny = NL*sin(a_NLM+a_LMx)+step_y\n",
    "n_dist = sqrt((Ex-Mx)**2+(Ey-My)**2)+sqrt((Dx-Lx)**2+(Dy-Ly)**2) + sqrt((Cx-Nx)**2+(Cy-Ny)**2)"
   ]
  },
  {
   "cell_type": "code",
   "execution_count": 172,
   "metadata": {
    "collapsed": false
   },
   "outputs": [
    {
     "name": "stdout",
     "output_type": "stream",
     "text": [
      "9.99995924944151,18.02779166827356,10,0,15.0,0.0\n"
     ]
    },
    {
     "data": {
      "text/plain": [
       "0.7072591046046561"
      ]
     },
     "execution_count": 172,
     "metadata": {},
     "output_type": "execute_result"
    }
   ],
   "source": [
    "calc_n_dist1(0,10,0)\n"
   ]
  },
  {
   "cell_type": "code",
   "execution_count": 170,
   "metadata": {
    "collapsed": false
   },
   "outputs": [],
   "source": [
    "def calc_n_dist(ML,MN,a_NML,rot_angl, step_x, step_y):\n",
    "    n_a_LMx = 0+rot_angl\n",
    "    n_Lx = 0+step_x\n",
    "    n_Ly = 0+step_y\n",
    "    n_Mx = ML*cos(a_LMx)+step_x\n",
    "    n_My = ML*sin(a_LMx)+step_y\n",
    "    n_Nx = NL*cos(a_NLM+a_LMx)+step_x\n",
    "    n_Ny = NL*sin(a_NLM+a_LMx)+step_y\n",
    "    n_Ny = MN*sin(a_NLM+n_a_LMx)+step_y\n",
    "    print('{},{},{},{},{},{}'.format(n_Nx,n_Ny,n_Lx,n_Ly,n_Mx,n_My))\n",
    "    return sqrt((Ex-n_Mx)**2+(Ey-n_My)**2)+sqrt((Dx-n_Lx)**2+(Dy-n_Ly)**2) + sqrt((Cx-n_Nx)**2+(Cy-n_Ny)**2)\n",
    "    "
   ]
  },
  {
   "cell_type": "code",
   "execution_count": 171,
   "metadata": {
    "collapsed": false
   },
   "outputs": [],
   "source": [
    "def calc_n_dist1(rot_angl, step_x, step_y):\n",
    "    n_a_LMx = 0+rot_angl\n",
    "    n_Lx = 0+step_x\n",
    "    n_Ly = 0+step_y\n",
    "    n_Mx = ML*cos(a_LMx)+step_x\n",
    "    n_My = ML*sin(a_LMx)+step_y\n",
    "    n_Nx = NL*cos(a_NLM+a_LMx)+step_x\n",
    "    n_Ny = NL*sin(a_NLM+a_LMx)+step_y\n",
    "    n_Ny = MN*sin(a_NLM+n_a_LMx)+step_y\n",
    "    print('{},{},{},{},{},{}'.format(n_Nx,n_Ny,n_Lx,n_Ly,n_Mx,n_My))\n",
    "    return sqrt((Ex-n_Mx)**2+(Ey-n_My)**2)+sqrt((Dx-n_Lx)**2+(Dy-n_Ly)**2) + sqrt((Cx-n_Nx)**2+(Cy-n_Ny)**2)\n",
    "\n",
    "def fun1(x):\n",
    "    return calc_n_dist1(*x)\n"
   ]
  },
  {
   "cell_type": "code",
   "execution_count": 173,
   "metadata": {
    "collapsed": false
   },
   "outputs": [
    {
     "name": "stdout",
     "output_type": "stream",
     "text": [
      "-4.07505584904963e-05,18.02779166827356,0.0,0.0,5.0,0.0\n",
      "-4.07505584904963e-05,18.02779166827356,0.0,0.0,5.0,0.0\n",
      "-4.07505584904963e-05,18.027791668272926,0.0,0.0,5.0,0.0\n",
      "-4.0735657329302455e-05,18.02779166827356,1.4901161193847656e-08,0.0,5.000000014901161,0.0\n",
      "-4.07505584904963e-05,18.027791683174723,0.0,1.4901161193847656e-08,5.0,1.4901161193847656e-08\n",
      "2.9974675368713193,17.9572419415693,2.9975082874298096,-0.07054972648620605,7.99750828742981,-0.07054972648620605\n",
      "2.9974675368713193,17.9572419415693,2.9975082874298096,-0.07054972648620605,7.99750828742981,-0.07054972648620605\n",
      "2.9974675368713193,17.957241941567833,2.9975082874298096,-0.07054972648620605,7.99750828742981,-0.07054972648620605\n",
      "2.9974675517724805,17.9572419415693,2.9975083023309708,-0.07054972648620605,7.997508302330971,-0.07054972648620605\n",
      "2.9974675368713193,17.95724195647046,2.9975082874298096,-0.07054971158504486,7.99750828742981,-0.07054971158504486\n",
      "17.976418827378396,17.60522403737412,17.976459577936886,-0.42256760773192265,22.976459577936886,-0.42256760773192265\n",
      "10.029640375232031,17.791979993153802,10.029681125790521,-0.23581166873460857,15.029681125790521,-0.23581166873460857\n",
      "10.029640375232031,17.791979993153802,10.029681125790521,-0.23581166873460857,15.029681125790521,-0.23581166873460857\n",
      "10.029640375232031,17.791979993146622,10.029681125790521,-0.23581166873460857,15.029681125790521,-0.23581166873460857\n",
      "10.029640390133192,17.791979993153802,10.029681140691682,-0.23581166873460857,15.029681140691682,-0.23581166873460857\n",
      "10.029640375232031,17.791980008054963,10.029681125790521,-0.23581165383344738,15.029681125790521,-0.23581165383344738\n",
      "9.600332255259813,18.68242067354392,9.600373005818303,0.6546309019366727,14.600373005818303,0.6546309019366727\n",
      "9.957629031540282,17.94134108768568,9.957669782098773,-0.08645049196832053,14.957669782098773,-0.08645049196832053\n",
      "9.957629031540282,17.94134108768568,9.957669782098773,-0.08645049196832053,14.957669782098773,-0.08645049196832053\n",
      "9.957629031540282,17.941341087659033,9.957669782098773,-0.08645049196832053,14.957669782098773,-0.08645049196832053\n",
      "9.957629046441443,17.94134108768568,9.957669796999934,-0.08645049196832053,14.957669796999934,-0.08645049196832053\n",
      "9.957629031540282,17.94134110258684,9.957669782098773,-0.08645047706715933,14.957669782098773,-0.08645047706715933\n",
      "10.874235248104219,24.364329458147957,10.874275998662709,6.3367855535780375,15.874275998662709,6.3367855535780375\n",
      "10.067254630778777,18.70955207389661,10.067295381337267,0.6817650053942848,15.067295381337267,0.6817650053942848\n",
      "9.972391897002288,18.04479355765755,9.972432647560778,0.017002187991214487,14.972432647560778,0.017002187991214487\n",
      "9.972391897002288,18.04479355765755,9.972432647560778,0.017002187991214487,14.972432647560778,0.017002187991214487\n",
      "9.972391897002288,18.044793557608653,9.972432647560778,0.017002187991214487,14.972432647560778,0.017002187991214487\n",
      "9.972391911903449,18.04479355765755,9.972432662461939,0.017002187991214487,14.972432662461939,0.017002187991214487\n",
      "9.972391897002288,18.04479357255871,9.972432647560778,0.01700220289237568,14.972432647560778,0.01700220289237568\n",
      "10.056026632094499,18.002643225110656,10.056067382652989,-0.025134989564646396,15.056067382652989,-0.025134989564646396\n",
      "10.011238320023882,18.02521811504392,10.011279070582372,-0.0025695679600212934,15.011279070582372,-0.0025695679600212934\n",
      "10.011238320023882,18.02521811504392,10.011279070582372,-0.0025695679600212934,15.011279070582372,-0.0025695679600212934\n",
      "10.011238320023882,18.025218114865297,10.011279070582372,-0.0025695679600212934,15.011279070582372,-0.0025695679600212934\n",
      "10.011238334925043,18.02521811504392,10.011279085483533,-0.0025695679600212934,15.011279085483533,-0.0025695679600212934\n",
      "10.011238320023882,18.02521812994508,10.011279070582372,-0.0025695530588600995,15.011279070582372,-0.0025695530588600995\n",
      "9.961928560558404,17.945768882869984,9.961969311116894,-0.08113899660886534,14.961969311116894,-0.08113899660886534\n",
      "9.995354381691287,17.999793415216143,9.995395132249778,-0.027878796255065095,14.995395132249778,-0.027878796255065095\n",
      "10.004472264281528,18.014407510012372,10.004513014840018,-0.013350499354649038,15.004513014840018,-0.013350499354649038\n",
      "10.004472264281528,18.014407510012372,10.004513014840018,-0.013350499354649038,15.004513014840018,-0.013350499354649038\n",
      "10.004472264281528,18.014407509493264,10.004513014840018,-0.013350499354649038,15.004513014840018,-0.013350499354649038\n",
      "10.00447227918269,18.014407510012372,10.00451302974118,-0.013350499354649038,15.00451302974118,-0.013350499354649038\n",
      "10.004472264281528,18.014407524913533,10.004513014840018,-0.013350484453487844,15.004513014840018,-0.013350484453487844\n",
      "9.994922424871161,18.018122954622275,9.994963175429652,-0.0015066834354444426,14.994963175429652,-0.0015066834354444426\n",
      "9.994922424871161,18.018122954622275,9.994963175429652,-0.0015066834354444426,14.994963175429652,-0.0015066834354444426\n",
      "9.994922424871161,18.018122946539574,9.994963175429652,-0.0015066834354444426,14.994963175429652,-0.0015066834354444426\n",
      "9.994922439772322,18.018122954622275,9.994963190330813,-0.0015066834354444426,14.994963190330813,-0.0015066834354444426\n",
      "9.994922424871161,18.018122969523436,9.994963175429652,-0.0015066685342832488,14.994963175429652,-0.0015066685342832488\n",
      "9.923403815256718,14.51273014277231,9.923444565815208,0.08876481557953703,14.923444565815208,0.08876481557953703\n",
      "9.987770563909717,17.960034173549552,9.987811314468207,0.007520466466053704,14.987811314468207,0.007520466466053704\n",
      "9.987770563909717,17.960034173549552,9.987811314468207,0.007520466466053704,14.987811314468207,0.007520466466053704\n",
      "9.987770563909717,17.960034149025823,9.987811314468207,0.007520466466053704,14.987811314468207,0.007520466466053704\n",
      "9.987770578810878,17.960034173549552,9.987811329369368,0.007520466466053704,14.987811329369368,0.007520466466053704\n",
      "9.987770563909717,17.960034188450713,9.987811314468207,0.007520481367214898,14.987811314468207,0.007520481367214898\n",
      "7.677303639086446,20.661574079449373,7.6773443896449365,2.6985545754262743,12.677344389644936,2.6985545754262743\n",
      "9.215316966931498,18.911327458504072,9.215357717489988,0.9072082978408301,14.215357717489988,0.9072082978408301\n",
      "9.729194182918867,-10.02552807086343,9.729234933477358,0.3086881021252811,14.729234933477358,0.3086881021252811\n",
      "9.961912925810632,17.25810925254171,9.961953676369122,0.03763723003197644,14.961953676369122,0.03763723003197644\n",
      "9.961912925810632,17.25810925254171,9.961953676369122,0.03763723003197644,14.961953676369122,0.03763723003197644\n",
      "9.961912925810632,17.258109173051846,9.961953676369122,0.03763723003197644,14.961953676369122,0.03763723003197644\n",
      "9.961912940711793,17.25810925254171,9.961953691270283,0.03763723003197644,14.961953691270283,0.03763723003197644\n",
      "9.961912925810632,17.258109267442872,9.961953676369122,0.03763724493313764,14.961953676369122,0.03763724493313764\n",
      "9.985674672414806,17.880651549784396,9.985715422973296,-6.235038080892874e-06,14.985715422973296,-6.235038080892874e-06\n",
      "9.969944904080839,17.527065128266536,9.969985654639329,0.024912934192339718,14.969985654639329,0.024912934192339718\n",
      "9.964845044063702,17.363135511687332,9.964885794622193,0.0329921552031175,14.964885794622193,0.0329921552031175\n",
      "9.964845044063702,17.363135511687332,9.964885794622193,0.0329921552031175,14.964885794622193,0.0329921552031175\n",
      "9.964845044063702,17.363135437678793,9.964885794622193,0.0329921552031175,14.964885794622193,0.0329921552031175\n",
      "9.964845058964864,17.363135511687332,9.964885809523354,0.0329921552031175,14.964885809523354,0.0329921552031175\n",
      "9.964845044063702,17.363135526588493,9.964885794622193,0.03299217010427869,14.964885794622193,0.03299217010427869\n",
      "9.967365738096147,17.32370497621119,9.967406488654637,0.023825811076832213,14.967406488654637,0.023825811076832213\n",
      "9.967365738096147,17.32370497621119,9.967406488654637,0.023825811076832213,14.967406488654637,0.023825811076832213\n",
      "9.967365738096147,17.323704900646796,9.967406488654637,0.023825811076832213,14.967406488654637,0.023825811076832213\n",
      "9.967365752997308,17.32370497621119,9.967406503555798,0.023825811076832213,14.967406503555798,0.023825811076832213\n",
      "9.967365738096147,17.32370499111235,9.967406488654637,0.023825825977993407,14.967406488654637,0.023825825977993407\n",
      "9.979074256442136,17.28974046331667,9.979115007000626,-0.00023718490344289828,14.979115007000626,-0.00023718490344289828\n",
      "9.979074256442136,17.28974046331667,9.979115007000626,-0.00023718490344289828,14.979115007000626,-0.00023718490344289828\n",
      "9.979074256442136,17.28974038725073,9.979115007000626,-0.00023718490344289828,14.979115007000626,-0.00023718490344289828\n",
      "9.979074271343297,17.28974046331667,9.979115021901787,-0.00023718490344289828,14.979115021901787,-0.00023718490344289828\n",
      "9.979074256442136,17.28974047821783,9.979115007000626,-0.00023717000228170443,14.979115007000626,-0.00023717000228170443\n",
      "9.99070645848477,17.304243966878072,9.99074720904326,-0.012163244674952394,14.99074720904326,-0.012163244674952394\n",
      "9.99070645848477,17.304243966878072,9.99074720904326,-0.012163244674952394,14.99074720904326,-0.012163244674952394\n",
      "9.99070645848477,17.304243892159015,9.99074720904326,-0.012163244674952394,14.99074720904326,-0.012163244674952394\n",
      "9.99070647338593,17.304243966878072,9.990747223944421,-0.012163244674952394,14.990747223944421,-0.012163244674952394\n",
      "9.99070645848477,17.304243981779234,9.99074720904326,-0.0121632297737912,14.99074720904326,-0.0121632297737912\n",
      "10.014032085996481,17.371244093856564,10.014072836554972,-0.009085757488669504,15.014072836554972,-0.009085757488669504\n",
      "9.999323457797836,17.32933894195613,9.999364208356326,-0.01102635328985008,14.999364208356326,-0.01102635328985008\n",
      "9.999323457797836,17.32933894195613,9.999364208356326,-0.01102635328985008,14.999364208356326,-0.01102635328985008\n",
      "9.999323457797836,17.32933886848116,9.999364208356326,-0.01102635328985008,14.999364208356326,-0.01102635328985008\n",
      "9.999323472698997,17.32933894195613,9.999364223257487,-0.01102635328985008,14.999364223257487,-0.01102635328985008\n",
      "9.999323457797836,17.329338956857292,9.999364208356326,-0.011026338388688887,14.999364208356326,-0.011026338388688887\n",
      "10.002635706773624,17.31808262681961,10.002676457332115,0.0012726417228719252,15.002676457332115,0.0012726417228719252\n",
      "10.002635706773624,17.31808262681961,10.002676457332115,0.0012726417228719252,15.002676457332115,0.0012726417228719252\n",
      "10.002635706773624,17.318082552121286,10.002676457332115,0.0012726417228719252,15.002676457332115,0.0012726417228719252\n",
      "10.002635721674785,17.31808262681961,10.002676472233276,0.0012726417228719252,15.002676472233276,0.0012726417228719252\n",
      "10.002635706773624,17.31808264172077,10.002676457332115,0.001272656624033119,15.002676457332115,0.001272656624033119\n",
      "9.99231233439413,17.32048510569207,9.99235308495262,0.003193371746319121,14.99235308495262,0.003193371746319121\n",
      "9.999324553172054,17.318853223499744,9.999365303730544,0.0018887032094666379,14.999365303730544,0.0018887032094666379\n",
      "9.999324553172054,17.318853223499744,9.999365303730544,0.0018887032094666379,14.999365303730544,0.0018887032094666379\n",
      "9.999324553172054,17.31885314880937,9.999365303730544,0.0018887032094666379,14.999365303730544,0.0018887032094666379\n",
      "9.999324568073215,17.318853223499744,9.999365318631705,0.0018887032094666379,14.999365318631705,0.0018887032094666379\n",
      "9.999324553172054,17.318853238400905,9.999365303730544,0.0018887181106278317,14.999365303730544,0.0018887181106278317\n",
      "9.996757628751078,17.32905522628485,9.996798379309569,-0.007851648950631982,14.996798379309569,-0.007851648950631982\n",
      "9.998608429985913,17.321727357509136,9.998649180544403,-0.000828670144427363,14.998649180544403,-0.000828670144427363\n",
      "9.998608429985913,17.321727357509136,9.998649180544403,-0.000828670144427363,14.998649180544403,-0.000828670144427363\n",
      "9.998608429985913,17.321727283107226,9.998649180544403,-0.000828670144427363,14.998649180544403,-0.000828670144427363\n",
      "9.998608444887074,17.321727357509136,9.998649195445564,-0.000828670144427363,14.998649195445564,-0.000828670144427363\n",
      "9.998608429985913,17.321727372410297,9.998649180544403,-0.0008286552432661691,14.998649180544403,-0.0008286552432661691\n",
      "10.000582227769485,17.321034976546084,10.000622978327975,2.018030602131556e-05,15.000622978327975,2.018030602131556e-05\n",
      "10.000582227769485,17.321034976546084,10.000622978327975,2.018030602131556e-05,15.000622978327975,2.018030602131556e-05\n",
      "10.000582227769485,17.321034902064543,10.000622978327975,2.018030602131556e-05,15.000622978327975,2.018030602131556e-05\n",
      "10.000582242670646,17.321034976546084,10.000622993229136,2.018030602131556e-05,15.000622993229136,2.018030602131556e-05\n",
      "10.000582227769485,17.321034991447245,10.000622978327975,2.019520718250941e-05,15.000622978327975,2.019520718250941e-05\n",
      "9.999931037433475,17.31531618012477,9.999971787991965,-0.0016920958077654882,14.999971787991965,-0.0016920958077654882\n",
      "10.00043364126486,17.319731057235177,10.00047439182335,-0.0003705213193442204,15.00047439182335,-0.0003705213193442204\n",
      "10.000512795682837,17.320425747914868,10.000553546241328,-0.00016238828709694717,15.000553546241328,-0.00016238828709694717\n",
      "10.000512795682837,17.320425747914868,10.000553546241328,-0.00016238828709694717,15.000553546241328,-0.00016238828709694717\n",
      "10.000512795682837,17.320425673411297,10.000553546241328,-0.00016238828709694717,15.000553546241328,-0.00016238828709694717\n",
      "10.000512810583999,17.320425747914868,10.000553561142489,-0.00016238828709694717,15.000553561142489,-0.00016238828709694717\n",
      "10.000512795682837,17.32042576281603,10.000553546241328,-0.00016237338593575332,15.000553546241328,-0.00016237338593575332\n",
      "9.997729629600967,17.31913176450341,9.997770380159457,0.0009968819643455247,14.997770380159457,0.0009968819643455247\n",
      "9.999686156223547,17.3200418512212,9.999726906782037,0.00018193127761268225,14.999726906782037,0.00018193127761268225\n",
      "9.999686156223547,17.3200418512212,9.999726906782037,0.00018193127761268225,14.999726906782037,0.00018193127761268225\n",
      "9.999686156223547,17.32004177668005,9.999726906782037,0.00018193127761268225,14.999726906782037,0.00018193127761268225\n",
      "9.999686171124708,17.3200418512212,9.999726921683198,0.00018193127761268225,14.999726921683198,0.00018193127761268225\n",
      "9.999686156223547,17.320041866122363,9.999726906782037,0.0001819461787738761,14.999726906782037,0.0001819461787738761\n",
      "9.999848262254721,17.320877694520714,9.999889012813211,-0.00047677474443535875,14.999889012813211,-0.00047677474443535875\n",
      "9.999762014304295,17.32043317966364,9.999802764862785,-0.00012631249498281112,14.999802764862785,-0.00012631249498281112\n",
      "9.999762014304295,17.32043317966364,9.999802764862785,-0.00012631249498281112,14.999802764862785,-0.00012631249498281112\n",
      "9.999762014304295,17.320433105158592,9.999802764862785,-0.00012631249498281112,14.999802764862785,-0.00012631249498281112\n",
      "9.999762029205456,17.32043317966364,9.999802779763947,-0.00012631249498281112,14.999802779763947,-0.00012631249498281112\n",
      "9.999762014304295,17.320433194564803,9.999802764862785,-0.00012629759382161727,14.999802764862785,-0.00012629759382161727\n",
      "10.001030903772069,17.321871826304733,10.00107165433056,-0.00011463997234772298,15.00107165433056,-0.00011463997234772298\n",
      "10.000112625558303,17.320830838310158,10.000153376116794,-0.00012308721973033676,15.000153376116794,-0.00012308721973033676\n",
      "9.999930845548613,17.320624679286887,9.999971596107104,-0.0001247594152458741,14.999971596107104,-0.0001247594152458741\n",
      "9.999930845548613,17.320624679286887,9.999971596107104,-0.0001247594152458741,14.999971596107104,-0.0001247594152458741\n",
      "9.999930845548613,17.320624604791643,9.999971596107104,-0.0001247594152458741,14.999971596107104,-0.0001247594152458741\n",
      "9.999930860449775,17.320624679286887,9.999971611008265,-0.0001247594152458741,14.999971611008265,-0.0001247594152458741\n",
      "9.999930845548613,17.320624694188048,9.999971596107104,-0.00012474451408468024,14.999971596107104,-0.00012474451408468024\n",
      "10.000268587640278,17.320289143055405,10.000309338198768,0.00011684332077588753,15.000309338198768,0.00011684332077588753\n",
      "10.0000314162939,17.320524789513794,10.00007216685239,-5.281645099960125e-05,15.00007216685239,-5.281645099960125e-05\n",
      "10.0000314162939,17.320524789513794,10.00007216685239,-5.281645099960125e-05,15.00007216685239,-5.281645099960125e-05\n",
      "10.0000314162939,17.32052471500968,10.00007216685239,-5.281645099960125e-05,15.00007216685239,-5.281645099960125e-05\n",
      "10.000031431195062,17.320524789513794,10.000072181753552,-5.281645099960125e-05,15.000072181753552,-5.281645099960125e-05\n",
      "10.0000314162939,17.320524804414955,10.00007216685239,-5.28015498384074e-05,15.00007216685239,-5.28015498384074e-05\n",
      "9.999937018455872,17.320595209417647,9.999977769014363,0.00020913951784961584,14.999977769014363,0.00020913951784961584\n",
      "9.999998055020155,17.320549679615603,10.000038805578646,3.976177927238013e-05,15.000038805578646,3.976177927238013e-05\n",
      "9.999998055020155,17.320549679615603,10.000038805578646,3.976177927238013e-05,15.000038805578646,3.976177927238013e-05\n",
      "9.999998055020155,17.320549605107995,10.000038805578646,3.976177927238013e-05,15.000038805578646,3.976177927238013e-05\n",
      "9.999998069921316,17.320549679615603,10.000038820479807,3.976177927238013e-05,15.000038820479807,3.976177927238013e-05\n",
      "9.999998055020155,17.320549694516764,10.000038805578646,3.977668043357398e-05,15.000038805578646,3.977668043357398e-05\n",
      "9.999845335686814,17.32042650803788,9.999886086245304,2.1218383552498118e-05,14.999886086245304,2.1218383552498118e-05\n",
      "9.999948451546631,17.320509674129926,9.999989202105121,3.373885592328663e-05,14.999989202105121,3.373885592328663e-05\n",
      "9.999948451546631,17.320509674129926,9.999989202105121,3.373885592328663e-05,14.999989202105121,3.373885592328663e-05\n",
      "9.999948451546631,17.320509599620564,9.999989202105121,3.373885592328663e-05,14.999989202105121,3.373885592328663e-05\n",
      "9.999948466447792,17.320509674129926,9.999989217006283,3.373885592328663e-05,14.999989217006283,3.373885592328663e-05\n",
      "9.999948451546631,17.320509689031088,9.999989202105121,3.3753757084480475e-05,14.999989202105121,3.3753757084480475e-05\n",
      "9.999931029319328,17.320581724860453,9.999971779877818,-4.404999503279196e-05,14.999971779877818,-4.404999503279196e-05\n",
      "9.999941893032085,17.32053679911019,9.999982643590576,4.455613220793592e-06,14.999982643590576,4.455613220793592e-06\n",
      "9.999941893032085,17.32053679911019,9.999982643590576,4.455613220793592e-06,14.999982643590576,4.455613220793592e-06\n",
      "9.999941893032085,17.320536724603738,9.999982643590576,4.455613220793592e-06,14.999982643590576,4.455613220793592e-06\n",
      "9.999941907933247,17.32053679911019,9.999982658491737,4.455613220793592e-06,14.999982658491737,4.455613220793592e-06\n",
      "9.999941893032085,17.32053681401135,9.999982643590576,4.47051438198744e-06,14.999982643590576,4.47051438198744e-06\n",
      "9.999994064399901,17.320524514979162,10.000034814958392,-6.92520278601502e-05,15.000034814958392,-6.92520278601502e-05\n",
      "9.999956949372546,17.32053325425278,9.999997699931036,-1.681596513967774e-05,14.999997699931036,-1.681596513967774e-05\n",
      "9.999956949372546,17.32053325425278,9.999997699931036,-1.681596513967774e-05,14.999997699931036,-1.681596513967774e-05\n",
      "9.999956949372546,17.320533179747244,9.999997699931036,-1.681596513967774e-05,14.999997699931036,-1.681596513967774e-05\n",
      "9.999956964273707,17.32053325425278,9.999997714832197,-1.681596513967774e-05,14.999997714832197,-1.681596513967774e-05\n",
      "9.999956949372546,17.32053326915394,9.999997699931036,-1.680106397848389e-05,14.999997699931036,-1.680106397848389e-05\n",
      "9.999971374178022,17.320528331820345,10.000012124736513,3.893278488737189e-06,15.000012124736513,3.893278488737189e-06\n",
      "9.999963585666958,17.320530989688766,10.000004336225448,-7.288444093938771e-06,15.000004336225448,-7.288444093938771e-06\n",
      "9.999963585666958,17.320530989688766,10.000004336225448,-7.288444093938771e-06,15.000004336225448,-7.288444093938771e-06\n",
      "9.999963585666958,17.32053091518262,10.000004336225448,-7.288444093938771e-06,15.000004336225448,-7.288444093938771e-06\n",
      "9.999963600568119,17.320530989688766,10.00000435112661,-7.288444093938771e-06,15.00000435112661,-7.288444093938771e-06\n",
      "9.999963585666958,17.320531004589927,10.000004336225448,-7.273542932744923e-06,15.000004336225448,-7.273542932744923e-06\n",
      "9.999967676784417,17.320554040491007,10.000008427342907,4.529612390499636e-05,15.000008427342907,4.529612390499636e-05\n",
      "9.999964580830147,17.32053659684565,10.000005331388637,5.502737512619951e-06,15.000005331388637,5.502737512619951e-06\n",
      "9.999964077867523,17.32053376295275,10.000004828426013,-9.62017553660002e-07,15.000004828426013,-9.62017553660002e-07\n",
      "9.999964077867523,17.32053376295275,10.000004828426013,-9.62017553660002e-07,15.000004828426013,-9.62017553660002e-07\n",
      "9.999964077867523,17.32053368844642,10.000004828426013,-9.62017553660002e-07,15.000004828426013,-9.62017553660002e-07\n",
      "9.999964092768684,17.32053376295275,10.000004843327174,-9.62017553660002e-07,15.000004843327174,-9.62017553660002e-07\n",
      "9.999964077867523,17.32053377785391,10.000004828426013,-9.471163924661544e-07,15.000004828426013,-9.471163924661544e-07\n",
      "9.999950078210935,17.320511372528212,9.999990828769425,1.676134512073803e-05,14.999990828769425,1.676134512073803e-05\n",
      "9.999960298255026,17.320527718119443,10.000001048813516,3.822917178606502e-06,15.000001048813516,3.822917178606502e-06\n",
      "9.999960298255026,17.320527718119443,10.000001048813516,3.822917178606502e-06,15.000001048813516,3.822917178606502e-06\n",
      "9.999960298255026,17.320527643612557,10.000001048813516,3.822917178606502e-06,15.000001048813516,3.822917178606502e-06\n",
      "9.999960313156187,17.320527718119443,10.000001063714677,3.822917178606502e-06,15.000001063714677,3.822917178606502e-06\n",
      "9.999960298255026,17.320527733020604,10.000001048813516,3.83781833980035e-06,15.000001048813516,3.83781833980035e-06\n",
      "9.99995782714148,17.320533126094272,9.999998577699971,-3.856797137719892e-07,14.999998577699971,-3.856797137719892e-07\n",
      "9.99995782714148,17.320533126094272,9.999998577699971,-3.856797137719892e-07,14.999998577699971,-3.856797137719892e-07\n",
      "9.99995782714148,17.32053305158788,9.999998577699971,-3.856797137719892e-07,14.999998577699971,-3.856797137719892e-07\n",
      "9.999957842042642,17.320533126094272,9.999998592601132,-3.856797137719892e-07,14.999998592601132,-3.856797137719892e-07\n",
      "9.99995782714148,17.320533140995433,9.999998577699971,-3.707785525781415e-07,14.999998577699971,-3.707785525781415e-07\n",
      "9.999959584719859,17.320529232013133,10.000000335278349,-6.436714951171852e-07,15.000000335278349,-6.436714951171852e-07\n",
      "9.99995850729328,17.320531619154707,9.999999257851771,-4.855179780358599e-07,14.999999257851771,-4.855179780358599e-07\n"
     ]
    },
    {
     "data": {
      "text/plain": [
       "     fun: 3.0935220504399856e-06\n",
       "     jac: array([-4.5404663 , -1.52459746,  0.40662892,  0.        ])\n",
       " message: 'Optimization terminated successfully.'\n",
       "    nfev: 193\n",
       "     nit: 32\n",
       "    njev: 32\n",
       "  status: 0\n",
       " success: True\n",
       "       x: array([  2.81034524e-01,   9.99999926e+00,  -4.85517978e-07])"
      ]
     },
     "execution_count": 173,
     "metadata": {},
     "output_type": "execute_result"
    }
   ],
   "source": [
    "from scipy.optimize import minimize\n",
    "x0 = (0,0,0)\n",
    "res = minimize(fun1, x0, method='SLSQP')\n",
    "res"
   ]
  },
  {
   "cell_type": "markdown",
   "metadata": {},
   "source": [
    "В последней итерации выдал координаты:\n",
    "\n",
    "9.99995850729328,17.320531619154707,9.999999257851771,-4.855179780358599e-07,14.999999257851771,-4.855179780358599e-07\n",
    "\n",
    "-4.855179780358599e-07 это число, сильно стремящееся к нулю.\n",
    "\n",
    "Погрешность - стотысясные доли. Вроде норм.\n",
    "\n",
    "Строим по ним график:"
   ]
  },
  {
   "cell_type": "code",
   "execution_count": 191,
   "metadata": {
    "collapsed": false
   },
   "outputs": [
    {
     "data": {
      "image/png": "[encoded data removed]",
      "text/plain": [
       "<matplotlib.figure.Figure at 0x7d401d0>"
      ]
     },
     "metadata": {},
     "output_type": "display_data"
    }
   ],
   "source": [
    "npl(9.99995850729328,17.320531619154707,9.999999257851771,-4.855179780358599e-07,14.999999257851771,-4.855179780358599e-07,'NLM')"
   ]
  }
 ],
 "metadata": {
  "anaconda-cloud": {},
  "kernelspec": {
   "display_name": "Python 3",
   "language": "python",
   "name": "python3"
  },
  "language_info": {
   "codemirror_mode": {
    "name": "ipython",
    "version": 3
   },
   "file_extension": ".py",
   "mimetype": "text/x-python",
   "name": "python",
   "nbconvert_exporter": "python",
   "pygments_lexer": "ipython3",
   "version": "3.5.1"
  }
 },
 "nbformat": 4,
 "nbformat_minor": 0
}
