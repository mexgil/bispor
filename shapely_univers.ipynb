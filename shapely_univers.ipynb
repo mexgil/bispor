{
 "cells": [
  {
   "cell_type": "code",
   "execution_count": 1,
   "metadata": {
    "collapsed": false
   },
   "outputs": [
    {
     "data": {
      "text/html": [
       "<div>\n",
       "<table border=\"1\" class=\"dataframe\">\n",
       "  <thead>\n",
       "    <tr style=\"text-align: right;\">\n",
       "      <th></th>\n",
       "      <th>X</th>\n",
       "      <th>Y</th>\n",
       "      <th>Z</th>\n",
       "    </tr>\n",
       "    <tr>\n",
       "      <th>Num</th>\n",
       "      <th></th>\n",
       "      <th></th>\n",
       "      <th></th>\n",
       "    </tr>\n",
       "  </thead>\n",
       "  <tbody>\n",
       "    <tr>\n",
       "      <th>6a</th>\n",
       "      <td>132.0273</td>\n",
       "      <td>105.5994</td>\n",
       "      <td>99.712</td>\n",
       "    </tr>\n",
       "    <tr>\n",
       "      <th>7</th>\n",
       "      <td>140.6679</td>\n",
       "      <td>108.2610</td>\n",
       "      <td>99.491</td>\n",
       "    </tr>\n",
       "    <tr>\n",
       "      <th>7b</th>\n",
       "      <td>155.1098</td>\n",
       "      <td>112.1205</td>\n",
       "      <td>99.859</td>\n",
       "    </tr>\n",
       "    <tr>\n",
       "      <th>8</th>\n",
       "      <td>167.3911</td>\n",
       "      <td>121.9081</td>\n",
       "      <td>99.442</td>\n",
       "    </tr>\n",
       "    <tr>\n",
       "      <th>7a</th>\n",
       "      <td>152.7813</td>\n",
       "      <td>117.7490</td>\n",
       "      <td>99.344</td>\n",
       "    </tr>\n",
       "    <tr>\n",
       "      <th>6</th>\n",
       "      <td>106.5573</td>\n",
       "      <td>104.7235</td>\n",
       "      <td>99.168</td>\n",
       "    </tr>\n",
       "    <tr>\n",
       "      <th>4</th>\n",
       "      <td>71.6973</td>\n",
       "      <td>94.9087</td>\n",
       "      <td>98.827</td>\n",
       "    </tr>\n",
       "    <tr>\n",
       "      <th>3</th>\n",
       "      <td>59.8198</td>\n",
       "      <td>92.2469</td>\n",
       "      <td>99.566</td>\n",
       "    </tr>\n",
       "    <tr>\n",
       "      <th>1</th>\n",
       "      <td>24.9824</td>\n",
       "      <td>81.6378</td>\n",
       "      <td>99.200</td>\n",
       "    </tr>\n",
       "    <tr>\n",
       "      <th>2</th>\n",
       "      <td>36.3929</td>\n",
       "      <td>79.0028</td>\n",
       "      <td>99.096</td>\n",
       "    </tr>\n",
       "    <tr>\n",
       "      <th>4a</th>\n",
       "      <td>83.3876</td>\n",
       "      <td>92.3797</td>\n",
       "      <td>98.843</td>\n",
       "    </tr>\n",
       "    <tr>\n",
       "      <th>5</th>\n",
       "      <td>91.5350</td>\n",
       "      <td>94.6927</td>\n",
       "      <td>98.841</td>\n",
       "    </tr>\n",
       "  </tbody>\n",
       "</table>\n",
       "</div>"
      ],
      "text/plain": [
       "            X         Y       Z\n",
       "Num                            \n",
       "6a   132.0273  105.5994  99.712\n",
       "7    140.6679  108.2610  99.491\n",
       "7b   155.1098  112.1205  99.859\n",
       "8    167.3911  121.9081  99.442\n",
       "7a   152.7813  117.7490  99.344\n",
       "6    106.5573  104.7235  99.168\n",
       "4     71.6973   94.9087  98.827\n",
       "3     59.8198   92.2469  99.566\n",
       "1     24.9824   81.6378  99.200\n",
       "2     36.3929   79.0028  99.096\n",
       "4a    83.3876   92.3797  98.843\n",
       "5     91.5350   94.6927  98.841"
      ]
     },
     "execution_count": 1,
     "metadata": {},
     "output_type": "execute_result"
    }
   ],
   "source": [
    "from shapely.geometry import Point, MultiPoint\n",
    "from pandas import DataFrame\n",
    "\n",
    "l01 = [\n",
    "('6a',132.0273,105.5994,99.712),\n",
    "('7',140.6679,108.2610,99.491),\n",
    "('7b',155.1098,112.1205,99.859),\n",
    "('8',167.3911,121.9081,99.442),\n",
    "('7a',152.7813,117.7490,99.344),\n",
    "('6',106.5573,104.7235,99.168),\n",
    "('4',71.6973,94.9087,98.827),\n",
    "('3',59.8198,92.2469,99.566),\n",
    "('1',24.9824,81.6378,99.200),\n",
    "('2',36.3929,79.0028,99.096),\n",
    "('4a',83.3876,92.3797,98.843),\n",
    "('5',91.5350,94.6927,98.841)\n",
    "]\n",
    "\n",
    "d01 = {i[0]:i[1:3] for i in l01} \n",
    "\n",
    "l01df = DataFrame.from_records(l01,index='Num',columns=('Num','X','Y','Z'))\n",
    "l01df"
   ]
  },
  {
   "cell_type": "code",
   "execution_count": 2,
   "metadata": {
    "collapsed": false
   },
   "outputs": [
    {
     "data": {
      "text/html": [
       "<div>\n",
       "<table border=\"1\" class=\"dataframe\">\n",
       "  <thead>\n",
       "    <tr style=\"text-align: right;\">\n",
       "      <th></th>\n",
       "      <th>X</th>\n",
       "      <th>Y</th>\n",
       "      <th>Z</th>\n",
       "    </tr>\n",
       "    <tr>\n",
       "      <th>Num</th>\n",
       "      <th></th>\n",
       "      <th></th>\n",
       "      <th></th>\n",
       "    </tr>\n",
       "  </thead>\n",
       "  <tbody>\n",
       "    <tr>\n",
       "      <th>9</th>\n",
       "      <td>187.7875</td>\n",
       "      <td>121.8411</td>\n",
       "      <td>99.457</td>\n",
       "    </tr>\n",
       "    <tr>\n",
       "      <th>9a</th>\n",
       "      <td>199.7531</td>\n",
       "      <td>130.8149</td>\n",
       "      <td>99.505</td>\n",
       "    </tr>\n",
       "    <tr>\n",
       "      <th>12</th>\n",
       "      <td>236.4435</td>\n",
       "      <td>162.5061</td>\n",
       "      <td>99.815</td>\n",
       "    </tr>\n",
       "    <tr>\n",
       "      <th>13</th>\n",
       "      <td>252.3337</td>\n",
       "      <td>183.4717</td>\n",
       "      <td>100.045</td>\n",
       "    </tr>\n",
       "    <tr>\n",
       "      <th>11</th>\n",
       "      <td>212.8954</td>\n",
       "      <td>149.5616</td>\n",
       "      <td>99.758</td>\n",
       "    </tr>\n",
       "    <tr>\n",
       "      <th>9b</th>\n",
       "      <td>196.0612</td>\n",
       "      <td>135.0250</td>\n",
       "      <td>99.701</td>\n",
       "    </tr>\n",
       "    <tr>\n",
       "      <th>8</th>\n",
       "      <td>172.1918</td>\n",
       "      <td>114.6797</td>\n",
       "      <td>99.437</td>\n",
       "    </tr>\n",
       "    <tr>\n",
       "      <th>7a</th>\n",
       "      <td>160.7087</td>\n",
       "      <td>104.7360</td>\n",
       "      <td>99.342</td>\n",
       "    </tr>\n",
       "    <tr>\n",
       "      <th>6</th>\n",
       "      <td>124.3194</td>\n",
       "      <td>73.3954</td>\n",
       "      <td>99.176</td>\n",
       "    </tr>\n",
       "    <tr>\n",
       "      <th>6a</th>\n",
       "      <td>147.0338</td>\n",
       "      <td>84.9535</td>\n",
       "      <td>99.714</td>\n",
       "    </tr>\n",
       "    <tr>\n",
       "      <th>7</th>\n",
       "      <td>153.7402</td>\n",
       "      <td>91.0169</td>\n",
       "      <td>99.491</td>\n",
       "    </tr>\n",
       "    <tr>\n",
       "      <th>7b</th>\n",
       "      <td>165.1976</td>\n",
       "      <td>100.6186</td>\n",
       "      <td>99.856</td>\n",
       "    </tr>\n",
       "    <tr>\n",
       "      <th>9002</th>\n",
       "      <td>187.7875</td>\n",
       "      <td>121.8411</td>\n",
       "      <td>NaN</td>\n",
       "    </tr>\n",
       "  </tbody>\n",
       "</table>\n",
       "</div>"
      ],
      "text/plain": [
       "             X         Y        Z\n",
       "Num                              \n",
       "9     187.7875  121.8411   99.457\n",
       "9a    199.7531  130.8149   99.505\n",
       "12    236.4435  162.5061   99.815\n",
       "13    252.3337  183.4717  100.045\n",
       "11    212.8954  149.5616   99.758\n",
       "9b    196.0612  135.0250   99.701\n",
       "8     172.1918  114.6797   99.437\n",
       "7a    160.7087  104.7360   99.342\n",
       "6     124.3194   73.3954   99.176\n",
       "6a    147.0338   84.9535   99.714\n",
       "7     153.7402   91.0169   99.491\n",
       "7b    165.1976  100.6186   99.856\n",
       "9002  187.7875  121.8411      NaN"
      ]
     },
     "execution_count": 2,
     "metadata": {},
     "output_type": "execute_result"
    }
   ],
   "source": [
    "l02= [\n",
    "('9',187.7875,121.8411,99.457),\n",
    "('9a',199.7531,130.8149,99.505),\n",
    "('12',236.4435,162.5061,99.815),\n",
    "('13',252.3337,183.4717,100.045),\n",
    "('11',212.8954,149.5616,99.758),\n",
    "('9b',196.0612,135.0250,99.701),\n",
    "('8',172.1918,114.6797,99.437),\n",
    "('7a',160.7087,104.7360,99.342),\n",
    "('6',124.3194,73.3954,99.176),\n",
    "('6a',147.0338,84.9535,99.714),\n",
    "('7',153.7402,91.0169,99.491),\n",
    "('7b',165.1976,100.6186,99.856),\n",
    "('9002',187.7875,121.8411)    \n",
    "]\n",
    "\n",
    "d02 = {i[0]:i[1:3] for i in l02} \n",
    "\n",
    "l02df = DataFrame.from_records(l02,index='Num',columns=('Num','X','Y','Z'))\n",
    "l02df"
   ]
  },
  {
   "cell_type": "code",
   "execution_count": 3,
   "metadata": {
    "collapsed": true
   },
   "outputs": [],
   "source": [
    "d1k = set(d01.keys())\n",
    "d2k = set(d02.keys())\n",
    "\n",
    "interl = list(d1k.intersection(d2k))\n",
    "\n",
    "mp01 = MultiPoint([d01[i] for i in interl])\n",
    "\n",
    "mp02 = MultiPoint([d02[i] for i in interl])\n"
   ]
  },
  {
   "cell_type": "code",
   "execution_count": 4,
   "metadata": {
    "collapsed": false
   },
   "outputs": [
    {
     "name": "stdout",
     "output_type": "stream",
     "text": [
      "MULTIPOINT (132.0273 105.5994, 155.1098 112.1205, 152.7813 117.749, 140.6679 108.261, 106.5573 104.7235, 167.3911 121.9081)\n"
     ]
    },
    {
     "data": {
      "text/plain": [
       "152.7813"
      ]
     },
     "execution_count": 4,
     "metadata": {},
     "output_type": "execute_result"
    }
   ],
   "source": [
    "print(mp01)\n",
    "list(mp01.geoms)[2].x"
   ]
  },
  {
   "cell_type": "code",
   "execution_count": 5,
   "metadata": {
    "collapsed": true
   },
   "outputs": [],
   "source": [
    "from shapely import affinity\n",
    "\n",
    "mp01_r = affinity.rotate(mp01,90)"
   ]
  },
  {
   "cell_type": "code",
   "execution_count": 6,
   "metadata": {
    "collapsed": false
   },
   "outputs": [
    {
     "data": {
      "image/svg+xml": [
       "<svg xmlns=\"http://www.w3.org/2000/svg\" xmlns:xlink=\"http://www.w3.org/1999/xlink\" width=\"100.0\" height=\"100.0\" viewBox=\"104.123948 102.290148 65.700504 22.051304\" preserveAspectRatio=\"xMinYMin meet\"><g transform=\"matrix(1,0,0,-1,0,226.6316)\"><g><circle cx=\"132.0273\" cy=\"105.5994\" r=\"1.97101512\" stroke=\"#555555\" stroke-width=\"0.65700504\" fill=\"#66cc99\" opacity=\"0.6\" /><circle cx=\"155.1098\" cy=\"112.1205\" r=\"1.97101512\" stroke=\"#555555\" stroke-width=\"0.65700504\" fill=\"#66cc99\" opacity=\"0.6\" /><circle cx=\"152.7813\" cy=\"117.749\" r=\"1.97101512\" stroke=\"#555555\" stroke-width=\"0.65700504\" fill=\"#66cc99\" opacity=\"0.6\" /><circle cx=\"140.6679\" cy=\"108.261\" r=\"1.97101512\" stroke=\"#555555\" stroke-width=\"0.65700504\" fill=\"#66cc99\" opacity=\"0.6\" /><circle cx=\"106.5573\" cy=\"104.7235\" r=\"1.97101512\" stroke=\"#555555\" stroke-width=\"0.65700504\" fill=\"#66cc99\" opacity=\"0.6\" /><circle cx=\"167.3911\" cy=\"121.9081\" r=\"1.97101512\" stroke=\"#555555\" stroke-width=\"0.65700504\" fill=\"#66cc99\" opacity=\"0.6\" /></g></g></svg>"
      ],
      "text/plain": [
       "<shapely.geometry.multipoint.MultiPoint at 0x4200550>"
      ]
     },
     "execution_count": 6,
     "metadata": {},
     "output_type": "execute_result"
    }
   ],
   "source": [
    "mp01"
   ]
  },
  {
   "cell_type": "code",
   "execution_count": 7,
   "metadata": {
    "collapsed": false
   },
   "outputs": [
    {
     "data": {
      "image/svg+xml": [
       "<svg xmlns=\"http://www.w3.org/2000/svg\" xmlns:xlink=\"http://www.w3.org/1999/xlink\" width=\"100.0\" height=\"100.0\" viewBox=\"122.404504 71.480504 51.702192 45.114092\" preserveAspectRatio=\"xMinYMin meet\"><g transform=\"matrix(1,0,0,-1,0,188.0751)\"><g><circle cx=\"147.0338\" cy=\"84.9535\" r=\"1.55106576\" stroke=\"#555555\" stroke-width=\"0.51702192\" fill=\"#66cc99\" opacity=\"0.6\" /><circle cx=\"165.1976\" cy=\"100.6186\" r=\"1.55106576\" stroke=\"#555555\" stroke-width=\"0.51702192\" fill=\"#66cc99\" opacity=\"0.6\" /><circle cx=\"160.7087\" cy=\"104.736\" r=\"1.55106576\" stroke=\"#555555\" stroke-width=\"0.51702192\" fill=\"#66cc99\" opacity=\"0.6\" /><circle cx=\"153.7402\" cy=\"91.0169\" r=\"1.55106576\" stroke=\"#555555\" stroke-width=\"0.51702192\" fill=\"#66cc99\" opacity=\"0.6\" /><circle cx=\"124.3194\" cy=\"73.3954\" r=\"1.55106576\" stroke=\"#555555\" stroke-width=\"0.51702192\" fill=\"#66cc99\" opacity=\"0.6\" /><circle cx=\"172.1918\" cy=\"114.6797\" r=\"1.55106576\" stroke=\"#555555\" stroke-width=\"0.51702192\" fill=\"#66cc99\" opacity=\"0.6\" /></g></g></svg>"
      ],
      "text/plain": [
       "<shapely.geometry.multipoint.MultiPoint at 0x4200630>"
      ]
     },
     "execution_count": 7,
     "metadata": {},
     "output_type": "execute_result"
    }
   ],
   "source": [
    "mp02"
   ]
  },
  {
   "cell_type": "code",
   "execution_count": 8,
   "metadata": {
    "collapsed": false
   },
   "outputs": [
    {
     "data": {
      "text/plain": [
       "8.677354841770628"
      ]
     },
     "execution_count": 8,
     "metadata": {},
     "output_type": "execute_result"
    }
   ],
   "source": [
    "mp01.distance(mp02)"
   ]
  },
  {
   "cell_type": "code",
   "execution_count": 10,
   "metadata": {
    "collapsed": false
   },
   "outputs": [
    {
     "name": "stdout",
     "output_type": "stream",
     "text": [
      "MULTIPOINT (147.0338 84.95350000000001, 165.1976 100.6186, 160.7087 104.736, 153.7402 91.01690000000001, 124.3194 73.3954, 172.1918 114.6797)\n"
     ]
    }
   ],
   "source": [
    "mp02_s = affinity.translate(mp02)\n",
    "print(mp02_s)"
   ]
  },
  {
   "cell_type": "code",
   "execution_count": 11,
   "metadata": {
    "collapsed": false
   },
   "outputs": [],
   "source": [
    "def rot_mov(x,y,angle):\n",
    "    mp02_r = affinity.rotate(mp02,angle)\n",
    "    mp02_s = affinity.translate(mp02_r,x,y)\n",
    "    return mp02_s\n",
    "def calc_n_dist(x,y,angle):\n",
    "    mp02_r = affinity.rotate(mp02,angle)\n",
    "    mp02_s = affinity.translate(mp02_r,x,y)\n",
    "    mp02_s\n",
    "    return mp01.distance(mp02_s)\n",
    "def fun1(x):\n",
    "    return calc_n_dist(*x)\n",
    "\n",
    "x0 = (0,0,0)"
   ]
  },
  {
   "cell_type": "code",
   "execution_count": 12,
   "metadata": {
    "collapsed": false
   },
   "outputs": [],
   "source": [
    "from scipy.optimize import minimize\n",
    "\n",
    "x0 = (0,0,0)\n",
    "\n",
    "res = minimize(fun1, x0, method='SLSQP')"
   ]
  },
  {
   "cell_type": "code",
   "execution_count": 13,
   "metadata": {
    "collapsed": false
   },
   "outputs": [
    {
     "name": "stdout",
     "output_type": "stream",
     "text": [
      "     fun: 7.341010251572272e-07\n",
      "     jac: array([ 0.5959028 , -0.8037207 , -0.28315982,  0.        ])\n",
      " message: 'Optimization terminated successfully.'\n",
      "    nfev: 153\n",
      "     nit: 26\n",
      "    njev: 26\n",
      "  status: 0\n",
      " success: True\n",
      "       x: array([-4.72931206,  6.44857157,  4.45966978])\n"
     ]
    }
   ],
   "source": [
    "print(res)"
   ]
  },
  {
   "cell_type": "code",
   "execution_count": 14,
   "metadata": {
    "collapsed": false
   },
   "outputs": [
    {
     "data": {
      "text/plain": [
       "7.378127117747837e-07"
      ]
     },
     "execution_count": 14,
     "metadata": {},
     "output_type": "execute_result"
    }
   ],
   "source": [
    "calc_n_dist(-4.72931217,  6.44857168,  4.45966921)"
   ]
  },
  {
   "cell_type": "code",
   "execution_count": 15,
   "metadata": {
    "collapsed": false
   },
   "outputs": [],
   "source": [
    "def return_coords(l,geom):\n",
    "    nd = zip(l,geom.geoms)\n",
    "    nd2 = [(i[0],i[1].x,i[1].y) for i in nd]\n",
    "    return nd2\n",
    "    "
   ]
  },
  {
   "cell_type": "code",
   "execution_count": 16,
   "metadata": {
    "collapsed": false
   },
   "outputs": [],
   "source": [
    "mp02_r = affinity.rotate(mp02,4.45966921)\n",
    "mp02_s = affinity.translate(mp02_r, -4.72931217,  6.44857168)\n",
    "z = return_coords(interl,mp02_s)"
   ]
  },
  {
   "cell_type": "code",
   "execution_count": 17,
   "metadata": {
    "collapsed": false
   },
   "outputs": [],
   "source": [
    "def calc_n_dist2(x,y,angle):\n",
    "    mp02_r = affinity.rotate(mp02,angle)\n",
    "    mp02_s = affinity.translate(mp02_r,x,y)\n",
    "    dist = 0\n",
    "    nz = zip(mp01,mp02_s)\n",
    "    for i in nz:\n",
    "        dist+=i[0].distance(i[1])\n",
    "    return dist\n",
    "def fun2(x):\n",
    "    return calc_n_dist2(*x)"
   ]
  },
  {
   "cell_type": "code",
   "execution_count": 18,
   "metadata": {
    "collapsed": false
   },
   "outputs": [],
   "source": [
    "x0 = (0,0,0)\n",
    "res = minimize(fun2, x0, method='SLSQP')\n"
   ]
  },
  {
   "cell_type": "code",
   "execution_count": 19,
   "metadata": {
    "collapsed": false
   },
   "outputs": [
    {
     "name": "stdout",
     "output_type": "stream",
     "text": [
      "     fun: 0.0019270817104233625\n",
      "     jac: array([-0.15732094,  0.59199386,  0.0016585 ,  0.        ])\n",
      " message: 'Optimization terminated successfully.'\n",
      "    nfev: 191\n",
      "     nit: 32\n",
      "    njev: 32\n",
      "  status: 0\n",
      " success: True\n",
      "       x: array([-11.28185288,  19.27841926, -25.00025238])\n"
     ]
    }
   ],
   "source": [
    "print(res)"
   ]
  },
  {
   "cell_type": "markdown",
   "metadata": {},
   "source": [
    "В итоге координаты стоянки 990002 принимают следующий вид:"
   ]
  },
  {
   "cell_type": "code",
   "execution_count": 20,
   "metadata": {
    "collapsed": false
   },
   "outputs": [
    {
     "data": {
      "text/html": [
       "<div>\n",
       "<table border=\"1\" class=\"dataframe\">\n",
       "  <thead>\n",
       "    <tr style=\"text-align: right;\">\n",
       "      <th></th>\n",
       "      <th>X</th>\n",
       "      <th>Y</th>\n",
       "    </tr>\n",
       "    <tr>\n",
       "      <th>Num</th>\n",
       "      <th></th>\n",
       "      <th></th>\n",
       "    </tr>\n",
       "  </thead>\n",
       "  <tbody>\n",
       "    <tr>\n",
       "      <th>6a</th>\n",
       "      <td>132.027301</td>\n",
       "      <td>105.599401</td>\n",
       "    </tr>\n",
       "    <tr>\n",
       "      <th>7b</th>\n",
       "      <td>155.109680</td>\n",
       "      <td>112.120348</td>\n",
       "    </tr>\n",
       "    <tr>\n",
       "      <th>7a</th>\n",
       "      <td>152.781468</td>\n",
       "      <td>117.749081</td>\n",
       "    </tr>\n",
       "    <tr>\n",
       "      <th>7</th>\n",
       "      <td>140.667879</td>\n",
       "      <td>108.260422</td>\n",
       "    </tr>\n",
       "    <tr>\n",
       "      <th>6</th>\n",
       "      <td>106.556395</td>\n",
       "      <td>104.723837</td>\n",
       "    </tr>\n",
       "    <tr>\n",
       "      <th>8</th>\n",
       "      <td>167.391099</td>\n",
       "      <td>121.908102</td>\n",
       "    </tr>\n",
       "  </tbody>\n",
       "</table>\n",
       "</div>"
      ],
      "text/plain": [
       "              X           Y\n",
       "Num                        \n",
       "6a   132.027301  105.599401\n",
       "7b   155.109680  112.120348\n",
       "7a   152.781468  117.749081\n",
       "7    140.667879  108.260422\n",
       "6    106.556395  104.723837\n",
       "8    167.391099  121.908102"
      ]
     },
     "execution_count": 20,
     "metadata": {},
     "output_type": "execute_result"
    }
   ],
   "source": [
    "from pandas import DataFrame\n",
    "\n",
    "mpf = rot_mov(-11.28185287,  19.27841932, -25.00025205)\n",
    "z = return_coords(interl,mpf)\n",
    "DataFrame.from_records(z,index='Num',columns=('Num','X','Y'))"
   ]
  },
  {
   "cell_type": "markdown",
   "metadata": {},
   "source": [
    "Для сравнения, еще раз координаты точек со стоянки 990001"
   ]
  },
  {
   "cell_type": "code",
   "execution_count": 21,
   "metadata": {
    "collapsed": false
   },
   "outputs": [
    {
     "data": {
      "text/html": [
       "<div>\n",
       "<table border=\"1\" class=\"dataframe\">\n",
       "  <thead>\n",
       "    <tr style=\"text-align: right;\">\n",
       "      <th></th>\n",
       "      <th>X</th>\n",
       "      <th>Y</th>\n",
       "      <th>Z</th>\n",
       "    </tr>\n",
       "    <tr>\n",
       "      <th>Num</th>\n",
       "      <th></th>\n",
       "      <th></th>\n",
       "      <th></th>\n",
       "    </tr>\n",
       "  </thead>\n",
       "  <tbody>\n",
       "    <tr>\n",
       "      <th>6a</th>\n",
       "      <td>132.0273</td>\n",
       "      <td>105.5994</td>\n",
       "      <td>99.712</td>\n",
       "    </tr>\n",
       "    <tr>\n",
       "      <th>7</th>\n",
       "      <td>140.6679</td>\n",
       "      <td>108.2610</td>\n",
       "      <td>99.491</td>\n",
       "    </tr>\n",
       "    <tr>\n",
       "      <th>7b</th>\n",
       "      <td>155.1098</td>\n",
       "      <td>112.1205</td>\n",
       "      <td>99.859</td>\n",
       "    </tr>\n",
       "    <tr>\n",
       "      <th>8</th>\n",
       "      <td>167.3911</td>\n",
       "      <td>121.9081</td>\n",
       "      <td>99.442</td>\n",
       "    </tr>\n",
       "    <tr>\n",
       "      <th>7a</th>\n",
       "      <td>152.7813</td>\n",
       "      <td>117.7490</td>\n",
       "      <td>99.344</td>\n",
       "    </tr>\n",
       "    <tr>\n",
       "      <th>6</th>\n",
       "      <td>106.5573</td>\n",
       "      <td>104.7235</td>\n",
       "      <td>99.168</td>\n",
       "    </tr>\n",
       "    <tr>\n",
       "      <th>4</th>\n",
       "      <td>71.6973</td>\n",
       "      <td>94.9087</td>\n",
       "      <td>98.827</td>\n",
       "    </tr>\n",
       "    <tr>\n",
       "      <th>3</th>\n",
       "      <td>59.8198</td>\n",
       "      <td>92.2469</td>\n",
       "      <td>99.566</td>\n",
       "    </tr>\n",
       "    <tr>\n",
       "      <th>1</th>\n",
       "      <td>24.9824</td>\n",
       "      <td>81.6378</td>\n",
       "      <td>99.200</td>\n",
       "    </tr>\n",
       "    <tr>\n",
       "      <th>2</th>\n",
       "      <td>36.3929</td>\n",
       "      <td>79.0028</td>\n",
       "      <td>99.096</td>\n",
       "    </tr>\n",
       "    <tr>\n",
       "      <th>4a</th>\n",
       "      <td>83.3876</td>\n",
       "      <td>92.3797</td>\n",
       "      <td>98.843</td>\n",
       "    </tr>\n",
       "    <tr>\n",
       "      <th>5</th>\n",
       "      <td>91.5350</td>\n",
       "      <td>94.6927</td>\n",
       "      <td>98.841</td>\n",
       "    </tr>\n",
       "  </tbody>\n",
       "</table>\n",
       "</div>"
      ],
      "text/plain": [
       "            X         Y       Z\n",
       "Num                            \n",
       "6a   132.0273  105.5994  99.712\n",
       "7    140.6679  108.2610  99.491\n",
       "7b   155.1098  112.1205  99.859\n",
       "8    167.3911  121.9081  99.442\n",
       "7a   152.7813  117.7490  99.344\n",
       "6    106.5573  104.7235  99.168\n",
       "4     71.6973   94.9087  98.827\n",
       "3     59.8198   92.2469  99.566\n",
       "1     24.9824   81.6378  99.200\n",
       "2     36.3929   79.0028  99.096\n",
       "4a    83.3876   92.3797  98.843\n",
       "5     91.5350   94.6927  98.841"
      ]
     },
     "execution_count": 21,
     "metadata": {},
     "output_type": "execute_result"
    }
   ],
   "source": [
    "l01df"
   ]
  },
  {
   "cell_type": "code",
   "execution_count": 32,
   "metadata": {
    "collapsed": false
   },
   "outputs": [
    {
     "data": {
      "text/html": [
       "<div>\n",
       "<table border=\"1\" class=\"dataframe\">\n",
       "  <thead>\n",
       "    <tr style=\"text-align: right;\">\n",
       "      <th></th>\n",
       "      <th>X</th>\n",
       "      <th>Y</th>\n",
       "    </tr>\n",
       "    <tr>\n",
       "      <th>Num</th>\n",
       "      <th></th>\n",
       "      <th></th>\n",
       "    </tr>\n",
       "  </thead>\n",
       "  <tbody>\n",
       "    <tr>\n",
       "      <th>9</th>\n",
       "      <td>173.770037</td>\n",
       "      <td>141.965007</td>\n",
       "    </tr>\n",
       "    <tr>\n",
       "      <th>9a</th>\n",
       "      <td>188.407059</td>\n",
       "      <td>145.041087</td>\n",
       "    </tr>\n",
       "    <tr>\n",
       "      <th>12</th>\n",
       "      <td>235.053192</td>\n",
       "      <td>158.256830</td>\n",
       "    </tr>\n",
       "    <tr>\n",
       "      <th>13</th>\n",
       "      <td>258.315103</td>\n",
       "      <td>170.542525</td>\n",
       "    </tr>\n",
       "    <tr>\n",
       "      <th>11</th>\n",
       "      <td>208.240776</td>\n",
       "      <td>156.477104</td>\n",
       "    </tr>\n",
       "    <tr>\n",
       "      <th>9b</th>\n",
       "      <td>186.840350</td>\n",
       "      <td>150.417004</td>\n",
       "    </tr>\n",
       "    <tr>\n",
       "      <th>8</th>\n",
       "      <td>156.608995</td>\n",
       "      <td>142.065678</td>\n",
       "    </tr>\n",
       "    <tr>\n",
       "      <th>7a</th>\n",
       "      <td>141.999364</td>\n",
       "      <td>137.906657</td>\n",
       "    </tr>\n",
       "    <tr>\n",
       "      <th>6</th>\n",
       "      <td>95.774291</td>\n",
       "      <td>124.881413</td>\n",
       "    </tr>\n",
       "    <tr>\n",
       "      <th>6a</th>\n",
       "      <td>121.245197</td>\n",
       "      <td>125.756977</td>\n",
       "    </tr>\n",
       "    <tr>\n",
       "      <th>7</th>\n",
       "      <td>129.885774</td>\n",
       "      <td>128.417999</td>\n",
       "    </tr>\n",
       "    <tr>\n",
       "      <th>7b</th>\n",
       "      <td>144.327576</td>\n",
       "      <td>132.277924</td>\n",
       "    </tr>\n",
       "    <tr>\n",
       "      <th>9002</th>\n",
       "      <td>173.770037</td>\n",
       "      <td>141.965007</td>\n",
       "    </tr>\n",
       "  </tbody>\n",
       "</table>\n",
       "</div>"
      ],
      "text/plain": [
       "               X           Y\n",
       "Num                         \n",
       "9     173.770037  141.965007\n",
       "9a    188.407059  145.041087\n",
       "12    235.053192  158.256830\n",
       "13    258.315103  170.542525\n",
       "11    208.240776  156.477104\n",
       "9b    186.840350  150.417004\n",
       "8     156.608995  142.065678\n",
       "7a    141.999364  137.906657\n",
       "6      95.774291  124.881413\n",
       "6a    121.245197  125.756977\n",
       "7     129.885774  128.417999\n",
       "7b    144.327576  132.277924\n",
       "9002  173.770037  141.965007"
      ]
     },
     "execution_count": 32,
     "metadata": {},
     "output_type": "execute_result"
    }
   ],
   "source": [
    "mp02 = MultiPoint([[i[1],i[2]] for i in l02])\n",
    "mpf = rot_mov(-11.28185287,  19.27841932, -25.00025205)\n",
    "keyzz = [i[0] for i in l02]\n",
    "z = return_coords(keyzz,mpf)\n",
    "DataFrame.from_records(z,index='Num',columns=('Num','X','Y'))"
   ]
  }
 ],
 "metadata": {
  "anaconda-cloud": {},
  "kernelspec": {
   "display_name": "Python 2",
   "language": "python",
   "name": "python2"
  },
  "language_info": {
   "codemirror_mode": {
    "name": "ipython",
    "version": 2
   },
   "file_extension": ".py",
   "mimetype": "text/x-python",
   "name": "python",
   "nbconvert_exporter": "python",
   "pygments_lexer": "ipython2",
   "version": "2.7.12"
  }
 },
 "nbformat": 4,
 "nbformat_minor": 0
}
