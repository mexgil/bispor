{
 "cells": [
  {
   "cell_type": "code",
   "execution_count": 168,
   "metadata": {
    "collapsed": false
   },
   "outputs": [],
   "source": [
    "import os\n",
    "from collections import OrderedDict\n",
    "import pandas as pd\n",
    "from shapely import affinity\n",
    "from shapely.geometry import MultiPoint\n",
    "from scipy.optimize import minimize\n",
    "\n",
    "def mov(x,y,angle,geom):\n",
    "    geom_r = affinity.rotate(geom,angle,origin=(0,0))\n",
    "    geom_t = affinity.translate(geom_r,x,y)\n",
    "    return geom_t\n",
    "\n",
    "def calc_dist(geom1,geom2):\n",
    "    dist = 0\n",
    "    geom_list = zip(geom1,geom2)\n",
    "    for item in geom_list:\n",
    "        dist+=item[0].distance(item[1])\n",
    "    return dist\n",
    "\n",
    "def fun1(x0,geom1, geom2):\n",
    "    x,y,angle = x0\n",
    "    n_geom = mov(x,y,angle,geom2)\n",
    "    return calc_dist(geom1,n_geom)\n",
    "\n",
    "def df_to_od(df01):\n",
    "    l = len(list(df01.itertuples()))\n",
    "    ord_01 = OrderedDict()\n",
    "    l = len(list(df01.itertuples()))\n",
    "    for i in range(l):\n",
    "        z = df01.loc[i]['Num']\n",
    "        k = df01.loc[df01['Num'] == z]\n",
    "        ord_01[list(k['Num'].iteritems())[0][1]]=(list(k['X'].iteritems())[0][1],list(k['Y'].iteritems())[0][1],list(k['Dist'].iteritems())[0][1])\n",
    "    return ord_01\n",
    "\n",
    "def od_to_df(od):\n",
    "    l = [[k,*od[k]] for k in od.keys()]\n",
    "    return pd.DataFrame.from_records(l,columns=['Num','X','Y','Dist'])"
   ]
  },
  {
   "cell_type": "code",
   "execution_count": 103,
   "metadata": {
    "collapsed": true
   },
   "outputs": [],
   "source": [
    "df01 = pd.read_csv(r'data/chain/103.csv',sep=';', names=['Num','X','Y','Dist'],dtype={'Num':'str'})"
   ]
  },
  {
   "cell_type": "code",
   "execution_count": 104,
   "metadata": {
    "collapsed": false
   },
   "outputs": [],
   "source": [
    "f = r'data/chain/104.csv'\n"
   ]
  },
  {
   "cell_type": "code",
   "execution_count": 107,
   "metadata": {
    "collapsed": false
   },
   "outputs": [
    {
     "data": {
      "text/plain": [
       "OrderedDict([('597', (-14227.1757, -336.14280000000002, nan)),\n",
       "             ('596', (-14205.7968, -321.82400000000001, nan)),\n",
       "             ('598', (-14252.2691, -340.04570000000001, nan)),\n",
       "             ('599', (-14274.392, -354.625, nan)),\n",
       "             ('600', (-14299.916300000001, -358.68380000000002, nan)),\n",
       "             ('601', (-14321.1641, -372.93189999999998, nan)),\n",
       "             ('602', (-14346.579400000001, -376.98750000000001, nan)),\n",
       "             ('603', (-14367.7186, -391.1576, nan)),\n",
       "             ('595', (-14180.5512, -317.86270000000002, nan)),\n",
       "             ('593', (-14133.8874, -299.58359999999999, nan)),\n",
       "             ('594', (-14159.2446, -303.60520000000002, nan)),\n",
       "             ('597a', (-14229.0198, -330.91739999999999, nan))])"
      ]
     },
     "execution_count": 107,
     "metadata": {},
     "output_type": "execute_result"
    }
   ],
   "source": [
    "od_01 = df_to_od(df01)\n",
    "od_01"
   ]
  },
  {
   "cell_type": "code",
   "execution_count": 108,
   "metadata": {
    "collapsed": false
   },
   "outputs": [],
   "source": [
    "df02 = pd.read_csv(f,sep=';', names=['Num','X','Y'],dtype={'Num':'str','X':'float','Y':'float'})"
   ]
  },
  {
   "cell_type": "code",
   "execution_count": 109,
   "metadata": {
    "collapsed": true
   },
   "outputs": [],
   "source": [
    "inter = sorted(set(list(zip(*df01['Num'].iteritems()))[1]).intersection(set(list(zip(*df02['Num'].iteritems()))[1])))"
   ]
  },
  {
   "cell_type": "code",
   "execution_count": 134,
   "metadata": {
    "collapsed": false
   },
   "outputs": [
    {
     "data": {
      "text/html": [
       "<div>\n",
       "<table border=\"1\" class=\"dataframe\">\n",
       "  <thead>\n",
       "    <tr style=\"text-align: right;\">\n",
       "      <th></th>\n",
       "      <th>Num</th>\n",
       "      <th>X</th>\n",
       "      <th>Y</th>\n",
       "      <th>Dist</th>\n",
       "    </tr>\n",
       "  </thead>\n",
       "  <tbody>\n",
       "    <tr>\n",
       "      <th>0</th>\n",
       "      <td>597</td>\n",
       "      <td>-14227.1757</td>\n",
       "      <td>-336.1428</td>\n",
       "      <td>NaN</td>\n",
       "    </tr>\n",
       "    <tr>\n",
       "      <th>1</th>\n",
       "      <td>596</td>\n",
       "      <td>-14205.7968</td>\n",
       "      <td>-321.8240</td>\n",
       "      <td>NaN</td>\n",
       "    </tr>\n",
       "    <tr>\n",
       "      <th>2</th>\n",
       "      <td>598</td>\n",
       "      <td>-14252.2691</td>\n",
       "      <td>-340.0457</td>\n",
       "      <td>NaN</td>\n",
       "    </tr>\n",
       "    <tr>\n",
       "      <th>3</th>\n",
       "      <td>599</td>\n",
       "      <td>-14274.3920</td>\n",
       "      <td>-354.6250</td>\n",
       "      <td>NaN</td>\n",
       "    </tr>\n",
       "    <tr>\n",
       "      <th>4</th>\n",
       "      <td>600</td>\n",
       "      <td>-14299.9163</td>\n",
       "      <td>-358.6838</td>\n",
       "      <td>NaN</td>\n",
       "    </tr>\n",
       "    <tr>\n",
       "      <th>5</th>\n",
       "      <td>601</td>\n",
       "      <td>-14321.1641</td>\n",
       "      <td>-372.9319</td>\n",
       "      <td>NaN</td>\n",
       "    </tr>\n",
       "    <tr>\n",
       "      <th>6</th>\n",
       "      <td>602</td>\n",
       "      <td>-14346.5794</td>\n",
       "      <td>-376.9875</td>\n",
       "      <td>NaN</td>\n",
       "    </tr>\n",
       "    <tr>\n",
       "      <th>7</th>\n",
       "      <td>603</td>\n",
       "      <td>-14367.7186</td>\n",
       "      <td>-391.1576</td>\n",
       "      <td>NaN</td>\n",
       "    </tr>\n",
       "    <tr>\n",
       "      <th>8</th>\n",
       "      <td>595</td>\n",
       "      <td>-14180.5512</td>\n",
       "      <td>-317.8627</td>\n",
       "      <td>NaN</td>\n",
       "    </tr>\n",
       "    <tr>\n",
       "      <th>9</th>\n",
       "      <td>593</td>\n",
       "      <td>-14133.8874</td>\n",
       "      <td>-299.5836</td>\n",
       "      <td>NaN</td>\n",
       "    </tr>\n",
       "    <tr>\n",
       "      <th>10</th>\n",
       "      <td>594</td>\n",
       "      <td>-14159.2446</td>\n",
       "      <td>-303.6052</td>\n",
       "      <td>NaN</td>\n",
       "    </tr>\n",
       "    <tr>\n",
       "      <th>11</th>\n",
       "      <td>597a</td>\n",
       "      <td>-14229.0198</td>\n",
       "      <td>-330.9174</td>\n",
       "      <td>NaN</td>\n",
       "    </tr>\n",
       "  </tbody>\n",
       "</table>\n",
       "</div>"
      ],
      "text/plain": [
       "     Num           X         Y  Dist\n",
       "0    597 -14227.1757 -336.1428   NaN\n",
       "1    596 -14205.7968 -321.8240   NaN\n",
       "2    598 -14252.2691 -340.0457   NaN\n",
       "3    599 -14274.3920 -354.6250   NaN\n",
       "4    600 -14299.9163 -358.6838   NaN\n",
       "5    601 -14321.1641 -372.9319   NaN\n",
       "6    602 -14346.5794 -376.9875   NaN\n",
       "7    603 -14367.7186 -391.1576   NaN\n",
       "8    595 -14180.5512 -317.8627   NaN\n",
       "9    593 -14133.8874 -299.5836   NaN\n",
       "10   594 -14159.2446 -303.6052   NaN\n",
       "11  597a -14229.0198 -330.9174   NaN"
      ]
     },
     "execution_count": 134,
     "metadata": {},
     "output_type": "execute_result"
    }
   ],
   "source": [
    "df01"
   ]
  },
  {
   "cell_type": "code",
   "execution_count": 135,
   "metadata": {
    "collapsed": false
   },
   "outputs": [
    {
     "name": "stdout",
     "output_type": "stream",
     "text": [
      "     fun: 0.002081701982871198\n",
      "     jac: array([   3.7404325 ,    2.57947205, -439.46588063,    0.        ])\n",
      " message: 'Optimization terminated successfully.'\n",
      "    nfev: 424\n",
      "     nit: 71\n",
      "    njev: 71\n",
      "  status: 0\n",
      " success: True\n",
      "       x: array([ -267.26849401,  2441.26995037,     9.99506175])\n"
     ]
    }
   ],
   "source": [
    "df01_c = df01.loc[df01['Num'].isin(list(df02['Num']))].sort_values(by='Num')\n",
    "df02_c = df02.loc[df02['Num'].isin(list(df01['Num']))].sort_values(by='Num')\n",
    "mp01_c = MultiPoint([i[2:4] for i in df01_c.itertuples()])\n",
    "mp02 = MultiPoint([i[2:4] for i in df02.itertuples()])\n",
    "mp02_c = MultiPoint([i[2:4] for i in df02_c.itertuples()])\n",
    "x0 = (0,0,0)\n",
    "re = minimize(fun1,x0,args=(mp01_c,mp02_c),method='SLSQP')\n",
    "print(re)\n",
    "mp02_c_moved =  mov(*re.x,mp02_c)\n",
    "ab = list(zip(mp01_c,mp02_c_moved))\n",
    "mp02_c_avg = MultiPoint([((i[0].x+i[1].x)/2,(i[0].y+i[1].y)/2) for i in ab])\n",
    "mp02_dist = [i[0].distance(i[1]) for i in ab]\n",
    "mp02_c_avg_dict = {k:v for k,v in zip(df02_c['Num'],list(zip(mp02_c_avg,mp02_dist)))}\n",
    "mp_moved = mov(*re.x,mp02)"
   ]
  },
  {
   "cell_type": "code",
   "execution_count": 136,
   "metadata": {
    "collapsed": true
   },
   "outputs": [],
   "source": [
    "mp02_mov_dict = {k:v for k,v in zip(df02['Num'],list(zip(mp_moved,['']*len(mp_moved))))}\n",
    "for k in mp02_c_avg_dict.keys():\n",
    "    mp02_mov_dict[k] = mp02_c_avg_dict[k]\n",
    "stag_02 = []\n",
    "for k in mp02_mov_dict.keys():\n",
    "    row = [k,mp02_mov_dict[k][0].x,mp02_mov_dict[k][0].y,mp02_mov_dict[k][1]]\n",
    "    stag_02.append(row)"
   ]
  },
  {
   "cell_type": "code",
   "execution_count": 146,
   "metadata": {
    "collapsed": false
   },
   "outputs": [
    {
     "name": "stdout",
     "output_type": "stream",
     "text": [
      "['598', '599', '600', '601', '602', '603']\n"
     ]
    }
   ],
   "source": [
    "print(list(df02_c['Num']))"
   ]
  },
  {
   "cell_type": "code",
   "execution_count": 137,
   "metadata": {
    "collapsed": false
   },
   "outputs": [
    {
     "data": {
      "text/plain": [
       "[['608', -14486.659983688924, -431.8412530591454, ''],\n",
       " ['601', -14321.163968178495, -372.9318045415919, 0.0003255101670640496],\n",
       " ['606', -14440.156190421494, -413.5942615693084, ''],\n",
       " ['609', -14508.084910381547, -446.1187272718935, ''],\n",
       " ['603', -14367.718615389818, -391.1574132924443, 0.00037468150653505427],\n",
       " ['600', -14299.915980970309, -358.68408497349935, 0.0008555462355794323],\n",
       " ['599', -14274.391939397636, -354.6248820920889, 0.00026514088271693066],\n",
       " ['605', -14414.777335718443, -409.59959567571013, ''],\n",
       " ['607', -14461.387890409183, -427.84346971582454, ''],\n",
       " ['598', -14252.269005020758, -340.0456787640323, 0.00019464863284705865],\n",
       " ['604', -14393.066408591263, -395.1081345441262, ''],\n",
       " ['602', -14346.579372287724, -376.98748192244955, 6.61745581286724e-05]]"
      ]
     },
     "execution_count": 137,
     "metadata": {},
     "output_type": "execute_result"
    }
   ],
   "source": [
    "stag_02"
   ]
  },
  {
   "cell_type": "code",
   "execution_count": 138,
   "metadata": {
    "collapsed": false
   },
   "outputs": [],
   "source": [
    "od_stag = OrderedDict({i[0]:(i[1],i[2],i[3]) for i in stag_02})"
   ]
  },
  {
   "cell_type": "code",
   "execution_count": 141,
   "metadata": {
    "collapsed": false
   },
   "outputs": [
    {
     "data": {
      "text/plain": [
       "OrderedDict([('597', (-14227.1757, -336.14280000000002, nan)),\n",
       "             ('596', (-14205.7968, -321.82400000000001, nan)),\n",
       "             ('598', (-14252.2691, -340.04570000000001, nan)),\n",
       "             ('599', (-14274.392, -354.625, nan)),\n",
       "             ('600', (-14299.916300000001, -358.68380000000002, nan)),\n",
       "             ('601', (-14321.1641, -372.93189999999998, nan)),\n",
       "             ('602', (-14346.579400000001, -376.98750000000001, nan)),\n",
       "             ('603', (-14367.7186, -391.1576, nan)),\n",
       "             ('595', (-14180.5512, -317.86270000000002, nan)),\n",
       "             ('593', (-14133.8874, -299.58359999999999, nan)),\n",
       "             ('594', (-14159.2446, -303.60520000000002, nan)),\n",
       "             ('597a', (-14229.0198, -330.91739999999999, nan))])"
      ]
     },
     "execution_count": 141,
     "metadata": {},
     "output_type": "execute_result"
    }
   ],
   "source": [
    "od_01"
   ]
  },
  {
   "cell_type": "code",
   "execution_count": 142,
   "metadata": {
    "collapsed": false
   },
   "outputs": [
    {
     "data": {
      "text/plain": [
       "OrderedDict([('608', (-14486.659983688924, -431.8412530591454, '')),\n",
       "             ('601',\n",
       "              (-14321.163968178495,\n",
       "               -372.9318045415919,\n",
       "               0.0003255101670640496)),\n",
       "             ('606', (-14440.156190421494, -413.5942615693084, '')),\n",
       "             ('609', (-14508.084910381547, -446.1187272718935, '')),\n",
       "             ('603',\n",
       "              (-14367.718615389818,\n",
       "               -391.1574132924443,\n",
       "               0.00037468150653505427)),\n",
       "             ('600',\n",
       "              (-14299.915980970309,\n",
       "               -358.68408497349935,\n",
       "               0.0008555462355794323)),\n",
       "             ('599',\n",
       "              (-14274.391939397636,\n",
       "               -354.6248820920889,\n",
       "               0.00026514088271693066)),\n",
       "             ('605', (-14414.777335718443, -409.59959567571013, '')),\n",
       "             ('607', (-14461.387890409183, -427.84346971582454, '')),\n",
       "             ('598',\n",
       "              (-14252.269005020758,\n",
       "               -340.0456787640323,\n",
       "               0.00019464863284705865)),\n",
       "             ('604', (-14393.066408591263, -395.1081345441262, '')),\n",
       "             ('602',\n",
       "              (-14346.579372287724,\n",
       "               -376.98748192244955,\n",
       "               6.61745581286724e-05))])"
      ]
     },
     "execution_count": 142,
     "metadata": {},
     "output_type": "execute_result"
    }
   ],
   "source": [
    "od_stag"
   ]
  },
  {
   "cell_type": "code",
   "execution_count": 160,
   "metadata": {
    "collapsed": false
   },
   "outputs": [],
   "source": [
    "for k in od_stag.keys():\n",
    "    od_01[k] = od_stag[k]"
   ]
  },
  {
   "cell_type": "code",
   "execution_count": 169,
   "metadata": {
    "collapsed": false
   },
   "outputs": [],
   "source": [
    "dft = od_to_df(od_01)"
   ]
  },
  {
   "cell_type": "code",
   "execution_count": 170,
   "metadata": {
    "collapsed": false
   },
   "outputs": [
    {
     "data": {
      "text/html": [
       "<div>\n",
       "<table border=\"1\" class=\"dataframe\">\n",
       "  <thead>\n",
       "    <tr style=\"text-align: right;\">\n",
       "      <th></th>\n",
       "      <th>Num</th>\n",
       "      <th>X</th>\n",
       "      <th>Y</th>\n",
       "      <th>Dist</th>\n",
       "    </tr>\n",
       "  </thead>\n",
       "  <tbody>\n",
       "    <tr>\n",
       "      <th>0</th>\n",
       "      <td>597</td>\n",
       "      <td>-14227.175700</td>\n",
       "      <td>-336.142800</td>\n",
       "      <td>NaN</td>\n",
       "    </tr>\n",
       "    <tr>\n",
       "      <th>1</th>\n",
       "      <td>596</td>\n",
       "      <td>-14205.796800</td>\n",
       "      <td>-321.824000</td>\n",
       "      <td>NaN</td>\n",
       "    </tr>\n",
       "    <tr>\n",
       "      <th>2</th>\n",
       "      <td>598</td>\n",
       "      <td>-14252.269005</td>\n",
       "      <td>-340.045679</td>\n",
       "      <td>0.000194649</td>\n",
       "    </tr>\n",
       "    <tr>\n",
       "      <th>3</th>\n",
       "      <td>599</td>\n",
       "      <td>-14274.391939</td>\n",
       "      <td>-354.624882</td>\n",
       "      <td>0.000265141</td>\n",
       "    </tr>\n",
       "    <tr>\n",
       "      <th>4</th>\n",
       "      <td>600</td>\n",
       "      <td>-14299.915981</td>\n",
       "      <td>-358.684085</td>\n",
       "      <td>0.000855546</td>\n",
       "    </tr>\n",
       "    <tr>\n",
       "      <th>5</th>\n",
       "      <td>601</td>\n",
       "      <td>-14321.163968</td>\n",
       "      <td>-372.931805</td>\n",
       "      <td>0.00032551</td>\n",
       "    </tr>\n",
       "    <tr>\n",
       "      <th>6</th>\n",
       "      <td>602</td>\n",
       "      <td>-14346.579372</td>\n",
       "      <td>-376.987482</td>\n",
       "      <td>6.61746e-05</td>\n",
       "    </tr>\n",
       "    <tr>\n",
       "      <th>7</th>\n",
       "      <td>603</td>\n",
       "      <td>-14367.718615</td>\n",
       "      <td>-391.157413</td>\n",
       "      <td>0.000374682</td>\n",
       "    </tr>\n",
       "    <tr>\n",
       "      <th>8</th>\n",
       "      <td>595</td>\n",
       "      <td>-14180.551200</td>\n",
       "      <td>-317.862700</td>\n",
       "      <td>NaN</td>\n",
       "    </tr>\n",
       "    <tr>\n",
       "      <th>9</th>\n",
       "      <td>593</td>\n",
       "      <td>-14133.887400</td>\n",
       "      <td>-299.583600</td>\n",
       "      <td>NaN</td>\n",
       "    </tr>\n",
       "    <tr>\n",
       "      <th>10</th>\n",
       "      <td>594</td>\n",
       "      <td>-14159.244600</td>\n",
       "      <td>-303.605200</td>\n",
       "      <td>NaN</td>\n",
       "    </tr>\n",
       "    <tr>\n",
       "      <th>11</th>\n",
       "      <td>597a</td>\n",
       "      <td>-14229.019800</td>\n",
       "      <td>-330.917400</td>\n",
       "      <td>NaN</td>\n",
       "    </tr>\n",
       "    <tr>\n",
       "      <th>12</th>\n",
       "      <td>608</td>\n",
       "      <td>-14486.659984</td>\n",
       "      <td>-431.841253</td>\n",
       "      <td></td>\n",
       "    </tr>\n",
       "    <tr>\n",
       "      <th>13</th>\n",
       "      <td>606</td>\n",
       "      <td>-14440.156190</td>\n",
       "      <td>-413.594262</td>\n",
       "      <td></td>\n",
       "    </tr>\n",
       "    <tr>\n",
       "      <th>14</th>\n",
       "      <td>609</td>\n",
       "      <td>-14508.084910</td>\n",
       "      <td>-446.118727</td>\n",
       "      <td></td>\n",
       "    </tr>\n",
       "    <tr>\n",
       "      <th>15</th>\n",
       "      <td>605</td>\n",
       "      <td>-14414.777336</td>\n",
       "      <td>-409.599596</td>\n",
       "      <td></td>\n",
       "    </tr>\n",
       "    <tr>\n",
       "      <th>16</th>\n",
       "      <td>607</td>\n",
       "      <td>-14461.387890</td>\n",
       "      <td>-427.843470</td>\n",
       "      <td></td>\n",
       "    </tr>\n",
       "    <tr>\n",
       "      <th>17</th>\n",
       "      <td>604</td>\n",
       "      <td>-14393.066409</td>\n",
       "      <td>-395.108135</td>\n",
       "      <td></td>\n",
       "    </tr>\n",
       "  </tbody>\n",
       "</table>\n",
       "</div>"
      ],
      "text/plain": [
       "     Num             X           Y         Dist\n",
       "0    597 -14227.175700 -336.142800          NaN\n",
       "1    596 -14205.796800 -321.824000          NaN\n",
       "2    598 -14252.269005 -340.045679  0.000194649\n",
       "3    599 -14274.391939 -354.624882  0.000265141\n",
       "4    600 -14299.915981 -358.684085  0.000855546\n",
       "5    601 -14321.163968 -372.931805   0.00032551\n",
       "6    602 -14346.579372 -376.987482  6.61746e-05\n",
       "7    603 -14367.718615 -391.157413  0.000374682\n",
       "8    595 -14180.551200 -317.862700          NaN\n",
       "9    593 -14133.887400 -299.583600          NaN\n",
       "10   594 -14159.244600 -303.605200          NaN\n",
       "11  597a -14229.019800 -330.917400          NaN\n",
       "12   608 -14486.659984 -431.841253             \n",
       "13   606 -14440.156190 -413.594262             \n",
       "14   609 -14508.084910 -446.118727             \n",
       "15   605 -14414.777336 -409.599596             \n",
       "16   607 -14461.387890 -427.843470             \n",
       "17   604 -14393.066409 -395.108135             "
      ]
     },
     "execution_count": 170,
     "metadata": {},
     "output_type": "execute_result"
    }
   ],
   "source": [
    "dft"
   ]
  },
  {
   "cell_type": "code",
   "execution_count": null,
   "metadata": {
    "collapsed": true
   },
   "outputs": [],
   "source": []
  },
  {
   "cell_type": "code",
   "execution_count": null,
   "metadata": {
    "collapsed": true
   },
   "outputs": [],
   "source": []
  }
 ],
 "metadata": {
  "kernelspec": {
   "display_name": "Python 3",
   "language": "python",
   "name": "python3"
  },
  "language_info": {
   "codemirror_mode": {
    "name": "ipython",
    "version": 3
   },
   "file_extension": ".py",
   "mimetype": "text/x-python",
   "name": "python",
   "nbconvert_exporter": "python",
   "pygments_lexer": "ipython3",
   "version": "3.5.1"
  }
 },
 "nbformat": 4,
 "nbformat_minor": 0
}
