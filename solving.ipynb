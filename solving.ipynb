{
 "cells": [
  {
   "cell_type": "markdown",
   "metadata": {},
   "source": [
    "Съемка точек C,D,E производится с двух стоянок: A и B.  \n",
    "В результате съемки со стоянки A, измеряются расстояния AC, AD, AE и углы между линиями в направлении точек.  \n",
    "В результате съемки со стоянки B измеряются расстояние BC, BE, BD и углы $\\alpha$ и $\\beta$  "
   ]
  },
  {
   "cell_type": "code",
   "execution_count": 1,
   "metadata": {
    "collapsed": false
   },
   "outputs": [
    {
     "data": {
      "image/jpeg": "[encoded data removed]",
      "text/plain": [
       "<IPython.core.display.Image object>"
      ]
     },
     "execution_count": 1,
     "metadata": {},
     "output_type": "execute_result"
    }
   ],
   "source": [
    "from IPython.core.display import Image\n",
    "Image(filename=('images/1.jpg'))"
   ]
  },
  {
   "cell_type": "markdown",
   "metadata": {},
   "source": [
    "Рассмотрим измерения, произведенные со стоянки A в произвольной системе координат с начало отсчета в точке A, и осью абсцисс, совпадающей с отрезком AE.\n",
    "\n",
    "Нам известно значение углов alpha и beta, длины отрезков AC, AD, AE.  \n",
    "Этой информации достаточно, чтобы вычислить значение координат точек C,D и E по формулам:  \n",
    "Cx = AC*cos(alpha+beta)   \n",
    "Cy = AC*sin(alpha+beta)    \n",
    "Dx = AD*cos(beta)    \n",
    "Dy = AD*sin(beta)  \n",
    "Ex = AE*cos(0)  \n",
    "Ey = AE*sin(0)  "
   ]
  },
  {
   "cell_type": "code",
   "execution_count": 113,
   "metadata": {
    "collapsed": false
   },
   "outputs": [
    {
     "data": {
      "image/png": "[encoded data removed]",
      "text/plain": [
       "<matplotlib.figure.Figure at 0x7e3c9b0>"
      ]
     },
     "metadata": {},
     "output_type": "display_data"
    }
   ],
   "source": [
    "#Image(filename=('images/2.jpg'))\n",
    "         \n",
    "import matplotlib.pyplot as plt\n",
    "%matplotlib inline\n",
    "\n",
    "fig_size = [9,6]\n",
    "plt.rcParams[\"figure.figsize\"] = fig_size\n",
    "\n",
    "from math import cos, sin, acos, sqrt\n",
    "\n",
    "alpha = 1.0472\n",
    "beta = 0\n",
    "AE = 15\n",
    "AD = 10\n",
    "AC = 20\n",
    "\n",
    "Cx = AC*cos(alpha+beta)\n",
    "Cy = AC*sin(alpha+beta)\n",
    "Dx = AD*cos(beta)\n",
    "Dy = AD*sin(beta)\n",
    "Ex = AE\n",
    "Ey = 0\n",
    "\n",
    "def npl(Cx,Cy,Dx,Dy,Ex,Ey,lt='CDE'):\n",
    "    plt.plot([0,Cx,Dx,Ex],[0,Cy,Dy,Ey],'ro')\n",
    "    plt.axhline(0, color='black')\n",
    "    plt.axvline(0, color='black')\n",
    "    plt.axis([-10, 20, -10, 20])\n",
    "    #plt.annotate('A', xy=(0, 0),xytext=(-1,-1))\n",
    "    plt.annotate(lt[0], xy=(Cx, Cy),xytext=(Cx-1,Cy-1))\n",
    "    plt.annotate(lt[1], xy=(Dx, Dy),xytext=(Dx-1,Dy-1))\n",
    "    plt.annotate(lt[2], xy=(Ex, Ey),xytext=(Ex-1,Ey-1))\n",
    "    return plt.show()\n",
    "\n",
    "npl(Cx,Cy,Dx,Dy,Ex,Ey)\n"
   ]
  },
  {
   "cell_type": "markdown",
   "metadata": {
    "collapsed": true
   },
   "source": [
    "Аналогичным образом вычислим значения координат точек, измеренных со стоянки B."
   ]
  },
  {
   "cell_type": "code",
   "execution_count": 114,
   "metadata": {
    "collapsed": false
   },
   "outputs": [
    {
     "data": {
      "image/png": "[encoded data removed]",
      "text/plain": [
       "<matplotlib.figure.Figure at 0x7e56550>"
      ]
     },
     "metadata": {},
     "output_type": "display_data"
    }
   ],
   "source": [
    "alpha = 1.0472\n",
    "beta = 0\n",
    "BM = 15\n",
    "BL = 10\n",
    "BN = 20\n",
    "\n",
    "Nx = BN*cos(alpha+beta)\n",
    "Ny = BN*sin(alpha+beta)\n",
    "Lx = BL*cos(beta)\n",
    "Ly = BL*sin(beta)\n",
    "Mx = BM\n",
    "My = 0\n",
    "\n",
    "npl(Nx,Ny,Lx,Ly,Mx,My,'NLM')"
   ]
  },
  {
   "cell_type": "markdown",
   "metadata": {
    "collapsed": true
   },
   "source": [
    "Вычисляем длину сторон и значение угла NML:"
   ]
  },
  {
   "cell_type": "code",
   "execution_count": 115,
   "metadata": {
    "collapsed": false
   },
   "outputs": [
    {
     "name": "stdout",
     "output_type": "stream",
     "text": [
      "5.0 18.027791668323456 17.320532563722793\n",
      "1.5707986795261617\n"
     ]
    }
   ],
   "source": [
    "ML = sqrt((Lx - Mx)**2 + (Ly-My)**2)\n",
    "MN = sqrt((Nx - Mx)**2 + (Ny-My)**2)\n",
    "NL = sqrt((Nx - Lx)**2 + (Ny-Ly)**2)\n",
    "#a_NML = acos((MN**2+NL**2-ML**2)/(2*MN*NL))\n",
    "a_NLM = acos((NL**2+ML**2-MN**2)/(2*ML*MN))\n",
    "print(ML,MN,NL)\n",
    "print(a_NLM)"
   ]
  },
  {
   "cell_type": "markdown",
   "metadata": {
    "collapsed": true
   },
   "source": [
    "Переносим треугольник MNL в систему координат угла CDE, таким образом, чтобы точка L совпадала с начало системы координат(0,0), а точка M лежала на оси абсцисс, т.е. угол LMx = 0"
   ]
  },
  {
   "cell_type": "markdown",
   "metadata": {
    "collapsed": true
   },
   "source": [
    "Определяем координаты треугольника MNL в новой системе координат"
   ]
  },
  {
   "cell_type": "code",
   "execution_count": 116,
   "metadata": {
    "collapsed": false
   },
   "outputs": [
    {
     "data": {
      "image/png": "[encoded data removed]",
      "text/plain": [
       "<matplotlib.figure.Figure at 0x7e560b8>"
      ]
     },
     "metadata": {},
     "output_type": "display_data"
    }
   ],
   "source": [
    "a_LMx = 0\n",
    "Lx = 0\n",
    "Ly = 0\n",
    "Mx = ML*cos(a_LMx)\n",
    "My = ML*sin(a_LMx)\n",
    "Nx = NL*cos(a_NLM+a_LMx)\n",
    "Ny = NL*sin(a_NLM+a_LMx)\n",
    "npl(Nx,Ny,Lx,Ly,Mx,My,'NLM')"
   ]
  },
  {
   "cell_type": "markdown",
   "metadata": {
    "collapsed": true
   },
   "source": [
    "Критерием оценки, как близко расположенны координаты вершин треугольника MNL от вершина тругольника CDE будет сумма расстояний между соответствующими вершинами двух треугольников.  \n",
    "Не знаю, нужно ли будет находить соответствие между вершинами (при съемке, как я полагаю, как-то фиксируют, какие пункты измерялись).  \n",
    "Пока что для простоты примем, что E-M,D-L,C-N\n",
    "\n",
    "$$dist=\\sqrt{(Ex-Mx)^2+(Ey-My)^2}+\\sqrt{(Dx - Lx)^2+(Dy-Ly)^2)} + \\sqrt{(Cx-Nx)^2+(Cy-Ny)^2}$$"
   ]
  },
  {
   "cell_type": "code",
   "execution_count": 136,
   "metadata": {
    "collapsed": false
   },
   "outputs": [
    {
     "data": {
      "text/plain": [
       "29.999998336009405"
      ]
     },
     "execution_count": 136,
     "metadata": {},
     "output_type": "execute_result"
    }
   ],
   "source": [
    "dist = sqrt((Ex-Mx)**2+(Ey-My)**2)+sqrt((Dx-Lx)**2+(Dy-Ly)**2) + sqrt((Cx-Nx)**2+(Cy-Ny)**2)\n",
    "dist"
   ]
  },
  {
   "cell_type": "markdown",
   "metadata": {
    "collapsed": true
   },
   "source": [
    "Посмотрим, как изменения положения треугольника MNL путем изменения угла a_LMx на rot_angl радиан и координат точки M (My на step_y, Mx на step_x) влияет на сумму расстояний до соответствующих вершин."
   ]
  },
  {
   "cell_type": "code",
   "execution_count": 134,
   "metadata": {
    "collapsed": false
   },
   "outputs": [],
   "source": [
    "rot_angl = 0\n",
    "step_x = 0\n",
    "step_y = 0\n",
    "n_a_LMx = 0+rot_angl\n",
    "n_Lx = 0+step_x\n",
    "n_Ly = 0+step_y\n",
    "n_Mx = ML*cos(a_LMx)+step_x\n",
    "n_My = ML*sin(a_LMx)+step_y\n",
    "n_Nx = NL*cos(a_NLM+a_LMx)+step_x\n",
    "n_Ny = NL*sin(a_NLM+a_LMx)+step_y\n",
    "n_dist = sqrt((Ex-Mx)**2+(Ey-My)**2)+sqrt((Dx-Lx)**2+(Dy-Ly)**2) + sqrt((Cx-Nx)**2+(Cy-Ny)**2)"
   ]
  },
  {
   "cell_type": "code",
   "execution_count": 172,
   "metadata": {
    "collapsed": false
   },
   "outputs": [
    {
     "name": "stdout",
     "output_type": "stream",
     "text": [
      "9.99995924944151,18.02779166827356,10,0,15.0,0.0\n"
     ]
    },
    {
     "data": {
      "text/plain": [
       "0.7072591046046561"
      ]
     },
     "execution_count": 172,
     "metadata": {},
     "output_type": "execute_result"
    }
   ],
   "source": [
    "calc_n_dist1(0,10,0)\n"
   ]
  },
  {
   "cell_type": "code",
   "execution_count": 170,
   "metadata": {
    "collapsed": false
   },
   "outputs": [],
   "source": [
    "def calc_n_dist(ML,MN,a_NML,rot_angl, step_x, step_y):\n",
    "    n_a_LMx = 0+rot_angl\n",
    "    n_Lx = 0+step_x\n",
    "    n_Ly = 0+step_y\n",
    "    n_Mx = ML*cos(a_LMx)+step_x\n",
    "    n_My = ML*sin(a_LMx)+step_y\n",
    "    n_Nx = NL*cos(a_NLM+a_LMx)+step_x\n",
    "    n_Ny = NL*sin(a_NLM+a_LMx)+step_y\n",
    "    n_Ny = MN*sin(a_NLM+n_a_LMx)+step_y\n",
    "    print('{},{},{},{},{},{}'.format(n_Nx,n_Ny,n_Lx,n_Ly,n_Mx,n_My))\n",
    "    return sqrt((Ex-n_Mx)**2+(Ey-n_My)**2)+sqrt((Dx-n_Lx)**2+(Dy-n_Ly)**2) + sqrt((Cx-n_Nx)**2+(Cy-n_Ny)**2)\n",
    "    "
   ]
  },
  {
   "cell_type": "code",
   "execution_count": 192,
   "metadata": {
    "collapsed": false
   },
   "outputs": [],
   "source": [
    "def calc_n_dist1(rot_angl, step_x, step_y):\n",
    "    n_a_LMx = 10+rot_angl\n",
    "    n_Lx = 0+step_x\n",
    "    n_Ly = 0+step_y\n",
    "    n_Mx = ML*cos(a_LMx)+step_x\n",
    "    n_My = ML*sin(a_LMx)+step_y\n",
    "    n_Nx = NL*cos(a_NLM+a_LMx)+step_x\n",
    "    n_Ny = NL*sin(a_NLM+a_LMx)+step_y\n",
    "    n_Ny = MN*sin(a_NLM+n_a_LMx)+step_y\n",
    "    print('{},{},{},{},{},{}'.format(n_Nx,n_Ny,n_Lx,n_Ly,n_Mx,n_My))\n",
    "    return sqrt((Ex-n_Mx)**2+(Ey-n_My)**2)+sqrt((Dx-n_Lx)**2+(Dy-n_Ly)**2) + sqrt((Cx-n_Nx)**2+(Cy-n_Ny)**2)\n",
    "\n",
    "def fun1(x):\n",
    "    return calc_n_dist1(*x)\n"
   ]
  },
  {
   "cell_type": "code",
   "execution_count": 193,
   "metadata": {
    "collapsed": false
   },
   "outputs": [
    {
     "name": "stdout",
     "output_type": "stream",
     "text": [
      "-4.07505584904963e-05,-15.12658364655991,0.0,0.0,5.0,0.0\n",
      "-4.07505584904963e-05,-15.12658364655991,0.0,0.0,5.0,0.0\n",
      "-4.07505584904963e-05,-15.12658350041625,0.0,0.0,5.0,0.0\n",
      "-4.0735657329302455e-05,-15.12658364655991,1.4901161193847656e-08,0.0,5.000000014901161,0.0\n",
      "-4.07505584904963e-05,-15.126583631658749,0.0,1.4901161193847656e-08,5.0,1.4901161193847656e-08\n",
      "2.294482488577252,16.573918246251147,2.294523239135742,0.9556441307067871,7.294523239135742,0.9556441307067871\n",
      "2.294482488577252,16.573918246251147,2.294523239135742,0.9556441307067871,7.294523239135742,0.9556441307067871\n",
      "2.294482488577252,16.573918112082108,2.294523239135742,0.9556441307067871,7.294523239135742,0.9556441307067871\n",
      "2.294482503478413,16.573918246251147,2.2945232540369034,0.9556441307067871,7.294523254036903,0.9556441307067871\n",
      "2.294482488577252,16.573918261152308,2.294523239135742,0.9556441456079483,7.294523239135742,0.9556441456079483\n",
      "5.45763001383382,15.78822647187676,5.457670764392311,0.9031891471408731,10.457670764392311,0.9031891471408731\n",
      "5.45763001383382,15.78822647187676,5.457670764392311,0.9031891471408731,10.457670764392311,0.9031891471408731\n",
      "5.45763001383382,15.78822632032606,5.457670764392311,0.9031891471408731,10.457670764392311,0.9031891471408731\n",
      "5.4576300287349815,15.78822647187676,5.457670779293472,0.9031891471408731,10.457670779293473,0.9031891471408731\n",
      "5.45763001383382,15.788226486777921,5.457670764392311,0.9031891620420343,10.457670764392311,0.9031891620420343\n",
      "55.574269819321884,-17.450131117188118,55.574310569880375,0.540918672037598,60.574310569880375,0.540918672037598\n",
      "19.741340096830776,-10.375065599816832,19.741380847389266,0.7999386806672987,24.741380847389266,0.7999386806672987\n",
      "9.693135006224615,18.373437066369355,9.693175756783106,0.8725726011822654,14.693175756783106,0.8725726011822654\n",
      "9.693135006224615,18.373437066369355,9.693175756783106,0.8725726011822654,14.693175756783106,0.8725726011822654\n",
      "9.693135006224615,18.373437130843385,9.693175756783106,0.8725726011822654,14.693175756783106,0.8725726011822654\n",
      "9.693135021125777,18.373437066369355,9.693175771684267,0.8725726011822654,14.693175771684267,0.8725726011822654\n",
      "9.693135006224615,18.373437081270517,9.693175756783106,0.8725726160834266,14.693175756783106,0.8725726160834266\n",
      "24.07481109170193,0.8137243687364704,24.07485184226042,-5.019860362634718,29.07485184226042,-5.019860362634718\n",
      "13.34832476704064,1.3288238091548306,13.348365517599131,-0.6250247934209827,18.34836551759913,-0.6250247934209827\n",
      "10.401188004404021,16.584107763099514,10.401228754962512,0.5824704738777269,15.401228754962512,0.5824704738777269\n",
      "10.401188004404021,16.584107763099514,10.401228754962512,0.5824704738777269,15.401228754962512,0.5824704738777269\n",
      "10.401188004404021,16.58410788683199,10.401228754962512,0.5824704738777269,15.401228754962512,0.5824704738777269\n",
      "10.401188019305183,16.584107763099514,10.401228769863673,0.5824704738777269,15.401228769863673,0.5824704738777269\n",
      "10.401188004404021,16.584107778000675,10.401228754962512,0.5824704887788881,15.401228754962512,0.5824704887788881\n",
      "10.598063076088845,17.5408309614714,10.598103826647336,-0.4860813390916261,15.598103826647336,-0.4860813390916261\n",
      "10.501528639123636,17.550054172180864,10.501569389682126,0.03786537874518059,15.501569389682126,0.03786537874518059\n",
      "10.501528639123636,17.550054172180864,10.501569389682126,0.03786537874518059,15.501569389682126,0.03786537874518059\n",
      "10.501528639123636,17.550054235968478,10.501569389682126,0.03786537874518059,15.501569389682126,0.03786537874518059\n",
      "10.501528654024797,17.550054172180864,10.501569404583288,0.03786537874518059,15.501569404583288,0.03786537874518059\n",
      "10.501528639123636,17.550054187082026,10.501569389682126,0.03786539364634178,15.501569389682126,0.03786539364634178\n",
      "8.037960942319677,16.615642879649837,8.038001692878167,-1.401967161434352,13.038001692878167,-1.401967161434352\n",
      "9.783297284555623,17.415485722116006,9.783338035114113,-0.38190505298513194,14.783338035114113,-0.38190505298513194\n",
      "9.783297284555623,17.415485722116006,9.783338035114113,-0.38190505298513194,14.783338035114113,-0.38190505298513194\n",
      "9.783297284555623,17.41548576492711,9.783338035114113,-0.38190505298513194,14.783338035114113,-0.38190505298513194\n",
      "9.783297299456784,17.415485722116006,9.783338050015274,-0.38190505298513194,14.783338050015274,-0.38190505298513194\n",
      "9.783297284555623,17.415485737017168,9.783338035114113,-0.38190503808397075,14.783338035114113,-0.38190503808397075\n",
      "10.04026381264399,17.52769477245222,10.040304563202481,0.05992303599775317,15.040304563202481,0.05992303599775317\n",
      "10.04026381264399,17.52769477245222,10.040304563202481,0.05992303599775317,15.040304563202481,0.05992303599775317\n",
      "10.04026381264399,17.527694838889047,10.040304563202481,0.05992303599775317,15.040304563202481,0.05992303599775317\n",
      "10.040263827545152,17.52769477245222,10.040304578103642,0.05992303599775317,15.040304578103642,0.05992303599775317\n",
      "10.04026381264399,17.527694787353383,10.040304563202481,0.059923050898914365,15.040304563202481,0.059923050898914365\n",
      "10.071236988804422,17.140809683998963,10.071277739362912,-0.22636595160522954,15.071277739362912,-0.22636595160522954\n",
      "10.051440351817138,17.38903038302329,10.051481102375629,-0.043383130222077876,15.051481102375629,-0.043383130222077876\n",
      "10.051440351817138,17.38903038302329,10.051481102375629,-0.043383130222077876,15.051481102375629,-0.043383130222077876\n",
      "10.051440351817138,17.389030451491216,10.051481102375629,-0.043383130222077876,15.051481102375629,-0.043383130222077876\n",
      "10.0514403667183,17.38903038302329,10.05148111727679,-0.043383130222077876,15.05148111727679,-0.043383130222077876\n",
      "10.051440351817138,17.38903039792445,10.051481102375629,-0.04338311532091668,15.051481102375629,-0.04338311532091668\n",
      "9.741325170711033,16.73641796327898,9.741365921269523,-0.08558036377495845,14.741365921269523,-0.08558036377495845\n",
      "9.970782769336925,17.23935101230948,9.970823519895415,-0.0543581712813023,14.970823519895415,-0.0543581712813023\n",
      "10.009460565512336,17.312903676593198,10.009501316070827,-0.04909530090938677,15.009501316070827,-0.04909530090938677\n",
      "10.009460565512336,17.312903676593198,10.009501316070827,-0.04909530090938677,15.009501316070827,-0.04909530090938677\n",
      "10.009460565512336,17.31290374892489,10.009501316070827,-0.04909530090938677,15.009501316070827,-0.04909530090938677\n",
      "10.009460580413498,17.312903676593198,10.009501330971988,-0.04909530090938677,15.009501330971988,-0.04909530090938677\n",
      "10.009460565512336,17.31290369149436,10.009501316070827,-0.049095286008225575,15.009501316070827,-0.049095286008225575\n",
      "9.741238313208758,17.48910705847294,9.741279063767248,-0.029999745289803096,14.741279063767248,-0.029999745289803096\n",
      "9.956697503679159,17.349204288699312,9.95673825423765,-0.04533893851498481,14.95673825423765,-0.04533893851498481\n",
      "9.994036404573773,17.323598178494294,9.994077155132263,-0.04799720811299045,14.994077155132263,-0.04799720811299045\n",
      "9.994036404573773,17.323598178494294,9.994077155132263,-0.04799720811299045,14.994077155132263,-0.04799720811299045\n",
      "9.994036404573773,17.323598250312546,9.994077155132263,-0.04799720811299045,14.994077155132263,-0.04799720811299045\n",
      "9.994036419474934,17.323598178494294,9.994077170033425,-0.04799720811299045,14.994077170033425,-0.04799720811299045\n",
      "9.994036404573773,17.323598193395455,9.994077155132263,-0.047997193211829256,14.994077155132263,-0.047997193211829256\n",
      "9.988113540814776,17.289067541098895,9.988154291373267,0.0483937665081552,14.988154291373267,0.0483937665081552\n",
      "9.991463542456346,17.310030611735137,9.991504293014836,-0.006125455333271891,14.991504293014836,-0.006125455333271891\n",
      "9.991463542456346,17.310030611735137,9.991504293014836,-0.006125455333271891,14.991504293014836,-0.006125455333271891\n",
      "9.991463542456346,17.310030686467112,9.991504293014836,-0.006125455333271891,14.991504293014836,-0.006125455333271891\n",
      "9.991463557357507,17.310030611735137,9.991504307915998,-0.006125455333271891,14.991504307915998,-0.006125455333271891\n",
      "9.991463542456346,17.310030626636298,9.991504293014836,-0.006125440432110697,14.991504293014836,-0.006125440432110697\n",
      "10.050467378850014,17.35768144896201,10.050508129408504,0.2014793664331302,15.050508129408504,0.2014793664331302\n",
      "10.005790415842831,17.323058013282,10.005831166401322,0.04428360580008711,15.005831166401322,0.04428360580008711\n",
      "9.995934960164588,17.314197068809165,9.995975710723078,0.009607214491264341,14.995975710723078,0.009607214491264341\n",
      "9.995934960164588,17.314197068809165,9.995975710723078,0.009607214491264341,14.995975710723078,0.009607214491264341\n",
      "9.995934960164588,17.314197144133672,9.995975710723078,0.009607214491264341,14.995975710723078,0.009607214491264341\n",
      "9.99593497506575,17.314197068809165,9.99597572562424,0.009607214491264341,14.99597572562424,0.009607214491264341\n",
      "9.995934960164588,17.314197083710326,9.995975710723078,0.009607229392425535,14.995975710723078,0.009607229392425535\n",
      "10.00948713873378,17.330321322460307,10.00952788929227,-0.0007459733804231448,15.00952788929227,-0.0007459733804231448\n",
      "10.002165081501769,17.321669695777818,10.002205832060259,0.004847712811299961,15.002205832060259,0.004847712811299961\n",
      "10.002165081501769,17.321669695777818,10.002205832060259,0.004847712811299961,15.002205832060259,0.004847712811299961\n",
      "10.002165081501769,17.321669770475523,10.002205832060259,0.004847712811299961,15.002205832060259,0.004847712811299961\n",
      "10.00216509640293,17.321669695777818,10.00220584696142,0.004847712811299961,15.00220584696142,0.004847712811299961\n",
      "10.002165081501769,17.32166971067898,10.002205832060259,0.004847727712461155,15.002205832060259,0.004847727712461155\n",
      "10.000670952837062,17.320578045723078,10.000711703395552,-0.0091902438123647,15.000711703395552,-0.0091902438123647\n",
      "10.00154786089042,17.321232870847314,10.001588611448911,-0.0009513300516104488,15.001588611448911,-0.0009513300516104488\n",
      "10.00154786089042,17.321232870847314,10.001588611448911,-0.0009513300516104488,15.001588611448911,-0.0009513300516104488\n",
      "10.00154786089042,17.32123294526844,10.001588611448911,-0.0009513300516104488,15.001588611448911,-0.0009513300516104488\n",
      "10.001547875791582,17.321232870847314,10.001588626350072,-0.0009513300516104488,15.001588626350072,-0.0009513300516104488\n",
      "10.00154786089042,17.321232885748476,10.001588611448911,-0.0009513151504492549,15.001588611448911,-0.0009513151504492549\n",
      "9.993780195306575,17.3222180980769,9.993820945865066,-0.0020049012514916195,14.993820945865066,-0.0020049012514916195\n",
      "9.999310786282502,17.321516911029864,9.999351536840992,-0.001254756783032995,14.999351536840992,-0.001254756783032995\n",
      "9.999310786282502,17.321516911029864,9.999351536840992,-0.001254756783032995,14.999351536840992,-0.001254756783032995\n",
      "9.999310786282502,17.321516985420622,9.999351536840992,-0.001254756783032995,14.999351536840992,-0.001254756783032995\n",
      "9.999310801183663,17.321516911029864,9.999351551742153,-0.001254756783032995,14.999351551742153,-0.001254756783032995\n",
      "9.999310786282502,17.321516925931025,9.999351536840992,-0.0012547418818718013,14.999351536840992,-0.0012547418818718013\n",
      "9.998855303214349,17.313693648516885,9.998896053772839,0.002163936035005051,14.998896053772839,0.002163936035005051\n",
      "9.9991730631755,17.319160604125596,9.99921381373399,-0.00022105645538191194,14.99921381373399,-0.00022105645538191194\n",
      "9.9991730631755,17.319160604125596,9.99921381373399,-0.00022105645538191194,14.99921381373399,-0.00022105645538191194\n",
      "9.9991730631755,17.319160678691414,9.99921381373399,-0.00022105645538191194,14.99921381373399,-0.00022105645538191194\n",
      "9.99917307807666,17.319160604125596,9.99921382863515,-0.00022105645538191194,14.99921382863515,-0.00022105645538191194\n",
      "9.9991730631755,17.319160619026757,9.99921381373399,-0.0002210415542207181,14.99921381373399,-0.0002210415542207181\n",
      "10.000522812461005,17.321374893226245,10.000563563019496,0.00240069383926018,15.000563563019496,0.00240069383926018\n",
      "9.999650553756169,17.31994394953034,9.99969130431466,0.000706420287151356,14.99969130431466,0.000706420287151356\n",
      "9.999650553756169,17.31994394953034,9.99969130431466,0.000706420287151356,14.99969130431466,0.000706420287151356\n",
      "9.999650553756169,17.319944024103595,9.99969130431466,0.000706420287151356,14.99969130431466,0.000706420287151356\n",
      "9.99965056865733,17.31994394953034,9.99969131921582,0.000706420287151356,14.99969131921582,0.000706420287151356\n",
      "9.999650553756169,17.319943964431502,9.99969130431466,0.0007064351883125498,14.99969130431466,0.0007064351883125498\n",
      "10.001086251416103,17.321460622445237,10.001127001974593,-0.00015154921751100634,15.001127001974593,-0.00015154921751100634\n",
      "10.00019304260147,17.320517494589502,10.00023379315996,0.00038223024430561275,15.00023379315996,0.00038223024430561275\n",
      "10.00019304260147,17.320517494589502,10.00023379315996,0.00038223024430561275,15.00023379315996,0.00038223024430561275\n",
      "10.00019304260147,17.320517569116443,10.00023379315996,0.00038223024430561275,15.00023379315996,0.00038223024430561275\n",
      "10.000193057502631,17.320517494589502,10.000233808061122,0.00038223024430561275,15.000233808061122,0.00038223024430561275\n",
      "10.00019304260147,17.320517509490664,10.00023379315996,0.0003822451454668066,15.00023379315996,0.0003822451454668066\n",
      "9.999899633711589,17.320948133456227,9.99994038427008,-0.00037846299189381696,14.99994038427008,-0.00037846299189381696\n",
      "10.000050327446454,17.320727081761106,10.000091078004944,1.2226277595839762e-05,15.000091078004944,1.2226277595839762e-05\n",
      "10.000050327446454,17.320727081761106,10.000091078004944,1.2226277595839762e-05,15.000091078004944,1.2226277595839762e-05\n",
      "10.000050327446454,17.320727156258133,10.000091078004944,1.2226277595839762e-05,15.000091078004944,1.2226277595839762e-05\n",
      "10.000050342347615,17.320727081761106,10.000091092906105,1.2226277595839762e-05,15.000091092906105,1.2226277595839762e-05\n",
      "10.000050327446454,17.320727096662267,10.000091078004944,1.224117875703361e-05,15.000091078004944,1.224117875703361e-05\n",
      "9.999351626502648,17.31965828132423,9.999392377061138,-0.0010614450887162182,14.999392377061138,-0.0010614450887162182\n",
      "9.999880685672032,17.320467581322237,9.999921436230522,-0.000248456804832195,14.999921436230522,-0.000248456804832195\n",
      "9.999985685952302,17.320628199889946,10.000026436510792,-8.710623649704072e-05,15.000026436510792,-8.710623649704072e-05\n",
      "9.999985685952302,17.320628199889946,10.000026436510792,-8.710623649704072e-05,15.000026436510792,-8.710623649704072e-05\n",
      "9.999985685952302,17.320628274386948,10.000026436510792,-8.710623649704072e-05,15.000026436510792,-8.710623649704072e-05\n",
      "9.999985700853463,17.320628199889946,10.000026451411953,-8.710623649704072e-05,15.000026451411953,-8.710623649704072e-05\n",
      "9.999985685952302,17.320628214791107,10.000026436510792,-8.709133533584687e-05,15.000026436510792,-8.709133533584687e-05\n",
      "9.999693421410848,17.32046462758792,9.999734171969338,0.00013448185843489624,14.999734171969338,0.00013448185843489624\n",
      "9.99989994438881,17.32058022338422,9.9999406949473,-2.2099001557662886e-05,14.9999406949473,-2.2099001557662886e-05\n",
      "9.99989994438881,17.32058022338422,9.9999406949473,-2.2099001557662886e-05,14.9999406949473,-2.2099001557662886e-05\n",
      "9.99989994438881,17.320580297887055,9.9999406949473,-2.2099001557662886e-05,14.9999406949473,-2.2099001557662886e-05\n",
      "9.999899959289971,17.32058022338422,9.999940709848461,-2.2099001557662886e-05,14.999940709848461,-2.2099001557662886e-05\n",
      "9.99989994438881,17.32058023828538,9.9999406949473,-2.208410039646904e-05,14.9999406949473,-2.208410039646904e-05\n",
      "10.000033793620387,17.319406113893347,10.000074544178878,-7.068469401107271e-05,15.000074544178878,-7.068469401107271e-05\n",
      "9.999932421553083,17.320295418158302,9.999973172111574,-3.38878291555156e-05,14.999973172111574,-3.38878291555156e-05\n",
      "9.99991094138885,17.320483792080296,9.99995169194734,-2.609078287380466e-05,14.99995169194734,-2.609078287380466e-05\n",
      "9.99991094138885,17.320483792080296,9.99995169194734,-2.609078287380466e-05,14.99995169194734,-2.609078287380466e-05\n",
      "9.99991094138885,17.320483866587903,9.99995169194734,-2.609078287380466e-05,14.99995169194734,-2.609078287380466e-05\n",
      "9.99991095629001,17.320483792080296,9.9999517068485,-2.609078287380466e-05,14.9999517068485,-2.609078287380466e-05\n",
      "9.99991094138885,17.320483806981457,9.99995169194734,-2.607588171261081e-05,14.99995169194734,-2.607588171261081e-05\n",
      "9.999985449796066,17.320517930708373,10.000026200354556,3.156244535947868e-05,15.000026200354556,3.156244535947868e-05\n",
      "9.999985449796066,17.320517930708373,10.000026200354556,3.156244535947868e-05,15.000026200354556,3.156244535947868e-05\n",
      "9.999985449796066,17.320518005217195,10.000026200354556,3.156244535947868e-05,15.000026200354556,3.156244535947868e-05\n",
      "9.999985464697227,17.320517930708373,10.000026215255717,3.156244535947868e-05,15.000026215255717,3.156244535947868e-05\n",
      "9.999985449796066,17.320517945609534,10.000026200354556,3.157734652067253e-05,15.000026200354556,3.157734652067253e-05\n",
      "9.999956738155342,17.320550837587092,9.999997488713833,-1.2655012721887474e-05,14.999997488713833,-1.2655012721887474e-05\n",
      "9.999956738155342,17.320550837587092,9.999997488713833,-1.2655012721887474e-05,14.999997488713833,-1.2655012721887474e-05\n",
      "9.999956738155342,17.32055091209193,9.999997488713833,-1.2655012721887474e-05,14.999997488713833,-1.2655012721887474e-05\n",
      "9.999956753056503,17.320550837587092,9.999997503614994,-1.2655012721887474e-05,14.999997503614994,-1.2655012721887474e-05\n",
      "9.999956738155342,17.320550852488253,9.999997488713833,-1.2640111560693627e-05,14.999997488713833,-1.2640111560693627e-05\n",
      "9.999942902929263,17.320513240993794,9.999983653487753,1.963251987367077e-05,14.999983653487753,1.963251987367077e-05\n",
      "9.999951534960127,17.320536698539335,9.999992285518617,-5.12216200079042e-07,14.999992285518617,-5.12216200079042e-07\n",
      "9.999951534960127,17.320536698539335,9.999992285518617,-5.12216200079042e-07,14.999992285518617,-5.12216200079042e-07\n",
      "9.999951534960127,17.320536773045532,9.999992285518617,-5.12216200079042e-07,14.999992285518617,-5.12216200079042e-07\n",
      "9.999951549861288,17.320536698539335,9.999992300419779,-5.12216200079042e-07,14.999992300419779,-5.12216200079042e-07\n",
      "9.999951534960127,17.320536713440497,9.999992285518617,-4.973150388851943e-07,14.999992285518617,-4.973150388851943e-07\n",
      "9.999991506623417,17.3204554524584,10.000032257181907,2.9754030609863528e-05,15.000032257181907,2.9754030609863528e-05\n",
      "9.999961966175913,17.320515496964823,10.000002716734404,7.3862229823908424e-06,15.000002716734404,7.3862229823908424e-06\n",
      "9.999955712149392,17.320528208421155,9.999996462707882,2.6507205113490325e-06,14.999996462707882,2.6507205113490325e-06\n",
      "9.999955712149392,17.320528208421155,9.999996462707882,2.6507205113490325e-06,14.999996462707882,2.6507205113490325e-06\n",
      "9.999955712149392,17.320528282927953,9.999996462707882,2.6507205113490325e-06,14.999996462707882,2.6507205113490325e-06\n",
      "9.999955727050553,17.320528208421155,9.999996477609043,2.6507205113490325e-06,14.999996477609043,2.6507205113490325e-06\n",
      "9.999955712149392,17.320528223322317,9.999996462707882,2.66562167254288e-06,14.999996462707882,2.66562167254288e-06\n",
      "9.999974278021012,17.320550613474715,10.000015028579503,1.3628782114233875e-05,15.000015028579503,1.3628782114233875e-05\n",
      "9.999960005267646,17.320533389308753,10.000000755826136,5.189255605763854e-06,15.000000755826136,5.189255605763854e-06\n",
      "9.999957977184225,17.320530941840723,9.999998727742716,3.990043137167916e-06,14.999998727742716,3.990043137167916e-06\n",
      "9.999957977184225,17.320530941840723,9.999998727742716,3.990043137167916e-06,14.999998727742716,3.990043137167916e-06\n",
      "9.999957977184225,17.32053101634745,9.999998727742716,3.990043137167916e-06,14.999998727742716,3.990043137167916e-06\n",
      "9.999957992085386,17.320530941840723,9.999998742643877,3.990043137167916e-06,14.999998742643877,3.990043137167916e-06\n",
      "9.999957977184225,17.320530956741884,9.999998727742716,4.0049442983617635e-06,14.999998727742716,4.0049442983617635e-06\n",
      "9.999963767539056,17.320534963829523,10.000004518097546,-7.767622207939943e-06,15.000004518097546,-7.767622207939943e-06\n",
      "9.999959891512443,17.32053227155495,10.000000642070933,1.0288402344762352e-07,15.000000642070933,1.0288402344762352e-07\n",
      "9.999959891512443,17.32053227155495,10.000000642070933,1.0288402344762352e-07,15.000000642070933,1.0288402344762352e-07\n",
      "9.999959891512443,17.320532346061405,10.000000642070933,1.0288402344762352e-07,15.000000642070933,1.0288402344762352e-07\n",
      "9.999959906413604,17.32053227155495,10.000000656972095,1.0288402344762352e-07,15.000000656972095,1.0288402344762352e-07\n",
      "9.999959891512443,17.32053228645611,10.000000642070933,1.1778518464147118e-07,15.000000642070933,1.1778518464147118e-07\n",
      "9.999957691580093,17.32053412612989,9.999998442138583,-8.269373807108043e-07,14.999998442138583,-8.269373807108043e-07\n",
      "9.999958981502227,17.32053303870743,9.999999732060717,-2.8174006611542625e-07,14.999999732060717,-2.8174006611542625e-07\n",
      "9.999958981502227,17.32053303870743,9.999999732060717,-2.8174006611542625e-07,14.999999732060717,-2.8174006611542625e-07\n",
      "9.999958981502227,17.32053311321383,9.999999732060717,-2.8174006611542625e-07,14.999999732060717,-2.8174006611542625e-07\n",
      "9.999958996403388,17.32053303870743,9.999999746961878,-2.8174006611542625e-07,14.999999746961878,-2.8174006611542625e-07\n",
      "9.999958981502227,17.320533053608592,9.999999732060717,-2.668389049215786e-07,14.999999732060717,-2.668389049215786e-07\n",
      "9.999957896997193,17.32053626538544,9.999998647555683,3.282285197802888e-06,14.999998647555683,3.282285197802888e-06\n",
      "9.999958820829905,17.320533516748423,9.999999571388395,2.462798129375367e-07,14.999999571388395,2.462798129375367e-07\n",
      "9.999958929853369,17.320533192375912,9.99999968041186,-1.1200564272576671e-07,14.99999968041186,-1.1200564272576671e-07\n"
     ]
    },
    {
     "data": {
      "text/plain": [
       "     fun: 2.1614397015633185e-06\n",
       "     jac: array([ 1.72200896, -0.41039277, -1.10389934,  0.        ])\n",
       " message: 'Optimization terminated successfully.'\n",
       "    nfev: 186\n",
       "     nit: 30\n",
       "    njev: 30\n",
       "  status: 0\n",
       " success: True\n",
       "       x: array([  8.56851693e+00,   9.99999968e+00,  -1.12005643e-07])"
      ]
     },
     "execution_count": 193,
     "metadata": {},
     "output_type": "execute_result"
    }
   ],
   "source": [
    "from scipy.optimize import minimize\n",
    "x0 = (0,0,0)\n",
    "res = minimize(fun1, x0, method='SLSQP')\n",
    "res"
   ]
  },
  {
   "cell_type": "markdown",
   "metadata": {},
   "source": [
    "В последней итерации выдал координаты:\n",
    "\n",
    "9.99995850729328,17.320531619154707,9.999999257851771,-4.855179780358599e-07,14.999999257851771,-4.855179780358599e-07\n",
    "\n",
    "-4.855179780358599e-07 это число, сильно стремящееся к нулю.\n",
    "\n",
    "Погрешность - стотысясные доли. Вроде норм.\n",
    "\n",
    "Строим по ним график:"
   ]
  },
  {
   "cell_type": "code",
   "execution_count": 194,
   "metadata": {
    "collapsed": false
   },
   "outputs": [
    {
     "data": {
      "image/png": "[encoded data removed]",
      "text/plain": [
       "<matplotlib.figure.Figure at 0x96b7080>"
      ]
     },
     "metadata": {},
     "output_type": "display_data"
    }
   ],
   "source": [
    "npl(9.999958929853369,17.320533192375912,9.99999968041186,-1.1200564272576671e-07,14.99999968041186,-1.1200564272576671e-07,'NLM')"
   ]
  }
 ],
 "metadata": {
  "anaconda-cloud": {},
  "kernelspec": {
   "display_name": "Python 3",
   "language": "python",
   "name": "python3"
  },
  "language_info": {
   "codemirror_mode": {
    "name": "ipython",
    "version": 3
   },
   "file_extension": ".py",
   "mimetype": "text/x-python",
   "name": "python",
   "nbconvert_exporter": "python",
   "pygments_lexer": "ipython3",
   "version": "3.5.1"
  }
 },
 "nbformat": 4,
 "nbformat_minor": 0
}
