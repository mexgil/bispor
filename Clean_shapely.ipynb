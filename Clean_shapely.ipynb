{
 "cells": [
  {
   "cell_type": "code",
   "execution_count": 1,
   "metadata": {
    "collapsed": false
   },
   "outputs": [
    {
     "data": {
      "text/html": [
       "<div>\n",
       "<table border=\"1\" class=\"dataframe\">\n",
       "  <thead>\n",
       "    <tr style=\"text-align: right;\">\n",
       "      <th></th>\n",
       "      <th>Num</th>\n",
       "      <th>X</th>\n",
       "      <th>Y</th>\n",
       "    </tr>\n",
       "  </thead>\n",
       "  <tbody>\n",
       "    <tr>\n",
       "      <th>0</th>\n",
       "      <td>6a</td>\n",
       "      <td>-32.440171</td>\n",
       "      <td>2.175778</td>\n",
       "    </tr>\n",
       "    <tr>\n",
       "      <th>1</th>\n",
       "      <td>7</td>\n",
       "      <td>-41.465813</td>\n",
       "      <td>1.644844</td>\n",
       "    </tr>\n",
       "    <tr>\n",
       "      <th>2</th>\n",
       "      <td>7b</td>\n",
       "      <td>-56.411206</td>\n",
       "      <td>1.329609</td>\n",
       "    </tr>\n",
       "    <tr>\n",
       "      <th>3</th>\n",
       "      <td>8</td>\n",
       "      <td>70.667389</td>\n",
       "      <td>5.257387</td>\n",
       "    </tr>\n",
       "    <tr>\n",
       "      <th>4</th>\n",
       "      <td>7a</td>\n",
       "      <td>55.487704</td>\n",
       "      <td>4.691141</td>\n",
       "    </tr>\n",
       "    <tr>\n",
       "      <th>5</th>\n",
       "      <td>6</td>\n",
       "      <td>7.492313</td>\n",
       "      <td>3.028990</td>\n",
       "    </tr>\n",
       "    <tr>\n",
       "      <th>6</th>\n",
       "      <td>4</td>\n",
       "      <td>-28.701654</td>\n",
       "      <td>1.783774</td>\n",
       "    </tr>\n",
       "    <tr>\n",
       "      <th>7</th>\n",
       "      <td>3</td>\n",
       "      <td>-40.871366</td>\n",
       "      <td>2.022232</td>\n",
       "    </tr>\n",
       "    <tr>\n",
       "      <th>8</th>\n",
       "      <td>1</td>\n",
       "      <td>0.000022</td>\n",
       "      <td>77.232177</td>\n",
       "    </tr>\n",
       "    <tr>\n",
       "      <th>9</th>\n",
       "      <td>2</td>\n",
       "      <td>66.775321</td>\n",
       "      <td>5.272296</td>\n",
       "    </tr>\n",
       "    <tr>\n",
       "      <th>10</th>\n",
       "      <td>4a</td>\n",
       "      <td>17.947798</td>\n",
       "      <td>3.452105</td>\n",
       "    </tr>\n",
       "    <tr>\n",
       "      <th>11</th>\n",
       "      <td>5</td>\n",
       "      <td>9.484132</td>\n",
       "      <td>3.142478</td>\n",
       "    </tr>\n",
       "    <tr>\n",
       "      <th>12</th>\n",
       "      <td>1000</td>\n",
       "      <td>77.210089</td>\n",
       "      <td>1.844166</td>\n",
       "    </tr>\n",
       "    <tr>\n",
       "      <th>13</th>\n",
       "      <td>1001</td>\n",
       "      <td>77.200836</td>\n",
       "      <td>3.363228</td>\n",
       "    </tr>\n",
       "    <tr>\n",
       "      <th>14</th>\n",
       "      <td>1002</td>\n",
       "      <td>40.709081</td>\n",
       "      <td>2.157234</td>\n",
       "    </tr>\n",
       "    <tr>\n",
       "      <th>15</th>\n",
       "      <td>1003</td>\n",
       "      <td>40.761487</td>\n",
       "      <td>0.638264</td>\n",
       "    </tr>\n",
       "    <tr>\n",
       "      <th>16</th>\n",
       "      <td>1004</td>\n",
       "      <td>-17.945703</td>\n",
       "      <td>0.120524</td>\n",
       "    </tr>\n",
       "    <tr>\n",
       "      <th>17</th>\n",
       "      <td>1005</td>\n",
       "      <td>18.010911</td>\n",
       "      <td>1.402830</td>\n",
       "    </tr>\n",
       "    <tr>\n",
       "      <th>18</th>\n",
       "      <td>1006</td>\n",
       "      <td>7.500111</td>\n",
       "      <td>0.957848</td>\n",
       "    </tr>\n",
       "    <tr>\n",
       "      <th>19</th>\n",
       "      <td>1007</td>\n",
       "      <td>-7.542166</td>\n",
       "      <td>0.557551</td>\n",
       "    </tr>\n",
       "  </tbody>\n",
       "</table>\n",
       "</div>"
      ],
      "text/plain": [
       "     Num          X          Y\n",
       "0     6a -32.440171   2.175778\n",
       "1      7 -41.465813   1.644844\n",
       "2     7b -56.411206   1.329609\n",
       "3      8  70.667389   5.257387\n",
       "4     7a  55.487704   4.691141\n",
       "5      6   7.492313   3.028990\n",
       "6      4 -28.701654   1.783774\n",
       "7      3 -40.871366   2.022232\n",
       "8      1   0.000022  77.232177\n",
       "9      2  66.775321   5.272296\n",
       "10    4a  17.947798   3.452105\n",
       "11     5   9.484132   3.142478\n",
       "12  1000  77.210089   1.844166\n",
       "13  1001  77.200836   3.363228\n",
       "14  1002  40.709081   2.157234\n",
       "15  1003  40.761487   0.638264\n",
       "16  1004 -17.945703   0.120524\n",
       "17  1005  18.010911   1.402830\n",
       "18  1006   7.500111   0.957848\n",
       "19  1007  -7.542166   0.557551"
      ]
     },
     "execution_count": 1,
     "metadata": {},
     "output_type": "execute_result"
    }
   ],
   "source": [
    "import pandas as pd\n",
    "\n",
    "df01 = pd.read_csv(r'data\\origin\\ex\\0000001.csv',sep=';', names=['Num','X','Y'],dtype={'Num':'str'})\n",
    "df01"
   ]
  },
  {
   "cell_type": "code",
   "execution_count": 2,
   "metadata": {
    "collapsed": false
   },
   "outputs": [
    {
     "data": {
      "text/html": [
       "<div>\n",
       "<table border=\"1\" class=\"dataframe\">\n",
       "  <thead>\n",
       "    <tr style=\"text-align: right;\">\n",
       "      <th></th>\n",
       "      <th>Num</th>\n",
       "      <th>X</th>\n",
       "      <th>Y</th>\n",
       "    </tr>\n",
       "  </thead>\n",
       "  <tbody>\n",
       "    <tr>\n",
       "      <th>0</th>\n",
       "      <td>9</td>\n",
       "      <td>-9.982620</td>\n",
       "      <td>2.334459</td>\n",
       "    </tr>\n",
       "    <tr>\n",
       "      <th>1</th>\n",
       "      <td>9a</td>\n",
       "      <td>-21.778532</td>\n",
       "      <td>2.089345</td>\n",
       "    </tr>\n",
       "    <tr>\n",
       "      <th>2</th>\n",
       "      <td>12</td>\n",
       "      <td>-70.229242</td>\n",
       "      <td>0.342660</td>\n",
       "    </tr>\n",
       "    <tr>\n",
       "      <th>3</th>\n",
       "      <td>13</td>\n",
       "      <td>95.745037</td>\n",
       "      <td>6.060164</td>\n",
       "    </tr>\n",
       "    <tr>\n",
       "      <th>4</th>\n",
       "      <td>11</td>\n",
       "      <td>43.762437</td>\n",
       "      <td>4.303287</td>\n",
       "    </tr>\n",
       "    <tr>\n",
       "      <th>5</th>\n",
       "      <td>9b</td>\n",
       "      <td>21.534892</td>\n",
       "      <td>3.505017</td>\n",
       "    </tr>\n",
       "    <tr>\n",
       "      <th>6</th>\n",
       "      <td>8</td>\n",
       "      <td>-9.815163</td>\n",
       "      <td>2.580701</td>\n",
       "    </tr>\n",
       "    <tr>\n",
       "      <th>7</th>\n",
       "      <td>7a</td>\n",
       "      <td>-24.994734</td>\n",
       "      <td>2.014322</td>\n",
       "    </tr>\n",
       "    <tr>\n",
       "      <th>8</th>\n",
       "      <td>6</td>\n",
       "      <td>-72.991093</td>\n",
       "      <td>0.352641</td>\n",
       "    </tr>\n",
       "    <tr>\n",
       "      <th>9</th>\n",
       "      <td>6a</td>\n",
       "      <td>48.042324</td>\n",
       "      <td>4.852631</td>\n",
       "    </tr>\n",
       "    <tr>\n",
       "      <th>10</th>\n",
       "      <td>7</td>\n",
       "      <td>39.016904</td>\n",
       "      <td>4.322206</td>\n",
       "    </tr>\n",
       "    <tr>\n",
       "      <th>11</th>\n",
       "      <td>7b</td>\n",
       "      <td>24.071436</td>\n",
       "      <td>4.006518</td>\n",
       "    </tr>\n",
       "    <tr>\n",
       "      <th>12</th>\n",
       "      <td>1011</td>\n",
       "      <td>72.989787</td>\n",
       "      <td>1.718425</td>\n",
       "    </tr>\n",
       "    <tr>\n",
       "      <th>13</th>\n",
       "      <td>1012</td>\n",
       "      <td>72.953924</td>\n",
       "      <td>3.233497</td>\n",
       "    </tr>\n",
       "    <tr>\n",
       "      <th>14</th>\n",
       "      <td>1013</td>\n",
       "      <td>39.060169</td>\n",
       "      <td>2.108873</td>\n",
       "    </tr>\n",
       "    <tr>\n",
       "      <th>15</th>\n",
       "      <td>1014</td>\n",
       "      <td>39.000375</td>\n",
       "      <td>0.586723</td>\n",
       "    </tr>\n",
       "    <tr>\n",
       "      <th>16</th>\n",
       "      <td>1015</td>\n",
       "      <td>-9.848191</td>\n",
       "      <td>0.375264</td>\n",
       "    </tr>\n",
       "    <tr>\n",
       "      <th>17</th>\n",
       "      <td>1016</td>\n",
       "      <td>9.810951</td>\n",
       "      <td>1.140863</td>\n",
       "    </tr>\n",
       "    <tr>\n",
       "      <th>18</th>\n",
       "      <td>1017</td>\n",
       "      <td>-9.971384</td>\n",
       "      <td>0.481457</td>\n",
       "    </tr>\n",
       "    <tr>\n",
       "      <th>19</th>\n",
       "      <td>1018</td>\n",
       "      <td>9.925695</td>\n",
       "      <td>1.036438</td>\n",
       "    </tr>\n",
       "  </tbody>\n",
       "</table>\n",
       "</div>"
      ],
      "text/plain": [
       "     Num          X         Y\n",
       "0      9  -9.982620  2.334459\n",
       "1     9a -21.778532  2.089345\n",
       "2     12 -70.229242  0.342660\n",
       "3     13  95.745037  6.060164\n",
       "4     11  43.762437  4.303287\n",
       "5     9b  21.534892  3.505017\n",
       "6      8  -9.815163  2.580701\n",
       "7     7a -24.994734  2.014322\n",
       "8      6 -72.991093  0.352641\n",
       "9     6a  48.042324  4.852631\n",
       "10     7  39.016904  4.322206\n",
       "11    7b  24.071436  4.006518\n",
       "12  1011  72.989787  1.718425\n",
       "13  1012  72.953924  3.233497\n",
       "14  1013  39.060169  2.108873\n",
       "15  1014  39.000375  0.586723\n",
       "16  1015  -9.848191  0.375264\n",
       "17  1016   9.810951  1.140863\n",
       "18  1017  -9.971384  0.481457\n",
       "19  1018   9.925695  1.036438"
      ]
     },
     "execution_count": 2,
     "metadata": {},
     "output_type": "execute_result"
    }
   ],
   "source": [
    "df02 = pd.read_csv(r'data\\origin\\ex\\0000002.csv',sep=';', names=['Num','X','Y'],dtype={'Num':'str'})\n",
    "df02"
   ]
  },
  {
   "cell_type": "markdown",
   "metadata": {},
   "source": [
    "Дополнительный шаг - выборка номер одинаковых номеров пунктов.\n",
    "Сортирую номера и записи в таблицы, надеюсь, что принцип сортировки и в сете и в дф одинаковые, но лучше будет убедиться."
   ]
  },
  {
   "cell_type": "code",
   "execution_count": 3,
   "metadata": {
    "collapsed": false
   },
   "outputs": [],
   "source": [
    "inter = sorted(set(list(zip(*df01['Num'].iteritems()))[1]).intersection(set(list(zip(*df02['Num'].iteritems()))[1])))\n",
    "\n",
    "df01_com = df01.loc[df01['Num'].isin(inter)].sort_values(by='Num')\n",
    "df02_com = df02.loc[df02['Num'].isin(inter)].sort_values(by='Num')"
   ]
  },
  {
   "cell_type": "code",
   "execution_count": 4,
   "metadata": {
    "collapsed": false
   },
   "outputs": [
    {
     "data": {
      "text/plain": [
       "['6', '6a', '7', '7a', '7b', '8']"
      ]
     },
     "execution_count": 4,
     "metadata": {},
     "output_type": "execute_result"
    }
   ],
   "source": [
    "inter"
   ]
  },
  {
   "cell_type": "markdown",
   "metadata": {
    "collapsed": true
   },
   "source": [
    "Создаю по два набора точек - mp01,mp02 - все точки, включая стоянки. mp01_c, mp02_c - набор общих точек."
   ]
  },
  {
   "cell_type": "code",
   "execution_count": 5,
   "metadata": {
    "collapsed": false
   },
   "outputs": [],
   "source": [
    "from shapely.geometry import MultiPoint\n",
    "\n",
    "mp01 = MultiPoint([i[2:4] for i in df01.itertuples()])\n",
    "mp01_c = MultiPoint([i[2:4] for i in df01_com.itertuples()])\n",
    "mp02 = MultiPoint([i[2:4] for i in df02.itertuples()])\n",
    "mp02_c = MultiPoint([i[2:4] for i in df02_com.itertuples()])"
   ]
  },
  {
   "cell_type": "code",
   "execution_count": 6,
   "metadata": {
    "collapsed": false
   },
   "outputs": [],
   "source": [
    "import matplotlib.pyplot as plt\n",
    "%matplotlib inline  \n",
    "\n",
    "def plp(z,n):\n",
    "    try:\n",
    "        for mp in z:        \n",
    "            x = [i.x for i in mp.geoms]\n",
    "            y = [i.y for i in mp.geoms]\n",
    "    except AttributeError:\n",
    "        x = [i.x for i in z.geoms]\n",
    "        y = [i.y for i in z.geoms]\n",
    "            \n",
    "    plt.figure(n)\n",
    "    plt.plot(x,y,'ro')\n",
    "    plt.plot(x,y,'ro')\n",
    "\n",
    "        \n",
    "    plt.show()"
   ]
  },
  {
   "cell_type": "code",
   "execution_count": 16,
   "metadata": {
    "collapsed": false
   },
   "outputs": [
    {
     "data": {
      "image/png": "[encoded data removed]",
      "text/plain": [
       "<matplotlib.figure.Figure at 0xae397f0>"
      ]
     },
     "metadata": {},
     "output_type": "display_data"
    }
   ],
   "source": [
    "plp(mp01,0)"
   ]
  },
  {
   "cell_type": "code",
   "execution_count": 13,
   "metadata": {
    "collapsed": false
   },
   "outputs": [
    {
     "data": {
      "image/svg+xml": [
       "<svg xmlns=\"http://www.w3.org/2000/svg\" xmlns:xlink=\"http://www.w3.org/1999/xlink\" width=\"144.31099797503006\" height=\"100.0\" viewBox=\"-61.75605728173915 -5.224327702759189 144.31099797503006 87.80135662585974\" preserveAspectRatio=\"xMinYMin meet\"><g transform=\"matrix(1,0,0,-1,0,77.35270122034137)\"><g><circle cx=\"-32.440171246343944\" cy=\"2.175778345776155\" r=\"3.0\" stroke=\"#555555\" stroke-width=\"1.0\" fill=\"#66cc99\" opacity=\"0.6\" /><circle cx=\"-41.465813224022\" cy=\"1.6448441481281473\" r=\"3.0\" stroke=\"#555555\" stroke-width=\"1.0\" fill=\"#66cc99\" opacity=\"0.6\" /><circle cx=\"-56.41120550488619\" cy=\"1.32960913303103\" r=\"3.0\" stroke=\"#555555\" stroke-width=\"1.0\" fill=\"#66cc99\" opacity=\"0.6\" /><circle cx=\"70.66738855150264\" cy=\"5.257386906569577\" r=\"3.0\" stroke=\"#555555\" stroke-width=\"1.0\" fill=\"#66cc99\" opacity=\"0.6\" /><circle cx=\"55.48770376172236\" cy=\"4.691141249410957\" r=\"3.0\" stroke=\"#555555\" stroke-width=\"1.0\" fill=\"#66cc99\" opacity=\"0.6\" /><circle cx=\"7.4923133998460365\" cy=\"3.0289899265758096\" r=\"3.0\" stroke=\"#555555\" stroke-width=\"1.0\" fill=\"#66cc99\" opacity=\"0.6\" /><circle cx=\"-28.70165412883923\" cy=\"1.7837741382631254\" r=\"3.0\" stroke=\"#555555\" stroke-width=\"1.0\" fill=\"#66cc99\" opacity=\"0.6\" /><circle cx=\"-40.871365629317715\" cy=\"2.022231898542849\" r=\"3.0\" stroke=\"#555555\" stroke-width=\"1.0\" fill=\"#66cc99\" opacity=\"0.6\" /><circle cx=\"2.224127035458924e-05\" cy=\"77.2321771462476\" r=\"3.0\" stroke=\"#555555\" stroke-width=\"1.0\" fill=\"#66cc99\" opacity=\"0.6\" /><circle cx=\"66.77532097750233\" cy=\"5.272295886766496\" r=\"3.0\" stroke=\"#555555\" stroke-width=\"1.0\" fill=\"#66cc99\" opacity=\"0.6\" /><circle cx=\"17.947798095422698\" cy=\"3.4521052705109216\" r=\"3.0\" stroke=\"#555555\" stroke-width=\"1.0\" fill=\"#66cc99\" opacity=\"0.6\" /><circle cx=\"9.484132274540382\" cy=\"3.142478394804204\" r=\"3.0\" stroke=\"#555555\" stroke-width=\"1.0\" fill=\"#66cc99\" opacity=\"0.6\" /><circle cx=\"77.21008891643794\" cy=\"1.844166289500396\" r=\"3.0\" stroke=\"#555555\" stroke-width=\"1.0\" fill=\"#66cc99\" opacity=\"0.6\" /><circle cx=\"77.20083612441856\" cy=\"3.3632283546053934\" r=\"3.0\" stroke=\"#555555\" stroke-width=\"1.0\" fill=\"#66cc99\" opacity=\"0.6\" /><circle cx=\"40.70908079559371\" cy=\"2.157234467409423\" r=\"3.0\" stroke=\"#555555\" stroke-width=\"1.0\" fill=\"#66cc99\" opacity=\"0.6\" /><circle cx=\"40.76148743457677\" cy=\"0.6382640005308918\" r=\"3.0\" stroke=\"#555555\" stroke-width=\"1.0\" fill=\"#66cc99\" opacity=\"0.6\" /><circle cx=\"-17.945703434645704\" cy=\"0.12052407409377633\" r=\"3.0\" stroke=\"#555555\" stroke-width=\"1.0\" fill=\"#66cc99\" opacity=\"0.6\" /><circle cx=\"18.010911200390424\" cy=\"1.402830027728472\" r=\"3.0\" stroke=\"#555555\" stroke-width=\"1.0\" fill=\"#66cc99\" opacity=\"0.6\" /><circle cx=\"7.5001107468714965\" cy=\"0.9578478200839822\" r=\"3.0\" stroke=\"#555555\" stroke-width=\"1.0\" fill=\"#66cc99\" opacity=\"0.6\" /><circle cx=\"-7.542165689695842\" cy=\"0.5575514219944296\" r=\"3.0\" stroke=\"#555555\" stroke-width=\"1.0\" fill=\"#66cc99\" opacity=\"0.6\" /></g></g></svg>"
      ],
      "text/plain": [
       "<shapely.geometry.multipoint.MultiPoint at 0x8a79240>"
      ]
     },
     "execution_count": 13,
     "metadata": {},
     "output_type": "execute_result"
    }
   ],
   "source": [
    "mp01"
   ]
  },
  {
   "cell_type": "code",
   "execution_count": 15,
   "metadata": {
    "collapsed": false
   },
   "outputs": [
    {
     "data": {
      "image/png": "[encoded data removed]",
      "text/plain": [
       "<matplotlib.figure.Figure at 0x9c00ac8>"
      ]
     },
     "metadata": {},
     "output_type": "display_data"
    }
   ],
   "source": [
    "plp(mp02,2)"
   ]
  },
  {
   "cell_type": "code",
   "execution_count": 14,
   "metadata": {
    "collapsed": false
   },
   "outputs": [
    {
     "data": {
      "image/svg+xml": [
       "<svg xmlns=\"http://www.w3.org/2000/svg\" xmlns:xlink=\"http://www.w3.org/1999/xlink\" width=\"182.23501979544932\" height=\"100.0\" viewBox=\"-79.74053797346362 -6.406784928492991 182.23501979544932 19.21639453917799\" preserveAspectRatio=\"xMinYMin meet\"><g transform=\"matrix(1,0,0,-1,0,6.402824682192007)\"><g><circle cx=\"-9.982620362718489\" cy=\"2.3344586637952167\" r=\"3.0\" stroke=\"#555555\" stroke-width=\"1.0\" fill=\"#66cc99\" opacity=\"0.6\" /><circle cx=\"-21.778531671096296\" cy=\"2.0893448391244087\" r=\"3.0\" stroke=\"#555555\" stroke-width=\"1.0\" fill=\"#66cc99\" opacity=\"0.6\" /><circle cx=\"-70.22924158481865\" cy=\"0.3426602491162432\" r=\"3.0\" stroke=\"#555555\" stroke-width=\"1.0\" fill=\"#66cc99\" opacity=\"0.6\" /><circle cx=\"95.74503664437648\" cy=\"6.060164433075763\" r=\"3.0\" stroke=\"#555555\" stroke-width=\"1.0\" fill=\"#66cc99\" opacity=\"0.6\" /><circle cx=\"43.76243698011936\" cy=\"4.303286539182335\" r=\"3.0\" stroke=\"#555555\" stroke-width=\"1.0\" fill=\"#66cc99\" opacity=\"0.6\" /><circle cx=\"21.534892114773804\" cy=\"3.50501680382861\" r=\"3.0\" stroke=\"#555555\" stroke-width=\"1.0\" fill=\"#66cc99\" opacity=\"0.6\" /><circle cx=\"-9.815162769011282\" cy=\"2.58070094245151\" r=\"3.0\" stroke=\"#555555\" stroke-width=\"1.0\" fill=\"#66cc99\" opacity=\"0.6\" /><circle cx=\"-24.99473435964963\" cy=\"2.014322472959673\" r=\"3.0\" stroke=\"#555555\" stroke-width=\"1.0\" fill=\"#66cc99\" opacity=\"0.6\" /><circle cx=\"-72.99109279585439\" cy=\"0.3526406616437741\" r=\"3.0\" stroke=\"#555555\" stroke-width=\"1.0\" fill=\"#66cc99\" opacity=\"0.6\" /><circle cx=\"48.04232446294023\" cy=\"4.8526313813704425\" r=\"3.0\" stroke=\"#555555\" stroke-width=\"1.0\" fill=\"#66cc99\" opacity=\"0.6\" /><circle cx=\"39.016903760714094\" cy=\"4.322205982022502\" r=\"3.0\" stroke=\"#555555\" stroke-width=\"1.0\" fill=\"#66cc99\" opacity=\"0.6\" /><circle cx=\"24.071435954053158\" cy=\"4.006517500180925\" r=\"3.0\" stroke=\"#555555\" stroke-width=\"1.0\" fill=\"#66cc99\" opacity=\"0.6\" /><circle cx=\"72.98978683214659\" cy=\"1.7184248114667826\" r=\"3.0\" stroke=\"#555555\" stroke-width=\"1.0\" fill=\"#66cc99\" opacity=\"0.6\" /><circle cx=\"72.95392419647469\" cy=\"3.2334974803401857\" r=\"3.0\" stroke=\"#555555\" stroke-width=\"1.0\" fill=\"#66cc99\" opacity=\"0.6\" /><circle cx=\"39.06016922270543\" cy=\"2.1088730917364216\" r=\"3.0\" stroke=\"#555555\" stroke-width=\"1.0\" fill=\"#66cc99\" opacity=\"0.6\" /><circle cx=\"39.00037540877955\" cy=\"0.5867225401085122\" r=\"3.0\" stroke=\"#555555\" stroke-width=\"1.0\" fill=\"#66cc99\" opacity=\"0.6\" /><circle cx=\"-9.848191367968392\" cy=\"0.3752643149846483\" r=\"3.0\" stroke=\"#555555\" stroke-width=\"1.0\" fill=\"#66cc99\" opacity=\"0.6\" /><circle cx=\"9.810951321741971\" cy=\"1.1408628543193953\" r=\"3.0\" stroke=\"#555555\" stroke-width=\"1.0\" fill=\"#66cc99\" opacity=\"0.6\" /><circle cx=\"-9.971384325972071\" cy=\"0.4814568283470886\" r=\"3.0\" stroke=\"#555555\" stroke-width=\"1.0\" fill=\"#66cc99\" opacity=\"0.6\" /><circle cx=\"9.925695117091172\" cy=\"1.0364379663479164\" r=\"3.0\" stroke=\"#555555\" stroke-width=\"1.0\" fill=\"#66cc99\" opacity=\"0.6\" /></g></g></svg>"
      ],
      "text/plain": [
       "<shapely.geometry.multipoint.MultiPoint at 0x8a79f98>"
      ]
     },
     "execution_count": 14,
     "metadata": {},
     "output_type": "execute_result"
    }
   ],
   "source": [
    "mp02"
   ]
  },
  {
   "cell_type": "code",
   "execution_count": 19,
   "metadata": {
    "collapsed": false
   },
   "outputs": [
    {
     "data": {
      "image/svg+xml": [
       "<svg xmlns=\"http://www.w3.org/2000/svg\" xmlns:xlink=\"http://www.w3.org/1999/xlink\" width=\"137.24488158089991\" height=\"100.0\" viewBox=\"-61.49434926714174 -3.7535346292245224 137.24488158089991 14.094065298049653\" preserveAspectRatio=\"xMinYMin meet\"><g transform=\"matrix(1,0,0,-1,0,6.586996039600607)\"><g><circle cx=\"7.4923133998460365\" cy=\"3.0289899265758096\" r=\"3.0\" stroke=\"#555555\" stroke-width=\"1.0\" fill=\"#66cc99\" opacity=\"0.6\" /><circle cx=\"-32.440171246343944\" cy=\"2.175778345776155\" r=\"3.0\" stroke=\"#555555\" stroke-width=\"1.0\" fill=\"#66cc99\" opacity=\"0.6\" /><circle cx=\"-41.465813224022\" cy=\"1.6448441481281473\" r=\"3.0\" stroke=\"#555555\" stroke-width=\"1.0\" fill=\"#66cc99\" opacity=\"0.6\" /><circle cx=\"55.48770376172236\" cy=\"4.691141249410957\" r=\"3.0\" stroke=\"#555555\" stroke-width=\"1.0\" fill=\"#66cc99\" opacity=\"0.6\" /><circle cx=\"-56.41120550488619\" cy=\"1.32960913303103\" r=\"3.0\" stroke=\"#555555\" stroke-width=\"1.0\" fill=\"#66cc99\" opacity=\"0.6\" /><circle cx=\"70.66738855150264\" cy=\"5.257386906569577\" r=\"3.0\" stroke=\"#555555\" stroke-width=\"1.0\" fill=\"#66cc99\" opacity=\"0.6\" /></g></g></svg>"
      ],
      "text/plain": [
       "<shapely.geometry.multipoint.MultiPoint at 0x8a79908>"
      ]
     },
     "execution_count": 19,
     "metadata": {},
     "output_type": "execute_result"
    }
   ],
   "source": [
    "mp01_c"
   ]
  },
  {
   "cell_type": "code",
   "execution_count": 18,
   "metadata": {
    "collapsed": false
   },
   "outputs": [
    {
     "data": {
      "image/svg+xml": [
       "<svg xmlns=\"http://www.w3.org/2000/svg\" xmlns:xlink=\"http://www.w3.org/1999/xlink\" width=\"130.7160906394982\" height=\"100.0\" viewBox=\"-77.83242948620617 -4.48869602870801 130.7160906394982 14.182664100430237\" preserveAspectRatio=\"xMinYMin meet\"><g transform=\"matrix(1,0,0,-1,0,5.205272043014218)\"><g><circle cx=\"-72.99109279585439\" cy=\"0.3526406616437741\" r=\"3.0\" stroke=\"#555555\" stroke-width=\"1.0\" fill=\"#66cc99\" opacity=\"0.6\" /><circle cx=\"48.04232446294023\" cy=\"4.8526313813704425\" r=\"3.0\" stroke=\"#555555\" stroke-width=\"1.0\" fill=\"#66cc99\" opacity=\"0.6\" /><circle cx=\"39.016903760714094\" cy=\"4.322205982022502\" r=\"3.0\" stroke=\"#555555\" stroke-width=\"1.0\" fill=\"#66cc99\" opacity=\"0.6\" /><circle cx=\"-24.99473435964963\" cy=\"2.014322472959673\" r=\"3.0\" stroke=\"#555555\" stroke-width=\"1.0\" fill=\"#66cc99\" opacity=\"0.6\" /><circle cx=\"24.071435954053158\" cy=\"4.006517500180925\" r=\"3.0\" stroke=\"#555555\" stroke-width=\"1.0\" fill=\"#66cc99\" opacity=\"0.6\" /><circle cx=\"-9.815162769011282\" cy=\"2.58070094245151\" r=\"3.0\" stroke=\"#555555\" stroke-width=\"1.0\" fill=\"#66cc99\" opacity=\"0.6\" /></g></g></svg>"
      ],
      "text/plain": [
       "<shapely.geometry.multipoint.MultiPoint at 0x8a78630>"
      ]
     },
     "execution_count": 18,
     "metadata": {},
     "output_type": "execute_result"
    }
   ],
   "source": [
    "mp02_c"
   ]
  },
  {
   "cell_type": "code",
   "execution_count": 50,
   "metadata": {
    "collapsed": false
   },
   "outputs": [],
   "source": [
    "from shapely import affinity\n",
    "from scipy.optimize import minimize,rosen_der\n",
    "\n",
    "def mov(x,y,angle,geom):\n",
    "    geom_r = affinity.rotate(geom,angle,origin=(0,0))\n",
    "    geom_t = affinity.translate(geom_r,x,y)\n",
    "    return geom_t\n",
    "\n",
    "def calc_dist(geom1,geom2):\n",
    "    dist = 0\n",
    "    geom_list = zip(geom1,geom2)\n",
    "    for item in geom_list:\n",
    "        dist+=item[0].distance(item[1])\n",
    "    return dist\n",
    "\n",
    "def fun1(x0,geom1, geom2):\n",
    "    x,y,angle = x0\n",
    "    n_geom = mov(x,y,angle,geom2)\n",
    "    return calc_dist(geom1,n_geom)"
   ]
  },
  {
   "cell_type": "code",
   "execution_count": 51,
   "metadata": {
    "collapsed": false
   },
   "outputs": [],
   "source": [
    "x0 = (0,0,0)"
   ]
  },
  {
   "cell_type": "code",
   "execution_count": 52,
   "metadata": {
    "collapsed": false
   },
   "outputs": [
    {
     "data": {
      "text/plain": [
       "      fun: 321.0635109640691\n",
       " hess_inv: array([[  1.00000000e+00,  -3.10859103e-05,   2.10373898e-02],\n",
       "       [ -3.10859103e-05,   9.99694324e-01,   1.48267907e-01],\n",
       "       [  2.10373898e-02,   1.48267907e-01,  -5.96837388e+01]])\n",
       "      jac: array([ 0.00372696,  0.01065826, -0.18746948])\n",
       "  message: 'Desired error not necessarily achieved due to precision loss.'\n",
       "     nfev: 92\n",
       "      nit: 1\n",
       "     njev: 16\n",
       "   status: 2\n",
       "  success: False\n",
       "        x: array([  0.        ,  -0.015625  ,  10.57421875])"
      ]
     },
     "execution_count": 52,
     "metadata": {},
     "output_type": "execute_result"
    }
   ],
   "source": [
    "re = minimize(fun1,x0,args=(mp01_c[0:-2],mp02_c[0:-2]),method='BFGS')\n",
    "re"
   ]
  },
  {
   "cell_type": "code",
   "execution_count": 53,
   "metadata": {
    "collapsed": false
   },
   "outputs": [
    {
     "name": "stdout",
     "output_type": "stream",
     "text": [
      "-71.81627239982357 -13.063498449861758\n",
      "37.56115566903934 11.393136038344652\n",
      "-10.122063848712585 0.7200794101683128\n",
      "46.33596901635861 13.57080007950274\n",
      "-24.93992071475617 -2.622269485962028\n",
      "22.927423161932634 8.340180079285538\n"
     ]
    }
   ],
   "source": [
    "zz = mov(*re.x,mp02_c)\n",
    "for i in zz:\n",
    "    print(i.x,i.y)"
   ]
  },
  {
   "cell_type": "code",
   "execution_count": 54,
   "metadata": {
    "collapsed": false
   },
   "outputs": [
    {
     "name": "stdout",
     "output_type": "stream",
     "text": [
      "-10.241489996349594 0.4472888297799238\n",
      "-21.79210279273905 -1.958318870998475\n",
      "-69.09949138988247 -12.566484703012508\n",
      "93.00700154514043 23.511705884976273\n",
      "42.229572235633874 12.24538614397204\n",
      "20.52598476759942 7.381717124732672\n",
      "-10.122063848712585 0.7200794101683128\n",
      "-24.93992071475617 -2.622269485962028\n",
      "-71.81627239982357 -13.063498449861758\n",
      "46.33596901635861 13.57080007950274\n",
      "37.56115566903934 11.393136038344652\n",
      "22.927423161932634 8.340180079285538\n",
      "71.43492937131462 15.06790347811666\n",
      "71.1216462188279 16.550666098016585\n",
      "38.0098529981014 9.225329522459061\n",
      "38.23040299222132 7.718055392747198\n",
      "-9.749813992151541 -1.453965587160803\n",
      "9.434983309901599 2.9062620326955813\n",
      "-9.890402176513456 -1.3721834545538074\n",
      "9.566941439861393 2.8246670099521\n"
     ]
    }
   ],
   "source": [
    "zz = mov(*re.x,mp02)\n",
    "for i in zz:\n",
    "    print(i.x,i.y)"
   ]
  },
  {
   "cell_type": "code",
   "execution_count": 55,
   "metadata": {
    "collapsed": false
   },
   "outputs": [
    {
     "data": {
      "text/plain": [
       "      fun: 321.0635109640691\n",
       " hess_inv: array([[  1.00000000e+00,  -3.10859103e-05,   2.10373898e-02],\n",
       "       [ -3.10859103e-05,   9.99694324e-01,   1.48267907e-01],\n",
       "       [  2.10373898e-02,   1.48267907e-01,  -5.96837388e+01]])\n",
       "      jac: array([ 0.00372696,  0.01065826, -0.18746948])\n",
       "  message: 'Desired error not necessarily achieved due to precision loss.'\n",
       "     nfev: 92\n",
       "      nit: 1\n",
       "     njev: 16\n",
       "   status: 2\n",
       "  success: False\n",
       "        x: array([  0.        ,  -0.015625  ,  10.57421875])"
      ]
     },
     "execution_count": 55,
     "metadata": {},
     "output_type": "execute_result"
    }
   ],
   "source": [
    "re2 = minimize(fun1,x0,args=(mp01_c,zz),method='BFGS')\n",
    "re"
   ]
  },
  {
   "cell_type": "code",
   "execution_count": 56,
   "metadata": {
    "collapsed": false
   },
   "outputs": [
    {
     "data": {
      "image/svg+xml": [
       "<svg xmlns=\"http://www.w3.org/2000/svg\" xmlns:xlink=\"http://www.w3.org/1999/xlink\" width=\"178.00913586056112\" height=\"100.0\" viewBox=\"-78.40920335762213 -19.65642940766032 178.00913586056112 49.76106625043515\" preserveAspectRatio=\"xMinYMin meet\"><g transform=\"matrix(1,0,0,-1,0,10.448207435114515)\"><g><circle cx=\"-10.241489996349594\" cy=\"0.4472888297799238\" r=\"3.0\" stroke=\"#555555\" stroke-width=\"1.0\" fill=\"#66cc99\" opacity=\"0.6\" /><circle cx=\"-21.79210279273905\" cy=\"-1.958318870998475\" r=\"3.0\" stroke=\"#555555\" stroke-width=\"1.0\" fill=\"#66cc99\" opacity=\"0.6\" /><circle cx=\"-69.09949138988247\" cy=\"-12.566484703012508\" r=\"3.0\" stroke=\"#555555\" stroke-width=\"1.0\" fill=\"#66cc99\" opacity=\"0.6\" /><circle cx=\"93.00700154514043\" cy=\"23.511705884976273\" r=\"3.0\" stroke=\"#555555\" stroke-width=\"1.0\" fill=\"#66cc99\" opacity=\"0.6\" /><circle cx=\"42.229572235633874\" cy=\"12.24538614397204\" r=\"3.0\" stroke=\"#555555\" stroke-width=\"1.0\" fill=\"#66cc99\" opacity=\"0.6\" /><circle cx=\"20.52598476759942\" cy=\"7.381717124732672\" r=\"3.0\" stroke=\"#555555\" stroke-width=\"1.0\" fill=\"#66cc99\" opacity=\"0.6\" /><circle cx=\"-10.122063848712585\" cy=\"0.7200794101683128\" r=\"3.0\" stroke=\"#555555\" stroke-width=\"1.0\" fill=\"#66cc99\" opacity=\"0.6\" /><circle cx=\"-24.93992071475617\" cy=\"-2.622269485962028\" r=\"3.0\" stroke=\"#555555\" stroke-width=\"1.0\" fill=\"#66cc99\" opacity=\"0.6\" /><circle cx=\"-71.81627239982357\" cy=\"-13.063498449861758\" r=\"3.0\" stroke=\"#555555\" stroke-width=\"1.0\" fill=\"#66cc99\" opacity=\"0.6\" /><circle cx=\"46.33596901635861\" cy=\"13.57080007950274\" r=\"3.0\" stroke=\"#555555\" stroke-width=\"1.0\" fill=\"#66cc99\" opacity=\"0.6\" /><circle cx=\"37.56115566903934\" cy=\"11.393136038344652\" r=\"3.0\" stroke=\"#555555\" stroke-width=\"1.0\" fill=\"#66cc99\" opacity=\"0.6\" /><circle cx=\"22.927423161932634\" cy=\"8.340180079285538\" r=\"3.0\" stroke=\"#555555\" stroke-width=\"1.0\" fill=\"#66cc99\" opacity=\"0.6\" /><circle cx=\"71.43492937131462\" cy=\"15.06790347811666\" r=\"3.0\" stroke=\"#555555\" stroke-width=\"1.0\" fill=\"#66cc99\" opacity=\"0.6\" /><circle cx=\"71.1216462188279\" cy=\"16.550666098016585\" r=\"3.0\" stroke=\"#555555\" stroke-width=\"1.0\" fill=\"#66cc99\" opacity=\"0.6\" /><circle cx=\"38.0098529981014\" cy=\"9.225329522459061\" r=\"3.0\" stroke=\"#555555\" stroke-width=\"1.0\" fill=\"#66cc99\" opacity=\"0.6\" /><circle cx=\"38.23040299222132\" cy=\"7.718055392747198\" r=\"3.0\" stroke=\"#555555\" stroke-width=\"1.0\" fill=\"#66cc99\" opacity=\"0.6\" /><circle cx=\"-9.749813992151541\" cy=\"-1.453965587160803\" r=\"3.0\" stroke=\"#555555\" stroke-width=\"1.0\" fill=\"#66cc99\" opacity=\"0.6\" /><circle cx=\"9.434983309901599\" cy=\"2.9062620326955813\" r=\"3.0\" stroke=\"#555555\" stroke-width=\"1.0\" fill=\"#66cc99\" opacity=\"0.6\" /><circle cx=\"-9.890402176513456\" cy=\"-1.3721834545538074\" r=\"3.0\" stroke=\"#555555\" stroke-width=\"1.0\" fill=\"#66cc99\" opacity=\"0.6\" /><circle cx=\"9.566941439861393\" cy=\"2.8246670099521\" r=\"3.0\" stroke=\"#555555\" stroke-width=\"1.0\" fill=\"#66cc99\" opacity=\"0.6\" /></g></g></svg>"
      ],
      "text/plain": [
       "<shapely.geometry.multipoint.MultiPoint at 0xb289940>"
      ]
     },
     "execution_count": 56,
     "metadata": {},
     "output_type": "execute_result"
    }
   ],
   "source": [
    "mp_moved = mov(*re.x,mp02)\n",
    "mp_moved"
   ]
  },
  {
   "cell_type": "code",
   "execution_count": 74,
   "metadata": {
    "collapsed": false
   },
   "outputs": [
    {
     "data": {
      "image/png": "[encoded data removed]",
      "text/plain": [
       "<matplotlib.figure.Figure at 0x9c67080>"
      ]
     },
     "metadata": {},
     "output_type": "display_data"
    }
   ],
   "source": [
    "plp(mp_moved,10)"
   ]
  },
  {
   "cell_type": "code",
   "execution_count": 72,
   "metadata": {
    "collapsed": false
   },
   "outputs": [
    {
     "data": {
      "image/png": "[encoded data removed]",
      "text/plain": [
       "<matplotlib.figure.Figure at 0x9c4a748>"
      ]
     },
     "metadata": {},
     "output_type": "display_data"
    }
   ],
   "source": [
    "plp(mov(*re.x,mp02_c),6)"
   ]
  },
  {
   "cell_type": "code",
   "execution_count": 73,
   "metadata": {
    "collapsed": false
   },
   "outputs": [
    {
     "name": "stdout",
     "output_type": "stream",
     "text": [
      "-72.99109279585439 0.3526406616437741\n",
      "39.016903760714094 4.322205982022502\n",
      "-9.815162769011282 2.58070094245151\n",
      "48.04232446294023 4.8526313813704425\n",
      "-24.99473435964963 2.014322472959673\n",
      "24.071435954053158 4.006517500180925\n"
     ]
    }
   ],
   "source": [
    "for i in mp02_c:\n",
    "    print(i.x,i.y)"
   ]
  },
  {
   "cell_type": "markdown",
   "metadata": {},
   "source": [
    "Считаем расстояния от стоянки 99002 до всех точек.  \n",
    "До сдвижки, после сдвижки, значение сдвижки."
   ]
  },
  {
   "cell_type": "code",
   "execution_count": 75,
   "metadata": {
    "collapsed": false
   },
   "outputs": [
    {
     "data": {
      "text/html": [
       "<div>\n",
       "<table border=\"1\" class=\"dataframe\">\n",
       "  <thead>\n",
       "    <tr style=\"text-align: right;\">\n",
       "      <th></th>\n",
       "      <th>Before</th>\n",
       "      <th>After</th>\n",
       "      <th>Diff</th>\n",
       "    </tr>\n",
       "  </thead>\n",
       "  <tbody>\n",
       "    <tr>\n",
       "      <th>0</th>\n",
       "      <td>19.950586</td>\n",
       "      <td>19.950586</td>\n",
       "      <td>0.000000e+00</td>\n",
       "    </tr>\n",
       "    <tr>\n",
       "      <th>1</th>\n",
       "      <td>31.721706</td>\n",
       "      <td>31.721706</td>\n",
       "      <td>3.552714e-15</td>\n",
       "    </tr>\n",
       "    <tr>\n",
       "      <th>2</th>\n",
       "      <td>80.157939</td>\n",
       "      <td>80.157939</td>\n",
       "      <td>0.000000e+00</td>\n",
       "    </tr>\n",
       "    <tr>\n",
       "      <th>3</th>\n",
       "      <td>85.966256</td>\n",
       "      <td>85.966256</td>\n",
       "      <td>0.000000e+00</td>\n",
       "    </tr>\n",
       "    <tr>\n",
       "      <th>4</th>\n",
       "      <td>33.994079</td>\n",
       "      <td>33.994079</td>\n",
       "      <td>7.105427e-15</td>\n",
       "    </tr>\n",
       "    <tr>\n",
       "      <th>5</th>\n",
       "      <td>11.868755</td>\n",
       "      <td>11.868755</td>\n",
       "      <td>-3.552714e-15</td>\n",
       "    </tr>\n",
       "    <tr>\n",
       "      <th>6</th>\n",
       "      <td>19.801167</td>\n",
       "      <td>19.801167</td>\n",
       "      <td>-3.552714e-15</td>\n",
       "    </tr>\n",
       "    <tr>\n",
       "      <th>7</th>\n",
       "      <td>34.934119</td>\n",
       "      <td>34.934119</td>\n",
       "      <td>0.000000e+00</td>\n",
       "    </tr>\n",
       "    <tr>\n",
       "      <th>8</th>\n",
       "      <td>82.919607</td>\n",
       "      <td>82.919607</td>\n",
       "      <td>0.000000e+00</td>\n",
       "    </tr>\n",
       "    <tr>\n",
       "      <th>9</th>\n",
       "      <td>38.307189</td>\n",
       "      <td>38.307189</td>\n",
       "      <td>7.105427e-15</td>\n",
       "    </tr>\n",
       "    <tr>\n",
       "      <th>10</th>\n",
       "      <td>29.276180</td>\n",
       "      <td>29.276180</td>\n",
       "      <td>-3.552714e-15</td>\n",
       "    </tr>\n",
       "    <tr>\n",
       "      <th>11</th>\n",
       "      <td>14.454181</td>\n",
       "      <td>14.454181</td>\n",
       "      <td>0.000000e+00</td>\n",
       "    </tr>\n",
       "    <tr>\n",
       "      <th>12</th>\n",
       "      <td>63.067779</td>\n",
       "      <td>63.067779</td>\n",
       "      <td>0.000000e+00</td>\n",
       "    </tr>\n",
       "    <tr>\n",
       "      <th>13</th>\n",
       "      <td>63.066510</td>\n",
       "      <td>63.066510</td>\n",
       "      <td>0.000000e+00</td>\n",
       "    </tr>\n",
       "    <tr>\n",
       "      <th>14</th>\n",
       "      <td>29.154206</td>\n",
       "      <td>29.154206</td>\n",
       "      <td>0.000000e+00</td>\n",
       "    </tr>\n",
       "    <tr>\n",
       "      <th>15</th>\n",
       "      <td>29.078158</td>\n",
       "      <td>29.078158</td>\n",
       "      <td>7.105427e-15</td>\n",
       "    </tr>\n",
       "    <tr>\n",
       "      <th>16</th>\n",
       "      <td>19.784937</td>\n",
       "      <td>19.784937</td>\n",
       "      <td>0.000000e+00</td>\n",
       "    </tr>\n",
       "    <tr>\n",
       "      <th>17</th>\n",
       "      <td>0.155147</td>\n",
       "      <td>0.155147</td>\n",
       "      <td>-8.326673e-16</td>\n",
       "    </tr>\n",
       "    <tr>\n",
       "      <th>18</th>\n",
       "      <td>19.904818</td>\n",
       "      <td>19.904818</td>\n",
       "      <td>-3.552714e-15</td>\n",
       "    </tr>\n",
       "    <tr>\n",
       "      <th>19</th>\n",
       "      <td>0.000000</td>\n",
       "      <td>0.000000</td>\n",
       "      <td>0.000000e+00</td>\n",
       "    </tr>\n",
       "  </tbody>\n",
       "</table>\n",
       "</div>"
      ],
      "text/plain": [
       "       Before      After          Diff\n",
       "0   19.950586  19.950586  0.000000e+00\n",
       "1   31.721706  31.721706  3.552714e-15\n",
       "2   80.157939  80.157939  0.000000e+00\n",
       "3   85.966256  85.966256  0.000000e+00\n",
       "4   33.994079  33.994079  7.105427e-15\n",
       "5   11.868755  11.868755 -3.552714e-15\n",
       "6   19.801167  19.801167 -3.552714e-15\n",
       "7   34.934119  34.934119  0.000000e+00\n",
       "8   82.919607  82.919607  0.000000e+00\n",
       "9   38.307189  38.307189  7.105427e-15\n",
       "10  29.276180  29.276180 -3.552714e-15\n",
       "11  14.454181  14.454181  0.000000e+00\n",
       "12  63.067779  63.067779  0.000000e+00\n",
       "13  63.066510  63.066510  0.000000e+00\n",
       "14  29.154206  29.154206  0.000000e+00\n",
       "15  29.078158  29.078158  7.105427e-15\n",
       "16  19.784937  19.784937  0.000000e+00\n",
       "17   0.155147   0.155147 -8.326673e-16\n",
       "18  19.904818  19.904818 -3.552714e-15\n",
       "19   0.000000   0.000000  0.000000e+00"
      ]
     },
     "execution_count": 75,
     "metadata": {},
     "output_type": "execute_result"
    }
   ],
   "source": [
    "dist_do = [mp02[-1].distance(i) for i in mp02]\n",
    "dist_po = [mp_moved[-1].distance(i) for i in mp_moved]\n",
    "od = zip(dist_do,dist_po)\n",
    "od = [[i[0],i[1],i[0]-i[1]] for i in od]\n",
    "df_od = pd.DataFrame.from_records(od,columns=('Before','After','Diff'))\n",
    "df_od"
   ]
  },
  {
   "cell_type": "markdown",
   "metadata": {},
   "source": [
    "Расстояние между всеми точками:"
   ]
  },
  {
   "cell_type": "code",
   "execution_count": 115,
   "metadata": {
    "collapsed": false
   },
   "outputs": [
    {
     "data": {
      "text/plain": [
       "[[(0.0, 0.0),\n",
       "  (25.448999927896534, 25.44899992789563),\n",
       "  (25.653840135347185, 25.65384013534917),\n",
       "  (50.54347325026157, 50.54347325026195),\n",
       "  (75.83284635143167, 75.83284635143289),\n",
       "  (100.59726951866018, 100.59726951866027),\n",
       "  (125.70694269629573, 125.70694269629684),\n",
       "  (150.74302307917762, 150.74302307917912),\n",
       "  (49.995183487412575, 49.99518348741111),\n",
       "  (100.22227020483042, 100.22227020482927),\n",
       "  (126.25779385828079, 126.25779385827937),\n",
       "  (75.17798215974038, 75.17798215973897)],\n",
       " [(25.448999927896534, 25.44899992789563),\n",
       "  (0.0, 0.0),\n",
       "  (49.89394579906532, 49.89394579906614),\n",
       "  (75.5944253135779, 75.59442531357728),\n",
       "  (100.48225573766805, 100.4822557376682),\n",
       "  (125.56805138887978, 125.56805138887886),\n",
       "  (150.43777333369513, 150.4377733336952),\n",
       "  (175.67919446923693, 175.6791944692374),\n",
       "  (25.737078402373907, 25.73707840237333),\n",
       "  (75.57195612050664, 75.57195612050648),\n",
       "  (101.28748745985247, 101.28748745985204),\n",
       "  (50.12486930935582, 50.124869309355354)],\n",
       " [(25.653840135347185, 25.65384013534917),\n",
       "  (49.89394579906532, 49.89394579906614),\n",
       "  (0.0, 0.0),\n",
       "  (26.10300370551253, 26.103003705511302),\n",
       "  (50.58838251229221, 50.58838251229156),\n",
       "  (75.75900637284063, 75.75900637283895),\n",
       "  (100.5439172471414, 100.54391724714064),\n",
       "  (125.82263836257687, 125.82263836257657),\n",
       "  (75.24475888811082, 75.24475888811118),\n",
       "  (125.38958209516375, 125.38958209516444),\n",
       "  (151.18138765406894, 151.18138765406934),\n",
       "  (100.01875938542798, 100.01875938542834)],\n",
       " [(50.54347325026157, 50.54347325026195),\n",
       "  (75.5944253135779, 75.59442531357728),\n",
       "  (26.10300370551253, 26.103003705511302),\n",
       "  (0.0, 0.0),\n",
       "  (25.691314128319608, 25.691314128320528),\n",
       "  (50.053798542868556, 50.053798542868265),\n",
       "  (75.24497592803128, 75.24497592803202),\n",
       "  (100.19955320284535, 100.19955320284647),\n",
       "  (100.53865510270127, 100.53865510270016),\n",
       "  (150.765740846685, 150.76574084668422),\n",
       "  (176.76747078532253, 176.76747078532148),\n",
       "  (125.64061570228866, 125.64061570228758)],\n",
       " [(75.83284635143167, 75.83284635143289),\n",
       "  (100.48225573766805, 100.4822557376682),\n",
       "  (50.58838251229221, 50.58838251229156),\n",
       "  (25.691314128319608, 25.691314128320528),\n",
       "  (0.0, 0.0),\n",
       "  (25.570002291162158, 25.57000229116122),\n",
       "  (49.955535095622935, 49.95553509562284),\n",
       "  (75.31368975591286, 75.31368975591319),\n",
       "  (125.74825446303369, 125.74825446303338),\n",
       "  (175.94092369534073, 175.94092369534076),\n",
       "  (201.76973827856295, 201.76973827856267),\n",
       "  (150.60711147409404, 150.60711147409373)],\n",
       " [(100.59726951866018, 100.59726951866027),\n",
       "  (125.56805138887978, 125.56805138887886),\n",
       "  (75.75900637284063, 75.75900637283895),\n",
       "  (50.053798542868556, 50.053798542868265),\n",
       "  (25.570002291162158, 25.57000229116122),\n",
       "  (0.0, 0.0),\n",
       "  (25.586343435511946, 25.586343435513033),\n",
       "  (50.14575468611323, 50.14575468611465),\n",
       "  (150.59245263495143, 150.59245263495004),\n",
       "  (200.8195388881271, 200.81953888812603),\n",
       "  (226.80212471440854, 226.8021247144072),\n",
       "  (175.65950485937418, 175.6595048593728)],\n",
       " [(125.70694269629573, 125.70694269629684),\n",
       "  (150.43777333369513, 150.4377733336952),\n",
       "  (100.5439172471414, 100.54391724714064),\n",
       "  (75.24497592803128, 75.24497592803202),\n",
       "  (49.955535095622935, 49.95553509562284),\n",
       "  (25.586343435511946, 25.586343435513033),\n",
       "  (0.0, 0.0),\n",
       "  (25.746334762058037, 25.746334762058456),\n",
       "  (175.66817911383345, 175.66817911383305),\n",
       "  (225.87636996666936, 225.87636996666927),\n",
       "  (251.72526048152142, 251.72526048152108),\n",
       "  (200.5626367295771, 200.5626367295767)],\n",
       " [(150.74302307917762, 150.74302307917912),\n",
       "  (175.67919446923693, 175.6791944692374),\n",
       "  (125.82263836257687, 125.82263836257657),\n",
       "  (100.19955320284535, 100.19955320284647),\n",
       "  (75.31368975591286, 75.31368975591319),\n",
       "  (50.14575468611323, 50.14575468611465),\n",
       "  (25.746334762058037, 25.746334762058456),\n",
       "  (0.0, 0.0),\n",
       "  (200.7382064925596, 200.73820649255964),\n",
       "  (250.96529300578442, 250.9652930057848),\n",
       "  (276.93559206943644, 276.9355920694365),\n",
       "  (225.78574542534778, 225.7857454253478)],\n",
       " [(49.995183487412575, 49.99518348741111),\n",
       "  (25.737078402373907, 25.73707840237333),\n",
       "  (75.24475888811082, 75.24475888811118),\n",
       "  (100.53865510270127, 100.53865510270016),\n",
       "  (125.74825446303369, 125.74825446303338),\n",
       "  (150.59245263495143, 150.59245263495004),\n",
       "  (175.66817911383345, 175.66817911383305),\n",
       "  (200.7382064925596, 200.73820649255964),\n",
       "  (0.0, 0.0),\n",
       "  (50.22708677287554, 50.22708677287585),\n",
       "  (76.34136008023435, 76.34136008023432),\n",
       "  (25.582642328150044, 25.582642328150015)],\n",
       " [(100.22227020483042, 100.22227020482927),\n",
       "  (75.57195612050664, 75.57195612050648),\n",
       "  (125.38958209516375, 125.38958209516444),\n",
       "  (150.765740846685, 150.76574084668422),\n",
       "  (175.94092369534073, 175.94092369534076),\n",
       "  (200.8195388881271, 200.81953888812603),\n",
       "  (225.87636996666936, 225.87636996666927),\n",
       "  (250.96529300578442, 250.9652930057848),\n",
       "  (50.22708677287554, 50.22708677287585),\n",
       "  (0.0, 0.0),\n",
       "  (26.494831521827333, 26.494831521826974),\n",
       "  (25.84461075349993, 25.844610753500316)],\n",
       " [(126.25779385828079, 126.25779385827937),\n",
       "  (101.28748745985247, 101.28748745985204),\n",
       "  (151.18138765406894, 151.18138765406934),\n",
       "  (176.76747078532253, 176.76747078532148),\n",
       "  (201.76973827856295, 201.76973827856267),\n",
       "  (226.80212471440854, 226.8021247144072),\n",
       "  (251.72526048152142, 251.72526048152108),\n",
       "  (276.93559206943644, 276.9355920694365),\n",
       "  (76.34136008023435, 76.34136008023432),\n",
       "  (26.494831521827333, 26.494831521826974),\n",
       "  (0.0, 0.0),\n",
       "  (51.1626286186498, 51.16262861864984)],\n",
       " [(75.17798215974038, 75.17798215973897),\n",
       "  (50.12486930935582, 50.124869309355354),\n",
       "  (100.01875938542798, 100.01875938542834),\n",
       "  (125.64061570228866, 125.64061570228758),\n",
       "  (150.60711147409404, 150.60711147409373),\n",
       "  (175.65950485937418, 175.6595048593728),\n",
       "  (200.5626367295771, 200.5626367295767),\n",
       "  (225.78574542534778, 225.7857454253478),\n",
       "  (25.582642328150044, 25.582642328150015),\n",
       "  (25.84461075349993, 25.844610753500316),\n",
       "  (51.1626286186498, 51.16262861864984),\n",
       "  (0.0, 0.0)]]"
      ]
     },
     "execution_count": 115,
     "metadata": {},
     "output_type": "execute_result"
    }
   ],
   "source": [
    "all_l = []\n",
    "for origin in mp02:\n",
    "    nap = []\n",
    "    for p in mp02:\n",
    "        nap.append(origin.distance(p))\n",
    "    all_l.append(nap)\n",
    "\n",
    "all_2 = []\n",
    "for origin in mp_moved:\n",
    "    nap = []\n",
    "    for p in mp_moved:\n",
    "        nap.append(origin.distance(p))\n",
    "    all_2.append(nap)\n",
    "\n",
    "all_a = [list(zip(i[0],i[1])) for i in list(zip(all_l,all_2))]\n",
    "all_a"
   ]
  },
  {
   "cell_type": "markdown",
   "metadata": {},
   "source": [
    "Таблица с координатам сдвинутого 99002:"
   ]
  },
  {
   "cell_type": "code",
   "execution_count": 76,
   "metadata": {
    "collapsed": false
   },
   "outputs": [
    {
     "data": {
      "text/html": [
       "<div>\n",
       "<table border=\"1\" class=\"dataframe\">\n",
       "  <thead>\n",
       "    <tr style=\"text-align: right;\">\n",
       "      <th></th>\n",
       "      <th>Num</th>\n",
       "      <th>X</th>\n",
       "      <th>Y</th>\n",
       "      <th>Dist</th>\n",
       "    </tr>\n",
       "  </thead>\n",
       "  <tbody>\n",
       "    <tr>\n",
       "      <th>0</th>\n",
       "      <td>000009</td>\n",
       "      <td>-10.241490</td>\n",
       "      <td>0.447289</td>\n",
       "      <td>19.950586</td>\n",
       "    </tr>\n",
       "    <tr>\n",
       "      <th>1</th>\n",
       "      <td>00009a</td>\n",
       "      <td>-21.792103</td>\n",
       "      <td>-1.958319</td>\n",
       "      <td>31.721706</td>\n",
       "    </tr>\n",
       "    <tr>\n",
       "      <th>2</th>\n",
       "      <td>000012</td>\n",
       "      <td>-69.099491</td>\n",
       "      <td>-12.566485</td>\n",
       "      <td>80.157939</td>\n",
       "    </tr>\n",
       "    <tr>\n",
       "      <th>3</th>\n",
       "      <td>000013</td>\n",
       "      <td>93.007002</td>\n",
       "      <td>23.511706</td>\n",
       "      <td>85.966256</td>\n",
       "    </tr>\n",
       "    <tr>\n",
       "      <th>4</th>\n",
       "      <td>000011</td>\n",
       "      <td>42.229572</td>\n",
       "      <td>12.245386</td>\n",
       "      <td>33.994079</td>\n",
       "    </tr>\n",
       "    <tr>\n",
       "      <th>5</th>\n",
       "      <td>00009b</td>\n",
       "      <td>20.525985</td>\n",
       "      <td>7.381717</td>\n",
       "      <td>11.868755</td>\n",
       "    </tr>\n",
       "    <tr>\n",
       "      <th>6</th>\n",
       "      <td>000008</td>\n",
       "      <td>-10.122064</td>\n",
       "      <td>0.720079</td>\n",
       "      <td>19.801167</td>\n",
       "    </tr>\n",
       "    <tr>\n",
       "      <th>7</th>\n",
       "      <td>00007a</td>\n",
       "      <td>-24.939921</td>\n",
       "      <td>-2.622269</td>\n",
       "      <td>34.934119</td>\n",
       "    </tr>\n",
       "    <tr>\n",
       "      <th>8</th>\n",
       "      <td>000006</td>\n",
       "      <td>-71.816272</td>\n",
       "      <td>-13.063498</td>\n",
       "      <td>82.919607</td>\n",
       "    </tr>\n",
       "    <tr>\n",
       "      <th>9</th>\n",
       "      <td>00006a</td>\n",
       "      <td>46.335969</td>\n",
       "      <td>13.570800</td>\n",
       "      <td>38.307189</td>\n",
       "    </tr>\n",
       "    <tr>\n",
       "      <th>10</th>\n",
       "      <td>000007</td>\n",
       "      <td>37.561156</td>\n",
       "      <td>11.393136</td>\n",
       "      <td>29.276180</td>\n",
       "    </tr>\n",
       "    <tr>\n",
       "      <th>11</th>\n",
       "      <td>00007b</td>\n",
       "      <td>22.927423</td>\n",
       "      <td>8.340180</td>\n",
       "      <td>14.454181</td>\n",
       "    </tr>\n",
       "    <tr>\n",
       "      <th>12</th>\n",
       "      <td>001011</td>\n",
       "      <td>71.434929</td>\n",
       "      <td>15.067903</td>\n",
       "      <td>63.067779</td>\n",
       "    </tr>\n",
       "    <tr>\n",
       "      <th>13</th>\n",
       "      <td>001012</td>\n",
       "      <td>71.121646</td>\n",
       "      <td>16.550666</td>\n",
       "      <td>63.066510</td>\n",
       "    </tr>\n",
       "    <tr>\n",
       "      <th>14</th>\n",
       "      <td>001013</td>\n",
       "      <td>38.009853</td>\n",
       "      <td>9.225330</td>\n",
       "      <td>29.154206</td>\n",
       "    </tr>\n",
       "    <tr>\n",
       "      <th>15</th>\n",
       "      <td>001014</td>\n",
       "      <td>38.230403</td>\n",
       "      <td>7.718055</td>\n",
       "      <td>29.078158</td>\n",
       "    </tr>\n",
       "    <tr>\n",
       "      <th>16</th>\n",
       "      <td>001015</td>\n",
       "      <td>-9.749814</td>\n",
       "      <td>-1.453966</td>\n",
       "      <td>19.784937</td>\n",
       "    </tr>\n",
       "    <tr>\n",
       "      <th>17</th>\n",
       "      <td>001016</td>\n",
       "      <td>9.434983</td>\n",
       "      <td>2.906262</td>\n",
       "      <td>0.155147</td>\n",
       "    </tr>\n",
       "    <tr>\n",
       "      <th>18</th>\n",
       "      <td>001017</td>\n",
       "      <td>-9.890402</td>\n",
       "      <td>-1.372183</td>\n",
       "      <td>19.904818</td>\n",
       "    </tr>\n",
       "    <tr>\n",
       "      <th>19</th>\n",
       "      <td>001018</td>\n",
       "      <td>9.566941</td>\n",
       "      <td>2.824667</td>\n",
       "      <td>0.000000</td>\n",
       "    </tr>\n",
       "  </tbody>\n",
       "</table>\n",
       "</div>"
      ],
      "text/plain": [
       "       Num          X          Y       Dist\n",
       "0   000009 -10.241490   0.447289  19.950586\n",
       "1   00009a -21.792103  -1.958319  31.721706\n",
       "2   000012 -69.099491 -12.566485  80.157939\n",
       "3   000013  93.007002  23.511706  85.966256\n",
       "4   000011  42.229572  12.245386  33.994079\n",
       "5   00009b  20.525985   7.381717  11.868755\n",
       "6   000008 -10.122064   0.720079  19.801167\n",
       "7   00007a -24.939921  -2.622269  34.934119\n",
       "8   000006 -71.816272 -13.063498  82.919607\n",
       "9   00006a  46.335969  13.570800  38.307189\n",
       "10  000007  37.561156  11.393136  29.276180\n",
       "11  00007b  22.927423   8.340180  14.454181\n",
       "12  001011  71.434929  15.067903  63.067779\n",
       "13  001012  71.121646  16.550666  63.066510\n",
       "14  001013  38.009853   9.225330  29.154206\n",
       "15  001014  38.230403   7.718055  29.078158\n",
       "16  001015  -9.749814  -1.453966  19.784937\n",
       "17  001016   9.434983   2.906262   0.155147\n",
       "18  001017  -9.890402  -1.372183  19.904818\n",
       "19  001018   9.566941   2.824667   0.000000"
      ]
     },
     "execution_count": 76,
     "metadata": {},
     "output_type": "execute_result"
    }
   ],
   "source": [
    "df2_nums = list(zip(*df02['Num'].iteritems()))[1]\n",
    "al = list(zip(df2_nums,mp_moved))\n",
    "mov_stag = [[i[0],i[1].x,i[1].y,al[-1][1].distance(i[1])] for i in al]\n",
    "mov_df = pd.DataFrame.from_records(mov_stag,columns=('Num','X','Y','Dist'))\n",
    "mov_df\n",
    "\n"
   ]
  },
  {
   "cell_type": "markdown",
   "metadata": {},
   "source": [
    "Координаты 99001:"
   ]
  },
  {
   "cell_type": "code",
   "execution_count": 118,
   "metadata": {
    "collapsed": false
   },
   "outputs": [
    {
     "data": {
      "text/html": [
       "<div>\n",
       "<table border=\"1\" class=\"dataframe\">\n",
       "  <thead>\n",
       "    <tr style=\"text-align: right;\">\n",
       "      <th></th>\n",
       "      <th>Num</th>\n",
       "      <th>X</th>\n",
       "      <th>Y</th>\n",
       "      <th>Dist</th>\n",
       "    </tr>\n",
       "  </thead>\n",
       "  <tbody>\n",
       "    <tr>\n",
       "      <th>0</th>\n",
       "      <td>597</td>\n",
       "      <td>-14227.1757</td>\n",
       "      <td>-336.1428</td>\n",
       "      <td>NaN</td>\n",
       "    </tr>\n",
       "    <tr>\n",
       "      <th>1</th>\n",
       "      <td>596</td>\n",
       "      <td>-14205.7968</td>\n",
       "      <td>-321.8240</td>\n",
       "      <td>NaN</td>\n",
       "    </tr>\n",
       "    <tr>\n",
       "      <th>2</th>\n",
       "      <td>598</td>\n",
       "      <td>-14252.2691</td>\n",
       "      <td>-340.0457</td>\n",
       "      <td>NaN</td>\n",
       "    </tr>\n",
       "    <tr>\n",
       "      <th>3</th>\n",
       "      <td>599</td>\n",
       "      <td>-14274.3920</td>\n",
       "      <td>-354.6250</td>\n",
       "      <td>NaN</td>\n",
       "    </tr>\n",
       "    <tr>\n",
       "      <th>4</th>\n",
       "      <td>600</td>\n",
       "      <td>-14299.9163</td>\n",
       "      <td>-358.6838</td>\n",
       "      <td>NaN</td>\n",
       "    </tr>\n",
       "    <tr>\n",
       "      <th>5</th>\n",
       "      <td>601</td>\n",
       "      <td>-14321.1641</td>\n",
       "      <td>-372.9319</td>\n",
       "      <td>NaN</td>\n",
       "    </tr>\n",
       "    <tr>\n",
       "      <th>6</th>\n",
       "      <td>602</td>\n",
       "      <td>-14346.5794</td>\n",
       "      <td>-376.9875</td>\n",
       "      <td>NaN</td>\n",
       "    </tr>\n",
       "    <tr>\n",
       "      <th>7</th>\n",
       "      <td>603</td>\n",
       "      <td>-14367.7186</td>\n",
       "      <td>-391.1576</td>\n",
       "      <td>NaN</td>\n",
       "    </tr>\n",
       "    <tr>\n",
       "      <th>8</th>\n",
       "      <td>595</td>\n",
       "      <td>-14180.5512</td>\n",
       "      <td>-317.8627</td>\n",
       "      <td>NaN</td>\n",
       "    </tr>\n",
       "    <tr>\n",
       "      <th>9</th>\n",
       "      <td>593</td>\n",
       "      <td>-14133.8874</td>\n",
       "      <td>-299.5836</td>\n",
       "      <td>NaN</td>\n",
       "    </tr>\n",
       "    <tr>\n",
       "      <th>10</th>\n",
       "      <td>594</td>\n",
       "      <td>-14159.2446</td>\n",
       "      <td>-303.6052</td>\n",
       "      <td>NaN</td>\n",
       "    </tr>\n",
       "    <tr>\n",
       "      <th>11</th>\n",
       "      <td>597a</td>\n",
       "      <td>-14229.0198</td>\n",
       "      <td>-330.9174</td>\n",
       "      <td>NaN</td>\n",
       "    </tr>\n",
       "  </tbody>\n",
       "</table>\n",
       "</div>"
      ],
      "text/plain": [
       "     Num           X         Y  Dist\n",
       "0    597 -14227.1757 -336.1428   NaN\n",
       "1    596 -14205.7968 -321.8240   NaN\n",
       "2    598 -14252.2691 -340.0457   NaN\n",
       "3    599 -14274.3920 -354.6250   NaN\n",
       "4    600 -14299.9163 -358.6838   NaN\n",
       "5    601 -14321.1641 -372.9319   NaN\n",
       "6    602 -14346.5794 -376.9875   NaN\n",
       "7    603 -14367.7186 -391.1576   NaN\n",
       "8    595 -14180.5512 -317.8627   NaN\n",
       "9    593 -14133.8874 -299.5836   NaN\n",
       "10   594 -14159.2446 -303.6052   NaN\n",
       "11  597a -14229.0198 -330.9174   NaN"
      ]
     },
     "execution_count": 118,
     "metadata": {},
     "output_type": "execute_result"
    }
   ],
   "source": [
    "df01"
   ]
  },
  {
   "cell_type": "markdown",
   "metadata": {},
   "source": [
    "Оригинальные координаты 990002:"
   ]
  },
  {
   "cell_type": "code",
   "execution_count": 119,
   "metadata": {
    "collapsed": false,
    "scrolled": true
   },
   "outputs": [
    {
     "data": {
      "text/html": [
       "<div>\n",
       "<table border=\"1\" class=\"dataframe\">\n",
       "  <thead>\n",
       "    <tr style=\"text-align: right;\">\n",
       "      <th></th>\n",
       "      <th>Num</th>\n",
       "      <th>X</th>\n",
       "      <th>Y</th>\n",
       "      <th>Dist</th>\n",
       "    </tr>\n",
       "  </thead>\n",
       "  <tbody>\n",
       "    <tr>\n",
       "      <th>0</th>\n",
       "      <td>603</td>\n",
       "      <td>-14378.0490</td>\n",
       "      <td>-342.1180</td>\n",
       "      <td>NaN</td>\n",
       "    </tr>\n",
       "    <tr>\n",
       "      <th>1</th>\n",
       "      <td>602</td>\n",
       "      <td>-14354.7712</td>\n",
       "      <td>-331.8323</td>\n",
       "      <td>NaN</td>\n",
       "    </tr>\n",
       "    <tr>\n",
       "      <th>2</th>\n",
       "      <td>604</td>\n",
       "      <td>-14403.6978</td>\n",
       "      <td>-341.6095</td>\n",
       "      <td>NaN</td>\n",
       "    </tr>\n",
       "    <tr>\n",
       "      <th>3</th>\n",
       "      <td>605</td>\n",
       "      <td>-14427.5944</td>\n",
       "      <td>-352.1128</td>\n",
       "      <td>NaN</td>\n",
       "    </tr>\n",
       "    <tr>\n",
       "      <th>4</th>\n",
       "      <td>606</td>\n",
       "      <td>-14453.2814</td>\n",
       "      <td>-351.6420</td>\n",
       "      <td>NaN</td>\n",
       "    </tr>\n",
       "    <tr>\n",
       "      <th>5</th>\n",
       "      <td>607</td>\n",
       "      <td>-14476.6640</td>\n",
       "      <td>-361.9899</td>\n",
       "      <td>NaN</td>\n",
       "    </tr>\n",
       "    <tr>\n",
       "      <th>6</th>\n",
       "      <td>608</td>\n",
       "      <td>-14502.2464</td>\n",
       "      <td>-361.5407</td>\n",
       "      <td>NaN</td>\n",
       "    </tr>\n",
       "    <tr>\n",
       "      <th>7</th>\n",
       "      <td>609</td>\n",
       "      <td>-14525.8242</td>\n",
       "      <td>-371.8829</td>\n",
       "      <td>NaN</td>\n",
       "    </tr>\n",
       "    <tr>\n",
       "      <th>8</th>\n",
       "      <td>601</td>\n",
       "      <td>-14329.0375</td>\n",
       "      <td>-332.2493</td>\n",
       "      <td>NaN</td>\n",
       "    </tr>\n",
       "    <tr>\n",
       "      <th>9</th>\n",
       "      <td>599</td>\n",
       "      <td>-14279.7980</td>\n",
       "      <td>-322.3381</td>\n",
       "      <td>NaN</td>\n",
       "    </tr>\n",
       "    <tr>\n",
       "      <th>10</th>\n",
       "      <td>598</td>\n",
       "      <td>-14255.4804</td>\n",
       "      <td>-311.8200</td>\n",
       "      <td>NaN</td>\n",
       "    </tr>\n",
       "    <tr>\n",
       "      <th>11</th>\n",
       "      <td>600</td>\n",
       "      <td>-14305.6390</td>\n",
       "      <td>-321.9061</td>\n",
       "      <td>NaN</td>\n",
       "    </tr>\n",
       "  </tbody>\n",
       "</table>\n",
       "</div>"
      ],
      "text/plain": [
       "    Num           X         Y  Dist\n",
       "0   603 -14378.0490 -342.1180   NaN\n",
       "1   602 -14354.7712 -331.8323   NaN\n",
       "2   604 -14403.6978 -341.6095   NaN\n",
       "3   605 -14427.5944 -352.1128   NaN\n",
       "4   606 -14453.2814 -351.6420   NaN\n",
       "5   607 -14476.6640 -361.9899   NaN\n",
       "6   608 -14502.2464 -361.5407   NaN\n",
       "7   609 -14525.8242 -371.8829   NaN\n",
       "8   601 -14329.0375 -332.2493   NaN\n",
       "9   599 -14279.7980 -322.3381   NaN\n",
       "10  598 -14255.4804 -311.8200   NaN\n",
       "11  600 -14305.6390 -321.9061   NaN"
      ]
     },
     "execution_count": 119,
     "metadata": {},
     "output_type": "execute_result"
    }
   ],
   "source": [
    "df02"
   ]
  },
  {
   "cell_type": "code",
   "execution_count": 120,
   "metadata": {
    "collapsed": false
   },
   "outputs": [],
   "source": [
    "df_stag = zip(df01.itertuples(),mov_df.itertuples())\n",
    "list(df_stag)\n",
    "staging = [[i[0][0],i[0][1],i[0][2],i[1][2],i[0][2]-i[1][2],i[0][3],i[1][3],i[0][3]-i[1][3],i[0][4],i[1][4],i[0][4]-i[1][4]] for i in list(df_stag)]"
   ]
  },
  {
   "cell_type": "code",
   "execution_count": 122,
   "metadata": {
    "collapsed": false
   },
   "outputs": [
    {
     "data": {
      "text/html": [
       "<div>\n",
       "<table border=\"1\" class=\"dataframe\">\n",
       "  <thead>\n",
       "    <tr style=\"text-align: right;\">\n",
       "      <th></th>\n",
       "      <th>Num</th>\n",
       "      <th>X</th>\n",
       "      <th>Y</th>\n",
       "      <th>Dist</th>\n",
       "    </tr>\n",
       "  </thead>\n",
       "  <tbody>\n",
       "    <tr>\n",
       "      <th>0</th>\n",
       "      <td>593</td>\n",
       "      <td>-14133.887400</td>\n",
       "      <td>-299.583600</td>\n",
       "      <td>0.000000</td>\n",
       "    </tr>\n",
       "    <tr>\n",
       "      <th>1</th>\n",
       "      <td>594</td>\n",
       "      <td>-14159.244600</td>\n",
       "      <td>-303.605200</td>\n",
       "      <td>0.000000</td>\n",
       "    </tr>\n",
       "    <tr>\n",
       "      <th>2</th>\n",
       "      <td>595</td>\n",
       "      <td>-14180.551200</td>\n",
       "      <td>-317.862700</td>\n",
       "      <td>0.000000</td>\n",
       "    </tr>\n",
       "    <tr>\n",
       "      <th>3</th>\n",
       "      <td>596</td>\n",
       "      <td>-14205.796800</td>\n",
       "      <td>-321.824000</td>\n",
       "      <td>0.000000</td>\n",
       "    </tr>\n",
       "    <tr>\n",
       "      <th>4</th>\n",
       "      <td>597</td>\n",
       "      <td>-14227.175700</td>\n",
       "      <td>-336.142800</td>\n",
       "      <td>0.000000</td>\n",
       "    </tr>\n",
       "    <tr>\n",
       "      <th>5</th>\n",
       "      <td>597a</td>\n",
       "      <td>-14229.019800</td>\n",
       "      <td>-330.917400</td>\n",
       "      <td>0.000000</td>\n",
       "    </tr>\n",
       "    <tr>\n",
       "      <th>6</th>\n",
       "      <td>598</td>\n",
       "      <td>-14252.268910</td>\n",
       "      <td>-340.045658</td>\n",
       "      <td>51.162629</td>\n",
       "    </tr>\n",
       "    <tr>\n",
       "      <th>7</th>\n",
       "      <td>599</td>\n",
       "      <td>-14274.391879</td>\n",
       "      <td>-354.624764</td>\n",
       "      <td>25.844611</td>\n",
       "    </tr>\n",
       "    <tr>\n",
       "      <th>8</th>\n",
       "      <td>600</td>\n",
       "      <td>-14299.915662</td>\n",
       "      <td>-358.684370</td>\n",
       "      <td>0.000000</td>\n",
       "    </tr>\n",
       "    <tr>\n",
       "      <th>9</th>\n",
       "      <td>601</td>\n",
       "      <td>-14321.163836</td>\n",
       "      <td>-372.931709</td>\n",
       "      <td>25.582642</td>\n",
       "    </tr>\n",
       "    <tr>\n",
       "      <th>10</th>\n",
       "      <td>602</td>\n",
       "      <td>-14346.579345</td>\n",
       "      <td>-376.987464</td>\n",
       "      <td>50.124869</td>\n",
       "    </tr>\n",
       "    <tr>\n",
       "      <th>11</th>\n",
       "      <td>603</td>\n",
       "      <td>-14367.718631</td>\n",
       "      <td>-391.157227</td>\n",
       "      <td>75.177982</td>\n",
       "    </tr>\n",
       "    <tr>\n",
       "      <th>12</th>\n",
       "      <td>604</td>\n",
       "      <td>-14393.066409</td>\n",
       "      <td>-395.108135</td>\n",
       "      <td>100.018759</td>\n",
       "    </tr>\n",
       "    <tr>\n",
       "      <th>13</th>\n",
       "      <td>605</td>\n",
       "      <td>-14414.777336</td>\n",
       "      <td>-409.599596</td>\n",
       "      <td>125.640616</td>\n",
       "    </tr>\n",
       "    <tr>\n",
       "      <th>14</th>\n",
       "      <td>606</td>\n",
       "      <td>-14440.156190</td>\n",
       "      <td>-413.594262</td>\n",
       "      <td>150.607111</td>\n",
       "    </tr>\n",
       "    <tr>\n",
       "      <th>15</th>\n",
       "      <td>607</td>\n",
       "      <td>-14461.387890</td>\n",
       "      <td>-427.843470</td>\n",
       "      <td>175.659505</td>\n",
       "    </tr>\n",
       "    <tr>\n",
       "      <th>16</th>\n",
       "      <td>608</td>\n",
       "      <td>-14486.659984</td>\n",
       "      <td>-431.841253</td>\n",
       "      <td>200.562637</td>\n",
       "    </tr>\n",
       "    <tr>\n",
       "      <th>17</th>\n",
       "      <td>609</td>\n",
       "      <td>-14508.084910</td>\n",
       "      <td>-446.118727</td>\n",
       "      <td>225.785745</td>\n",
       "    </tr>\n",
       "  </tbody>\n",
       "</table>\n",
       "</div>"
      ],
      "text/plain": [
       "     Num             X           Y        Dist\n",
       "0    593 -14133.887400 -299.583600    0.000000\n",
       "1    594 -14159.244600 -303.605200    0.000000\n",
       "2    595 -14180.551200 -317.862700    0.000000\n",
       "3    596 -14205.796800 -321.824000    0.000000\n",
       "4    597 -14227.175700 -336.142800    0.000000\n",
       "5   597a -14229.019800 -330.917400    0.000000\n",
       "6    598 -14252.268910 -340.045658   51.162629\n",
       "7    599 -14274.391879 -354.624764   25.844611\n",
       "8    600 -14299.915662 -358.684370    0.000000\n",
       "9    601 -14321.163836 -372.931709   25.582642\n",
       "10   602 -14346.579345 -376.987464   50.124869\n",
       "11   603 -14367.718631 -391.157227   75.177982\n",
       "12   604 -14393.066409 -395.108135  100.018759\n",
       "13   605 -14414.777336 -409.599596  125.640616\n",
       "14   606 -14440.156190 -413.594262  150.607111\n",
       "15   607 -14461.387890 -427.843470  175.659505\n",
       "16   608 -14486.659984 -431.841253  200.562637\n",
       "17   609 -14508.084910 -446.118727  225.785745"
      ]
     },
     "execution_count": 122,
     "metadata": {},
     "output_type": "execute_result"
    }
   ],
   "source": [
    "zz =  pd.concat([df01,mov_df.rename(columns={'Num':'Num'})]).fillna(0).groupby('Num', as_index=False).last()\n",
    "zz"
   ]
  },
  {
   "cell_type": "code",
   "execution_count": 124,
   "metadata": {
    "collapsed": false
   },
   "outputs": [
    {
     "data": {
      "text/html": [
       "<div>\n",
       "<table border=\"1\" class=\"dataframe\">\n",
       "  <thead>\n",
       "    <tr style=\"text-align: right;\">\n",
       "      <th></th>\n",
       "      <th>Num</th>\n",
       "      <th>X</th>\n",
       "      <th>Y</th>\n",
       "      <th>Dist</th>\n",
       "    </tr>\n",
       "  </thead>\n",
       "  <tbody>\n",
       "    <tr>\n",
       "      <th>0</th>\n",
       "      <td>609</td>\n",
       "      <td>-14528.7183</td>\n",
       "      <td>-346.7268</td>\n",
       "      <td>NaN</td>\n",
       "    </tr>\n",
       "    <tr>\n",
       "      <th>1</th>\n",
       "      <td>608</td>\n",
       "      <td>-14504.4771</td>\n",
       "      <td>-338.0529</td>\n",
       "      <td>NaN</td>\n",
       "    </tr>\n",
       "    <tr>\n",
       "      <th>2</th>\n",
       "      <td>610</td>\n",
       "      <td>-14550.3901</td>\n",
       "      <td>-343.9227</td>\n",
       "      <td>NaN</td>\n",
       "    </tr>\n",
       "    <tr>\n",
       "      <th>3</th>\n",
       "      <td>611</td>\n",
       "      <td>-14572.5412</td>\n",
       "      <td>-352.4513</td>\n",
       "      <td>NaN</td>\n",
       "    </tr>\n",
       "    <tr>\n",
       "      <th>4</th>\n",
       "      <td>612</td>\n",
       "      <td>-14597.9004</td>\n",
       "      <td>-350.1745</td>\n",
       "      <td>NaN</td>\n",
       "    </tr>\n",
       "    <tr>\n",
       "      <th>5</th>\n",
       "      <td>610a</td>\n",
       "      <td>-14550.0088</td>\n",
       "      <td>-349.5743</td>\n",
       "      <td>NaN</td>\n",
       "    </tr>\n",
       "    <tr>\n",
       "      <th>6</th>\n",
       "      <td>611a</td>\n",
       "      <td>-14573.2219</td>\n",
       "      <td>-346.8979</td>\n",
       "      <td>NaN</td>\n",
       "    </tr>\n",
       "    <tr>\n",
       "      <th>7</th>\n",
       "      <td>612a</td>\n",
       "      <td>-14597.9052</td>\n",
       "      <td>-355.7832</td>\n",
       "      <td>NaN</td>\n",
       "    </tr>\n",
       "    <tr>\n",
       "      <th>8</th>\n",
       "      <td>607</td>\n",
       "      <td>-14478.9886</td>\n",
       "      <td>-340.2820</td>\n",
       "      <td>NaN</td>\n",
       "    </tr>\n",
       "    <tr>\n",
       "      <th>9</th>\n",
       "      <td>605</td>\n",
       "      <td>-14429.3495</td>\n",
       "      <td>-333.8482</td>\n",
       "      <td>NaN</td>\n",
       "    </tr>\n",
       "    <tr>\n",
       "      <th>10</th>\n",
       "      <td>604</td>\n",
       "      <td>-14404.7793</td>\n",
       "      <td>-325.0334</td>\n",
       "      <td>NaN</td>\n",
       "    </tr>\n",
       "    <tr>\n",
       "      <th>11</th>\n",
       "      <td>606</td>\n",
       "      <td>-14454.9418</td>\n",
       "      <td>-331.5884</td>\n",
       "      <td>NaN</td>\n",
       "    </tr>\n",
       "  </tbody>\n",
       "</table>\n",
       "</div>"
      ],
      "text/plain": [
       "     Num           X         Y  Dist\n",
       "0    609 -14528.7183 -346.7268   NaN\n",
       "1    608 -14504.4771 -338.0529   NaN\n",
       "2    610 -14550.3901 -343.9227   NaN\n",
       "3    611 -14572.5412 -352.4513   NaN\n",
       "4    612 -14597.9004 -350.1745   NaN\n",
       "5   610a -14550.0088 -349.5743   NaN\n",
       "6   611a -14573.2219 -346.8979   NaN\n",
       "7   612a -14597.9052 -355.7832   NaN\n",
       "8    607 -14478.9886 -340.2820   NaN\n",
       "9    605 -14429.3495 -333.8482   NaN\n",
       "10   604 -14404.7793 -325.0334   NaN\n",
       "11   606 -14454.9418 -331.5884   NaN"
      ]
     },
     "execution_count": 124,
     "metadata": {},
     "output_type": "execute_result"
    }
   ],
   "source": [
    "df01 = zz\n",
    "df02 = pd.read_csv(r'data/chain/105.csv',sep=';', names=['Num','X','Y','Dist'],dtype={'Num':'str'})\n",
    "df02"
   ]
  },
  {
   "cell_type": "code",
   "execution_count": 125,
   "metadata": {
    "collapsed": true
   },
   "outputs": [],
   "source": [
    "inter = sorted(set(list(zip(*df01['Num'].iteritems()))[1]).intersection(set(list(zip(*df02['Num'].iteritems()))[1])))\n",
    "\n",
    "df01_com = df01.loc[df01['Num'].isin(inter)].sort_values(by='Num')\n",
    "df02_com = df02.loc[df02['Num'].isin(inter)].sort_values(by='Num')"
   ]
  },
  {
   "cell_type": "code",
   "execution_count": 126,
   "metadata": {
    "collapsed": true
   },
   "outputs": [],
   "source": [
    "mp01 = MultiPoint([i[2:4] for i in df01.itertuples()])\n",
    "mp01_c = MultiPoint([i[2:4] for i in df01_com.itertuples()])\n",
    "mp02 = MultiPoint([i[2:4] for i in df02.itertuples()])\n",
    "mp02_c = MultiPoint([i[2:4] for i in df02_com.itertuples()])"
   ]
  },
  {
   "cell_type": "code",
   "execution_count": 130,
   "metadata": {
    "collapsed": false
   },
   "outputs": [
    {
     "data": {
      "text/plain": [
       "     fun: 0.00426196957177334\n",
       "     jac: array([  -1.21600761,    1.9712386 , -560.31175013,    0.        ])\n",
       " message: 'Optimization terminated successfully.'\n",
       "    nfev: 498\n",
       "     nit: 88\n",
       "    njev: 88\n",
       "  status: 0\n",
       " success: True\n",
       "       x: array([ -494.04349035,  3402.32346331,    13.98854554])"
      ]
     },
     "execution_count": 130,
     "metadata": {},
     "output_type": "execute_result"
    }
   ],
   "source": [
    "x0 = (0,0,0)\n",
    "\n",
    "re = minimize(fun1,x0,args=(mp01_c,mp02_c),method='SLSQP')\n",
    "\n",
    "re"
   ]
  },
  {
   "cell_type": "code",
   "execution_count": 131,
   "metadata": {
    "collapsed": false
   },
   "outputs": [
    {
     "data": {
      "image/svg+xml": [
       "<svg xmlns=\"http://www.w3.org/2000/svg\" xmlns:xlink=\"http://www.w3.org/1999/xlink\" width=\"195.82193757864115\" height=\"100.0\" viewBox=\"-14581.635312939537 -478.8824506639335 195.82193757864115 91.0271352284791\" preserveAspectRatio=\"xMinYMin meet\"><g transform=\"matrix(1,0,0,-1,0,-866.737766099388)\"><g><circle cx=\"-14508.085613319006\" cy=\"-446.11755744642505\" r=\"3.0\" stroke=\"#555555\" stroke-width=\"1.0\" fill=\"#66cc99\" opacity=\"0.6\" /><circle cx=\"-14486.66003234265\" cy=\"-431.84111536600494\" r=\"3.0\" stroke=\"#555555\" stroke-width=\"1.0\" fill=\"#66cc99\" opacity=\"0.6\" /><circle cx=\"-14529.792545202079\" cy=\"-448.63529457998584\" r=\"3.0\" stroke=\"#555555\" stroke-width=\"1.0\" fill=\"#66cc99\" opacity=\"0.6\" /><circle cx=\"-14549.225133100197\" cy=\"-462.2655101597852\" r=\"3.0\" stroke=\"#555555\" stroke-width=\"1.0\" fill=\"#66cc99\" opacity=\"0.6\" /><circle cx=\"-14574.382648584773\" cy=\"-466.186257221696\" r=\"3.0\" stroke=\"#555555\" stroke-width=\"1.0\" fill=\"#66cc99\" opacity=\"0.6\" /><circle cx=\"-14528.056403545128\" cy=\"-454.0271202816389\" r=\"3.0\" stroke=\"#555555\" stroke-width=\"1.0\" fill=\"#66cc99\" opacity=\"0.6\" /><circle cx=\"-14551.228058091265\" cy=\"-457.04134558253827\" r=\"3.0\" stroke=\"#555555\" stroke-width=\"1.0\" fill=\"#66cc99\" opacity=\"0.6\" /><circle cx=\"-14573.031526901194\" cy=\"-471.62978630916905\" r=\"3.0\" stroke=\"#555555\" stroke-width=\"1.0\" fill=\"#66cc99\" opacity=\"0.6\" /><circle cx=\"-14461.388581791001\" cy=\"-427.8428274729781\" r=\"3.0\" stroke=\"#555555\" stroke-width=\"1.0\" fill=\"#66cc99\" opacity=\"0.6\" /><circle cx=\"-14414.776804428844\" cy=\"-409.600671833065\" r=\"3.0\" stroke=\"#555555\" stroke-width=\"1.0\" fill=\"#66cc99\" opacity=\"0.6\" /><circle cx=\"-14393.06603971566\" cy=\"-395.1079797902189\" r=\"3.0\" stroke=\"#555555\" stroke-width=\"1.0\" fill=\"#66cc99\" opacity=\"0.6\" /><circle cx=\"-14440.156397741981\" cy=\"-413.594261520273\" r=\"3.0\" stroke=\"#555555\" stroke-width=\"1.0\" fill=\"#66cc99\" opacity=\"0.6\" /></g></g></svg>"
      ],
      "text/plain": [
       "<shapely.geometry.multipoint.MultiPoint at 0x5db4c88>"
      ]
     },
     "execution_count": 131,
     "metadata": {},
     "output_type": "execute_result"
    }
   ],
   "source": [
    "mp_moved = mov(*re.x,mp02)\n",
    "mp_moved"
   ]
  },
  {
   "cell_type": "code",
   "execution_count": 132,
   "metadata": {
    "collapsed": false
   },
   "outputs": [
    {
     "data": {
      "text/html": [
       "<div>\n",
       "<table border=\"1\" class=\"dataframe\">\n",
       "  <thead>\n",
       "    <tr style=\"text-align: right;\">\n",
       "      <th></th>\n",
       "      <th>Num</th>\n",
       "      <th>X</th>\n",
       "      <th>Y</th>\n",
       "      <th>Dist</th>\n",
       "    </tr>\n",
       "  </thead>\n",
       "  <tbody>\n",
       "    <tr>\n",
       "      <th>0</th>\n",
       "      <td>609</td>\n",
       "      <td>-14508.085613</td>\n",
       "      <td>-446.117557</td>\n",
       "      <td>75.313632</td>\n",
       "    </tr>\n",
       "    <tr>\n",
       "      <th>1</th>\n",
       "      <td>608</td>\n",
       "      <td>-14486.660032</td>\n",
       "      <td>-431.841115</td>\n",
       "      <td>49.955337</td>\n",
       "    </tr>\n",
       "    <tr>\n",
       "      <th>2</th>\n",
       "      <td>610</td>\n",
       "      <td>-14529.792545</td>\n",
       "      <td>-448.635295</td>\n",
       "      <td>96.241950</td>\n",
       "    </tr>\n",
       "    <tr>\n",
       "      <th>3</th>\n",
       "      <td>611</td>\n",
       "      <td>-14549.225133</td>\n",
       "      <td>-462.265510</td>\n",
       "      <td>119.435671</td>\n",
       "    </tr>\n",
       "    <tr>\n",
       "      <th>4</th>\n",
       "      <td>612</td>\n",
       "      <td>-14574.382649</td>\n",
       "      <td>-466.186257</td>\n",
       "      <td>144.161730</td>\n",
       "    </tr>\n",
       "    <tr>\n",
       "      <th>5</th>\n",
       "      <td>610a</td>\n",
       "      <td>-14528.056404</td>\n",
       "      <td>-454.027120</td>\n",
       "      <td>96.753435</td>\n",
       "    </tr>\n",
       "    <tr>\n",
       "      <th>6</th>\n",
       "      <td>611a</td>\n",
       "      <td>-14551.228058</td>\n",
       "      <td>-457.041346</td>\n",
       "      <td>119.266772</td>\n",
       "    </tr>\n",
       "    <tr>\n",
       "      <th>7</th>\n",
       "      <td>612a</td>\n",
       "      <td>-14573.031527</td>\n",
       "      <td>-471.629786</td>\n",
       "      <td>144.996283</td>\n",
       "    </tr>\n",
       "    <tr>\n",
       "      <th>8</th>\n",
       "      <td>607</td>\n",
       "      <td>-14461.388582</td>\n",
       "      <td>-427.842827</td>\n",
       "      <td>25.570046</td>\n",
       "    </tr>\n",
       "    <tr>\n",
       "      <th>9</th>\n",
       "      <td>605</td>\n",
       "      <td>-14414.776804</td>\n",
       "      <td>-409.600672</td>\n",
       "      <td>25.691876</td>\n",
       "    </tr>\n",
       "    <tr>\n",
       "      <th>10</th>\n",
       "      <td>604</td>\n",
       "      <td>-14393.066040</td>\n",
       "      <td>-395.107980</td>\n",
       "      <td>50.588975</td>\n",
       "    </tr>\n",
       "    <tr>\n",
       "      <th>11</th>\n",
       "      <td>606</td>\n",
       "      <td>-14440.156398</td>\n",
       "      <td>-413.594262</td>\n",
       "      <td>0.000000</td>\n",
       "    </tr>\n",
       "  </tbody>\n",
       "</table>\n",
       "</div>"
      ],
      "text/plain": [
       "     Num             X           Y        Dist\n",
       "0    609 -14508.085613 -446.117557   75.313632\n",
       "1    608 -14486.660032 -431.841115   49.955337\n",
       "2    610 -14529.792545 -448.635295   96.241950\n",
       "3    611 -14549.225133 -462.265510  119.435671\n",
       "4    612 -14574.382649 -466.186257  144.161730\n",
       "5   610a -14528.056404 -454.027120   96.753435\n",
       "6   611a -14551.228058 -457.041346  119.266772\n",
       "7   612a -14573.031527 -471.629786  144.996283\n",
       "8    607 -14461.388582 -427.842827   25.570046\n",
       "9    605 -14414.776804 -409.600672   25.691876\n",
       "10   604 -14393.066040 -395.107980   50.588975\n",
       "11   606 -14440.156398 -413.594262    0.000000"
      ]
     },
     "execution_count": 132,
     "metadata": {},
     "output_type": "execute_result"
    }
   ],
   "source": [
    "df2_nums = list(zip(*df02['Num'].iteritems()))[1]\n",
    "al = list(zip(df2_nums,mp_moved))\n",
    "mov_stag = [[i[0],i[1].x,i[1].y,al[-1][1].distance(i[1])] for i in al]\n",
    "mov_df = pd.DataFrame.from_records(mov_stag,columns=('Num','X','Y','Dist'))\n",
    "mov_df"
   ]
  },
  {
   "cell_type": "code",
   "execution_count": 133,
   "metadata": {
    "collapsed": false
   },
   "outputs": [
    {
     "data": {
      "text/html": [
       "<div>\n",
       "<table border=\"1\" class=\"dataframe\">\n",
       "  <thead>\n",
       "    <tr style=\"text-align: right;\">\n",
       "      <th></th>\n",
       "      <th>Num</th>\n",
       "      <th>X</th>\n",
       "      <th>Y</th>\n",
       "      <th>Dist</th>\n",
       "    </tr>\n",
       "  </thead>\n",
       "  <tbody>\n",
       "    <tr>\n",
       "      <th>0</th>\n",
       "      <td>593</td>\n",
       "      <td>-14133.887400</td>\n",
       "      <td>-299.583600</td>\n",
       "      <td>0.000000</td>\n",
       "    </tr>\n",
       "    <tr>\n",
       "      <th>1</th>\n",
       "      <td>594</td>\n",
       "      <td>-14159.244600</td>\n",
       "      <td>-303.605200</td>\n",
       "      <td>0.000000</td>\n",
       "    </tr>\n",
       "    <tr>\n",
       "      <th>2</th>\n",
       "      <td>595</td>\n",
       "      <td>-14180.551200</td>\n",
       "      <td>-317.862700</td>\n",
       "      <td>0.000000</td>\n",
       "    </tr>\n",
       "    <tr>\n",
       "      <th>3</th>\n",
       "      <td>596</td>\n",
       "      <td>-14205.796800</td>\n",
       "      <td>-321.824000</td>\n",
       "      <td>0.000000</td>\n",
       "    </tr>\n",
       "    <tr>\n",
       "      <th>4</th>\n",
       "      <td>597</td>\n",
       "      <td>-14227.175700</td>\n",
       "      <td>-336.142800</td>\n",
       "      <td>0.000000</td>\n",
       "    </tr>\n",
       "    <tr>\n",
       "      <th>5</th>\n",
       "      <td>597a</td>\n",
       "      <td>-14229.019800</td>\n",
       "      <td>-330.917400</td>\n",
       "      <td>0.000000</td>\n",
       "    </tr>\n",
       "    <tr>\n",
       "      <th>6</th>\n",
       "      <td>598</td>\n",
       "      <td>-14252.268910</td>\n",
       "      <td>-340.045658</td>\n",
       "      <td>51.162629</td>\n",
       "    </tr>\n",
       "    <tr>\n",
       "      <th>7</th>\n",
       "      <td>599</td>\n",
       "      <td>-14274.391879</td>\n",
       "      <td>-354.624764</td>\n",
       "      <td>25.844611</td>\n",
       "    </tr>\n",
       "    <tr>\n",
       "      <th>8</th>\n",
       "      <td>600</td>\n",
       "      <td>-14299.915662</td>\n",
       "      <td>-358.684370</td>\n",
       "      <td>0.000000</td>\n",
       "    </tr>\n",
       "    <tr>\n",
       "      <th>9</th>\n",
       "      <td>601</td>\n",
       "      <td>-14321.163836</td>\n",
       "      <td>-372.931709</td>\n",
       "      <td>25.582642</td>\n",
       "    </tr>\n",
       "    <tr>\n",
       "      <th>10</th>\n",
       "      <td>602</td>\n",
       "      <td>-14346.579345</td>\n",
       "      <td>-376.987464</td>\n",
       "      <td>50.124869</td>\n",
       "    </tr>\n",
       "    <tr>\n",
       "      <th>11</th>\n",
       "      <td>603</td>\n",
       "      <td>-14367.718631</td>\n",
       "      <td>-391.157227</td>\n",
       "      <td>75.177982</td>\n",
       "    </tr>\n",
       "    <tr>\n",
       "      <th>12</th>\n",
       "      <td>604</td>\n",
       "      <td>-14393.066040</td>\n",
       "      <td>-395.107980</td>\n",
       "      <td>50.588975</td>\n",
       "    </tr>\n",
       "    <tr>\n",
       "      <th>13</th>\n",
       "      <td>605</td>\n",
       "      <td>-14414.776804</td>\n",
       "      <td>-409.600672</td>\n",
       "      <td>25.691876</td>\n",
       "    </tr>\n",
       "    <tr>\n",
       "      <th>14</th>\n",
       "      <td>606</td>\n",
       "      <td>-14440.156398</td>\n",
       "      <td>-413.594262</td>\n",
       "      <td>0.000000</td>\n",
       "    </tr>\n",
       "    <tr>\n",
       "      <th>15</th>\n",
       "      <td>607</td>\n",
       "      <td>-14461.388582</td>\n",
       "      <td>-427.842827</td>\n",
       "      <td>25.570046</td>\n",
       "    </tr>\n",
       "    <tr>\n",
       "      <th>16</th>\n",
       "      <td>608</td>\n",
       "      <td>-14486.660032</td>\n",
       "      <td>-431.841115</td>\n",
       "      <td>49.955337</td>\n",
       "    </tr>\n",
       "    <tr>\n",
       "      <th>17</th>\n",
       "      <td>609</td>\n",
       "      <td>-14508.085613</td>\n",
       "      <td>-446.117557</td>\n",
       "      <td>75.313632</td>\n",
       "    </tr>\n",
       "    <tr>\n",
       "      <th>18</th>\n",
       "      <td>610</td>\n",
       "      <td>-14529.792545</td>\n",
       "      <td>-448.635295</td>\n",
       "      <td>96.241950</td>\n",
       "    </tr>\n",
       "    <tr>\n",
       "      <th>19</th>\n",
       "      <td>610a</td>\n",
       "      <td>-14528.056404</td>\n",
       "      <td>-454.027120</td>\n",
       "      <td>96.753435</td>\n",
       "    </tr>\n",
       "    <tr>\n",
       "      <th>20</th>\n",
       "      <td>611</td>\n",
       "      <td>-14549.225133</td>\n",
       "      <td>-462.265510</td>\n",
       "      <td>119.435671</td>\n",
       "    </tr>\n",
       "    <tr>\n",
       "      <th>21</th>\n",
       "      <td>611a</td>\n",
       "      <td>-14551.228058</td>\n",
       "      <td>-457.041346</td>\n",
       "      <td>119.266772</td>\n",
       "    </tr>\n",
       "    <tr>\n",
       "      <th>22</th>\n",
       "      <td>612</td>\n",
       "      <td>-14574.382649</td>\n",
       "      <td>-466.186257</td>\n",
       "      <td>144.161730</td>\n",
       "    </tr>\n",
       "    <tr>\n",
       "      <th>23</th>\n",
       "      <td>612a</td>\n",
       "      <td>-14573.031527</td>\n",
       "      <td>-471.629786</td>\n",
       "      <td>144.996283</td>\n",
       "    </tr>\n",
       "  </tbody>\n",
       "</table>\n",
       "</div>"
      ],
      "text/plain": [
       "     Num             X           Y        Dist\n",
       "0    593 -14133.887400 -299.583600    0.000000\n",
       "1    594 -14159.244600 -303.605200    0.000000\n",
       "2    595 -14180.551200 -317.862700    0.000000\n",
       "3    596 -14205.796800 -321.824000    0.000000\n",
       "4    597 -14227.175700 -336.142800    0.000000\n",
       "5   597a -14229.019800 -330.917400    0.000000\n",
       "6    598 -14252.268910 -340.045658   51.162629\n",
       "7    599 -14274.391879 -354.624764   25.844611\n",
       "8    600 -14299.915662 -358.684370    0.000000\n",
       "9    601 -14321.163836 -372.931709   25.582642\n",
       "10   602 -14346.579345 -376.987464   50.124869\n",
       "11   603 -14367.718631 -391.157227   75.177982\n",
       "12   604 -14393.066040 -395.107980   50.588975\n",
       "13   605 -14414.776804 -409.600672   25.691876\n",
       "14   606 -14440.156398 -413.594262    0.000000\n",
       "15   607 -14461.388582 -427.842827   25.570046\n",
       "16   608 -14486.660032 -431.841115   49.955337\n",
       "17   609 -14508.085613 -446.117557   75.313632\n",
       "18   610 -14529.792545 -448.635295   96.241950\n",
       "19  610a -14528.056404 -454.027120   96.753435\n",
       "20   611 -14549.225133 -462.265510  119.435671\n",
       "21  611a -14551.228058 -457.041346  119.266772\n",
       "22   612 -14574.382649 -466.186257  144.161730\n",
       "23  612a -14573.031527 -471.629786  144.996283"
      ]
     },
     "execution_count": 133,
     "metadata": {},
     "output_type": "execute_result"
    }
   ],
   "source": [
    "zz =  pd.concat([df01,mov_df.rename(columns={'Num':'Num'})]).fillna(0).groupby('Num', as_index=False).last()\n",
    "zz"
   ]
  },
  {
   "cell_type": "code",
   "execution_count": null,
   "metadata": {
    "collapsed": true
   },
   "outputs": [],
   "source": []
  },
  {
   "cell_type": "code",
   "execution_count": 134,
   "metadata": {
    "collapsed": true
   },
   "outputs": [],
   "source": [
    "df01 = zz\n",
    "df02 = pd.read_csv(r'data/chain/106.csv',sep=';', names=['Num','X','Y','Dist'],dtype={'Num':'str'})\n",
    "inter = sorted(set(list(zip(*df01['Num'].iteritems()))[1]).intersection(set(list(zip(*df02['Num'].iteritems()))[1])))\n",
    "\n",
    "df01_com = df01.loc[df01['Num'].isin(inter)].sort_values(by='Num')\n",
    "df02_com = df02.loc[df02['Num'].isin(inter)].sort_values(by='Num')\n",
    "mp01 = MultiPoint([i[2:4] for i in df01.itertuples()])\n",
    "mp01_c = MultiPoint([i[2:4] for i in df01_com.itertuples()])\n",
    "mp02 = MultiPoint([i[2:4] for i in df02.itertuples()])\n",
    "mp02_c = MultiPoint([i[2:4] for i in df02_com.itertuples()])\n",
    "x0 = (0,0,0)\n",
    "\n",
    "re = minimize(fun1,x0,args=(mp01_c,mp02_c),method='SLSQP')\n",
    "mp_moved = mov(*re.x,mp02)"
   ]
  },
  {
   "cell_type": "code",
   "execution_count": 137,
   "metadata": {
    "collapsed": false
   },
   "outputs": [
    {
     "data": {
      "text/plain": [
       "     fun: 4.236177418337145\n",
       "     jac: array([   1.99254447,   -0.40828776,  221.74558228,    0.        ])\n",
       " message: 'Iteration limit exceeded'\n",
       "    nfev: 545\n",
       "     nit: 101\n",
       "    njev: 101\n",
       "  status: 9\n",
       " success: False\n",
       "       x: array([ -405.84391151,  3067.52073644,    12.65462041])"
      ]
     },
     "execution_count": 137,
     "metadata": {},
     "output_type": "execute_result"
    }
   ],
   "source": [
    "re"
   ]
  },
  {
   "cell_type": "code",
   "execution_count": 138,
   "metadata": {
    "collapsed": false
   },
   "outputs": [
    {
     "data": {
      "text/plain": [
       "['610', '610a', '611', '611a', '612', '612a']"
      ]
     },
     "execution_count": 138,
     "metadata": {},
     "output_type": "execute_result"
    }
   ],
   "source": [
    "inter"
   ]
  },
  {
   "cell_type": "code",
   "execution_count": 136,
   "metadata": {
    "collapsed": false
   },
   "outputs": [
    {
     "data": {
      "text/html": [
       "<div>\n",
       "<table border=\"1\" class=\"dataframe\">\n",
       "  <thead>\n",
       "    <tr style=\"text-align: right;\">\n",
       "      <th></th>\n",
       "      <th>Num</th>\n",
       "      <th>X</th>\n",
       "      <th>Y</th>\n",
       "      <th>Dist</th>\n",
       "    </tr>\n",
       "  </thead>\n",
       "  <tbody>\n",
       "    <tr>\n",
       "      <th>0</th>\n",
       "      <td>612</td>\n",
       "      <td>-14574.506644</td>\n",
       "      <td>-465.178297</td>\n",
       "      <td>24.894722</td>\n",
       "    </tr>\n",
       "    <tr>\n",
       "      <th>1</th>\n",
       "      <td>611</td>\n",
       "      <td>-14549.211001</td>\n",
       "      <td>-462.285522</td>\n",
       "      <td>5.594790</td>\n",
       "    </tr>\n",
       "    <tr>\n",
       "      <th>2</th>\n",
       "      <td>613</td>\n",
       "      <td>-14596.914747</td>\n",
       "      <td>-478.751945</td>\n",
       "      <td>50.814175</td>\n",
       "    </tr>\n",
       "    <tr>\n",
       "      <th>3</th>\n",
       "      <td>614</td>\n",
       "      <td>-14620.621286</td>\n",
       "      <td>-481.361715</td>\n",
       "      <td>73.766592</td>\n",
       "    </tr>\n",
       "    <tr>\n",
       "      <th>4</th>\n",
       "      <td>615</td>\n",
       "      <td>-14643.239990</td>\n",
       "      <td>-494.780231</td>\n",
       "      <td>99.684099</td>\n",
       "    </tr>\n",
       "    <tr>\n",
       "      <th>5</th>\n",
       "      <td>613a</td>\n",
       "      <td>-14599.453386</td>\n",
       "      <td>-473.751012</td>\n",
       "      <td>51.273215</td>\n",
       "    </tr>\n",
       "    <tr>\n",
       "      <th>6</th>\n",
       "      <td>614a</td>\n",
       "      <td>-14619.703802</td>\n",
       "      <td>-486.664942</td>\n",
       "      <td>74.841707</td>\n",
       "    </tr>\n",
       "    <tr>\n",
       "      <th>7</th>\n",
       "      <td>615a</td>\n",
       "      <td>-14639.901496</td>\n",
       "      <td>-488.013992</td>\n",
       "      <td>94.161997</td>\n",
       "    </tr>\n",
       "    <tr>\n",
       "      <th>8</th>\n",
       "      <td>612a</td>\n",
       "      <td>-14573.378611</td>\n",
       "      <td>-470.672027</td>\n",
       "      <td>26.233544</td>\n",
       "    </tr>\n",
       "    <tr>\n",
       "      <th>9</th>\n",
       "      <td>610a</td>\n",
       "      <td>-14527.723964</td>\n",
       "      <td>-454.916681</td>\n",
       "      <td>23.366804</td>\n",
       "    </tr>\n",
       "    <tr>\n",
       "      <th>10</th>\n",
       "      <td>610</td>\n",
       "      <td>-14529.238880</td>\n",
       "      <td>-449.458162</td>\n",
       "      <td>23.024965</td>\n",
       "    </tr>\n",
       "    <tr>\n",
       "      <th>11</th>\n",
       "      <td>611a</td>\n",
       "      <td>-14550.999123</td>\n",
       "      <td>-456.984174</td>\n",
       "      <td>0.000000</td>\n",
       "    </tr>\n",
       "  </tbody>\n",
       "</table>\n",
       "</div>"
      ],
      "text/plain": [
       "     Num             X           Y       Dist\n",
       "0    612 -14574.506644 -465.178297  24.894722\n",
       "1    611 -14549.211001 -462.285522   5.594790\n",
       "2    613 -14596.914747 -478.751945  50.814175\n",
       "3    614 -14620.621286 -481.361715  73.766592\n",
       "4    615 -14643.239990 -494.780231  99.684099\n",
       "5   613a -14599.453386 -473.751012  51.273215\n",
       "6   614a -14619.703802 -486.664942  74.841707\n",
       "7   615a -14639.901496 -488.013992  94.161997\n",
       "8   612a -14573.378611 -470.672027  26.233544\n",
       "9   610a -14527.723964 -454.916681  23.366804\n",
       "10   610 -14529.238880 -449.458162  23.024965\n",
       "11  611a -14550.999123 -456.984174   0.000000"
      ]
     },
     "execution_count": 136,
     "metadata": {},
     "output_type": "execute_result"
    }
   ],
   "source": [
    "df2_nums = list(zip(*df02['Num'].iteritems()))[1]\n",
    "al = list(zip(df2_nums,mp_moved))\n",
    "mov_stag = [[i[0],i[1].x,i[1].y,al[-1][1].distance(i[1])] for i in al]\n",
    "mov_df = pd.DataFrame.from_records(mov_stag,columns=('Num','X','Y','Dist'))\n",
    "mov_df"
   ]
  },
  {
   "cell_type": "code",
   "execution_count": null,
   "metadata": {
    "collapsed": true
   },
   "outputs": [],
   "source": []
  },
  {
   "cell_type": "code",
   "execution_count": null,
   "metadata": {
    "collapsed": true
   },
   "outputs": [],
   "source": []
  },
  {
   "cell_type": "markdown",
   "metadata": {},
   "source": [
    "g"
   ]
  }
 ],
 "metadata": {
  "anaconda-cloud": {},
  "kernelspec": {
   "display_name": "Python 3",
   "language": "python",
   "name": "python3"
  },
  "language_info": {
   "codemirror_mode": {
    "name": "ipython",
    "version": 3
   },
   "file_extension": ".py",
   "mimetype": "text/x-python",
   "name": "python",
   "nbconvert_exporter": "python",
   "pygments_lexer": "ipython3",
   "version": "3.5.1"
  }
 },
 "nbformat": 4,
 "nbformat_minor": 0
}
