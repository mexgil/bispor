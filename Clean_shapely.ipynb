{
 "cells": [
  {
   "cell_type": "code",
   "execution_count": 87,
   "metadata": {
    "collapsed": false
   },
   "outputs": [
    {
     "data": {
      "text/html": [
       "<div>\n",
       "<table border=\"1\" class=\"dataframe\">\n",
       "  <thead>\n",
       "    <tr style=\"text-align: right;\">\n",
       "      <th></th>\n",
       "      <th>Num</th>\n",
       "      <th>X</th>\n",
       "      <th>Y</th>\n",
       "      <th>Dist</th>\n",
       "    </tr>\n",
       "  </thead>\n",
       "  <tbody>\n",
       "    <tr>\n",
       "      <th>0</th>\n",
       "      <td>6a</td>\n",
       "      <td>132.0273</td>\n",
       "      <td>105.5994</td>\n",
       "      <td>48.286822</td>\n",
       "    </tr>\n",
       "    <tr>\n",
       "      <th>1</th>\n",
       "      <td>6</td>\n",
       "      <td>106.5573</td>\n",
       "      <td>104.7235</td>\n",
       "      <td>72.991942</td>\n",
       "    </tr>\n",
       "    <tr>\n",
       "      <th>2</th>\n",
       "      <td>7</td>\n",
       "      <td>140.6679</td>\n",
       "      <td>108.2610</td>\n",
       "      <td>39.255562</td>\n",
       "    </tr>\n",
       "    <tr>\n",
       "      <th>3</th>\n",
       "      <td>8</td>\n",
       "      <td>167.3911</td>\n",
       "      <td>121.9081</td>\n",
       "      <td>10.148766</td>\n",
       "    </tr>\n",
       "    <tr>\n",
       "      <th>4</th>\n",
       "      <td>7a</td>\n",
       "      <td>152.7813</td>\n",
       "      <td>117.7490</td>\n",
       "      <td>25.075741</td>\n",
       "    </tr>\n",
       "    <tr>\n",
       "      <th>5</th>\n",
       "      <td>7b</td>\n",
       "      <td>155.1098</td>\n",
       "      <td>112.1205</td>\n",
       "      <td>24.402639</td>\n",
       "    </tr>\n",
       "    <tr>\n",
       "      <th>6</th>\n",
       "      <td>9001</td>\n",
       "      <td>100.0000</td>\n",
       "      <td>100.0000</td>\n",
       "      <td>0.000000</td>\n",
       "    </tr>\n",
       "  </tbody>\n",
       "</table>\n",
       "</div>"
      ],
      "text/plain": [
       "    Num         X         Y       Dist\n",
       "0    6a  132.0273  105.5994  48.286822\n",
       "1     6  106.5573  104.7235  72.991942\n",
       "2     7  140.6679  108.2610  39.255562\n",
       "3     8  167.3911  121.9081  10.148766\n",
       "4    7a  152.7813  117.7490  25.075741\n",
       "5    7b  155.1098  112.1205  24.402639\n",
       "6  9001  100.0000  100.0000   0.000000"
      ]
     },
     "execution_count": 87,
     "metadata": {},
     "output_type": "execute_result"
    }
   ],
   "source": [
    "import pandas as pd\n",
    "\n",
    "df01 = pd.read_csv(r'data/990001.csv',sep=';', names=['Num','X','Y','Dist'])\n",
    "df01"
   ]
  },
  {
   "cell_type": "code",
   "execution_count": 12,
   "metadata": {
    "collapsed": false
   },
   "outputs": [
    {
     "data": {
      "text/html": [
       "<div>\n",
       "<table border=\"1\" class=\"dataframe\">\n",
       "  <thead>\n",
       "    <tr style=\"text-align: right;\">\n",
       "      <th></th>\n",
       "      <th>Num</th>\n",
       "      <th>X</th>\n",
       "      <th>Y</th>\n",
       "      <th>Dist</th>\n",
       "    </tr>\n",
       "  </thead>\n",
       "  <tbody>\n",
       "    <tr>\n",
       "      <th>0</th>\n",
       "      <td>6a</td>\n",
       "      <td>147.0338</td>\n",
       "      <td>84.9535</td>\n",
       "      <td>32.513093</td>\n",
       "    </tr>\n",
       "    <tr>\n",
       "      <th>1</th>\n",
       "      <td>6</td>\n",
       "      <td>124.3194</td>\n",
       "      <td>73.3954</td>\n",
       "      <td>8.081438</td>\n",
       "    </tr>\n",
       "    <tr>\n",
       "      <th>2</th>\n",
       "      <td>7</td>\n",
       "      <td>153.7402</td>\n",
       "      <td>91.0169</td>\n",
       "      <td>41.498460</td>\n",
       "    </tr>\n",
       "    <tr>\n",
       "      <th>3</th>\n",
       "      <td>8</td>\n",
       "      <td>172.1918</td>\n",
       "      <td>114.6797</td>\n",
       "      <td>70.862721</td>\n",
       "    </tr>\n",
       "    <tr>\n",
       "      <th>4</th>\n",
       "      <td>7a</td>\n",
       "      <td>160.7087</td>\n",
       "      <td>104.7360</td>\n",
       "      <td>55.685659</td>\n",
       "    </tr>\n",
       "    <tr>\n",
       "      <th>5</th>\n",
       "      <td>7b</td>\n",
       "      <td>165.1976</td>\n",
       "      <td>100.6186</td>\n",
       "      <td>56.426914</td>\n",
       "    </tr>\n",
       "    <tr>\n",
       "      <th>6</th>\n",
       "      <td>9002</td>\n",
       "      <td>181.4615</td>\n",
       "      <td>118.8113</td>\n",
       "      <td>0.000000</td>\n",
       "    </tr>\n",
       "  </tbody>\n",
       "</table>\n",
       "</div>"
      ],
      "text/plain": [
       "    Num         X         Y       Dist\n",
       "0    6a  147.0338   84.9535  32.513093\n",
       "1     6  124.3194   73.3954   8.081438\n",
       "2     7  153.7402   91.0169  41.498460\n",
       "3     8  172.1918  114.6797  70.862721\n",
       "4    7a  160.7087  104.7360  55.685659\n",
       "5    7b  165.1976  100.6186  56.426914\n",
       "6  9002  181.4615  118.8113   0.000000"
      ]
     },
     "execution_count": 12,
     "metadata": {},
     "output_type": "execute_result"
    }
   ],
   "source": [
    "df02 = pd.read_csv(r'data/990002.csv',sep=';', names=['Num','X','Y','Dist'])\n",
    "df02"
   ]
  },
  {
   "cell_type": "markdown",
   "metadata": {},
   "source": [
    "Дополнительный шаг - выборка номер одинаковых номеров пунктов.\n",
    "Сортирую номера и записи в таблицы, надеюсь, что принцип сортировки и в сете и в дф одинаковые, но лучше будет убедиться."
   ]
  },
  {
   "cell_type": "code",
   "execution_count": 104,
   "metadata": {
    "collapsed": false
   },
   "outputs": [],
   "source": [
    "inter = sorted(set(list(zip(*df01['Num'].iteritems()))[1]).intersection(set(list(zip(*df02['Num'].iteritems()))[1])))\n",
    "\n",
    "df01_com = df01.loc[df01['Num'].isin(inter)].sort_values(by='Num')\n",
    "df02_com = df02.loc[df02['Num'].isin(inter)].sort_values(by='Num')"
   ]
  },
  {
   "cell_type": "code",
   "execution_count": null,
   "metadata": {
    "collapsed": true
   },
   "outputs": [],
   "source": [
    "Создаю по два набора точек - mp01,mp02 - все точки, включая стоянки. mp01_c, mp02_c - набор общих точек."
   ]
  },
  {
   "cell_type": "code",
   "execution_count": 116,
   "metadata": {
    "collapsed": false
   },
   "outputs": [],
   "source": [
    "from shapely.geometry import MultiPoint\n",
    "\n",
    "mp01 = MultiPoint([i[2:4] for i in df01.itertuples()])\n",
    "mp01_c = MultiPoint([i[2:4] for i in df01_com.itertuples()])\n",
    "mp02 = MultiPoint([i[2:4] for i in df02.itertuples()])\n",
    "mp02_c = MultiPoint([i[2:4] for i in df02_com.itertuples()])"
   ]
  },
  {
   "cell_type": "code",
   "execution_count": 117,
   "metadata": {
    "collapsed": false
   },
   "outputs": [
    {
     "data": {
      "image/svg+xml": [
       "<svg xmlns=\"http://www.w3.org/2000/svg\" xmlns:xlink=\"http://www.w3.org/1999/xlink\" width=\"100.0\" height=\"100.0\" viewBox=\"104.123948 102.290148 65.70050400000001 22.051304000000002\" preserveAspectRatio=\"xMinYMin meet\"><g transform=\"matrix(1,0,0,-1,0,226.6316)\"><g><circle cx=\"106.5573\" cy=\"104.7235\" r=\"1.9710151200000001\" stroke=\"#555555\" stroke-width=\"0.65700504\" fill=\"#66cc99\" opacity=\"0.6\" /><circle cx=\"132.0273\" cy=\"105.5994\" r=\"1.9710151200000001\" stroke=\"#555555\" stroke-width=\"0.65700504\" fill=\"#66cc99\" opacity=\"0.6\" /><circle cx=\"140.6679\" cy=\"108.26100000000001\" r=\"1.9710151200000001\" stroke=\"#555555\" stroke-width=\"0.65700504\" fill=\"#66cc99\" opacity=\"0.6\" /><circle cx=\"152.7813\" cy=\"117.749\" r=\"1.9710151200000001\" stroke=\"#555555\" stroke-width=\"0.65700504\" fill=\"#66cc99\" opacity=\"0.6\" /><circle cx=\"155.1098\" cy=\"112.1205\" r=\"1.9710151200000001\" stroke=\"#555555\" stroke-width=\"0.65700504\" fill=\"#66cc99\" opacity=\"0.6\" /><circle cx=\"167.3911\" cy=\"121.9081\" r=\"1.9710151200000001\" stroke=\"#555555\" stroke-width=\"0.65700504\" fill=\"#66cc99\" opacity=\"0.6\" /></g></g></svg>"
      ],
      "text/plain": [
       "<shapely.geometry.multipoint.MultiPoint at 0x621e358>"
      ]
     },
     "execution_count": 117,
     "metadata": {},
     "output_type": "execute_result"
    }
   ],
   "source": [
    "mp01_c"
   ]
  },
  {
   "cell_type": "code",
   "execution_count": 118,
   "metadata": {
    "collapsed": false
   },
   "outputs": [
    {
     "data": {
      "image/svg+xml": [
       "<svg xmlns=\"http://www.w3.org/2000/svg\" xmlns:xlink=\"http://www.w3.org/1999/xlink\" width=\"100.0\" height=\"100.0\" viewBox=\"122.404504 71.480504 51.702192 45.114092\" preserveAspectRatio=\"xMinYMin meet\"><g transform=\"matrix(1,0,0,-1,0,188.0751)\"><g><circle cx=\"124.3194\" cy=\"73.3954\" r=\"1.5510657599999997\" stroke=\"#555555\" stroke-width=\"0.5170219199999999\" fill=\"#66cc99\" opacity=\"0.6\" /><circle cx=\"147.0338\" cy=\"84.9535\" r=\"1.5510657599999997\" stroke=\"#555555\" stroke-width=\"0.5170219199999999\" fill=\"#66cc99\" opacity=\"0.6\" /><circle cx=\"153.7402\" cy=\"91.0169\" r=\"1.5510657599999997\" stroke=\"#555555\" stroke-width=\"0.5170219199999999\" fill=\"#66cc99\" opacity=\"0.6\" /><circle cx=\"160.7087\" cy=\"104.736\" r=\"1.5510657599999997\" stroke=\"#555555\" stroke-width=\"0.5170219199999999\" fill=\"#66cc99\" opacity=\"0.6\" /><circle cx=\"165.1976\" cy=\"100.6186\" r=\"1.5510657599999997\" stroke=\"#555555\" stroke-width=\"0.5170219199999999\" fill=\"#66cc99\" opacity=\"0.6\" /><circle cx=\"172.1918\" cy=\"114.6797\" r=\"1.5510657599999997\" stroke=\"#555555\" stroke-width=\"0.5170219199999999\" fill=\"#66cc99\" opacity=\"0.6\" /></g></g></svg>"
      ],
      "text/plain": [
       "<shapely.geometry.multipoint.MultiPoint at 0x61fe860>"
      ]
     },
     "execution_count": 118,
     "metadata": {},
     "output_type": "execute_result"
    }
   ],
   "source": [
    "mp02_c"
   ]
  },
  {
   "cell_type": "code",
   "execution_count": 119,
   "metadata": {
    "collapsed": false
   },
   "outputs": [],
   "source": [
    "from shapely import affinity\n",
    "from scipy.optimize import minimize\n",
    "\n",
    "def mov(x,y,angle,geom):\n",
    "    geom_r = affinity.rotate(geom,angle,origin=(0,0))\n",
    "    geom_t = affinity.translate(geom_r,x,y)\n",
    "    return geom_t\n",
    "\n",
    "def calc_dist(geom1,geom2):\n",
    "    dist = 0\n",
    "    geom_list = zip(geom1,geom2)\n",
    "    for item in geom_list:\n",
    "        dist+=item[0].distance(item[1])\n",
    "    return dist\n",
    "\n",
    "def fun1(x0,geom1, geom2):\n",
    "    n_geom = mov(*x0,geom2)\n",
    "    return calc_dist(geom1,n_geom)\n",
    "\n",
    "x0 = (0,0,0)\n",
    "\n",
    "re = minimize(fun1,x0,args=(mp01_c,mp02_c),method='SLSQP')"
   ]
  },
  {
   "cell_type": "code",
   "execution_count": 120,
   "metadata": {
    "collapsed": false
   },
   "outputs": [
    {
     "data": {
      "text/plain": [
       "     fun: 0.0019267370659772987\n",
       "     jac: array([ 0.5593133 ,  0.16264231,  0.27411119,  0.        ])\n",
       " message: 'Optimization terminated successfully.'\n",
       "    nfev: 213\n",
       "     nit: 36\n",
       "    njev: 36\n",
       "  status: 0\n",
       " success: True\n",
       "       x: array([-37.13354239,  90.74529647, -25.00025258])"
      ]
     },
     "execution_count": 120,
     "metadata": {},
     "output_type": "execute_result"
    }
   ],
   "source": [
    "re"
   ]
  },
  {
   "cell_type": "code",
   "execution_count": 77,
   "metadata": {
    "collapsed": false
   },
   "outputs": [
    {
     "data": {
      "image/svg+xml": [
       "<svg xmlns=\"http://www.w3.org/2000/svg\" xmlns:xlink=\"http://www.w3.org/1999/xlink\" width=\"100.0\" height=\"100.0\" viewBox=\"103.71711592813725 101.88455656771568 76.66055340558606 22.862823461720552\" preserveAspectRatio=\"xMinYMin meet\"><g transform=\"matrix(1,0,0,-1,0,226.6319365971519)\"><g><circle cx=\"132.02730127237191\" cy=\"105.59939984095503\" r=\"2.299816602167582\" stroke=\"#555555\" stroke-width=\"0.7666055340558606\" fill=\"#66cc99\" opacity=\"0.6\" /><circle cx=\"106.5563956838997\" cy=\"104.72383632347812\" r=\"2.299816602167582\" stroke=\"#555555\" stroke-width=\"0.7666055340558606\" fill=\"#66cc99\" opacity=\"0.6\" /><circle cx=\"140.66787911300452\" cy=\"108.26042128017129\" r=\"2.299816602167582\" stroke=\"#555555\" stroke-width=\"0.7666055340558606\" fill=\"#66cc99\" opacity=\"0.6\" /><circle cx=\"167.39109943710298\" cy=\"121.90810027367378\" r=\"2.299816602167582\" stroke=\"#555555\" stroke-width=\"0.7666055340558606\" fill=\"#66cc99\" opacity=\"0.6\" /><circle cx=\"152.78146894611788\" cy=\"117.74907968982502\" r=\"2.299816602167582\" stroke=\"#555555\" stroke-width=\"0.7666055340558606\" fill=\"#66cc99\" opacity=\"0.6\" /><circle cx=\"155.1096807299852\" cy=\"112.12034662993834\" r=\"2.299816602167582\" stroke=\"#555555\" stroke-width=\"0.7666055340558606\" fill=\"#66cc99\" opacity=\"0.6\" /><circle cx=\"177.53838957796086\" cy=\"121.73501229821497\" r=\"2.299816602167582\" stroke=\"#555555\" stroke-width=\"0.7666055340558606\" fill=\"#66cc99\" opacity=\"0.6\" /></g></g></svg>"
      ],
      "text/plain": [
       "<shapely.geometry.multipoint.MultiPoint at 0x62426d8>"
      ]
     },
     "execution_count": 77,
     "metadata": {},
     "output_type": "execute_result"
    }
   ],
   "source": [
    "mp_moved = mov(-37.1335426 ,  90.74529586, -25.00025255,mp02)\n",
    "mp_moved"
   ]
  },
  {
   "cell_type": "markdown",
   "metadata": {},
   "source": [
    "Считаем расстояния от стоянки 99002 до всех точек.  \n",
    "До сдвижки, после сдвижки, значение сдвижки."
   ]
  },
  {
   "cell_type": "code",
   "execution_count": 123,
   "metadata": {
    "collapsed": false
   },
   "outputs": [
    {
     "data": {
      "text/html": [
       "<div>\n",
       "<table border=\"1\" class=\"dataframe\">\n",
       "  <thead>\n",
       "    <tr style=\"text-align: right;\">\n",
       "      <th></th>\n",
       "      <th>Before</th>\n",
       "      <th>After</th>\n",
       "      <th>Diff</th>\n",
       "    </tr>\n",
       "  </thead>\n",
       "  <tbody>\n",
       "    <tr>\n",
       "      <th>0</th>\n",
       "      <td>48.286822</td>\n",
       "      <td>48.286822</td>\n",
       "      <td>2.842171e-14</td>\n",
       "    </tr>\n",
       "    <tr>\n",
       "      <th>1</th>\n",
       "      <td>72.991942</td>\n",
       "      <td>72.991942</td>\n",
       "      <td>0.000000e+00</td>\n",
       "    </tr>\n",
       "    <tr>\n",
       "      <th>2</th>\n",
       "      <td>39.255562</td>\n",
       "      <td>39.255562</td>\n",
       "      <td>2.842171e-14</td>\n",
       "    </tr>\n",
       "    <tr>\n",
       "      <th>3</th>\n",
       "      <td>10.148766</td>\n",
       "      <td>10.148766</td>\n",
       "      <td>8.881784e-15</td>\n",
       "    </tr>\n",
       "    <tr>\n",
       "      <th>4</th>\n",
       "      <td>25.075741</td>\n",
       "      <td>25.075741</td>\n",
       "      <td>3.552714e-14</td>\n",
       "    </tr>\n",
       "    <tr>\n",
       "      <th>5</th>\n",
       "      <td>24.402639</td>\n",
       "      <td>24.402639</td>\n",
       "      <td>3.552714e-14</td>\n",
       "    </tr>\n",
       "    <tr>\n",
       "      <th>6</th>\n",
       "      <td>0.000000</td>\n",
       "      <td>0.000000</td>\n",
       "      <td>0.000000e+00</td>\n",
       "    </tr>\n",
       "  </tbody>\n",
       "</table>\n",
       "</div>"
      ],
      "text/plain": [
       "      Before      After          Diff\n",
       "0  48.286822  48.286822  2.842171e-14\n",
       "1  72.991942  72.991942  0.000000e+00\n",
       "2  39.255562  39.255562  2.842171e-14\n",
       "3  10.148766  10.148766  8.881784e-15\n",
       "4  25.075741  25.075741  3.552714e-14\n",
       "5  24.402639  24.402639  3.552714e-14\n",
       "6   0.000000   0.000000  0.000000e+00"
      ]
     },
     "execution_count": 123,
     "metadata": {},
     "output_type": "execute_result"
    }
   ],
   "source": [
    "dist_do = [mp02[-1].distance(i) for i in mp02]\n",
    "dist_po = [mp_moved[-1].distance(i) for i in mp_moved]\n",
    "od = zip(dist_do,dist_po)\n",
    "od = [[i[0],i[1],i[0]-i[1]] for i in od]\n",
    "df_od = pd.DataFrame.from_records(od,columns=('Before','After','Diff'))\n",
    "df_od"
   ]
  },
  {
   "cell_type": "markdown",
   "metadata": {},
   "source": [
    "Таблица с координатам сдвинутого 99002:"
   ]
  },
  {
   "cell_type": "code",
   "execution_count": 133,
   "metadata": {
    "collapsed": false
   },
   "outputs": [
    {
     "data": {
      "text/html": [
       "<div>\n",
       "<table border=\"1\" class=\"dataframe\">\n",
       "  <thead>\n",
       "    <tr style=\"text-align: right;\">\n",
       "      <th></th>\n",
       "      <th>Num</th>\n",
       "      <th>X</th>\n",
       "      <th>Y</th>\n",
       "      <th>Dist</th>\n",
       "    </tr>\n",
       "  </thead>\n",
       "  <tbody>\n",
       "    <tr>\n",
       "      <th>0</th>\n",
       "      <td>6a</td>\n",
       "      <td>132.027301</td>\n",
       "      <td>105.599400</td>\n",
       "      <td>48.286822</td>\n",
       "    </tr>\n",
       "    <tr>\n",
       "      <th>1</th>\n",
       "      <td>6</td>\n",
       "      <td>106.556396</td>\n",
       "      <td>104.723836</td>\n",
       "      <td>72.991942</td>\n",
       "    </tr>\n",
       "    <tr>\n",
       "      <th>2</th>\n",
       "      <td>7</td>\n",
       "      <td>140.667879</td>\n",
       "      <td>108.260421</td>\n",
       "      <td>39.255562</td>\n",
       "    </tr>\n",
       "    <tr>\n",
       "      <th>3</th>\n",
       "      <td>8</td>\n",
       "      <td>167.391099</td>\n",
       "      <td>121.908100</td>\n",
       "      <td>10.148766</td>\n",
       "    </tr>\n",
       "    <tr>\n",
       "      <th>4</th>\n",
       "      <td>7a</td>\n",
       "      <td>152.781469</td>\n",
       "      <td>117.749080</td>\n",
       "      <td>25.075741</td>\n",
       "    </tr>\n",
       "    <tr>\n",
       "      <th>5</th>\n",
       "      <td>7b</td>\n",
       "      <td>155.109681</td>\n",
       "      <td>112.120347</td>\n",
       "      <td>24.402639</td>\n",
       "    </tr>\n",
       "    <tr>\n",
       "      <th>6</th>\n",
       "      <td>9002</td>\n",
       "      <td>177.538390</td>\n",
       "      <td>121.735012</td>\n",
       "      <td>0.000000</td>\n",
       "    </tr>\n",
       "  </tbody>\n",
       "</table>\n",
       "</div>"
      ],
      "text/plain": [
       "    Num           X           Y       Dist\n",
       "0    6a  132.027301  105.599400  48.286822\n",
       "1     6  106.556396  104.723836  72.991942\n",
       "2     7  140.667879  108.260421  39.255562\n",
       "3     8  167.391099  121.908100  10.148766\n",
       "4    7a  152.781469  117.749080  25.075741\n",
       "5    7b  155.109681  112.120347  24.402639\n",
       "6  9002  177.538390  121.735012   0.000000"
      ]
     },
     "execution_count": 133,
     "metadata": {},
     "output_type": "execute_result"
    }
   ],
   "source": [
    "df2_nums = list(zip(*df02['Num'].iteritems()))[1]\n",
    "al = list(zip(df2_nums,mp_moved.geoms))\n",
    "mov_stag = [[i[0],i[1].x,i[1].y,al[-1][1].distance(i[1])] for i in al]\n",
    "mov_df = pd.DataFrame.from_records(mov_stag,columns=('Num','X','Y','Dist'))\n",
    "mov_df\n",
    "\n"
   ]
  },
  {
   "cell_type": "markdown",
   "metadata": {},
   "source": [
    "Координаты 99001:"
   ]
  },
  {
   "cell_type": "code",
   "execution_count": 134,
   "metadata": {
    "collapsed": false
   },
   "outputs": [
    {
     "data": {
      "text/html": [
       "<div>\n",
       "<table border=\"1\" class=\"dataframe\">\n",
       "  <thead>\n",
       "    <tr style=\"text-align: right;\">\n",
       "      <th></th>\n",
       "      <th>Num</th>\n",
       "      <th>X</th>\n",
       "      <th>Y</th>\n",
       "      <th>Dist</th>\n",
       "    </tr>\n",
       "  </thead>\n",
       "  <tbody>\n",
       "    <tr>\n",
       "      <th>0</th>\n",
       "      <td>6a</td>\n",
       "      <td>132.0273</td>\n",
       "      <td>105.5994</td>\n",
       "      <td>48.286822</td>\n",
       "    </tr>\n",
       "    <tr>\n",
       "      <th>1</th>\n",
       "      <td>6</td>\n",
       "      <td>106.5573</td>\n",
       "      <td>104.7235</td>\n",
       "      <td>72.991942</td>\n",
       "    </tr>\n",
       "    <tr>\n",
       "      <th>2</th>\n",
       "      <td>7</td>\n",
       "      <td>140.6679</td>\n",
       "      <td>108.2610</td>\n",
       "      <td>39.255562</td>\n",
       "    </tr>\n",
       "    <tr>\n",
       "      <th>3</th>\n",
       "      <td>8</td>\n",
       "      <td>167.3911</td>\n",
       "      <td>121.9081</td>\n",
       "      <td>10.148766</td>\n",
       "    </tr>\n",
       "    <tr>\n",
       "      <th>4</th>\n",
       "      <td>7a</td>\n",
       "      <td>152.7813</td>\n",
       "      <td>117.7490</td>\n",
       "      <td>25.075741</td>\n",
       "    </tr>\n",
       "    <tr>\n",
       "      <th>5</th>\n",
       "      <td>7b</td>\n",
       "      <td>155.1098</td>\n",
       "      <td>112.1205</td>\n",
       "      <td>24.402639</td>\n",
       "    </tr>\n",
       "    <tr>\n",
       "      <th>6</th>\n",
       "      <td>9001</td>\n",
       "      <td>100.0000</td>\n",
       "      <td>100.0000</td>\n",
       "      <td>0.000000</td>\n",
       "    </tr>\n",
       "  </tbody>\n",
       "</table>\n",
       "</div>"
      ],
      "text/plain": [
       "    Num         X         Y       Dist\n",
       "0    6a  132.0273  105.5994  48.286822\n",
       "1     6  106.5573  104.7235  72.991942\n",
       "2     7  140.6679  108.2610  39.255562\n",
       "3     8  167.3911  121.9081  10.148766\n",
       "4    7a  152.7813  117.7490  25.075741\n",
       "5    7b  155.1098  112.1205  24.402639\n",
       "6  9001  100.0000  100.0000   0.000000"
      ]
     },
     "execution_count": 134,
     "metadata": {},
     "output_type": "execute_result"
    }
   ],
   "source": [
    "df01"
   ]
  },
  {
   "cell_type": "markdown",
   "metadata": {},
   "source": [
    "Оригинальные координаты 990001:"
   ]
  },
  {
   "cell_type": "code",
   "execution_count": 135,
   "metadata": {
    "collapsed": false
   },
   "outputs": [
    {
     "data": {
      "text/html": [
       "<div>\n",
       "<table border=\"1\" class=\"dataframe\">\n",
       "  <thead>\n",
       "    <tr style=\"text-align: right;\">\n",
       "      <th></th>\n",
       "      <th>Num</th>\n",
       "      <th>X</th>\n",
       "      <th>Y</th>\n",
       "      <th>Dist</th>\n",
       "    </tr>\n",
       "  </thead>\n",
       "  <tbody>\n",
       "    <tr>\n",
       "      <th>0</th>\n",
       "      <td>6a</td>\n",
       "      <td>147.0338</td>\n",
       "      <td>84.9535</td>\n",
       "      <td>32.513093</td>\n",
       "    </tr>\n",
       "    <tr>\n",
       "      <th>1</th>\n",
       "      <td>6</td>\n",
       "      <td>124.3194</td>\n",
       "      <td>73.3954</td>\n",
       "      <td>8.081438</td>\n",
       "    </tr>\n",
       "    <tr>\n",
       "      <th>2</th>\n",
       "      <td>7</td>\n",
       "      <td>153.7402</td>\n",
       "      <td>91.0169</td>\n",
       "      <td>41.498460</td>\n",
       "    </tr>\n",
       "    <tr>\n",
       "      <th>3</th>\n",
       "      <td>8</td>\n",
       "      <td>172.1918</td>\n",
       "      <td>114.6797</td>\n",
       "      <td>70.862721</td>\n",
       "    </tr>\n",
       "    <tr>\n",
       "      <th>4</th>\n",
       "      <td>7a</td>\n",
       "      <td>160.7087</td>\n",
       "      <td>104.7360</td>\n",
       "      <td>55.685659</td>\n",
       "    </tr>\n",
       "    <tr>\n",
       "      <th>5</th>\n",
       "      <td>7b</td>\n",
       "      <td>165.1976</td>\n",
       "      <td>100.6186</td>\n",
       "      <td>56.426914</td>\n",
       "    </tr>\n",
       "    <tr>\n",
       "      <th>6</th>\n",
       "      <td>9002</td>\n",
       "      <td>181.4615</td>\n",
       "      <td>118.8113</td>\n",
       "      <td>0.000000</td>\n",
       "    </tr>\n",
       "  </tbody>\n",
       "</table>\n",
       "</div>"
      ],
      "text/plain": [
       "    Num         X         Y       Dist\n",
       "0    6a  147.0338   84.9535  32.513093\n",
       "1     6  124.3194   73.3954   8.081438\n",
       "2     7  153.7402   91.0169  41.498460\n",
       "3     8  172.1918  114.6797  70.862721\n",
       "4    7a  160.7087  104.7360  55.685659\n",
       "5    7b  165.1976  100.6186  56.426914\n",
       "6  9002  181.4615  118.8113   0.000000"
      ]
     },
     "execution_count": 135,
     "metadata": {},
     "output_type": "execute_result"
    }
   ],
   "source": [
    "df02"
   ]
  }
 ],
 "metadata": {
  "kernelspec": {
   "display_name": "Python 3",
   "language": "python",
   "name": "python3"
  },
  "language_info": {
   "codemirror_mode": {
    "name": "ipython",
    "version": 3
   },
   "file_extension": ".py",
   "mimetype": "text/x-python",
   "name": "python",
   "nbconvert_exporter": "python",
   "pygments_lexer": "ipython3",
   "version": "3.5.1"
  }
 },
 "nbformat": 4,
 "nbformat_minor": 0
}
