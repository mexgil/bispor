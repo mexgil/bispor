{
 "cells": [
  {
   "cell_type": "code",
   "execution_count": 19,
   "metadata": {
    "collapsed": false
   },
   "outputs": [
    {
     "data": {
      "text/html": [
       "<div>\n",
       "<table border=\"1\" class=\"dataframe\">\n",
       "  <thead>\n",
       "    <tr style=\"text-align: right;\">\n",
       "      <th></th>\n",
       "      <th>Num</th>\n",
       "      <th>X</th>\n",
       "      <th>Y</th>\n",
       "      <th>Dist</th>\n",
       "    </tr>\n",
       "  </thead>\n",
       "  <tbody>\n",
       "    <tr>\n",
       "      <th>0</th>\n",
       "      <td>603</td>\n",
       "      <td>-14378.0490</td>\n",
       "      <td>-342.1180</td>\n",
       "      <td>NaN</td>\n",
       "    </tr>\n",
       "    <tr>\n",
       "      <th>1</th>\n",
       "      <td>602</td>\n",
       "      <td>-14354.7712</td>\n",
       "      <td>-331.8323</td>\n",
       "      <td>NaN</td>\n",
       "    </tr>\n",
       "    <tr>\n",
       "      <th>2</th>\n",
       "      <td>604</td>\n",
       "      <td>-14403.6978</td>\n",
       "      <td>-341.6095</td>\n",
       "      <td>NaN</td>\n",
       "    </tr>\n",
       "    <tr>\n",
       "      <th>3</th>\n",
       "      <td>605</td>\n",
       "      <td>-14427.5944</td>\n",
       "      <td>-352.1128</td>\n",
       "      <td>NaN</td>\n",
       "    </tr>\n",
       "    <tr>\n",
       "      <th>4</th>\n",
       "      <td>606</td>\n",
       "      <td>-14453.2814</td>\n",
       "      <td>-351.6420</td>\n",
       "      <td>NaN</td>\n",
       "    </tr>\n",
       "    <tr>\n",
       "      <th>5</th>\n",
       "      <td>607</td>\n",
       "      <td>-14476.6640</td>\n",
       "      <td>-361.9899</td>\n",
       "      <td>NaN</td>\n",
       "    </tr>\n",
       "    <tr>\n",
       "      <th>6</th>\n",
       "      <td>608</td>\n",
       "      <td>-14502.2464</td>\n",
       "      <td>-361.5407</td>\n",
       "      <td>NaN</td>\n",
       "    </tr>\n",
       "    <tr>\n",
       "      <th>7</th>\n",
       "      <td>609</td>\n",
       "      <td>-14525.8242</td>\n",
       "      <td>-371.8829</td>\n",
       "      <td>NaN</td>\n",
       "    </tr>\n",
       "    <tr>\n",
       "      <th>8</th>\n",
       "      <td>601</td>\n",
       "      <td>-14329.0375</td>\n",
       "      <td>-332.2493</td>\n",
       "      <td>NaN</td>\n",
       "    </tr>\n",
       "    <tr>\n",
       "      <th>9</th>\n",
       "      <td>599</td>\n",
       "      <td>-14279.7980</td>\n",
       "      <td>-322.3381</td>\n",
       "      <td>NaN</td>\n",
       "    </tr>\n",
       "    <tr>\n",
       "      <th>10</th>\n",
       "      <td>598</td>\n",
       "      <td>-14255.4804</td>\n",
       "      <td>-311.8200</td>\n",
       "      <td>NaN</td>\n",
       "    </tr>\n",
       "    <tr>\n",
       "      <th>11</th>\n",
       "      <td>600</td>\n",
       "      <td>-14305.6390</td>\n",
       "      <td>-321.9061</td>\n",
       "      <td>NaN</td>\n",
       "    </tr>\n",
       "  </tbody>\n",
       "</table>\n",
       "</div>"
      ],
      "text/plain": [
       "    Num           X         Y  Dist\n",
       "0   603 -14378.0490 -342.1180   NaN\n",
       "1   602 -14354.7712 -331.8323   NaN\n",
       "2   604 -14403.6978 -341.6095   NaN\n",
       "3   605 -14427.5944 -352.1128   NaN\n",
       "4   606 -14453.2814 -351.6420   NaN\n",
       "5   607 -14476.6640 -361.9899   NaN\n",
       "6   608 -14502.2464 -361.5407   NaN\n",
       "7   609 -14525.8242 -371.8829   NaN\n",
       "8   601 -14329.0375 -332.2493   NaN\n",
       "9   599 -14279.7980 -322.3381   NaN\n",
       "10  598 -14255.4804 -311.8200   NaN\n",
       "11  600 -14305.6390 -321.9061   NaN"
      ]
     },
     "execution_count": 19,
     "metadata": {},
     "output_type": "execute_result"
    }
   ],
   "source": [
    "import pandas as pd\n",
    "\n",
    "df01 = pd.read_csv(r'data/chain2/104.csv',sep=';', names=['Num','X','Y','Dist'],dtype={'Num':'str'})\n",
    "df01"
   ]
  },
  {
   "cell_type": "code",
   "execution_count": 20,
   "metadata": {
    "collapsed": false
   },
   "outputs": [
    {
     "data": {
      "text/html": [
       "<div>\n",
       "<table border=\"1\" class=\"dataframe\">\n",
       "  <thead>\n",
       "    <tr style=\"text-align: right;\">\n",
       "      <th></th>\n",
       "      <th>Num</th>\n",
       "      <th>X</th>\n",
       "      <th>Y</th>\n",
       "      <th>Dist</th>\n",
       "    </tr>\n",
       "  </thead>\n",
       "  <tbody>\n",
       "    <tr>\n",
       "      <th>0</th>\n",
       "      <td>609</td>\n",
       "      <td>-14528.7183</td>\n",
       "      <td>-346.7268</td>\n",
       "      <td>NaN</td>\n",
       "    </tr>\n",
       "    <tr>\n",
       "      <th>1</th>\n",
       "      <td>608</td>\n",
       "      <td>-14504.4771</td>\n",
       "      <td>-338.0529</td>\n",
       "      <td>NaN</td>\n",
       "    </tr>\n",
       "    <tr>\n",
       "      <th>2</th>\n",
       "      <td>610</td>\n",
       "      <td>-14550.3901</td>\n",
       "      <td>-343.9227</td>\n",
       "      <td>NaN</td>\n",
       "    </tr>\n",
       "    <tr>\n",
       "      <th>3</th>\n",
       "      <td>611</td>\n",
       "      <td>-14572.5412</td>\n",
       "      <td>-352.4513</td>\n",
       "      <td>NaN</td>\n",
       "    </tr>\n",
       "    <tr>\n",
       "      <th>4</th>\n",
       "      <td>612</td>\n",
       "      <td>-14597.9004</td>\n",
       "      <td>-350.1745</td>\n",
       "      <td>NaN</td>\n",
       "    </tr>\n",
       "    <tr>\n",
       "      <th>5</th>\n",
       "      <td>610a</td>\n",
       "      <td>-14550.0088</td>\n",
       "      <td>-349.5743</td>\n",
       "      <td>NaN</td>\n",
       "    </tr>\n",
       "    <tr>\n",
       "      <th>6</th>\n",
       "      <td>611a</td>\n",
       "      <td>-14573.2219</td>\n",
       "      <td>-346.8979</td>\n",
       "      <td>NaN</td>\n",
       "    </tr>\n",
       "    <tr>\n",
       "      <th>7</th>\n",
       "      <td>612a</td>\n",
       "      <td>-14597.9052</td>\n",
       "      <td>-355.7832</td>\n",
       "      <td>NaN</td>\n",
       "    </tr>\n",
       "    <tr>\n",
       "      <th>8</th>\n",
       "      <td>607</td>\n",
       "      <td>-14478.9886</td>\n",
       "      <td>-340.2820</td>\n",
       "      <td>NaN</td>\n",
       "    </tr>\n",
       "    <tr>\n",
       "      <th>9</th>\n",
       "      <td>605</td>\n",
       "      <td>-14429.3495</td>\n",
       "      <td>-333.8482</td>\n",
       "      <td>NaN</td>\n",
       "    </tr>\n",
       "    <tr>\n",
       "      <th>10</th>\n",
       "      <td>604</td>\n",
       "      <td>-14404.7793</td>\n",
       "      <td>-325.0334</td>\n",
       "      <td>NaN</td>\n",
       "    </tr>\n",
       "    <tr>\n",
       "      <th>11</th>\n",
       "      <td>606</td>\n",
       "      <td>-14454.9418</td>\n",
       "      <td>-331.5884</td>\n",
       "      <td>NaN</td>\n",
       "    </tr>\n",
       "  </tbody>\n",
       "</table>\n",
       "</div>"
      ],
      "text/plain": [
       "     Num           X         Y  Dist\n",
       "0    609 -14528.7183 -346.7268   NaN\n",
       "1    608 -14504.4771 -338.0529   NaN\n",
       "2    610 -14550.3901 -343.9227   NaN\n",
       "3    611 -14572.5412 -352.4513   NaN\n",
       "4    612 -14597.9004 -350.1745   NaN\n",
       "5   610a -14550.0088 -349.5743   NaN\n",
       "6   611a -14573.2219 -346.8979   NaN\n",
       "7   612a -14597.9052 -355.7832   NaN\n",
       "8    607 -14478.9886 -340.2820   NaN\n",
       "9    605 -14429.3495 -333.8482   NaN\n",
       "10   604 -14404.7793 -325.0334   NaN\n",
       "11   606 -14454.9418 -331.5884   NaN"
      ]
     },
     "execution_count": 20,
     "metadata": {},
     "output_type": "execute_result"
    }
   ],
   "source": [
    "df02 = pd.read_csv(r'data/chain2/105.csv',sep=';', names=['Num','X','Y','Dist'],dtype={'Num':'str'})\n",
    "df02"
   ]
  },
  {
   "cell_type": "markdown",
   "metadata": {},
   "source": [
    "Дополнительный шаг - выборка номер одинаковых номеров пунктов.\n",
    "Сортирую номера и записи в таблицы, надеюсь, что принцип сортировки и в сете и в дф одинаковые, но лучше будет убедиться."
   ]
  },
  {
   "cell_type": "code",
   "execution_count": 21,
   "metadata": {
    "collapsed": false
   },
   "outputs": [],
   "source": [
    "inter = sorted(set(list(zip(*df01['Num'].iteritems()))[1]).intersection(set(list(zip(*df02['Num'].iteritems()))[1])))\n",
    "\n",
    "df01_com = df01.loc[df01['Num'].isin(inter)].sort_values(by='Num')\n",
    "df02_com = df02.loc[df02['Num'].isin(inter)].sort_values(by='Num')"
   ]
  },
  {
   "cell_type": "markdown",
   "metadata": {
    "collapsed": true
   },
   "source": [
    "Создаю по два набора точек - mp01,mp02 - все точки, включая стоянки. mp01_c, mp02_c - набор общих точек."
   ]
  },
  {
   "cell_type": "code",
   "execution_count": 22,
   "metadata": {
    "collapsed": false
   },
   "outputs": [],
   "source": [
    "from shapely.geometry import MultiPoint\n",
    "\n",
    "mp01 = MultiPoint([i[2:4] for i in df01.itertuples()])\n",
    "mp01_c = MultiPoint([i[2:4] for i in df01_com.itertuples()])\n",
    "mp02 = MultiPoint([i[2:4] for i in df02.itertuples()])\n",
    "mp02_c = MultiPoint([i[2:4] for i in df02_com.itertuples()])"
   ]
  },
  {
   "cell_type": "code",
   "execution_count": 39,
   "metadata": {
    "collapsed": false
   },
   "outputs": [],
   "source": [
    "import matplotlib.pyplot as plt\n",
    "%matplotlib inline  \n",
    "\n",
    "def plp(z,n):\n",
    "    for p in z:        \n",
    "        x = [i.x for i in p.geoms]\n",
    "        y = [i.y for i in p.geoms]\n",
    "        plt.figure(n)\n",
    "        plt.plot(x,y,'ro')\n",
    "        plt.plot(x,y,'ro')\n",
    "    plt.show()"
   ]
  },
  {
   "cell_type": "code",
   "execution_count": 40,
   "metadata": {
    "collapsed": false
   },
   "outputs": [
    {
     "data": {
      "image/png": "[encoded data removed]",
      "text/plain": [
       "<matplotlib.figure.Figure at 0xafc8630>"
      ]
     },
     "metadata": {},
     "output_type": "display_data"
    }
   ],
   "source": [
    "plp((mp01,mp02),0)"
   ]
  },
  {
   "cell_type": "code",
   "execution_count": 56,
   "metadata": {
    "collapsed": false
   },
   "outputs": [
    {
     "data": {
      "image/png": "[encoded data removed]",
      "text/plain": [
       "<matplotlib.figure.Figure at 0xaff49e8>"
      ]
     },
     "metadata": {},
     "output_type": "display_data"
    }
   ],
   "source": [
    "plp((mp01_c[0:-2],),1)"
   ]
  },
  {
   "cell_type": "code",
   "execution_count": 54,
   "metadata": {
    "collapsed": false
   },
   "outputs": [
    {
     "data": {
      "image/png": "[encoded data removed]",
      "text/plain": [
       "<matplotlib.figure.Figure at 0xb423160>"
      ]
     },
     "metadata": {},
     "output_type": "display_data"
    }
   ],
   "source": [
    "plp((mp02_c[0:-2],),1)"
   ]
  },
  {
   "cell_type": "code",
   "execution_count": 50,
   "metadata": {
    "collapsed": false
   },
   "outputs": [
    {
     "data": {
      "image/svg+xml": [
       "<svg xmlns=\"http://www.w3.org/2000/svg\" xmlns:xlink=\"http://www.w3.org/1999/xlink\" width=\"106.43248800000038\" height=\"100.0\" viewBox=\"-14506.188344 -365.93184399999996 106.43248800000038 28.264287999999908\" preserveAspectRatio=\"xMinYMin meet\"><g transform=\"matrix(1,0,0,-1,0,-703.5994000000001)\"><g><circle cx=\"-14403.6978\" cy=\"-341.6095\" r=\"3.0\" stroke=\"#555555\" stroke-width=\"1.0\" fill=\"#66cc99\" opacity=\"0.6\" /><circle cx=\"-14427.5944\" cy=\"-352.1128\" r=\"3.0\" stroke=\"#555555\" stroke-width=\"1.0\" fill=\"#66cc99\" opacity=\"0.6\" /><circle cx=\"-14453.2814\" cy=\"-351.642\" r=\"3.0\" stroke=\"#555555\" stroke-width=\"1.0\" fill=\"#66cc99\" opacity=\"0.6\" /><circle cx=\"-14476.664\" cy=\"-361.9899\" r=\"3.0\" stroke=\"#555555\" stroke-width=\"1.0\" fill=\"#66cc99\" opacity=\"0.6\" /><circle cx=\"-14502.2464\" cy=\"-361.5407\" r=\"3.0\" stroke=\"#555555\" stroke-width=\"1.0\" fill=\"#66cc99\" opacity=\"0.6\" /></g></g></svg>"
      ],
      "text/plain": [
       "<shapely.geometry.multipoint.MultiPoint at 0xb30bbe0>"
      ]
     },
     "execution_count": 50,
     "metadata": {},
     "output_type": "execute_result"
    }
   ],
   "source": [
    "mp01_c[0:-1]"
   ]
  },
  {
   "cell_type": "code",
   "execution_count": 47,
   "metadata": {
    "collapsed": false
   },
   "outputs": [
    {
     "data": {
      "image/svg+xml": [
       "<svg xmlns=\"http://www.w3.org/2000/svg\" xmlns:xlink=\"http://www.w3.org/1999/xlink\" width=\"133.85412000000179\" height=\"100.0\" viewBox=\"-14533.675860000001 -351.68436 133.85412000000179 31.608520000000055\" preserveAspectRatio=\"xMinYMin meet\"><g transform=\"matrix(1,0,0,-1,0,-671.7601999999999)\"><g><circle cx=\"-14404.7793\" cy=\"-325.0334\" r=\"3.0\" stroke=\"#555555\" stroke-width=\"1.0\" fill=\"#66cc99\" opacity=\"0.6\" /><circle cx=\"-14429.3495\" cy=\"-333.8482\" r=\"3.0\" stroke=\"#555555\" stroke-width=\"1.0\" fill=\"#66cc99\" opacity=\"0.6\" /><circle cx=\"-14454.9418\" cy=\"-331.5884\" r=\"3.0\" stroke=\"#555555\" stroke-width=\"1.0\" fill=\"#66cc99\" opacity=\"0.6\" /><circle cx=\"-14478.9886\" cy=\"-340.282\" r=\"3.0\" stroke=\"#555555\" stroke-width=\"1.0\" fill=\"#66cc99\" opacity=\"0.6\" /><circle cx=\"-14504.4771\" cy=\"-338.0529\" r=\"3.0\" stroke=\"#555555\" stroke-width=\"1.0\" fill=\"#66cc99\" opacity=\"0.6\" /><circle cx=\"-14528.7183\" cy=\"-346.7268\" r=\"3.0\" stroke=\"#555555\" stroke-width=\"1.0\" fill=\"#66cc99\" opacity=\"0.6\" /></g></g></svg>"
      ],
      "text/plain": [
       "<shapely.geometry.multipoint.MultiPoint at 0xafd54a8>"
      ]
     },
     "execution_count": 47,
     "metadata": {},
     "output_type": "execute_result"
    }
   ],
   "source": [
    "mp02_c"
   ]
  },
  {
   "cell_type": "code",
   "execution_count": 27,
   "metadata": {
    "collapsed": false
   },
   "outputs": [],
   "source": [
    "from shapely import affinity\n",
    "from scipy.optimize import minimize,rosen_der\n",
    "\n",
    "def mov(x,y,angle,geom):\n",
    "    geom_r = affinity.rotate(geom,angle,origin=(0,0))\n",
    "    geom_t = affinity.translate(geom_r,x,y)\n",
    "    return geom_t\n",
    "\n",
    "def calc_dist(geom1,geom2):\n",
    "    dist = 0\n",
    "    geom_list = zip(geom1,geom2)\n",
    "    for item in geom_list:\n",
    "        dist+=item[0].distance(item[1])\n",
    "    return dist\n",
    "\n",
    "def fun1(x0,geom1, geom2):\n",
    "    x,y,angle = x0\n",
    "    n_geom = mov(x,y,angle,geom2)\n",
    "    return calc_dist(geom1,n_geom)"
   ]
  },
  {
   "cell_type": "code",
   "execution_count": 28,
   "metadata": {
    "collapsed": false
   },
   "outputs": [],
   "source": [
    "x0 = (0,0,0)"
   ]
  },
  {
   "cell_type": "code",
   "execution_count": 62,
   "metadata": {
    "collapsed": false
   },
   "outputs": [
    {
     "data": {
      "text/plain": [
       "      fun: 0.00413180900139397\n",
       " hess_inv: array([[  2.91600510e+01,  -3.15495886e+02,  -1.25594544e+00],\n",
       "       [ -3.15495886e+02,   3.41370162e+03,   1.35893712e+01],\n",
       "       [ -1.25594544e+00,   1.35893712e+01,   5.40970660e-02]])\n",
       "      jac: array([  -1.12657373,    1.59910039, -427.74734462])\n",
       "  message: 'Desired error not necessarily achieved due to precision loss.'\n",
       "     nfev: 515\n",
       "      nit: 50\n",
       "     njev: 101\n",
       "   status: 2\n",
       "  success: False\n",
       "        x: array([ -56.51367247,  985.65206233,    3.99278398])"
      ]
     },
     "execution_count": 62,
     "metadata": {},
     "output_type": "execute_result"
    }
   ],
   "source": [
    "re = minimize(fun1,x0,args=(mp01_c[0:-2],mp02_c[0:-2]),method='BFGS')\n",
    "re"
   ]
  },
  {
   "cell_type": "code",
   "execution_count": 31,
   "metadata": {
    "collapsed": false
   },
   "outputs": [
    {
     "name": "stdout",
     "output_type": "stream",
     "text": [
      "-14403.697347301148 -341.60966060419094\n",
      "-14427.594003992825 -352.1141941987936\n",
      "-14453.281544468105 -351.64219879541054\n",
      "-14476.664512676143 -361.98937565588596\n",
      "-14502.24636714613 -361.54077679680347\n",
      "-14525.824635312296 -371.8818400368383\n"
     ]
    }
   ],
   "source": [
    "zz = mov(*re.x,mp02_c)\n",
    "for i in zz:\n",
    "    print(i.x,i.y)"
   ]
  },
  {
   "cell_type": "code",
   "execution_count": 32,
   "metadata": {
    "collapsed": false
   },
   "outputs": [
    {
     "name": "stdout",
     "output_type": "stream",
     "text": [
      "-14525.824635312296 -371.8818400368383\n",
      "-14502.24636714613 -361.54077679680347\n",
      "-14547.639101314395 -370.5938318485072\n",
      "-14569.142463339076 -380.6443875946094\n",
      "-14594.598653708359 -380.1391997454874\n",
      "-14546.865134224472 -376.20515497177473\n",
      "-14570.20826456823 -375.15187707664643\n",
      "-14594.212836839877 -385.7346160904964\n",
      "-14476.664512676143 -361.98937565588596\n",
      "-14427.594003992825 -352.1141941987936\n",
      "-14403.697347301148 -341.60966060419094\n",
      "-14453.281544468105 -351.64219879541054\n"
     ]
    }
   ],
   "source": [
    "zz = mov(*re.x,mp02)\n",
    "for i in zz:\n",
    "    print(i.x,i.y)"
   ]
  },
  {
   "cell_type": "code",
   "execution_count": 18,
   "metadata": {
    "collapsed": false
   },
   "outputs": [
    {
     "data": {
      "text/plain": [
       "      fun: 12.07410718039256\n",
       " hess_inv: array([[  1.19870399e-04,  -2.24167039e-03,  -9.46294742e-06],\n",
       "       [ -2.24167039e-03,   7.34438857e-02,   3.06411826e-04],\n",
       "       [ -9.46294742e-06,   3.06411826e-04,   1.27973635e-06]])\n",
       "      jac: array([ -0.50202334,   0.11192298, -21.45583606])\n",
       "  message: 'Desired error not necessarily achieved due to precision loss.'\n",
       "     nfev: 352\n",
       "      nit: 14\n",
       "     njev: 68\n",
       "   status: 2\n",
       "  success: False\n",
       "        x: array([ 1.79654637,  0.06240188,  0.08615028])"
      ]
     },
     "execution_count": 18,
     "metadata": {},
     "output_type": "execute_result"
    }
   ],
   "source": [
    "re2 = minimize(fun1,x0,args=(mp01_c,zz),method='BFGS')\n",
    "re"
   ]
  },
  {
   "cell_type": "code",
   "execution_count": 49,
   "metadata": {
    "collapsed": false
   },
   "outputs": [
    {
     "data": {
      "image/svg+xml": [
       "<svg xmlns=\"http://www.w3.org/2000/svg\" xmlns:xlink=\"http://www.w3.org/1999/xlink\" width=\"206.17341091978778\" height=\"100.0\" viewBox=\"-14602.234705964647 -393.37066834678484 206.17341091978778 59.397059998882355\" preserveAspectRatio=\"xMinYMin meet\"><g transform=\"matrix(1,0,0,-1,0,-727.3442766946873)\"><g><circle cx=\"-14525.824635312296\" cy=\"-371.8818400368383\" r=\"3.0\" stroke=\"#555555\" stroke-width=\"1.0\" fill=\"#66cc99\" opacity=\"0.6\" /><circle cx=\"-14502.24636714613\" cy=\"-361.54077679680347\" r=\"3.0\" stroke=\"#555555\" stroke-width=\"1.0\" fill=\"#66cc99\" opacity=\"0.6\" /><circle cx=\"-14547.639101314395\" cy=\"-370.5938318485072\" r=\"3.0\" stroke=\"#555555\" stroke-width=\"1.0\" fill=\"#66cc99\" opacity=\"0.6\" /><circle cx=\"-14569.142463339076\" cy=\"-380.6443875946094\" r=\"3.0\" stroke=\"#555555\" stroke-width=\"1.0\" fill=\"#66cc99\" opacity=\"0.6\" /><circle cx=\"-14594.598653708359\" cy=\"-380.1391997454874\" r=\"3.0\" stroke=\"#555555\" stroke-width=\"1.0\" fill=\"#66cc99\" opacity=\"0.6\" /><circle cx=\"-14546.865134224472\" cy=\"-376.20515497177473\" r=\"3.0\" stroke=\"#555555\" stroke-width=\"1.0\" fill=\"#66cc99\" opacity=\"0.6\" /><circle cx=\"-14570.20826456823\" cy=\"-375.15187707664643\" r=\"3.0\" stroke=\"#555555\" stroke-width=\"1.0\" fill=\"#66cc99\" opacity=\"0.6\" /><circle cx=\"-14594.212836839877\" cy=\"-385.7346160904964\" r=\"3.0\" stroke=\"#555555\" stroke-width=\"1.0\" fill=\"#66cc99\" opacity=\"0.6\" /><circle cx=\"-14476.664512676143\" cy=\"-361.98937565588596\" r=\"3.0\" stroke=\"#555555\" stroke-width=\"1.0\" fill=\"#66cc99\" opacity=\"0.6\" /><circle cx=\"-14427.594003992825\" cy=\"-352.1141941987936\" r=\"3.0\" stroke=\"#555555\" stroke-width=\"1.0\" fill=\"#66cc99\" opacity=\"0.6\" /><circle cx=\"-14403.697347301148\" cy=\"-341.60966060419094\" r=\"3.0\" stroke=\"#555555\" stroke-width=\"1.0\" fill=\"#66cc99\" opacity=\"0.6\" /><circle cx=\"-14453.281544468105\" cy=\"-351.64219879541054\" r=\"3.0\" stroke=\"#555555\" stroke-width=\"1.0\" fill=\"#66cc99\" opacity=\"0.6\" /></g></g></svg>"
      ],
      "text/plain": [
       "<shapely.geometry.multipoint.MultiPoint at 0xa524860>"
      ]
     },
     "execution_count": 49,
     "metadata": {},
     "output_type": "execute_result"
    }
   ],
   "source": [
    "mp_moved = mov(*re.x,mp02)\n",
    "mp_moved"
   ]
  },
  {
   "cell_type": "code",
   "execution_count": 50,
   "metadata": {
    "collapsed": false
   },
   "outputs": [
    {
     "data": {
      "image/png": "[encoded data removed]",
      "text/plain": [
       "<matplotlib.figure.Figure at 0xa5240b8>"
      ]
     },
     "metadata": {},
     "output_type": "display_data"
    }
   ],
   "source": [
    "plp(mp01_c,7)"
   ]
  },
  {
   "cell_type": "code",
   "execution_count": 51,
   "metadata": {
    "collapsed": false
   },
   "outputs": [
    {
     "data": {
      "image/png": "[encoded data removed]",
      "text/plain": [
       "<matplotlib.figure.Figure at 0xa488550>"
      ]
     },
     "metadata": {},
     "output_type": "display_data"
    }
   ],
   "source": [
    "plp(mov(*re.x,mp02_c),6)"
   ]
  },
  {
   "cell_type": "markdown",
   "metadata": {},
   "source": [
    "Считаем расстояния от стоянки 99002 до всех точек.  \n",
    "До сдвижки, после сдвижки, значение сдвижки."
   ]
  },
  {
   "cell_type": "code",
   "execution_count": 52,
   "metadata": {
    "collapsed": false
   },
   "outputs": [
    {
     "data": {
      "text/html": [
       "<div>\n",
       "<table border=\"1\" class=\"dataframe\">\n",
       "  <thead>\n",
       "    <tr style=\"text-align: right;\">\n",
       "      <th></th>\n",
       "      <th>Before</th>\n",
       "      <th>After</th>\n",
       "      <th>Diff</th>\n",
       "    </tr>\n",
       "  </thead>\n",
       "  <tbody>\n",
       "    <tr>\n",
       "      <th>0</th>\n",
       "      <td>75.313632</td>\n",
       "      <td>75.313632</td>\n",
       "      <td>-1.108447e-12</td>\n",
       "    </tr>\n",
       "    <tr>\n",
       "      <th>1</th>\n",
       "      <td>49.955337</td>\n",
       "      <td>49.955337</td>\n",
       "      <td>-9.379164e-13</td>\n",
       "    </tr>\n",
       "    <tr>\n",
       "      <th>2</th>\n",
       "      <td>96.241950</td>\n",
       "      <td>96.241950</td>\n",
       "      <td>3.126388e-13</td>\n",
       "    </tr>\n",
       "    <tr>\n",
       "      <th>3</th>\n",
       "      <td>119.435671</td>\n",
       "      <td>119.435671</td>\n",
       "      <td>-8.952838e-13</td>\n",
       "    </tr>\n",
       "    <tr>\n",
       "      <th>4</th>\n",
       "      <td>144.161730</td>\n",
       "      <td>144.161730</td>\n",
       "      <td>-1.591616e-12</td>\n",
       "    </tr>\n",
       "    <tr>\n",
       "      <th>5</th>\n",
       "      <td>96.753435</td>\n",
       "      <td>96.753435</td>\n",
       "      <td>-3.979039e-13</td>\n",
       "    </tr>\n",
       "    <tr>\n",
       "      <th>6</th>\n",
       "      <td>119.266772</td>\n",
       "      <td>119.266772</td>\n",
       "      <td>1.989520e-13</td>\n",
       "    </tr>\n",
       "    <tr>\n",
       "      <th>7</th>\n",
       "      <td>144.996283</td>\n",
       "      <td>144.996283</td>\n",
       "      <td>-1.392664e-12</td>\n",
       "    </tr>\n",
       "    <tr>\n",
       "      <th>8</th>\n",
       "      <td>25.570046</td>\n",
       "      <td>25.570046</td>\n",
       "      <td>-1.108447e-12</td>\n",
       "    </tr>\n",
       "    <tr>\n",
       "      <th>9</th>\n",
       "      <td>25.691876</td>\n",
       "      <td>25.691876</td>\n",
       "      <td>6.750156e-14</td>\n",
       "    </tr>\n",
       "    <tr>\n",
       "      <th>10</th>\n",
       "      <td>50.588975</td>\n",
       "      <td>50.588975</td>\n",
       "      <td>7.105427e-15</td>\n",
       "    </tr>\n",
       "    <tr>\n",
       "      <th>11</th>\n",
       "      <td>0.000000</td>\n",
       "      <td>0.000000</td>\n",
       "      <td>0.000000e+00</td>\n",
       "    </tr>\n",
       "  </tbody>\n",
       "</table>\n",
       "</div>"
      ],
      "text/plain": [
       "        Before       After          Diff\n",
       "0    75.313632   75.313632 -1.108447e-12\n",
       "1    49.955337   49.955337 -9.379164e-13\n",
       "2    96.241950   96.241950  3.126388e-13\n",
       "3   119.435671  119.435671 -8.952838e-13\n",
       "4   144.161730  144.161730 -1.591616e-12\n",
       "5    96.753435   96.753435 -3.979039e-13\n",
       "6   119.266772  119.266772  1.989520e-13\n",
       "7   144.996283  144.996283 -1.392664e-12\n",
       "8    25.570046   25.570046 -1.108447e-12\n",
       "9    25.691876   25.691876  6.750156e-14\n",
       "10   50.588975   50.588975  7.105427e-15\n",
       "11    0.000000    0.000000  0.000000e+00"
      ]
     },
     "execution_count": 52,
     "metadata": {},
     "output_type": "execute_result"
    }
   ],
   "source": [
    "dist_do = [mp02[-1].distance(i) for i in mp02]\n",
    "dist_po = [mp_moved[-1].distance(i) for i in mp_moved]\n",
    "od = zip(dist_do,dist_po)\n",
    "od = [[i[0],i[1],i[0]-i[1]] for i in od]\n",
    "df_od = pd.DataFrame.from_records(od,columns=('Before','After','Diff'))\n",
    "df_od"
   ]
  },
  {
   "cell_type": "markdown",
   "metadata": {},
   "source": [
    "Расстояние между всеми точками:"
   ]
  },
  {
   "cell_type": "code",
   "execution_count": 115,
   "metadata": {
    "collapsed": false
   },
   "outputs": [
    {
     "data": {
      "text/plain": [
       "[[(0.0, 0.0),\n",
       "  (25.448999927896534, 25.44899992789563),\n",
       "  (25.653840135347185, 25.65384013534917),\n",
       "  (50.54347325026157, 50.54347325026195),\n",
       "  (75.83284635143167, 75.83284635143289),\n",
       "  (100.59726951866018, 100.59726951866027),\n",
       "  (125.70694269629573, 125.70694269629684),\n",
       "  (150.74302307917762, 150.74302307917912),\n",
       "  (49.995183487412575, 49.99518348741111),\n",
       "  (100.22227020483042, 100.22227020482927),\n",
       "  (126.25779385828079, 126.25779385827937),\n",
       "  (75.17798215974038, 75.17798215973897)],\n",
       " [(25.448999927896534, 25.44899992789563),\n",
       "  (0.0, 0.0),\n",
       "  (49.89394579906532, 49.89394579906614),\n",
       "  (75.5944253135779, 75.59442531357728),\n",
       "  (100.48225573766805, 100.4822557376682),\n",
       "  (125.56805138887978, 125.56805138887886),\n",
       "  (150.43777333369513, 150.4377733336952),\n",
       "  (175.67919446923693, 175.6791944692374),\n",
       "  (25.737078402373907, 25.73707840237333),\n",
       "  (75.57195612050664, 75.57195612050648),\n",
       "  (101.28748745985247, 101.28748745985204),\n",
       "  (50.12486930935582, 50.124869309355354)],\n",
       " [(25.653840135347185, 25.65384013534917),\n",
       "  (49.89394579906532, 49.89394579906614),\n",
       "  (0.0, 0.0),\n",
       "  (26.10300370551253, 26.103003705511302),\n",
       "  (50.58838251229221, 50.58838251229156),\n",
       "  (75.75900637284063, 75.75900637283895),\n",
       "  (100.5439172471414, 100.54391724714064),\n",
       "  (125.82263836257687, 125.82263836257657),\n",
       "  (75.24475888811082, 75.24475888811118),\n",
       "  (125.38958209516375, 125.38958209516444),\n",
       "  (151.18138765406894, 151.18138765406934),\n",
       "  (100.01875938542798, 100.01875938542834)],\n",
       " [(50.54347325026157, 50.54347325026195),\n",
       "  (75.5944253135779, 75.59442531357728),\n",
       "  (26.10300370551253, 26.103003705511302),\n",
       "  (0.0, 0.0),\n",
       "  (25.691314128319608, 25.691314128320528),\n",
       "  (50.053798542868556, 50.053798542868265),\n",
       "  (75.24497592803128, 75.24497592803202),\n",
       "  (100.19955320284535, 100.19955320284647),\n",
       "  (100.53865510270127, 100.53865510270016),\n",
       "  (150.765740846685, 150.76574084668422),\n",
       "  (176.76747078532253, 176.76747078532148),\n",
       "  (125.64061570228866, 125.64061570228758)],\n",
       " [(75.83284635143167, 75.83284635143289),\n",
       "  (100.48225573766805, 100.4822557376682),\n",
       "  (50.58838251229221, 50.58838251229156),\n",
       "  (25.691314128319608, 25.691314128320528),\n",
       "  (0.0, 0.0),\n",
       "  (25.570002291162158, 25.57000229116122),\n",
       "  (49.955535095622935, 49.95553509562284),\n",
       "  (75.31368975591286, 75.31368975591319),\n",
       "  (125.74825446303369, 125.74825446303338),\n",
       "  (175.94092369534073, 175.94092369534076),\n",
       "  (201.76973827856295, 201.76973827856267),\n",
       "  (150.60711147409404, 150.60711147409373)],\n",
       " [(100.59726951866018, 100.59726951866027),\n",
       "  (125.56805138887978, 125.56805138887886),\n",
       "  (75.75900637284063, 75.75900637283895),\n",
       "  (50.053798542868556, 50.053798542868265),\n",
       "  (25.570002291162158, 25.57000229116122),\n",
       "  (0.0, 0.0),\n",
       "  (25.586343435511946, 25.586343435513033),\n",
       "  (50.14575468611323, 50.14575468611465),\n",
       "  (150.59245263495143, 150.59245263495004),\n",
       "  (200.8195388881271, 200.81953888812603),\n",
       "  (226.80212471440854, 226.8021247144072),\n",
       "  (175.65950485937418, 175.6595048593728)],\n",
       " [(125.70694269629573, 125.70694269629684),\n",
       "  (150.43777333369513, 150.4377733336952),\n",
       "  (100.5439172471414, 100.54391724714064),\n",
       "  (75.24497592803128, 75.24497592803202),\n",
       "  (49.955535095622935, 49.95553509562284),\n",
       "  (25.586343435511946, 25.586343435513033),\n",
       "  (0.0, 0.0),\n",
       "  (25.746334762058037, 25.746334762058456),\n",
       "  (175.66817911383345, 175.66817911383305),\n",
       "  (225.87636996666936, 225.87636996666927),\n",
       "  (251.72526048152142, 251.72526048152108),\n",
       "  (200.5626367295771, 200.5626367295767)],\n",
       " [(150.74302307917762, 150.74302307917912),\n",
       "  (175.67919446923693, 175.6791944692374),\n",
       "  (125.82263836257687, 125.82263836257657),\n",
       "  (100.19955320284535, 100.19955320284647),\n",
       "  (75.31368975591286, 75.31368975591319),\n",
       "  (50.14575468611323, 50.14575468611465),\n",
       "  (25.746334762058037, 25.746334762058456),\n",
       "  (0.0, 0.0),\n",
       "  (200.7382064925596, 200.73820649255964),\n",
       "  (250.96529300578442, 250.9652930057848),\n",
       "  (276.93559206943644, 276.9355920694365),\n",
       "  (225.78574542534778, 225.7857454253478)],\n",
       " [(49.995183487412575, 49.99518348741111),\n",
       "  (25.737078402373907, 25.73707840237333),\n",
       "  (75.24475888811082, 75.24475888811118),\n",
       "  (100.53865510270127, 100.53865510270016),\n",
       "  (125.74825446303369, 125.74825446303338),\n",
       "  (150.59245263495143, 150.59245263495004),\n",
       "  (175.66817911383345, 175.66817911383305),\n",
       "  (200.7382064925596, 200.73820649255964),\n",
       "  (0.0, 0.0),\n",
       "  (50.22708677287554, 50.22708677287585),\n",
       "  (76.34136008023435, 76.34136008023432),\n",
       "  (25.582642328150044, 25.582642328150015)],\n",
       " [(100.22227020483042, 100.22227020482927),\n",
       "  (75.57195612050664, 75.57195612050648),\n",
       "  (125.38958209516375, 125.38958209516444),\n",
       "  (150.765740846685, 150.76574084668422),\n",
       "  (175.94092369534073, 175.94092369534076),\n",
       "  (200.8195388881271, 200.81953888812603),\n",
       "  (225.87636996666936, 225.87636996666927),\n",
       "  (250.96529300578442, 250.9652930057848),\n",
       "  (50.22708677287554, 50.22708677287585),\n",
       "  (0.0, 0.0),\n",
       "  (26.494831521827333, 26.494831521826974),\n",
       "  (25.84461075349993, 25.844610753500316)],\n",
       " [(126.25779385828079, 126.25779385827937),\n",
       "  (101.28748745985247, 101.28748745985204),\n",
       "  (151.18138765406894, 151.18138765406934),\n",
       "  (176.76747078532253, 176.76747078532148),\n",
       "  (201.76973827856295, 201.76973827856267),\n",
       "  (226.80212471440854, 226.8021247144072),\n",
       "  (251.72526048152142, 251.72526048152108),\n",
       "  (276.93559206943644, 276.9355920694365),\n",
       "  (76.34136008023435, 76.34136008023432),\n",
       "  (26.494831521827333, 26.494831521826974),\n",
       "  (0.0, 0.0),\n",
       "  (51.1626286186498, 51.16262861864984)],\n",
       " [(75.17798215974038, 75.17798215973897),\n",
       "  (50.12486930935582, 50.124869309355354),\n",
       "  (100.01875938542798, 100.01875938542834),\n",
       "  (125.64061570228866, 125.64061570228758),\n",
       "  (150.60711147409404, 150.60711147409373),\n",
       "  (175.65950485937418, 175.6595048593728),\n",
       "  (200.5626367295771, 200.5626367295767),\n",
       "  (225.78574542534778, 225.7857454253478),\n",
       "  (25.582642328150044, 25.582642328150015),\n",
       "  (25.84461075349993, 25.844610753500316),\n",
       "  (51.1626286186498, 51.16262861864984),\n",
       "  (0.0, 0.0)]]"
      ]
     },
     "execution_count": 115,
     "metadata": {},
     "output_type": "execute_result"
    }
   ],
   "source": [
    "all_l = []\n",
    "for origin in mp02:\n",
    "    nap = []\n",
    "    for p in mp02:\n",
    "        nap.append(origin.distance(p))\n",
    "    all_l.append(nap)\n",
    "\n",
    "all_2 = []\n",
    "for origin in mp_moved:\n",
    "    nap = []\n",
    "    for p in mp_moved:\n",
    "        nap.append(origin.distance(p))\n",
    "    all_2.append(nap)\n",
    "\n",
    "all_a = [list(zip(i[0],i[1])) for i in list(zip(all_l,all_2))]\n",
    "all_a"
   ]
  },
  {
   "cell_type": "markdown",
   "metadata": {},
   "source": [
    "Таблица с координатам сдвинутого 99002:"
   ]
  },
  {
   "cell_type": "code",
   "execution_count": 116,
   "metadata": {
    "collapsed": false
   },
   "outputs": [
    {
     "data": {
      "text/html": [
       "<div>\n",
       "<table border=\"1\" class=\"dataframe\">\n",
       "  <thead>\n",
       "    <tr style=\"text-align: right;\">\n",
       "      <th></th>\n",
       "      <th>Num</th>\n",
       "      <th>X</th>\n",
       "      <th>Y</th>\n",
       "      <th>Dist</th>\n",
       "    </tr>\n",
       "  </thead>\n",
       "  <tbody>\n",
       "    <tr>\n",
       "      <th>0</th>\n",
       "      <td>603</td>\n",
       "      <td>-14367.718631</td>\n",
       "      <td>-391.157227</td>\n",
       "      <td>75.177982</td>\n",
       "    </tr>\n",
       "    <tr>\n",
       "      <th>1</th>\n",
       "      <td>602</td>\n",
       "      <td>-14346.579345</td>\n",
       "      <td>-376.987464</td>\n",
       "      <td>50.124869</td>\n",
       "    </tr>\n",
       "    <tr>\n",
       "      <th>2</th>\n",
       "      <td>604</td>\n",
       "      <td>-14393.066409</td>\n",
       "      <td>-395.108135</td>\n",
       "      <td>100.018759</td>\n",
       "    </tr>\n",
       "    <tr>\n",
       "      <th>3</th>\n",
       "      <td>605</td>\n",
       "      <td>-14414.777336</td>\n",
       "      <td>-409.599596</td>\n",
       "      <td>125.640616</td>\n",
       "    </tr>\n",
       "    <tr>\n",
       "      <th>4</th>\n",
       "      <td>606</td>\n",
       "      <td>-14440.156190</td>\n",
       "      <td>-413.594262</td>\n",
       "      <td>150.607111</td>\n",
       "    </tr>\n",
       "    <tr>\n",
       "      <th>5</th>\n",
       "      <td>607</td>\n",
       "      <td>-14461.387890</td>\n",
       "      <td>-427.843470</td>\n",
       "      <td>175.659505</td>\n",
       "    </tr>\n",
       "    <tr>\n",
       "      <th>6</th>\n",
       "      <td>608</td>\n",
       "      <td>-14486.659984</td>\n",
       "      <td>-431.841253</td>\n",
       "      <td>200.562637</td>\n",
       "    </tr>\n",
       "    <tr>\n",
       "      <th>7</th>\n",
       "      <td>609</td>\n",
       "      <td>-14508.084910</td>\n",
       "      <td>-446.118727</td>\n",
       "      <td>225.785745</td>\n",
       "    </tr>\n",
       "    <tr>\n",
       "      <th>8</th>\n",
       "      <td>601</td>\n",
       "      <td>-14321.163836</td>\n",
       "      <td>-372.931709</td>\n",
       "      <td>25.582642</td>\n",
       "    </tr>\n",
       "    <tr>\n",
       "      <th>9</th>\n",
       "      <td>599</td>\n",
       "      <td>-14274.391879</td>\n",
       "      <td>-354.624764</td>\n",
       "      <td>25.844611</td>\n",
       "    </tr>\n",
       "    <tr>\n",
       "      <th>10</th>\n",
       "      <td>598</td>\n",
       "      <td>-14252.268910</td>\n",
       "      <td>-340.045658</td>\n",
       "      <td>51.162629</td>\n",
       "    </tr>\n",
       "    <tr>\n",
       "      <th>11</th>\n",
       "      <td>600</td>\n",
       "      <td>-14299.915662</td>\n",
       "      <td>-358.684370</td>\n",
       "      <td>0.000000</td>\n",
       "    </tr>\n",
       "  </tbody>\n",
       "</table>\n",
       "</div>"
      ],
      "text/plain": [
       "    Num             X           Y        Dist\n",
       "0   603 -14367.718631 -391.157227   75.177982\n",
       "1   602 -14346.579345 -376.987464   50.124869\n",
       "2   604 -14393.066409 -395.108135  100.018759\n",
       "3   605 -14414.777336 -409.599596  125.640616\n",
       "4   606 -14440.156190 -413.594262  150.607111\n",
       "5   607 -14461.387890 -427.843470  175.659505\n",
       "6   608 -14486.659984 -431.841253  200.562637\n",
       "7   609 -14508.084910 -446.118727  225.785745\n",
       "8   601 -14321.163836 -372.931709   25.582642\n",
       "9   599 -14274.391879 -354.624764   25.844611\n",
       "10  598 -14252.268910 -340.045658   51.162629\n",
       "11  600 -14299.915662 -358.684370    0.000000"
      ]
     },
     "execution_count": 116,
     "metadata": {},
     "output_type": "execute_result"
    }
   ],
   "source": [
    "df2_nums = list(zip(*df02['Num'].iteritems()))[1]\n",
    "al = list(zip(df2_nums,mp_moved))\n",
    "mov_stag = [[i[0],i[1].x,i[1].y,al[-1][1].distance(i[1])] for i in al]\n",
    "mov_df = pd.DataFrame.from_records(mov_stag,columns=('Num','X','Y','Dist'))\n",
    "mov_df\n",
    "\n"
   ]
  },
  {
   "cell_type": "markdown",
   "metadata": {},
   "source": [
    "Координаты 99001:"
   ]
  },
  {
   "cell_type": "code",
   "execution_count": 118,
   "metadata": {
    "collapsed": false
   },
   "outputs": [
    {
     "data": {
      "text/html": [
       "<div>\n",
       "<table border=\"1\" class=\"dataframe\">\n",
       "  <thead>\n",
       "    <tr style=\"text-align: right;\">\n",
       "      <th></th>\n",
       "      <th>Num</th>\n",
       "      <th>X</th>\n",
       "      <th>Y</th>\n",
       "      <th>Dist</th>\n",
       "    </tr>\n",
       "  </thead>\n",
       "  <tbody>\n",
       "    <tr>\n",
       "      <th>0</th>\n",
       "      <td>597</td>\n",
       "      <td>-14227.1757</td>\n",
       "      <td>-336.1428</td>\n",
       "      <td>NaN</td>\n",
       "    </tr>\n",
       "    <tr>\n",
       "      <th>1</th>\n",
       "      <td>596</td>\n",
       "      <td>-14205.7968</td>\n",
       "      <td>-321.8240</td>\n",
       "      <td>NaN</td>\n",
       "    </tr>\n",
       "    <tr>\n",
       "      <th>2</th>\n",
       "      <td>598</td>\n",
       "      <td>-14252.2691</td>\n",
       "      <td>-340.0457</td>\n",
       "      <td>NaN</td>\n",
       "    </tr>\n",
       "    <tr>\n",
       "      <th>3</th>\n",
       "      <td>599</td>\n",
       "      <td>-14274.3920</td>\n",
       "      <td>-354.6250</td>\n",
       "      <td>NaN</td>\n",
       "    </tr>\n",
       "    <tr>\n",
       "      <th>4</th>\n",
       "      <td>600</td>\n",
       "      <td>-14299.9163</td>\n",
       "      <td>-358.6838</td>\n",
       "      <td>NaN</td>\n",
       "    </tr>\n",
       "    <tr>\n",
       "      <th>5</th>\n",
       "      <td>601</td>\n",
       "      <td>-14321.1641</td>\n",
       "      <td>-372.9319</td>\n",
       "      <td>NaN</td>\n",
       "    </tr>\n",
       "    <tr>\n",
       "      <th>6</th>\n",
       "      <td>602</td>\n",
       "      <td>-14346.5794</td>\n",
       "      <td>-376.9875</td>\n",
       "      <td>NaN</td>\n",
       "    </tr>\n",
       "    <tr>\n",
       "      <th>7</th>\n",
       "      <td>603</td>\n",
       "      <td>-14367.7186</td>\n",
       "      <td>-391.1576</td>\n",
       "      <td>NaN</td>\n",
       "    </tr>\n",
       "    <tr>\n",
       "      <th>8</th>\n",
       "      <td>595</td>\n",
       "      <td>-14180.5512</td>\n",
       "      <td>-317.8627</td>\n",
       "      <td>NaN</td>\n",
       "    </tr>\n",
       "    <tr>\n",
       "      <th>9</th>\n",
       "      <td>593</td>\n",
       "      <td>-14133.8874</td>\n",
       "      <td>-299.5836</td>\n",
       "      <td>NaN</td>\n",
       "    </tr>\n",
       "    <tr>\n",
       "      <th>10</th>\n",
       "      <td>594</td>\n",
       "      <td>-14159.2446</td>\n",
       "      <td>-303.6052</td>\n",
       "      <td>NaN</td>\n",
       "    </tr>\n",
       "    <tr>\n",
       "      <th>11</th>\n",
       "      <td>597a</td>\n",
       "      <td>-14229.0198</td>\n",
       "      <td>-330.9174</td>\n",
       "      <td>NaN</td>\n",
       "    </tr>\n",
       "  </tbody>\n",
       "</table>\n",
       "</div>"
      ],
      "text/plain": [
       "     Num           X         Y  Dist\n",
       "0    597 -14227.1757 -336.1428   NaN\n",
       "1    596 -14205.7968 -321.8240   NaN\n",
       "2    598 -14252.2691 -340.0457   NaN\n",
       "3    599 -14274.3920 -354.6250   NaN\n",
       "4    600 -14299.9163 -358.6838   NaN\n",
       "5    601 -14321.1641 -372.9319   NaN\n",
       "6    602 -14346.5794 -376.9875   NaN\n",
       "7    603 -14367.7186 -391.1576   NaN\n",
       "8    595 -14180.5512 -317.8627   NaN\n",
       "9    593 -14133.8874 -299.5836   NaN\n",
       "10   594 -14159.2446 -303.6052   NaN\n",
       "11  597a -14229.0198 -330.9174   NaN"
      ]
     },
     "execution_count": 118,
     "metadata": {},
     "output_type": "execute_result"
    }
   ],
   "source": [
    "df01"
   ]
  },
  {
   "cell_type": "markdown",
   "metadata": {},
   "source": [
    "Оригинальные координаты 990002:"
   ]
  },
  {
   "cell_type": "code",
   "execution_count": 119,
   "metadata": {
    "collapsed": false,
    "scrolled": true
   },
   "outputs": [
    {
     "data": {
      "text/html": [
       "<div>\n",
       "<table border=\"1\" class=\"dataframe\">\n",
       "  <thead>\n",
       "    <tr style=\"text-align: right;\">\n",
       "      <th></th>\n",
       "      <th>Num</th>\n",
       "      <th>X</th>\n",
       "      <th>Y</th>\n",
       "      <th>Dist</th>\n",
       "    </tr>\n",
       "  </thead>\n",
       "  <tbody>\n",
       "    <tr>\n",
       "      <th>0</th>\n",
       "      <td>603</td>\n",
       "      <td>-14378.0490</td>\n",
       "      <td>-342.1180</td>\n",
       "      <td>NaN</td>\n",
       "    </tr>\n",
       "    <tr>\n",
       "      <th>1</th>\n",
       "      <td>602</td>\n",
       "      <td>-14354.7712</td>\n",
       "      <td>-331.8323</td>\n",
       "      <td>NaN</td>\n",
       "    </tr>\n",
       "    <tr>\n",
       "      <th>2</th>\n",
       "      <td>604</td>\n",
       "      <td>-14403.6978</td>\n",
       "      <td>-341.6095</td>\n",
       "      <td>NaN</td>\n",
       "    </tr>\n",
       "    <tr>\n",
       "      <th>3</th>\n",
       "      <td>605</td>\n",
       "      <td>-14427.5944</td>\n",
       "      <td>-352.1128</td>\n",
       "      <td>NaN</td>\n",
       "    </tr>\n",
       "    <tr>\n",
       "      <th>4</th>\n",
       "      <td>606</td>\n",
       "      <td>-14453.2814</td>\n",
       "      <td>-351.6420</td>\n",
       "      <td>NaN</td>\n",
       "    </tr>\n",
       "    <tr>\n",
       "      <th>5</th>\n",
       "      <td>607</td>\n",
       "      <td>-14476.6640</td>\n",
       "      <td>-361.9899</td>\n",
       "      <td>NaN</td>\n",
       "    </tr>\n",
       "    <tr>\n",
       "      <th>6</th>\n",
       "      <td>608</td>\n",
       "      <td>-14502.2464</td>\n",
       "      <td>-361.5407</td>\n",
       "      <td>NaN</td>\n",
       "    </tr>\n",
       "    <tr>\n",
       "      <th>7</th>\n",
       "      <td>609</td>\n",
       "      <td>-14525.8242</td>\n",
       "      <td>-371.8829</td>\n",
       "      <td>NaN</td>\n",
       "    </tr>\n",
       "    <tr>\n",
       "      <th>8</th>\n",
       "      <td>601</td>\n",
       "      <td>-14329.0375</td>\n",
       "      <td>-332.2493</td>\n",
       "      <td>NaN</td>\n",
       "    </tr>\n",
       "    <tr>\n",
       "      <th>9</th>\n",
       "      <td>599</td>\n",
       "      <td>-14279.7980</td>\n",
       "      <td>-322.3381</td>\n",
       "      <td>NaN</td>\n",
       "    </tr>\n",
       "    <tr>\n",
       "      <th>10</th>\n",
       "      <td>598</td>\n",
       "      <td>-14255.4804</td>\n",
       "      <td>-311.8200</td>\n",
       "      <td>NaN</td>\n",
       "    </tr>\n",
       "    <tr>\n",
       "      <th>11</th>\n",
       "      <td>600</td>\n",
       "      <td>-14305.6390</td>\n",
       "      <td>-321.9061</td>\n",
       "      <td>NaN</td>\n",
       "    </tr>\n",
       "  </tbody>\n",
       "</table>\n",
       "</div>"
      ],
      "text/plain": [
       "    Num           X         Y  Dist\n",
       "0   603 -14378.0490 -342.1180   NaN\n",
       "1   602 -14354.7712 -331.8323   NaN\n",
       "2   604 -14403.6978 -341.6095   NaN\n",
       "3   605 -14427.5944 -352.1128   NaN\n",
       "4   606 -14453.2814 -351.6420   NaN\n",
       "5   607 -14476.6640 -361.9899   NaN\n",
       "6   608 -14502.2464 -361.5407   NaN\n",
       "7   609 -14525.8242 -371.8829   NaN\n",
       "8   601 -14329.0375 -332.2493   NaN\n",
       "9   599 -14279.7980 -322.3381   NaN\n",
       "10  598 -14255.4804 -311.8200   NaN\n",
       "11  600 -14305.6390 -321.9061   NaN"
      ]
     },
     "execution_count": 119,
     "metadata": {},
     "output_type": "execute_result"
    }
   ],
   "source": [
    "df02"
   ]
  },
  {
   "cell_type": "code",
   "execution_count": 120,
   "metadata": {
    "collapsed": false
   },
   "outputs": [],
   "source": [
    "df_stag = zip(df01.itertuples(),mov_df.itertuples())\n",
    "list(df_stag)\n",
    "staging = [[i[0][0],i[0][1],i[0][2],i[1][2],i[0][2]-i[1][2],i[0][3],i[1][3],i[0][3]-i[1][3],i[0][4],i[1][4],i[0][4]-i[1][4]] for i in list(df_stag)]"
   ]
  },
  {
   "cell_type": "code",
   "execution_count": 122,
   "metadata": {
    "collapsed": false
   },
   "outputs": [
    {
     "data": {
      "text/html": [
       "<div>\n",
       "<table border=\"1\" class=\"dataframe\">\n",
       "  <thead>\n",
       "    <tr style=\"text-align: right;\">\n",
       "      <th></th>\n",
       "      <th>Num</th>\n",
       "      <th>X</th>\n",
       "      <th>Y</th>\n",
       "      <th>Dist</th>\n",
       "    </tr>\n",
       "  </thead>\n",
       "  <tbody>\n",
       "    <tr>\n",
       "      <th>0</th>\n",
       "      <td>593</td>\n",
       "      <td>-14133.887400</td>\n",
       "      <td>-299.583600</td>\n",
       "      <td>0.000000</td>\n",
       "    </tr>\n",
       "    <tr>\n",
       "      <th>1</th>\n",
       "      <td>594</td>\n",
       "      <td>-14159.244600</td>\n",
       "      <td>-303.605200</td>\n",
       "      <td>0.000000</td>\n",
       "    </tr>\n",
       "    <tr>\n",
       "      <th>2</th>\n",
       "      <td>595</td>\n",
       "      <td>-14180.551200</td>\n",
       "      <td>-317.862700</td>\n",
       "      <td>0.000000</td>\n",
       "    </tr>\n",
       "    <tr>\n",
       "      <th>3</th>\n",
       "      <td>596</td>\n",
       "      <td>-14205.796800</td>\n",
       "      <td>-321.824000</td>\n",
       "      <td>0.000000</td>\n",
       "    </tr>\n",
       "    <tr>\n",
       "      <th>4</th>\n",
       "      <td>597</td>\n",
       "      <td>-14227.175700</td>\n",
       "      <td>-336.142800</td>\n",
       "      <td>0.000000</td>\n",
       "    </tr>\n",
       "    <tr>\n",
       "      <th>5</th>\n",
       "      <td>597a</td>\n",
       "      <td>-14229.019800</td>\n",
       "      <td>-330.917400</td>\n",
       "      <td>0.000000</td>\n",
       "    </tr>\n",
       "    <tr>\n",
       "      <th>6</th>\n",
       "      <td>598</td>\n",
       "      <td>-14252.268910</td>\n",
       "      <td>-340.045658</td>\n",
       "      <td>51.162629</td>\n",
       "    </tr>\n",
       "    <tr>\n",
       "      <th>7</th>\n",
       "      <td>599</td>\n",
       "      <td>-14274.391879</td>\n",
       "      <td>-354.624764</td>\n",
       "      <td>25.844611</td>\n",
       "    </tr>\n",
       "    <tr>\n",
       "      <th>8</th>\n",
       "      <td>600</td>\n",
       "      <td>-14299.915662</td>\n",
       "      <td>-358.684370</td>\n",
       "      <td>0.000000</td>\n",
       "    </tr>\n",
       "    <tr>\n",
       "      <th>9</th>\n",
       "      <td>601</td>\n",
       "      <td>-14321.163836</td>\n",
       "      <td>-372.931709</td>\n",
       "      <td>25.582642</td>\n",
       "    </tr>\n",
       "    <tr>\n",
       "      <th>10</th>\n",
       "      <td>602</td>\n",
       "      <td>-14346.579345</td>\n",
       "      <td>-376.987464</td>\n",
       "      <td>50.124869</td>\n",
       "    </tr>\n",
       "    <tr>\n",
       "      <th>11</th>\n",
       "      <td>603</td>\n",
       "      <td>-14367.718631</td>\n",
       "      <td>-391.157227</td>\n",
       "      <td>75.177982</td>\n",
       "    </tr>\n",
       "    <tr>\n",
       "      <th>12</th>\n",
       "      <td>604</td>\n",
       "      <td>-14393.066409</td>\n",
       "      <td>-395.108135</td>\n",
       "      <td>100.018759</td>\n",
       "    </tr>\n",
       "    <tr>\n",
       "      <th>13</th>\n",
       "      <td>605</td>\n",
       "      <td>-14414.777336</td>\n",
       "      <td>-409.599596</td>\n",
       "      <td>125.640616</td>\n",
       "    </tr>\n",
       "    <tr>\n",
       "      <th>14</th>\n",
       "      <td>606</td>\n",
       "      <td>-14440.156190</td>\n",
       "      <td>-413.594262</td>\n",
       "      <td>150.607111</td>\n",
       "    </tr>\n",
       "    <tr>\n",
       "      <th>15</th>\n",
       "      <td>607</td>\n",
       "      <td>-14461.387890</td>\n",
       "      <td>-427.843470</td>\n",
       "      <td>175.659505</td>\n",
       "    </tr>\n",
       "    <tr>\n",
       "      <th>16</th>\n",
       "      <td>608</td>\n",
       "      <td>-14486.659984</td>\n",
       "      <td>-431.841253</td>\n",
       "      <td>200.562637</td>\n",
       "    </tr>\n",
       "    <tr>\n",
       "      <th>17</th>\n",
       "      <td>609</td>\n",
       "      <td>-14508.084910</td>\n",
       "      <td>-446.118727</td>\n",
       "      <td>225.785745</td>\n",
       "    </tr>\n",
       "  </tbody>\n",
       "</table>\n",
       "</div>"
      ],
      "text/plain": [
       "     Num             X           Y        Dist\n",
       "0    593 -14133.887400 -299.583600    0.000000\n",
       "1    594 -14159.244600 -303.605200    0.000000\n",
       "2    595 -14180.551200 -317.862700    0.000000\n",
       "3    596 -14205.796800 -321.824000    0.000000\n",
       "4    597 -14227.175700 -336.142800    0.000000\n",
       "5   597a -14229.019800 -330.917400    0.000000\n",
       "6    598 -14252.268910 -340.045658   51.162629\n",
       "7    599 -14274.391879 -354.624764   25.844611\n",
       "8    600 -14299.915662 -358.684370    0.000000\n",
       "9    601 -14321.163836 -372.931709   25.582642\n",
       "10   602 -14346.579345 -376.987464   50.124869\n",
       "11   603 -14367.718631 -391.157227   75.177982\n",
       "12   604 -14393.066409 -395.108135  100.018759\n",
       "13   605 -14414.777336 -409.599596  125.640616\n",
       "14   606 -14440.156190 -413.594262  150.607111\n",
       "15   607 -14461.387890 -427.843470  175.659505\n",
       "16   608 -14486.659984 -431.841253  200.562637\n",
       "17   609 -14508.084910 -446.118727  225.785745"
      ]
     },
     "execution_count": 122,
     "metadata": {},
     "output_type": "execute_result"
    }
   ],
   "source": [
    "zz =  pd.concat([df01,mov_df.rename(columns={'Num':'Num'})]).fillna(0).groupby('Num', as_index=False).last()\n",
    "zz"
   ]
  },
  {
   "cell_type": "code",
   "execution_count": 124,
   "metadata": {
    "collapsed": false
   },
   "outputs": [
    {
     "data": {
      "text/html": [
       "<div>\n",
       "<table border=\"1\" class=\"dataframe\">\n",
       "  <thead>\n",
       "    <tr style=\"text-align: right;\">\n",
       "      <th></th>\n",
       "      <th>Num</th>\n",
       "      <th>X</th>\n",
       "      <th>Y</th>\n",
       "      <th>Dist</th>\n",
       "    </tr>\n",
       "  </thead>\n",
       "  <tbody>\n",
       "    <tr>\n",
       "      <th>0</th>\n",
       "      <td>609</td>\n",
       "      <td>-14528.7183</td>\n",
       "      <td>-346.7268</td>\n",
       "      <td>NaN</td>\n",
       "    </tr>\n",
       "    <tr>\n",
       "      <th>1</th>\n",
       "      <td>608</td>\n",
       "      <td>-14504.4771</td>\n",
       "      <td>-338.0529</td>\n",
       "      <td>NaN</td>\n",
       "    </tr>\n",
       "    <tr>\n",
       "      <th>2</th>\n",
       "      <td>610</td>\n",
       "      <td>-14550.3901</td>\n",
       "      <td>-343.9227</td>\n",
       "      <td>NaN</td>\n",
       "    </tr>\n",
       "    <tr>\n",
       "      <th>3</th>\n",
       "      <td>611</td>\n",
       "      <td>-14572.5412</td>\n",
       "      <td>-352.4513</td>\n",
       "      <td>NaN</td>\n",
       "    </tr>\n",
       "    <tr>\n",
       "      <th>4</th>\n",
       "      <td>612</td>\n",
       "      <td>-14597.9004</td>\n",
       "      <td>-350.1745</td>\n",
       "      <td>NaN</td>\n",
       "    </tr>\n",
       "    <tr>\n",
       "      <th>5</th>\n",
       "      <td>610a</td>\n",
       "      <td>-14550.0088</td>\n",
       "      <td>-349.5743</td>\n",
       "      <td>NaN</td>\n",
       "    </tr>\n",
       "    <tr>\n",
       "      <th>6</th>\n",
       "      <td>611a</td>\n",
       "      <td>-14573.2219</td>\n",
       "      <td>-346.8979</td>\n",
       "      <td>NaN</td>\n",
       "    </tr>\n",
       "    <tr>\n",
       "      <th>7</th>\n",
       "      <td>612a</td>\n",
       "      <td>-14597.9052</td>\n",
       "      <td>-355.7832</td>\n",
       "      <td>NaN</td>\n",
       "    </tr>\n",
       "    <tr>\n",
       "      <th>8</th>\n",
       "      <td>607</td>\n",
       "      <td>-14478.9886</td>\n",
       "      <td>-340.2820</td>\n",
       "      <td>NaN</td>\n",
       "    </tr>\n",
       "    <tr>\n",
       "      <th>9</th>\n",
       "      <td>605</td>\n",
       "      <td>-14429.3495</td>\n",
       "      <td>-333.8482</td>\n",
       "      <td>NaN</td>\n",
       "    </tr>\n",
       "    <tr>\n",
       "      <th>10</th>\n",
       "      <td>604</td>\n",
       "      <td>-14404.7793</td>\n",
       "      <td>-325.0334</td>\n",
       "      <td>NaN</td>\n",
       "    </tr>\n",
       "    <tr>\n",
       "      <th>11</th>\n",
       "      <td>606</td>\n",
       "      <td>-14454.9418</td>\n",
       "      <td>-331.5884</td>\n",
       "      <td>NaN</td>\n",
       "    </tr>\n",
       "  </tbody>\n",
       "</table>\n",
       "</div>"
      ],
      "text/plain": [
       "     Num           X         Y  Dist\n",
       "0    609 -14528.7183 -346.7268   NaN\n",
       "1    608 -14504.4771 -338.0529   NaN\n",
       "2    610 -14550.3901 -343.9227   NaN\n",
       "3    611 -14572.5412 -352.4513   NaN\n",
       "4    612 -14597.9004 -350.1745   NaN\n",
       "5   610a -14550.0088 -349.5743   NaN\n",
       "6   611a -14573.2219 -346.8979   NaN\n",
       "7   612a -14597.9052 -355.7832   NaN\n",
       "8    607 -14478.9886 -340.2820   NaN\n",
       "9    605 -14429.3495 -333.8482   NaN\n",
       "10   604 -14404.7793 -325.0334   NaN\n",
       "11   606 -14454.9418 -331.5884   NaN"
      ]
     },
     "execution_count": 124,
     "metadata": {},
     "output_type": "execute_result"
    }
   ],
   "source": [
    "df01 = zz\n",
    "df02 = pd.read_csv(r'data/chain/105.csv',sep=';', names=['Num','X','Y','Dist'],dtype={'Num':'str'})\n",
    "df02"
   ]
  },
  {
   "cell_type": "code",
   "execution_count": 125,
   "metadata": {
    "collapsed": true
   },
   "outputs": [],
   "source": [
    "inter = sorted(set(list(zip(*df01['Num'].iteritems()))[1]).intersection(set(list(zip(*df02['Num'].iteritems()))[1])))\n",
    "\n",
    "df01_com = df01.loc[df01['Num'].isin(inter)].sort_values(by='Num')\n",
    "df02_com = df02.loc[df02['Num'].isin(inter)].sort_values(by='Num')"
   ]
  },
  {
   "cell_type": "code",
   "execution_count": 126,
   "metadata": {
    "collapsed": true
   },
   "outputs": [],
   "source": [
    "mp01 = MultiPoint([i[2:4] for i in df01.itertuples()])\n",
    "mp01_c = MultiPoint([i[2:4] for i in df01_com.itertuples()])\n",
    "mp02 = MultiPoint([i[2:4] for i in df02.itertuples()])\n",
    "mp02_c = MultiPoint([i[2:4] for i in df02_com.itertuples()])"
   ]
  },
  {
   "cell_type": "code",
   "execution_count": 130,
   "metadata": {
    "collapsed": false
   },
   "outputs": [
    {
     "data": {
      "text/plain": [
       "     fun: 0.00426196957177334\n",
       "     jac: array([  -1.21600761,    1.9712386 , -560.31175013,    0.        ])\n",
       " message: 'Optimization terminated successfully.'\n",
       "    nfev: 498\n",
       "     nit: 88\n",
       "    njev: 88\n",
       "  status: 0\n",
       " success: True\n",
       "       x: array([ -494.04349035,  3402.32346331,    13.98854554])"
      ]
     },
     "execution_count": 130,
     "metadata": {},
     "output_type": "execute_result"
    }
   ],
   "source": [
    "x0 = (0,0,0)\n",
    "\n",
    "re = minimize(fun1,x0,args=(mp01_c,mp02_c),method='SLSQP')\n",
    "\n",
    "re"
   ]
  },
  {
   "cell_type": "code",
   "execution_count": 131,
   "metadata": {
    "collapsed": false
   },
   "outputs": [
    {
     "data": {
      "image/svg+xml": [
       "<svg xmlns=\"http://www.w3.org/2000/svg\" xmlns:xlink=\"http://www.w3.org/1999/xlink\" width=\"195.82193757864115\" height=\"100.0\" viewBox=\"-14581.635312939537 -478.8824506639335 195.82193757864115 91.0271352284791\" preserveAspectRatio=\"xMinYMin meet\"><g transform=\"matrix(1,0,0,-1,0,-866.737766099388)\"><g><circle cx=\"-14508.085613319006\" cy=\"-446.11755744642505\" r=\"3.0\" stroke=\"#555555\" stroke-width=\"1.0\" fill=\"#66cc99\" opacity=\"0.6\" /><circle cx=\"-14486.66003234265\" cy=\"-431.84111536600494\" r=\"3.0\" stroke=\"#555555\" stroke-width=\"1.0\" fill=\"#66cc99\" opacity=\"0.6\" /><circle cx=\"-14529.792545202079\" cy=\"-448.63529457998584\" r=\"3.0\" stroke=\"#555555\" stroke-width=\"1.0\" fill=\"#66cc99\" opacity=\"0.6\" /><circle cx=\"-14549.225133100197\" cy=\"-462.2655101597852\" r=\"3.0\" stroke=\"#555555\" stroke-width=\"1.0\" fill=\"#66cc99\" opacity=\"0.6\" /><circle cx=\"-14574.382648584773\" cy=\"-466.186257221696\" r=\"3.0\" stroke=\"#555555\" stroke-width=\"1.0\" fill=\"#66cc99\" opacity=\"0.6\" /><circle cx=\"-14528.056403545128\" cy=\"-454.0271202816389\" r=\"3.0\" stroke=\"#555555\" stroke-width=\"1.0\" fill=\"#66cc99\" opacity=\"0.6\" /><circle cx=\"-14551.228058091265\" cy=\"-457.04134558253827\" r=\"3.0\" stroke=\"#555555\" stroke-width=\"1.0\" fill=\"#66cc99\" opacity=\"0.6\" /><circle cx=\"-14573.031526901194\" cy=\"-471.62978630916905\" r=\"3.0\" stroke=\"#555555\" stroke-width=\"1.0\" fill=\"#66cc99\" opacity=\"0.6\" /><circle cx=\"-14461.388581791001\" cy=\"-427.8428274729781\" r=\"3.0\" stroke=\"#555555\" stroke-width=\"1.0\" fill=\"#66cc99\" opacity=\"0.6\" /><circle cx=\"-14414.776804428844\" cy=\"-409.600671833065\" r=\"3.0\" stroke=\"#555555\" stroke-width=\"1.0\" fill=\"#66cc99\" opacity=\"0.6\" /><circle cx=\"-14393.06603971566\" cy=\"-395.1079797902189\" r=\"3.0\" stroke=\"#555555\" stroke-width=\"1.0\" fill=\"#66cc99\" opacity=\"0.6\" /><circle cx=\"-14440.156397741981\" cy=\"-413.594261520273\" r=\"3.0\" stroke=\"#555555\" stroke-width=\"1.0\" fill=\"#66cc99\" opacity=\"0.6\" /></g></g></svg>"
      ],
      "text/plain": [
       "<shapely.geometry.multipoint.MultiPoint at 0x5db4c88>"
      ]
     },
     "execution_count": 131,
     "metadata": {},
     "output_type": "execute_result"
    }
   ],
   "source": [
    "mp_moved = mov(*re.x,mp02)\n",
    "mp_moved"
   ]
  },
  {
   "cell_type": "code",
   "execution_count": 132,
   "metadata": {
    "collapsed": false
   },
   "outputs": [
    {
     "data": {
      "text/html": [
       "<div>\n",
       "<table border=\"1\" class=\"dataframe\">\n",
       "  <thead>\n",
       "    <tr style=\"text-align: right;\">\n",
       "      <th></th>\n",
       "      <th>Num</th>\n",
       "      <th>X</th>\n",
       "      <th>Y</th>\n",
       "      <th>Dist</th>\n",
       "    </tr>\n",
       "  </thead>\n",
       "  <tbody>\n",
       "    <tr>\n",
       "      <th>0</th>\n",
       "      <td>609</td>\n",
       "      <td>-14508.085613</td>\n",
       "      <td>-446.117557</td>\n",
       "      <td>75.313632</td>\n",
       "    </tr>\n",
       "    <tr>\n",
       "      <th>1</th>\n",
       "      <td>608</td>\n",
       "      <td>-14486.660032</td>\n",
       "      <td>-431.841115</td>\n",
       "      <td>49.955337</td>\n",
       "    </tr>\n",
       "    <tr>\n",
       "      <th>2</th>\n",
       "      <td>610</td>\n",
       "      <td>-14529.792545</td>\n",
       "      <td>-448.635295</td>\n",
       "      <td>96.241950</td>\n",
       "    </tr>\n",
       "    <tr>\n",
       "      <th>3</th>\n",
       "      <td>611</td>\n",
       "      <td>-14549.225133</td>\n",
       "      <td>-462.265510</td>\n",
       "      <td>119.435671</td>\n",
       "    </tr>\n",
       "    <tr>\n",
       "      <th>4</th>\n",
       "      <td>612</td>\n",
       "      <td>-14574.382649</td>\n",
       "      <td>-466.186257</td>\n",
       "      <td>144.161730</td>\n",
       "    </tr>\n",
       "    <tr>\n",
       "      <th>5</th>\n",
       "      <td>610a</td>\n",
       "      <td>-14528.056404</td>\n",
       "      <td>-454.027120</td>\n",
       "      <td>96.753435</td>\n",
       "    </tr>\n",
       "    <tr>\n",
       "      <th>6</th>\n",
       "      <td>611a</td>\n",
       "      <td>-14551.228058</td>\n",
       "      <td>-457.041346</td>\n",
       "      <td>119.266772</td>\n",
       "    </tr>\n",
       "    <tr>\n",
       "      <th>7</th>\n",
       "      <td>612a</td>\n",
       "      <td>-14573.031527</td>\n",
       "      <td>-471.629786</td>\n",
       "      <td>144.996283</td>\n",
       "    </tr>\n",
       "    <tr>\n",
       "      <th>8</th>\n",
       "      <td>607</td>\n",
       "      <td>-14461.388582</td>\n",
       "      <td>-427.842827</td>\n",
       "      <td>25.570046</td>\n",
       "    </tr>\n",
       "    <tr>\n",
       "      <th>9</th>\n",
       "      <td>605</td>\n",
       "      <td>-14414.776804</td>\n",
       "      <td>-409.600672</td>\n",
       "      <td>25.691876</td>\n",
       "    </tr>\n",
       "    <tr>\n",
       "      <th>10</th>\n",
       "      <td>604</td>\n",
       "      <td>-14393.066040</td>\n",
       "      <td>-395.107980</td>\n",
       "      <td>50.588975</td>\n",
       "    </tr>\n",
       "    <tr>\n",
       "      <th>11</th>\n",
       "      <td>606</td>\n",
       "      <td>-14440.156398</td>\n",
       "      <td>-413.594262</td>\n",
       "      <td>0.000000</td>\n",
       "    </tr>\n",
       "  </tbody>\n",
       "</table>\n",
       "</div>"
      ],
      "text/plain": [
       "     Num             X           Y        Dist\n",
       "0    609 -14508.085613 -446.117557   75.313632\n",
       "1    608 -14486.660032 -431.841115   49.955337\n",
       "2    610 -14529.792545 -448.635295   96.241950\n",
       "3    611 -14549.225133 -462.265510  119.435671\n",
       "4    612 -14574.382649 -466.186257  144.161730\n",
       "5   610a -14528.056404 -454.027120   96.753435\n",
       "6   611a -14551.228058 -457.041346  119.266772\n",
       "7   612a -14573.031527 -471.629786  144.996283\n",
       "8    607 -14461.388582 -427.842827   25.570046\n",
       "9    605 -14414.776804 -409.600672   25.691876\n",
       "10   604 -14393.066040 -395.107980   50.588975\n",
       "11   606 -14440.156398 -413.594262    0.000000"
      ]
     },
     "execution_count": 132,
     "metadata": {},
     "output_type": "execute_result"
    }
   ],
   "source": [
    "df2_nums = list(zip(*df02['Num'].iteritems()))[1]\n",
    "al = list(zip(df2_nums,mp_moved))\n",
    "mov_stag = [[i[0],i[1].x,i[1].y,al[-1][1].distance(i[1])] for i in al]\n",
    "mov_df = pd.DataFrame.from_records(mov_stag,columns=('Num','X','Y','Dist'))\n",
    "mov_df"
   ]
  },
  {
   "cell_type": "code",
   "execution_count": 133,
   "metadata": {
    "collapsed": false
   },
   "outputs": [
    {
     "data": {
      "text/html": [
       "<div>\n",
       "<table border=\"1\" class=\"dataframe\">\n",
       "  <thead>\n",
       "    <tr style=\"text-align: right;\">\n",
       "      <th></th>\n",
       "      <th>Num</th>\n",
       "      <th>X</th>\n",
       "      <th>Y</th>\n",
       "      <th>Dist</th>\n",
       "    </tr>\n",
       "  </thead>\n",
       "  <tbody>\n",
       "    <tr>\n",
       "      <th>0</th>\n",
       "      <td>593</td>\n",
       "      <td>-14133.887400</td>\n",
       "      <td>-299.583600</td>\n",
       "      <td>0.000000</td>\n",
       "    </tr>\n",
       "    <tr>\n",
       "      <th>1</th>\n",
       "      <td>594</td>\n",
       "      <td>-14159.244600</td>\n",
       "      <td>-303.605200</td>\n",
       "      <td>0.000000</td>\n",
       "    </tr>\n",
       "    <tr>\n",
       "      <th>2</th>\n",
       "      <td>595</td>\n",
       "      <td>-14180.551200</td>\n",
       "      <td>-317.862700</td>\n",
       "      <td>0.000000</td>\n",
       "    </tr>\n",
       "    <tr>\n",
       "      <th>3</th>\n",
       "      <td>596</td>\n",
       "      <td>-14205.796800</td>\n",
       "      <td>-321.824000</td>\n",
       "      <td>0.000000</td>\n",
       "    </tr>\n",
       "    <tr>\n",
       "      <th>4</th>\n",
       "      <td>597</td>\n",
       "      <td>-14227.175700</td>\n",
       "      <td>-336.142800</td>\n",
       "      <td>0.000000</td>\n",
       "    </tr>\n",
       "    <tr>\n",
       "      <th>5</th>\n",
       "      <td>597a</td>\n",
       "      <td>-14229.019800</td>\n",
       "      <td>-330.917400</td>\n",
       "      <td>0.000000</td>\n",
       "    </tr>\n",
       "    <tr>\n",
       "      <th>6</th>\n",
       "      <td>598</td>\n",
       "      <td>-14252.268910</td>\n",
       "      <td>-340.045658</td>\n",
       "      <td>51.162629</td>\n",
       "    </tr>\n",
       "    <tr>\n",
       "      <th>7</th>\n",
       "      <td>599</td>\n",
       "      <td>-14274.391879</td>\n",
       "      <td>-354.624764</td>\n",
       "      <td>25.844611</td>\n",
       "    </tr>\n",
       "    <tr>\n",
       "      <th>8</th>\n",
       "      <td>600</td>\n",
       "      <td>-14299.915662</td>\n",
       "      <td>-358.684370</td>\n",
       "      <td>0.000000</td>\n",
       "    </tr>\n",
       "    <tr>\n",
       "      <th>9</th>\n",
       "      <td>601</td>\n",
       "      <td>-14321.163836</td>\n",
       "      <td>-372.931709</td>\n",
       "      <td>25.582642</td>\n",
       "    </tr>\n",
       "    <tr>\n",
       "      <th>10</th>\n",
       "      <td>602</td>\n",
       "      <td>-14346.579345</td>\n",
       "      <td>-376.987464</td>\n",
       "      <td>50.124869</td>\n",
       "    </tr>\n",
       "    <tr>\n",
       "      <th>11</th>\n",
       "      <td>603</td>\n",
       "      <td>-14367.718631</td>\n",
       "      <td>-391.157227</td>\n",
       "      <td>75.177982</td>\n",
       "    </tr>\n",
       "    <tr>\n",
       "      <th>12</th>\n",
       "      <td>604</td>\n",
       "      <td>-14393.066040</td>\n",
       "      <td>-395.107980</td>\n",
       "      <td>50.588975</td>\n",
       "    </tr>\n",
       "    <tr>\n",
       "      <th>13</th>\n",
       "      <td>605</td>\n",
       "      <td>-14414.776804</td>\n",
       "      <td>-409.600672</td>\n",
       "      <td>25.691876</td>\n",
       "    </tr>\n",
       "    <tr>\n",
       "      <th>14</th>\n",
       "      <td>606</td>\n",
       "      <td>-14440.156398</td>\n",
       "      <td>-413.594262</td>\n",
       "      <td>0.000000</td>\n",
       "    </tr>\n",
       "    <tr>\n",
       "      <th>15</th>\n",
       "      <td>607</td>\n",
       "      <td>-14461.388582</td>\n",
       "      <td>-427.842827</td>\n",
       "      <td>25.570046</td>\n",
       "    </tr>\n",
       "    <tr>\n",
       "      <th>16</th>\n",
       "      <td>608</td>\n",
       "      <td>-14486.660032</td>\n",
       "      <td>-431.841115</td>\n",
       "      <td>49.955337</td>\n",
       "    </tr>\n",
       "    <tr>\n",
       "      <th>17</th>\n",
       "      <td>609</td>\n",
       "      <td>-14508.085613</td>\n",
       "      <td>-446.117557</td>\n",
       "      <td>75.313632</td>\n",
       "    </tr>\n",
       "    <tr>\n",
       "      <th>18</th>\n",
       "      <td>610</td>\n",
       "      <td>-14529.792545</td>\n",
       "      <td>-448.635295</td>\n",
       "      <td>96.241950</td>\n",
       "    </tr>\n",
       "    <tr>\n",
       "      <th>19</th>\n",
       "      <td>610a</td>\n",
       "      <td>-14528.056404</td>\n",
       "      <td>-454.027120</td>\n",
       "      <td>96.753435</td>\n",
       "    </tr>\n",
       "    <tr>\n",
       "      <th>20</th>\n",
       "      <td>611</td>\n",
       "      <td>-14549.225133</td>\n",
       "      <td>-462.265510</td>\n",
       "      <td>119.435671</td>\n",
       "    </tr>\n",
       "    <tr>\n",
       "      <th>21</th>\n",
       "      <td>611a</td>\n",
       "      <td>-14551.228058</td>\n",
       "      <td>-457.041346</td>\n",
       "      <td>119.266772</td>\n",
       "    </tr>\n",
       "    <tr>\n",
       "      <th>22</th>\n",
       "      <td>612</td>\n",
       "      <td>-14574.382649</td>\n",
       "      <td>-466.186257</td>\n",
       "      <td>144.161730</td>\n",
       "    </tr>\n",
       "    <tr>\n",
       "      <th>23</th>\n",
       "      <td>612a</td>\n",
       "      <td>-14573.031527</td>\n",
       "      <td>-471.629786</td>\n",
       "      <td>144.996283</td>\n",
       "    </tr>\n",
       "  </tbody>\n",
       "</table>\n",
       "</div>"
      ],
      "text/plain": [
       "     Num             X           Y        Dist\n",
       "0    593 -14133.887400 -299.583600    0.000000\n",
       "1    594 -14159.244600 -303.605200    0.000000\n",
       "2    595 -14180.551200 -317.862700    0.000000\n",
       "3    596 -14205.796800 -321.824000    0.000000\n",
       "4    597 -14227.175700 -336.142800    0.000000\n",
       "5   597a -14229.019800 -330.917400    0.000000\n",
       "6    598 -14252.268910 -340.045658   51.162629\n",
       "7    599 -14274.391879 -354.624764   25.844611\n",
       "8    600 -14299.915662 -358.684370    0.000000\n",
       "9    601 -14321.163836 -372.931709   25.582642\n",
       "10   602 -14346.579345 -376.987464   50.124869\n",
       "11   603 -14367.718631 -391.157227   75.177982\n",
       "12   604 -14393.066040 -395.107980   50.588975\n",
       "13   605 -14414.776804 -409.600672   25.691876\n",
       "14   606 -14440.156398 -413.594262    0.000000\n",
       "15   607 -14461.388582 -427.842827   25.570046\n",
       "16   608 -14486.660032 -431.841115   49.955337\n",
       "17   609 -14508.085613 -446.117557   75.313632\n",
       "18   610 -14529.792545 -448.635295   96.241950\n",
       "19  610a -14528.056404 -454.027120   96.753435\n",
       "20   611 -14549.225133 -462.265510  119.435671\n",
       "21  611a -14551.228058 -457.041346  119.266772\n",
       "22   612 -14574.382649 -466.186257  144.161730\n",
       "23  612a -14573.031527 -471.629786  144.996283"
      ]
     },
     "execution_count": 133,
     "metadata": {},
     "output_type": "execute_result"
    }
   ],
   "source": [
    "zz =  pd.concat([df01,mov_df.rename(columns={'Num':'Num'})]).fillna(0).groupby('Num', as_index=False).last()\n",
    "zz"
   ]
  },
  {
   "cell_type": "code",
   "execution_count": null,
   "metadata": {
    "collapsed": true
   },
   "outputs": [],
   "source": []
  },
  {
   "cell_type": "code",
   "execution_count": 134,
   "metadata": {
    "collapsed": true
   },
   "outputs": [],
   "source": [
    "df01 = zz\n",
    "df02 = pd.read_csv(r'data/chain/106.csv',sep=';', names=['Num','X','Y','Dist'],dtype={'Num':'str'})\n",
    "inter = sorted(set(list(zip(*df01['Num'].iteritems()))[1]).intersection(set(list(zip(*df02['Num'].iteritems()))[1])))\n",
    "\n",
    "df01_com = df01.loc[df01['Num'].isin(inter)].sort_values(by='Num')\n",
    "df02_com = df02.loc[df02['Num'].isin(inter)].sort_values(by='Num')\n",
    "mp01 = MultiPoint([i[2:4] for i in df01.itertuples()])\n",
    "mp01_c = MultiPoint([i[2:4] for i in df01_com.itertuples()])\n",
    "mp02 = MultiPoint([i[2:4] for i in df02.itertuples()])\n",
    "mp02_c = MultiPoint([i[2:4] for i in df02_com.itertuples()])\n",
    "x0 = (0,0,0)\n",
    "\n",
    "re = minimize(fun1,x0,args=(mp01_c,mp02_c),method='SLSQP')\n",
    "mp_moved = mov(*re.x,mp02)"
   ]
  },
  {
   "cell_type": "code",
   "execution_count": 137,
   "metadata": {
    "collapsed": false
   },
   "outputs": [
    {
     "data": {
      "text/plain": [
       "     fun: 4.236177418337145\n",
       "     jac: array([   1.99254447,   -0.40828776,  221.74558228,    0.        ])\n",
       " message: 'Iteration limit exceeded'\n",
       "    nfev: 545\n",
       "     nit: 101\n",
       "    njev: 101\n",
       "  status: 9\n",
       " success: False\n",
       "       x: array([ -405.84391151,  3067.52073644,    12.65462041])"
      ]
     },
     "execution_count": 137,
     "metadata": {},
     "output_type": "execute_result"
    }
   ],
   "source": [
    "re"
   ]
  },
  {
   "cell_type": "code",
   "execution_count": 138,
   "metadata": {
    "collapsed": false
   },
   "outputs": [
    {
     "data": {
      "text/plain": [
       "['610', '610a', '611', '611a', '612', '612a']"
      ]
     },
     "execution_count": 138,
     "metadata": {},
     "output_type": "execute_result"
    }
   ],
   "source": [
    "inter"
   ]
  },
  {
   "cell_type": "code",
   "execution_count": 136,
   "metadata": {
    "collapsed": false
   },
   "outputs": [
    {
     "data": {
      "text/html": [
       "<div>\n",
       "<table border=\"1\" class=\"dataframe\">\n",
       "  <thead>\n",
       "    <tr style=\"text-align: right;\">\n",
       "      <th></th>\n",
       "      <th>Num</th>\n",
       "      <th>X</th>\n",
       "      <th>Y</th>\n",
       "      <th>Dist</th>\n",
       "    </tr>\n",
       "  </thead>\n",
       "  <tbody>\n",
       "    <tr>\n",
       "      <th>0</th>\n",
       "      <td>612</td>\n",
       "      <td>-14574.506644</td>\n",
       "      <td>-465.178297</td>\n",
       "      <td>24.894722</td>\n",
       "    </tr>\n",
       "    <tr>\n",
       "      <th>1</th>\n",
       "      <td>611</td>\n",
       "      <td>-14549.211001</td>\n",
       "      <td>-462.285522</td>\n",
       "      <td>5.594790</td>\n",
       "    </tr>\n",
       "    <tr>\n",
       "      <th>2</th>\n",
       "      <td>613</td>\n",
       "      <td>-14596.914747</td>\n",
       "      <td>-478.751945</td>\n",
       "      <td>50.814175</td>\n",
       "    </tr>\n",
       "    <tr>\n",
       "      <th>3</th>\n",
       "      <td>614</td>\n",
       "      <td>-14620.621286</td>\n",
       "      <td>-481.361715</td>\n",
       "      <td>73.766592</td>\n",
       "    </tr>\n",
       "    <tr>\n",
       "      <th>4</th>\n",
       "      <td>615</td>\n",
       "      <td>-14643.239990</td>\n",
       "      <td>-494.780231</td>\n",
       "      <td>99.684099</td>\n",
       "    </tr>\n",
       "    <tr>\n",
       "      <th>5</th>\n",
       "      <td>613a</td>\n",
       "      <td>-14599.453386</td>\n",
       "      <td>-473.751012</td>\n",
       "      <td>51.273215</td>\n",
       "    </tr>\n",
       "    <tr>\n",
       "      <th>6</th>\n",
       "      <td>614a</td>\n",
       "      <td>-14619.703802</td>\n",
       "      <td>-486.664942</td>\n",
       "      <td>74.841707</td>\n",
       "    </tr>\n",
       "    <tr>\n",
       "      <th>7</th>\n",
       "      <td>615a</td>\n",
       "      <td>-14639.901496</td>\n",
       "      <td>-488.013992</td>\n",
       "      <td>94.161997</td>\n",
       "    </tr>\n",
       "    <tr>\n",
       "      <th>8</th>\n",
       "      <td>612a</td>\n",
       "      <td>-14573.378611</td>\n",
       "      <td>-470.672027</td>\n",
       "      <td>26.233544</td>\n",
       "    </tr>\n",
       "    <tr>\n",
       "      <th>9</th>\n",
       "      <td>610a</td>\n",
       "      <td>-14527.723964</td>\n",
       "      <td>-454.916681</td>\n",
       "      <td>23.366804</td>\n",
       "    </tr>\n",
       "    <tr>\n",
       "      <th>10</th>\n",
       "      <td>610</td>\n",
       "      <td>-14529.238880</td>\n",
       "      <td>-449.458162</td>\n",
       "      <td>23.024965</td>\n",
       "    </tr>\n",
       "    <tr>\n",
       "      <th>11</th>\n",
       "      <td>611a</td>\n",
       "      <td>-14550.999123</td>\n",
       "      <td>-456.984174</td>\n",
       "      <td>0.000000</td>\n",
       "    </tr>\n",
       "  </tbody>\n",
       "</table>\n",
       "</div>"
      ],
      "text/plain": [
       "     Num             X           Y       Dist\n",
       "0    612 -14574.506644 -465.178297  24.894722\n",
       "1    611 -14549.211001 -462.285522   5.594790\n",
       "2    613 -14596.914747 -478.751945  50.814175\n",
       "3    614 -14620.621286 -481.361715  73.766592\n",
       "4    615 -14643.239990 -494.780231  99.684099\n",
       "5   613a -14599.453386 -473.751012  51.273215\n",
       "6   614a -14619.703802 -486.664942  74.841707\n",
       "7   615a -14639.901496 -488.013992  94.161997\n",
       "8   612a -14573.378611 -470.672027  26.233544\n",
       "9   610a -14527.723964 -454.916681  23.366804\n",
       "10   610 -14529.238880 -449.458162  23.024965\n",
       "11  611a -14550.999123 -456.984174   0.000000"
      ]
     },
     "execution_count": 136,
     "metadata": {},
     "output_type": "execute_result"
    }
   ],
   "source": [
    "df2_nums = list(zip(*df02['Num'].iteritems()))[1]\n",
    "al = list(zip(df2_nums,mp_moved))\n",
    "mov_stag = [[i[0],i[1].x,i[1].y,al[-1][1].distance(i[1])] for i in al]\n",
    "mov_df = pd.DataFrame.from_records(mov_stag,columns=('Num','X','Y','Dist'))\n",
    "mov_df"
   ]
  },
  {
   "cell_type": "code",
   "execution_count": null,
   "metadata": {
    "collapsed": true
   },
   "outputs": [],
   "source": []
  },
  {
   "cell_type": "code",
   "execution_count": null,
   "metadata": {
    "collapsed": true
   },
   "outputs": [],
   "source": []
  },
  {
   "cell_type": "markdown",
   "metadata": {},
   "source": [
    "g"
   ]
  }
 ],
 "metadata": {
  "anaconda-cloud": {},
  "kernelspec": {
   "display_name": "Python 3",
   "language": "python",
   "name": "python3"
  },
  "language_info": {
   "codemirror_mode": {
    "name": "ipython",
    "version": 3
   },
   "file_extension": ".py",
   "mimetype": "text/x-python",
   "name": "python",
   "nbconvert_exporter": "python",
   "pygments_lexer": "ipython3",
   "version": "3.5.1"
  }
 },
 "nbformat": 4,
 "nbformat_minor": 0
}
