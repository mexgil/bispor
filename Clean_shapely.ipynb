{
 "cells": [
  {
   "cell_type": "code",
   "execution_count": 1,
   "metadata": {
    "collapsed": false
   },
   "outputs": [
    {
     "ename": "FileNotFoundError",
     "evalue": "File b'data/origint/ex/0000083.csv' does not exist",
     "output_type": "error",
     "traceback": [
      "\u001b[1;31m---------------------------------------------------------------------------\u001b[0m",
      "\u001b[1;31mFileNotFoundError\u001b[0m                         Traceback (most recent call last)",
      "\u001b[1;32m<ipython-input-1-5f0d36a3221d>\u001b[0m in \u001b[0;36m<module>\u001b[1;34m()\u001b[0m\n\u001b[0;32m      1\u001b[0m \u001b[1;32mimport\u001b[0m \u001b[0mpandas\u001b[0m \u001b[1;32mas\u001b[0m \u001b[0mpd\u001b[0m\u001b[1;33m\u001b[0m\u001b[0m\n\u001b[0;32m      2\u001b[0m \u001b[1;33m\u001b[0m\u001b[0m\n\u001b[1;32m----> 3\u001b[1;33m \u001b[0mdf01\u001b[0m \u001b[1;33m=\u001b[0m \u001b[0mpd\u001b[0m\u001b[1;33m.\u001b[0m\u001b[0mread_csv\u001b[0m\u001b[1;33m(\u001b[0m\u001b[1;34mr'data/origint/ex/0000083.csv'\u001b[0m\u001b[1;33m,\u001b[0m\u001b[0msep\u001b[0m\u001b[1;33m=\u001b[0m\u001b[1;34m';'\u001b[0m\u001b[1;33m,\u001b[0m \u001b[0mnames\u001b[0m\u001b[1;33m=\u001b[0m\u001b[1;33m[\u001b[0m\u001b[1;34m'Num'\u001b[0m\u001b[1;33m,\u001b[0m\u001b[1;34m'X'\u001b[0m\u001b[1;33m,\u001b[0m\u001b[1;34m'Y'\u001b[0m\u001b[1;33m,\u001b[0m\u001b[1;34m'Dist'\u001b[0m\u001b[1;33m]\u001b[0m\u001b[1;33m,\u001b[0m\u001b[0mdtype\u001b[0m\u001b[1;33m=\u001b[0m\u001b[1;33m{\u001b[0m\u001b[1;34m'Num'\u001b[0m\u001b[1;33m:\u001b[0m\u001b[1;34m'str'\u001b[0m\u001b[1;33m}\u001b[0m\u001b[1;33m)\u001b[0m\u001b[1;33m\u001b[0m\u001b[0m\n\u001b[0m\u001b[0;32m      4\u001b[0m \u001b[0mdf01\u001b[0m\u001b[1;33m\u001b[0m\u001b[0m\n",
      "\u001b[1;32mM:\\Anaconda3\\lib\\site-packages\\pandas\\io\\parsers.py\u001b[0m in \u001b[0;36mparser_f\u001b[1;34m(filepath_or_buffer, sep, delimiter, header, names, index_col, usecols, squeeze, prefix, mangle_dupe_cols, dtype, engine, converters, true_values, false_values, skipinitialspace, skiprows, nrows, na_values, keep_default_na, na_filter, verbose, skip_blank_lines, parse_dates, infer_datetime_format, keep_date_col, date_parser, dayfirst, iterator, chunksize, compression, thousands, decimal, lineterminator, quotechar, quoting, escapechar, comment, encoding, dialect, tupleize_cols, error_bad_lines, warn_bad_lines, skipfooter, skip_footer, doublequote, delim_whitespace, as_recarray, compact_ints, use_unsigned, low_memory, buffer_lines, memory_map, float_precision)\u001b[0m\n\u001b[0;32m    643\u001b[0m                     skip_blank_lines=skip_blank_lines)\n\u001b[0;32m    644\u001b[0m \u001b[1;33m\u001b[0m\u001b[0m\n\u001b[1;32m--> 645\u001b[1;33m         \u001b[1;32mreturn\u001b[0m \u001b[0m_read\u001b[0m\u001b[1;33m(\u001b[0m\u001b[0mfilepath_or_buffer\u001b[0m\u001b[1;33m,\u001b[0m \u001b[0mkwds\u001b[0m\u001b[1;33m)\u001b[0m\u001b[1;33m\u001b[0m\u001b[0m\n\u001b[0m\u001b[0;32m    646\u001b[0m \u001b[1;33m\u001b[0m\u001b[0m\n\u001b[0;32m    647\u001b[0m     \u001b[0mparser_f\u001b[0m\u001b[1;33m.\u001b[0m\u001b[0m__name__\u001b[0m \u001b[1;33m=\u001b[0m \u001b[0mname\u001b[0m\u001b[1;33m\u001b[0m\u001b[0m\n",
      "\u001b[1;32mM:\\Anaconda3\\lib\\site-packages\\pandas\\io\\parsers.py\u001b[0m in \u001b[0;36m_read\u001b[1;34m(filepath_or_buffer, kwds)\u001b[0m\n\u001b[0;32m    386\u001b[0m \u001b[1;33m\u001b[0m\u001b[0m\n\u001b[0;32m    387\u001b[0m     \u001b[1;31m# Create the parser.\u001b[0m\u001b[1;33m\u001b[0m\u001b[1;33m\u001b[0m\u001b[0m\n\u001b[1;32m--> 388\u001b[1;33m     \u001b[0mparser\u001b[0m \u001b[1;33m=\u001b[0m \u001b[0mTextFileReader\u001b[0m\u001b[1;33m(\u001b[0m\u001b[0mfilepath_or_buffer\u001b[0m\u001b[1;33m,\u001b[0m \u001b[1;33m**\u001b[0m\u001b[0mkwds\u001b[0m\u001b[1;33m)\u001b[0m\u001b[1;33m\u001b[0m\u001b[0m\n\u001b[0m\u001b[0;32m    389\u001b[0m \u001b[1;33m\u001b[0m\u001b[0m\n\u001b[0;32m    390\u001b[0m     \u001b[1;32mif\u001b[0m \u001b[1;33m(\u001b[0m\u001b[0mnrows\u001b[0m \u001b[1;32mis\u001b[0m \u001b[1;32mnot\u001b[0m \u001b[1;32mNone\u001b[0m\u001b[1;33m)\u001b[0m \u001b[1;32mand\u001b[0m \u001b[1;33m(\u001b[0m\u001b[0mchunksize\u001b[0m \u001b[1;32mis\u001b[0m \u001b[1;32mnot\u001b[0m \u001b[1;32mNone\u001b[0m\u001b[1;33m)\u001b[0m\u001b[1;33m:\u001b[0m\u001b[1;33m\u001b[0m\u001b[0m\n",
      "\u001b[1;32mM:\\Anaconda3\\lib\\site-packages\\pandas\\io\\parsers.py\u001b[0m in \u001b[0;36m__init__\u001b[1;34m(self, f, engine, **kwds)\u001b[0m\n\u001b[0;32m    727\u001b[0m             \u001b[0mself\u001b[0m\u001b[1;33m.\u001b[0m\u001b[0moptions\u001b[0m\u001b[1;33m[\u001b[0m\u001b[1;34m'has_index_names'\u001b[0m\u001b[1;33m]\u001b[0m \u001b[1;33m=\u001b[0m \u001b[0mkwds\u001b[0m\u001b[1;33m[\u001b[0m\u001b[1;34m'has_index_names'\u001b[0m\u001b[1;33m]\u001b[0m\u001b[1;33m\u001b[0m\u001b[0m\n\u001b[0;32m    728\u001b[0m \u001b[1;33m\u001b[0m\u001b[0m\n\u001b[1;32m--> 729\u001b[1;33m         \u001b[0mself\u001b[0m\u001b[1;33m.\u001b[0m\u001b[0m_make_engine\u001b[0m\u001b[1;33m(\u001b[0m\u001b[0mself\u001b[0m\u001b[1;33m.\u001b[0m\u001b[0mengine\u001b[0m\u001b[1;33m)\u001b[0m\u001b[1;33m\u001b[0m\u001b[0m\n\u001b[0m\u001b[0;32m    730\u001b[0m \u001b[1;33m\u001b[0m\u001b[0m\n\u001b[0;32m    731\u001b[0m     \u001b[1;32mdef\u001b[0m \u001b[0mclose\u001b[0m\u001b[1;33m(\u001b[0m\u001b[0mself\u001b[0m\u001b[1;33m)\u001b[0m\u001b[1;33m:\u001b[0m\u001b[1;33m\u001b[0m\u001b[0m\n",
      "\u001b[1;32mM:\\Anaconda3\\lib\\site-packages\\pandas\\io\\parsers.py\u001b[0m in \u001b[0;36m_make_engine\u001b[1;34m(self, engine)\u001b[0m\n\u001b[0;32m    920\u001b[0m     \u001b[1;32mdef\u001b[0m \u001b[0m_make_engine\u001b[0m\u001b[1;33m(\u001b[0m\u001b[0mself\u001b[0m\u001b[1;33m,\u001b[0m \u001b[0mengine\u001b[0m\u001b[1;33m=\u001b[0m\u001b[1;34m'c'\u001b[0m\u001b[1;33m)\u001b[0m\u001b[1;33m:\u001b[0m\u001b[1;33m\u001b[0m\u001b[0m\n\u001b[0;32m    921\u001b[0m         \u001b[1;32mif\u001b[0m \u001b[0mengine\u001b[0m \u001b[1;33m==\u001b[0m \u001b[1;34m'c'\u001b[0m\u001b[1;33m:\u001b[0m\u001b[1;33m\u001b[0m\u001b[0m\n\u001b[1;32m--> 922\u001b[1;33m             \u001b[0mself\u001b[0m\u001b[1;33m.\u001b[0m\u001b[0m_engine\u001b[0m \u001b[1;33m=\u001b[0m \u001b[0mCParserWrapper\u001b[0m\u001b[1;33m(\u001b[0m\u001b[0mself\u001b[0m\u001b[1;33m.\u001b[0m\u001b[0mf\u001b[0m\u001b[1;33m,\u001b[0m \u001b[1;33m**\u001b[0m\u001b[0mself\u001b[0m\u001b[1;33m.\u001b[0m\u001b[0moptions\u001b[0m\u001b[1;33m)\u001b[0m\u001b[1;33m\u001b[0m\u001b[0m\n\u001b[0m\u001b[0;32m    923\u001b[0m         \u001b[1;32melse\u001b[0m\u001b[1;33m:\u001b[0m\u001b[1;33m\u001b[0m\u001b[0m\n\u001b[0;32m    924\u001b[0m             \u001b[1;32mif\u001b[0m \u001b[0mengine\u001b[0m \u001b[1;33m==\u001b[0m \u001b[1;34m'python'\u001b[0m\u001b[1;33m:\u001b[0m\u001b[1;33m\u001b[0m\u001b[0m\n",
      "\u001b[1;32mM:\\Anaconda3\\lib\\site-packages\\pandas\\io\\parsers.py\u001b[0m in \u001b[0;36m__init__\u001b[1;34m(self, src, **kwds)\u001b[0m\n\u001b[0;32m   1387\u001b[0m         \u001b[0mkwds\u001b[0m\u001b[1;33m[\u001b[0m\u001b[1;34m'allow_leading_cols'\u001b[0m\u001b[1;33m]\u001b[0m \u001b[1;33m=\u001b[0m \u001b[0mself\u001b[0m\u001b[1;33m.\u001b[0m\u001b[0mindex_col\u001b[0m \u001b[1;32mis\u001b[0m \u001b[1;32mnot\u001b[0m \u001b[1;32mFalse\u001b[0m\u001b[1;33m\u001b[0m\u001b[0m\n\u001b[0;32m   1388\u001b[0m \u001b[1;33m\u001b[0m\u001b[0m\n\u001b[1;32m-> 1389\u001b[1;33m         \u001b[0mself\u001b[0m\u001b[1;33m.\u001b[0m\u001b[0m_reader\u001b[0m \u001b[1;33m=\u001b[0m \u001b[0m_parser\u001b[0m\u001b[1;33m.\u001b[0m\u001b[0mTextReader\u001b[0m\u001b[1;33m(\u001b[0m\u001b[0msrc\u001b[0m\u001b[1;33m,\u001b[0m \u001b[1;33m**\u001b[0m\u001b[0mkwds\u001b[0m\u001b[1;33m)\u001b[0m\u001b[1;33m\u001b[0m\u001b[0m\n\u001b[0m\u001b[0;32m   1390\u001b[0m \u001b[1;33m\u001b[0m\u001b[0m\n\u001b[0;32m   1391\u001b[0m         \u001b[1;31m# XXX\u001b[0m\u001b[1;33m\u001b[0m\u001b[1;33m\u001b[0m\u001b[0m\n",
      "\u001b[1;32mpandas\\parser.pyx\u001b[0m in \u001b[0;36mpandas.parser.TextReader.__cinit__ (pandas\\parser.c:4175)\u001b[1;34m()\u001b[0m\n",
      "\u001b[1;32mpandas\\parser.pyx\u001b[0m in \u001b[0;36mpandas.parser.TextReader._setup_parser_source (pandas\\parser.c:8440)\u001b[1;34m()\u001b[0m\n",
      "\u001b[1;31mFileNotFoundError\u001b[0m: File b'data/origint/ex/0000083.csv' does not exist"
     ]
    }
   ],
   "source": [
    "import pandas as pd\n",
    "\n",
    "df01 = pd.read_csv(r'data/origint/ex/0000083.csv',sep=';', names=['Num','X','Y','Dist'],dtype={'Num':'str'})\n",
    "df01"
   ]
  },
  {
   "cell_type": "code",
   "execution_count": null,
   "metadata": {
    "collapsed": true
   },
   "outputs": [],
   "source": []
  },
  {
   "cell_type": "code",
   "execution_count": null,
   "metadata": {
    "collapsed": true
   },
   "outputs": [],
   "source": []
  },
  {
   "cell_type": "code",
   "execution_count": 14,
   "metadata": {
    "collapsed": false
   },
   "outputs": [
    {
     "data": {
      "text/html": [
       "<div>\n",
       "<table border=\"1\" class=\"dataframe\">\n",
       "  <thead>\n",
       "    <tr style=\"text-align: right;\">\n",
       "      <th></th>\n",
       "      <th>Num</th>\n",
       "      <th>X</th>\n",
       "      <th>Y</th>\n",
       "      <th>Dist</th>\n",
       "    </tr>\n",
       "  </thead>\n",
       "  <tbody>\n",
       "    <tr>\n",
       "      <th>0</th>\n",
       "      <td>491</td>\n",
       "      <td>14.248720</td>\n",
       "      <td>-2.715504</td>\n",
       "      <td>NaN</td>\n",
       "    </tr>\n",
       "    <tr>\n",
       "      <th>1</th>\n",
       "      <td>489</td>\n",
       "      <td>39.222694</td>\n",
       "      <td>3.413790</td>\n",
       "      <td>NaN</td>\n",
       "    </tr>\n",
       "    <tr>\n",
       "      <th>2</th>\n",
       "      <td>487</td>\n",
       "      <td>115.287795</td>\n",
       "      <td>-0.196037</td>\n",
       "      <td>NaN</td>\n",
       "    </tr>\n",
       "    <tr>\n",
       "      <th>3</th>\n",
       "      <td>488</td>\n",
       "      <td>64.317754</td>\n",
       "      <td>-1.468485</td>\n",
       "      <td>NaN</td>\n",
       "    </tr>\n",
       "    <tr>\n",
       "      <th>4</th>\n",
       "      <td>486</td>\n",
       "      <td>141.732032</td>\n",
       "      <td>5.939320</td>\n",
       "      <td>NaN</td>\n",
       "    </tr>\n",
       "    <tr>\n",
       "      <th>5</th>\n",
       "      <td>490s</td>\n",
       "      <td>87.991032</td>\n",
       "      <td>4.576447</td>\n",
       "      <td>NaN</td>\n",
       "    </tr>\n",
       "    <tr>\n",
       "      <th>6</th>\n",
       "      <td>492</td>\n",
       "      <td>-10.788652</td>\n",
       "      <td>2.283218</td>\n",
       "      <td>NaN</td>\n",
       "    </tr>\n",
       "    <tr>\n",
       "      <th>7</th>\n",
       "      <td>493</td>\n",
       "      <td>-35.669178</td>\n",
       "      <td>-3.980927</td>\n",
       "      <td>NaN</td>\n",
       "    </tr>\n",
       "    <tr>\n",
       "      <th>8</th>\n",
       "      <td>494</td>\n",
       "      <td>-60.840355</td>\n",
       "      <td>1.019655</td>\n",
       "      <td>NaN</td>\n",
       "    </tr>\n",
       "    <tr>\n",
       "      <th>9</th>\n",
       "      <td>495</td>\n",
       "      <td>-85.605449</td>\n",
       "      <td>-5.170181</td>\n",
       "      <td>NaN</td>\n",
       "    </tr>\n",
       "    <tr>\n",
       "      <th>10</th>\n",
       "      <td>496</td>\n",
       "      <td>-110.865557</td>\n",
       "      <td>-0.221809</td>\n",
       "      <td>NaN</td>\n",
       "    </tr>\n",
       "    <tr>\n",
       "      <th>11</th>\n",
       "      <td>497</td>\n",
       "      <td>-135.645057</td>\n",
       "      <td>-6.385150</td>\n",
       "      <td>NaN</td>\n",
       "    </tr>\n",
       "    <tr>\n",
       "      <th>12</th>\n",
       "      <td>485</td>\n",
       "      <td>115.287891</td>\n",
       "      <td>-0.195926</td>\n",
       "      <td>NaN</td>\n",
       "    </tr>\n",
       "    <tr>\n",
       "      <th>13</th>\n",
       "      <td>8078</td>\n",
       "      <td>141.740865</td>\n",
       "      <td>3.925897</td>\n",
       "      <td>NaN</td>\n",
       "    </tr>\n",
       "    <tr>\n",
       "      <th>14</th>\n",
       "      <td>8079</td>\n",
       "      <td>141.873062</td>\n",
       "      <td>2.403930</td>\n",
       "      <td>NaN</td>\n",
       "    </tr>\n",
       "    <tr>\n",
       "      <th>15</th>\n",
       "      <td>8080</td>\n",
       "      <td>115.318245</td>\n",
       "      <td>1.758549</td>\n",
       "      <td>NaN</td>\n",
       "    </tr>\n",
       "    <tr>\n",
       "      <th>16</th>\n",
       "      <td>8081</td>\n",
       "      <td>115.182456</td>\n",
       "      <td>3.276407</td>\n",
       "      <td>NaN</td>\n",
       "    </tr>\n",
       "    <tr>\n",
       "      <th>17</th>\n",
       "      <td>8082</td>\n",
       "      <td>88.149783</td>\n",
       "      <td>2.621714</td>\n",
       "      <td>NaN</td>\n",
       "    </tr>\n",
       "    <tr>\n",
       "      <th>18</th>\n",
       "      <td>8083</td>\n",
       "      <td>88.325950</td>\n",
       "      <td>1.104972</td>\n",
       "      <td>NaN</td>\n",
       "    </tr>\n",
       "    <tr>\n",
       "      <th>19</th>\n",
       "      <td>8084</td>\n",
       "      <td>64.324522</td>\n",
       "      <td>0.522038</td>\n",
       "      <td>NaN</td>\n",
       "    </tr>\n",
       "    <tr>\n",
       "      <th>20</th>\n",
       "      <td>8085</td>\n",
       "      <td>64.268946</td>\n",
       "      <td>2.045189</td>\n",
       "      <td>NaN</td>\n",
       "    </tr>\n",
       "    <tr>\n",
       "      <th>21</th>\n",
       "      <td>8086</td>\n",
       "      <td>39.289316</td>\n",
       "      <td>1.433973</td>\n",
       "      <td>NaN</td>\n",
       "    </tr>\n",
       "    <tr>\n",
       "      <th>22</th>\n",
       "      <td>8087</td>\n",
       "      <td>39.369403</td>\n",
       "      <td>-0.087104</td>\n",
       "      <td>NaN</td>\n",
       "    </tr>\n",
       "    <tr>\n",
       "      <th>23</th>\n",
       "      <td>h5599h</td>\n",
       "      <td>38.224003</td>\n",
       "      <td>3.447513</td>\n",
       "      <td>NaN</td>\n",
       "    </tr>\n",
       "    <tr>\n",
       "      <th>24</th>\n",
       "      <td>8088</td>\n",
       "      <td>14.286715</td>\n",
       "      <td>-0.695689</td>\n",
       "      <td>NaN</td>\n",
       "    </tr>\n",
       "    <tr>\n",
       "      <th>25</th>\n",
       "      <td>8089</td>\n",
       "      <td>14.225360</td>\n",
       "      <td>0.823221</td>\n",
       "      <td>NaN</td>\n",
       "    </tr>\n",
       "    <tr>\n",
       "      <th>26</th>\n",
       "      <td>8090</td>\n",
       "      <td>-10.698983</td>\n",
       "      <td>-1.302743</td>\n",
       "      <td>NaN</td>\n",
       "    </tr>\n",
       "    <tr>\n",
       "      <th>27</th>\n",
       "      <td>8091</td>\n",
       "      <td>-10.833011</td>\n",
       "      <td>0.216921</td>\n",
       "      <td>NaN</td>\n",
       "    </tr>\n",
       "  </tbody>\n",
       "</table>\n",
       "</div>"
      ],
      "text/plain": [
       "       Num           X         Y  Dist\n",
       "0      491   14.248720 -2.715504   NaN\n",
       "1      489   39.222694  3.413790   NaN\n",
       "2      487  115.287795 -0.196037   NaN\n",
       "3      488   64.317754 -1.468485   NaN\n",
       "4      486  141.732032  5.939320   NaN\n",
       "5     490s   87.991032  4.576447   NaN\n",
       "6      492  -10.788652  2.283218   NaN\n",
       "7      493  -35.669178 -3.980927   NaN\n",
       "8      494  -60.840355  1.019655   NaN\n",
       "9      495  -85.605449 -5.170181   NaN\n",
       "10     496 -110.865557 -0.221809   NaN\n",
       "11     497 -135.645057 -6.385150   NaN\n",
       "12     485  115.287891 -0.195926   NaN\n",
       "13    8078  141.740865  3.925897   NaN\n",
       "14    8079  141.873062  2.403930   NaN\n",
       "15    8080  115.318245  1.758549   NaN\n",
       "16    8081  115.182456  3.276407   NaN\n",
       "17    8082   88.149783  2.621714   NaN\n",
       "18    8083   88.325950  1.104972   NaN\n",
       "19    8084   64.324522  0.522038   NaN\n",
       "20    8085   64.268946  2.045189   NaN\n",
       "21    8086   39.289316  1.433973   NaN\n",
       "22    8087   39.369403 -0.087104   NaN\n",
       "23  h5599h   38.224003  3.447513   NaN\n",
       "24    8088   14.286715 -0.695689   NaN\n",
       "25    8089   14.225360  0.823221   NaN\n",
       "26    8090  -10.698983 -1.302743   NaN\n",
       "27    8091  -10.833011  0.216921   NaN"
      ]
     },
     "execution_count": 14,
     "metadata": {},
     "output_type": "execute_result"
    }
   ],
   "source": [
    "df02 = pd.read_csv(r'data/origint/ex/0000084.csv',sep=';', names=['Num','X','Y','Dist'],dtype={'Num':'str'})\n",
    "df02"
   ]
  },
  {
   "cell_type": "markdown",
   "metadata": {},
   "source": [
    "Дополнительный шаг - выборка номер одинаковых номеров пунктов.\n",
    "Сортирую номера и записи в таблицы, надеюсь, что принцип сортировки и в сете и в дф одинаковые, но лучше будет убедиться."
   ]
  },
  {
   "cell_type": "code",
   "execution_count": 15,
   "metadata": {
    "collapsed": false
   },
   "outputs": [
    {
     "data": {
      "text/plain": [
       "['485', '486', '487', '488', '489', '491']"
      ]
     },
     "execution_count": 15,
     "metadata": {},
     "output_type": "execute_result"
    }
   ],
   "source": [
    "inter = sorted(set(list(zip(*df01['Num'].iteritems()))[1]).intersection(set(list(zip(*df02['Num'].iteritems()))[1])))\n",
    "df01_com = df01.loc[df01['Num'].isin(inter)].sort_values(by='Num')\n",
    "df02_com = df02.loc[df02['Num'].isin(inter)].sort_values(by='Num')\n",
    "inter"
   ]
  },
  {
   "cell_type": "markdown",
   "metadata": {
    "collapsed": true
   },
   "source": [
    "Создаю по два набора точек - mp01,mp02 - все точки, включая стоянки. mp01_c, mp02_c - набор общих точек."
   ]
  },
  {
   "cell_type": "code",
   "execution_count": 16,
   "metadata": {
    "collapsed": false
   },
   "outputs": [],
   "source": [
    "from shapely.geometry import MultiPoint\n",
    "\n",
    "mp01 = MultiPoint([i[2:4] for i in df01.itertuples()])\n",
    "mp01_c = MultiPoint([i[2:4] for i in df01_com.itertuples()])\n",
    "mp02 = MultiPoint([i[2:4] for i in df02.itertuples()])\n",
    "mp02_c = MultiPoint([i[2:4] for i in df02_com.itertuples()])"
   ]
  },
  {
   "cell_type": "code",
   "execution_count": 17,
   "metadata": {
    "collapsed": false
   },
   "outputs": [
    {
     "data": {
      "text/plain": [
       "-1.4916869771607004"
      ]
     },
     "execution_count": 17,
     "metadata": {},
     "output_type": "execute_result"
    }
   ],
   "source": [
    "mp01_c[0].distance(mp01_c[1]) - mp02_c[0].distance(mp02_c[1])"
   ]
  },
  {
   "cell_type": "code",
   "execution_count": 18,
   "metadata": {
    "collapsed": false
   },
   "outputs": [
    {
     "data": {
      "text/plain": [
       "(25.654838358676074, 27.146525335836774)"
      ]
     },
     "execution_count": 18,
     "metadata": {},
     "output_type": "execute_result"
    }
   ],
   "source": [
    "mp01_c[0].distance(mp01_c[1]),mp02_c[0].distance(mp02_c[1])\n"
   ]
  },
  {
   "cell_type": "code",
   "execution_count": 19,
   "metadata": {
    "collapsed": false
   },
   "outputs": [],
   "source": [
    "import matplotlib.pyplot as plt\n",
    "%matplotlib inline  \n",
    "\n",
    "def plp(z,n):\n",
    "    for p in z:        \n",
    "        x = [i.x for i in p.geoms]\n",
    "        y = [i.y for i in p.geoms]\n",
    "        plt.figure(n)\n",
    "        plt.plot(x,y,'ro')\n",
    "        plt.plot(x,y,'ro')\n",
    "    plt.show()"
   ]
  },
  {
   "cell_type": "code",
   "execution_count": 20,
   "metadata": {
    "collapsed": false
   },
   "outputs": [
    {
     "data": {
      "image/png": "[encoded data removed]",
      "text/plain": [
       "<matplotlib.figure.Figure at 0x8a735c0>"
      ]
     },
     "metadata": {},
     "output_type": "display_data"
    }
   ],
   "source": [
    "plp((mp01_c,),1)"
   ]
  },
  {
   "cell_type": "code",
   "execution_count": 21,
   "metadata": {
    "collapsed": false
   },
   "outputs": [
    {
     "data": {
      "image/png": "[encoded data removed]",
      "text/plain": [
       "<matplotlib.figure.Figure at 0x9ad6ba8>"
      ]
     },
     "metadata": {},
     "output_type": "display_data"
    }
   ],
   "source": [
    "plp((mp02_c,),1)"
   ]
  },
  {
   "cell_type": "code",
   "execution_count": 39,
   "metadata": {
    "collapsed": false
   },
   "outputs": [
    {
     "data": {
      "text/plain": [
       "['485', '486', '487', '488', '489', '491']"
      ]
     },
     "execution_count": 39,
     "metadata": {},
     "output_type": "execute_result"
    }
   ],
   "source": [
    "inter"
   ]
  },
  {
   "cell_type": "code",
   "execution_count": 51,
   "metadata": {
    "collapsed": false
   },
   "outputs": [
    {
     "data": {
      "image/svg+xml": [
       "<svg xmlns=\"http://www.w3.org/2000/svg\" xmlns:xlink=\"http://www.w3.org/1999/xlink\" width=\"109.12220112176666\" height=\"100.0\" viewBox=\"10.20715676466958 -6.757067356143676 109.12220112176666 14.212420184205193\" preserveAspectRatio=\"xMinYMin meet\"><g transform=\"matrix(1,0,0,-1,0,0.698285471917842)\"><g><circle cx=\"115.28779488192636\" cy=\"-0.1960366464062833\" r=\"3.0\" stroke=\"#555555\" stroke-width=\"1.0\" fill=\"#66cc99\" opacity=\"0.6\" /><circle cx=\"64.31775431767686\" cy=\"-1.4684850061731483\" r=\"3.0\" stroke=\"#555555\" stroke-width=\"1.0\" fill=\"#66cc99\" opacity=\"0.6\" /><circle cx=\"39.2226938130007\" cy=\"3.413789823551641\" r=\"3.0\" stroke=\"#555555\" stroke-width=\"1.0\" fill=\"#66cc99\" opacity=\"0.6\" /><circle cx=\"14.248719769179456\" cy=\"-2.7155043516338\" r=\"3.0\" stroke=\"#555555\" stroke-width=\"1.0\" fill=\"#66cc99\" opacity=\"0.6\" /></g></g></svg>"
      ],
      "text/plain": [
       "<shapely.geometry.multipoint.MultiPoint at 0x9d8e7f0>"
      ]
     },
     "execution_count": 51,
     "metadata": {},
     "output_type": "execute_result"
    }
   ],
   "source": [
    "mp02_c[2:]"
   ]
  },
  {
   "cell_type": "code",
   "execution_count": 25,
   "metadata": {
    "collapsed": false
   },
   "outputs": [
    {
     "data": {
      "image/svg+xml": [
       "<svg xmlns=\"http://www.w3.org/2000/svg\" xmlns:xlink=\"http://www.w3.org/1999/xlink\" width=\"164.85942694306686\" height=\"100.0\" viewBox=\"-144.46073989646985 -12.530833701857755 164.85942694306686 20.864959796267733\" preserveAspectRatio=\"xMinYMin meet\"><g transform=\"matrix(1,0,0,-1,0,-4.196707607447776)\"><g><circle cx=\"14.29278234500196\" cy=\"-2.7643168329559265\" r=\"3.0\" stroke=\"#555555\" stroke-width=\"1.0\" fill=\"#66cc99\" opacity=\"0.6\" /><circle cx=\"-10.871583199831752\" cy=\"2.2282213928149104\" r=\"3.0\" stroke=\"#555555\" stroke-width=\"1.0\" fill=\"#66cc99\" opacity=\"0.6\" /><circle cx=\"-37.31577705050539\" cy=\"-3.906454296179819\" r=\"3.0\" stroke=\"#555555\" stroke-width=\"1.0\" fill=\"#66cc99\" opacity=\"0.6\" /><circle cx=\"-88.285582044504\" cy=\"-5.178611390570151\" r=\"3.0\" stroke=\"#555555\" stroke-width=\"1.0\" fill=\"#66cc99\" opacity=\"0.6\" /><circle cx=\"-113.38099641321558\" cy=\"-0.29619472631794336\" r=\"3.0\" stroke=\"#555555\" stroke-width=\"1.0\" fill=\"#66cc99\" opacity=\"0.6\" /><circle cx=\"-138.35483519487477\" cy=\"-6.4249290002626855\" r=\"3.0\" stroke=\"#555555\" stroke-width=\"1.0\" fill=\"#66cc99\" opacity=\"0.6\" /></g></g></svg>"
      ],
      "text/plain": [
       "<shapely.geometry.multipoint.MultiPoint at 0xb36def0>"
      ]
     },
     "execution_count": 25,
     "metadata": {},
     "output_type": "execute_result"
    }
   ],
   "source": [
    "mp01_c"
   ]
  },
  {
   "cell_type": "code",
   "execution_count": 26,
   "metadata": {
    "collapsed": false
   },
   "outputs": [],
   "source": [
    "from shapely import affinity\n",
    "from scipy.optimize import minimize,rosen_der\n",
    "\n",
    "def mov(x,y,angle,geom):\n",
    "    geom_r = affinity.rotate(geom,angle,origin=(0,0))\n",
    "    geom_t = affinity.translate(geom_r,x,y)\n",
    "    return geom_t\n",
    "\n",
    "def calc_dist(geom1,geom2):\n",
    "    dist = 0\n",
    "    geom_list = zip(geom1,geom2)\n",
    "    for item in geom_list:\n",
    "        dist+=item[0].distance(item[1])\n",
    "    return dist\n",
    "\n",
    "def fun1(x0,geom1, geom2):\n",
    "    x,y,angle = x0\n",
    "    n_geom = mov(x,y,angle,geom2)\n",
    "    return calc_dist(geom1,n_geom)"
   ]
  },
  {
   "cell_type": "code",
   "execution_count": 27,
   "metadata": {
    "collapsed": false
   },
   "outputs": [],
   "source": [
    "\n",
    "x_guess = mp01_c[0].x -mp02_c[0].x\n",
    "y_guess = mp01_c[0].y -mp02_c[0].y\n",
    "\n",
    "x0 = (x_guess,y_guess,0)"
   ]
  },
  {
   "cell_type": "code",
   "execution_count": 28,
   "metadata": {
    "collapsed": false
   },
   "outputs": [
    {
     "data": {
      "text/plain": [
       "      fun: 51.62205671652598\n",
       " hess_inv: array([[  3.03057286e-07,   8.81912673e-07,  -3.87389559e-06],\n",
       "       [  8.81912673e-07,   3.52687622e-06,  -1.48303059e-05],\n",
       "       [ -3.87389559e-06,  -1.48303059e-05,   6.38212406e-05]])\n",
       "      jac: array([ 0.54986668,  0.18983173,  0.03851318])\n",
       "  message: 'Desired error not necessarily achieved due to precision loss.'\n",
       "     nfev: 531\n",
       "      nit: 34\n",
       "     njev: 104\n",
       "   status: 2\n",
       "  success: False\n",
       "        x: array([ -1.52603522e+02,  -3.70924986e+00,  -7.02929776e-04])"
      ]
     },
     "execution_count": 28,
     "metadata": {},
     "output_type": "execute_result"
    }
   ],
   "source": [
    "re = minimize(fun1,x0,args=(mp01_c,mp02_c),method='BFGS')\n",
    "re"
   ]
  },
  {
   "cell_type": "code",
   "execution_count": 29,
   "metadata": {
    "collapsed": false
   },
   "outputs": [
    {
     "data": {
      "text/plain": [
       "     fun: 51.62205884015616\n",
       "     jac: array([ 0.19972467, -0.2691493 , -0.15842342,  0.        ])\n",
       " message: 'Optimization terminated successfully.'\n",
       "    nfev: 171\n",
       "     nit: 28\n",
       "    njev: 28\n",
       "  status: 0\n",
       " success: True\n",
       "       x: array([ -1.52603518e+02,  -3.70925639e+00,  -7.03255286e-04])"
      ]
     },
     "execution_count": 29,
     "metadata": {},
     "output_type": "execute_result"
    }
   ],
   "source": [
    "res = minimize(fun1,x0,args=(mp01_c,mp02_c), method = 'SLSQP')\n",
    "res"
   ]
  },
  {
   "cell_type": "code",
   "execution_count": 30,
   "metadata": {
    "collapsed": false
   },
   "outputs": [
    {
     "data": {
      "image/svg+xml": [
       "<svg xmlns=\"http://www.w3.org/2000/svg\" xmlns:xlink=\"http://www.w3.org/1999/xlink\" width=\"299.7196850458701\" height=\"100.0\" viewBox=\"-299.3493831482834 -21.193470762106507 299.7196850458701 34.522523879558925\" preserveAspectRatio=\"xMinYMin meet\"><g transform=\"matrix(1,0,0,-1,0,-7.864417644654088)\"><g><circle cx=\"-138.3548319115551\" cy=\"-6.4249356298444305\" r=\"3.0\" stroke=\"#555555\" stroke-width=\"1.0\" fill=\"#66cc99\" opacity=\"0.6\" /><circle cx=\"-113.38078263792144\" cy=\"-0.2959479886806622\" r=\"3.0\" stroke=\"#555555\" stroke-width=\"1.0\" fill=\"#66cc99\" opacity=\"0.6\" /><circle cx=\"-37.315725882169644\" cy=\"-3.906708090562307\" r=\"3.0\" stroke=\"#555555\" stroke-width=\"1.0\" fill=\"#66cc99\" opacity=\"0.6\" /><circle cx=\"-88.28578206076388\" cy=\"-5.178530837827436\" r=\"3.0\" stroke=\"#555555\" stroke-width=\"1.0\" fill=\"#66cc99\" opacity=\"0.6\" /><circle cx=\"-10.871413662882247\" cy=\"2.228324041679454\" r=\"3.0\" stroke=\"#555555\" stroke-width=\"1.0\" fill=\"#66cc99\" opacity=\"0.6\" /><circle cx=\"-64.61243001779276\" cy=\"0.8661105837693079\" r=\"3.0\" stroke=\"#555555\" stroke-width=\"1.0\" fill=\"#66cc99\" opacity=\"0.6\" /><circle cx=\"-163.3921423341689\" cy=\"-1.4259063806964756\" r=\"3.0\" stroke=\"#555555\" stroke-width=\"1.0\" fill=\"#66cc99\" opacity=\"0.6\" /><circle cx=\"-188.27274547672567\" cy=\"-7.689745276451168\" r=\"3.0\" stroke=\"#555555\" stroke-width=\"1.0\" fill=\"#66cc99\" opacity=\"0.6\" /><circle cx=\"-213.44386096082667\" cy=\"-2.6888544936726237\" r=\"3.0\" stroke=\"#555555\" stroke-width=\"1.0\" fill=\"#66cc99\" opacity=\"0.6\" /><circle cx=\"-238.20903117711327\" cy=\"-8.878386539929874\" r=\"3.0\" stroke=\"#555555\" stroke-width=\"1.0\" fill=\"#66cc99\" opacity=\"0.6\" /><circle cx=\"-263.4690779979548\" cy=\"-3.929704719728259\" r=\"3.0\" stroke=\"#555555\" stroke-width=\"1.0\" fill=\"#66cc99\" opacity=\"0.6\" /><circle cx=\"-288.2486540725104\" cy=\"-10.092741686333543\" r=\"3.0\" stroke=\"#555555\" stroke-width=\"1.0\" fill=\"#66cc99\" opacity=\"0.6\" /><circle cx=\"-37.315630071893466\" cy=\"-3.906597011000048\" r=\"3.0\" stroke=\"#555555\" stroke-width=\"1.0\" fill=\"#66cc99\" opacity=\"0.6\" /><circle cx=\"-10.862604816681824\" cy=\"0.2149006264771005\" r=\"3.0\" stroke=\"#555555\" stroke-width=\"1.0\" fill=\"#66cc99\" opacity=\"0.6\" /><circle cx=\"-10.730427178186261\" cy=\"-1.307067895826716\" r=\"3.0\" stroke=\"#555555\" stroke-width=\"1.0\" fill=\"#66cc99\" opacity=\"0.6\" /><circle cx=\"-37.28525174445177\" cy=\"-1.9521227600337434\" r=\"3.0\" stroke=\"#555555\" stroke-width=\"1.0\" fill=\"#66cc99\" opacity=\"0.6\" /><circle cx=\"-37.42102243926233\" cy=\"-0.4342631504094636\" r=\"3.0\" stroke=\"#555555\" stroke-width=\"1.0\" fill=\"#66cc99\" opacity=\"0.6\" /><circle cx=\"-64.45370338719641\" cy=\"-1.0886242641094617\" r=\"3.0\" stroke=\"#555555\" stroke-width=\"1.0\" fill=\"#66cc99\" opacity=\"0.6\" /><circle cx=\"-64.27755489066907\" cy=\"-2.6053687143989164\" r=\"3.0\" stroke=\"#555555\" stroke-width=\"1.0\" fill=\"#66cc99\" opacity=\"0.6\" /><circle cx=\"-88.27898974252649\" cy=\"-3.1880075576368956\" r=\"3.0\" stroke=\"#555555\" stroke-width=\"1.0\" fill=\"#66cc99\" opacity=\"0.6\" /><circle cx=\"-88.33454760941727\" cy=\"-1.664856648373216\" r=\"3.0\" stroke=\"#555555\" stroke-width=\"1.0\" fill=\"#66cc99\" opacity=\"0.6\" /><circle cx=\"-113.3141848566068\" cy=\"-2.2757657922675367\" r=\"3.0\" stroke=\"#555555\" stroke-width=\"1.0\" fill=\"#66cc99\" opacity=\"0.6\" /><circle cx=\"-113.2341161688297\" cy=\"-3.796843245615378\" r=\"3.0\" stroke=\"#555555\" stroke-width=\"1.0\" fill=\"#66cc99\" opacity=\"0.6\" /><circle cx=\"-114.37947306184304\" cy=\"-0.2622126718912958\" r=\"3.0\" stroke=\"#555555\" stroke-width=\"1.0\" fill=\"#66cc99\" opacity=\"0.6\" /><circle cx=\"-138.3168117062117\" cy=\"-4.405120370634995\" r=\"3.0\" stroke=\"#555555\" stroke-width=\"1.0\" fill=\"#66cc99\" opacity=\"0.6\" /><circle cx=\"-138.37814856157928\" cy=\"-2.886210377377215\" r=\"3.0\" stroke=\"#555555\" stroke-width=\"1.0\" fill=\"#66cc99\" opacity=\"0.6\" /><circle cx=\"-163.30251711705213\" cy=\"-5.011868514125588\" r=\"3.0\" stroke=\"#555555\" stroke-width=\"1.0\" fill=\"#66cc99\" opacity=\"0.6\" /><circle cx=\"-163.436526443424\" cy=\"-3.4922027204918415\" r=\"3.0\" stroke=\"#555555\" stroke-width=\"1.0\" fill=\"#66cc99\" opacity=\"0.6\" /></g></g></svg>"
      ],
      "text/plain": [
       "<shapely.geometry.multipoint.MultiPoint at 0x9b4da20>"
      ]
     },
     "execution_count": 30,
     "metadata": {},
     "output_type": "execute_result"
    }
   ],
   "source": [
    "mp_moved = mov(*res.x,mp02)\n",
    "mp_moved"
   ]
  },
  {
   "cell_type": "code",
   "execution_count": 31,
   "metadata": {
    "collapsed": true
   },
   "outputs": [],
   "source": [
    "mpcm = mov(*res.x,mp02_c)"
   ]
  },
  {
   "cell_type": "code",
   "execution_count": 32,
   "metadata": {
    "collapsed": false
   },
   "outputs": [
    {
     "name": "stdout",
     "output_type": "stream",
     "text": [
      "51.62105225775157\n",
      "0.00019819073298090137\n",
      "0.00025890111464681013\n",
      "0.00021562756914660937\n",
      "0.000326464910881237\n"
     ]
    }
   ],
   "source": [
    "for i in list(range(len(mp02_c.geoms)))[0:-1]:\n",
    "    print(mp01_c[i].distance(mpcm[i]))"
   ]
  },
  {
   "cell_type": "code",
   "execution_count": null,
   "metadata": {
    "collapsed": true
   },
   "outputs": [],
   "source": []
  },
  {
   "cell_type": "code",
   "execution_count": 33,
   "metadata": {
    "collapsed": false
   },
   "outputs": [
    {
     "ename": "NameError",
     "evalue": "name 'ng' is not defined",
     "output_type": "error",
     "traceback": [
      "\u001b[1;31m---------------------------------------------------------------------------\u001b[0m",
      "\u001b[1;31mNameError\u001b[0m                                 Traceback (most recent call last)",
      "\u001b[1;32m<ipython-input-33-1e8cb4aad390>\u001b[0m in \u001b[0;36m<module>\u001b[1;34m()\u001b[0m\n\u001b[1;32m----> 1\u001b[1;33m \u001b[0mplp\u001b[0m\u001b[1;33m(\u001b[0m\u001b[1;33m(\u001b[0m\u001b[0mmp01_c\u001b[0m\u001b[1;33m,\u001b[0m\u001b[0mng\u001b[0m\u001b[1;33m)\u001b[0m\u001b[1;33m,\u001b[0m\u001b[1;36m7\u001b[0m\u001b[1;33m)\u001b[0m\u001b[1;33m\u001b[0m\u001b[0m\n\u001b[0m",
      "\u001b[1;31mNameError\u001b[0m: name 'ng' is not defined"
     ]
    }
   ],
   "source": [
    "plp((mp01_c,ng),7)"
   ]
  },
  {
   "cell_type": "code",
   "execution_count": 34,
   "metadata": {
    "collapsed": false
   },
   "outputs": [
    {
     "data": {
      "text/plain": [
       "(14.29278234500196, -2.7643168329559265)"
      ]
     },
     "execution_count": 34,
     "metadata": {},
     "output_type": "execute_result"
    }
   ],
   "source": [
    "mp01_c[0].x,mp01_c[0].y"
   ]
  },
  {
   "cell_type": "code",
   "execution_count": 35,
   "metadata": {
    "collapsed": false
   },
   "outputs": [
    {
     "data": {
      "text/plain": [
       "(-0.0001695369495049448, -0.00010264886454347533)"
      ]
     },
     "execution_count": 35,
     "metadata": {},
     "output_type": "execute_result"
    }
   ],
   "source": [
    "\n",
    "mp01_c[1].x-mpcm[1].x,mp01_c[1].y-mpcm[1].y"
   ]
  },
  {
   "cell_type": "code",
   "execution_count": 36,
   "metadata": {
    "collapsed": false
   },
   "outputs": [
    {
     "ename": "NameError",
     "evalue": "name 'ng' is not defined",
     "output_type": "error",
     "traceback": [
      "\u001b[1;31m---------------------------------------------------------------------------\u001b[0m",
      "\u001b[1;31mNameError\u001b[0m                                 Traceback (most recent call last)",
      "\u001b[1;32m<ipython-input-36-502b51a3cda0>\u001b[0m in \u001b[0;36m<module>\u001b[1;34m()\u001b[0m\n\u001b[1;32m----> 1\u001b[1;33m \u001b[0mmp01_c\u001b[0m\u001b[1;33m[\u001b[0m\u001b[1;36m0\u001b[0m\u001b[1;33m]\u001b[0m\u001b[1;33m.\u001b[0m\u001b[0mdistance\u001b[0m\u001b[1;33m(\u001b[0m\u001b[0mmp01_c\u001b[0m\u001b[1;33m[\u001b[0m\u001b[1;36m1\u001b[0m\u001b[1;33m]\u001b[0m\u001b[1;33m)\u001b[0m\u001b[1;33m,\u001b[0m\u001b[0mng\u001b[0m\u001b[1;33m[\u001b[0m\u001b[1;36m0\u001b[0m\u001b[1;33m]\u001b[0m\u001b[1;33m.\u001b[0m\u001b[0mdistance\u001b[0m\u001b[1;33m(\u001b[0m\u001b[0mng\u001b[0m\u001b[1;33m[\u001b[0m\u001b[1;36m1\u001b[0m\u001b[1;33m]\u001b[0m\u001b[1;33m)\u001b[0m\u001b[1;33m\u001b[0m\u001b[0m\n\u001b[0m",
      "\u001b[1;31mNameError\u001b[0m: name 'ng' is not defined"
     ]
    }
   ],
   "source": [
    "mp01_c[0].distance(mp01_c[1]),ng[0].distance(ng[1])"
   ]
  },
  {
   "cell_type": "code",
   "execution_count": 37,
   "metadata": {
    "collapsed": false
   },
   "outputs": [
    {
     "ename": "NameError",
     "evalue": "name 'ng' is not defined",
     "output_type": "error",
     "traceback": [
      "\u001b[1;31m---------------------------------------------------------------------------\u001b[0m",
      "\u001b[1;31mNameError\u001b[0m                                 Traceback (most recent call last)",
      "\u001b[1;32m<ipython-input-37-ba398b3abd0c>\u001b[0m in \u001b[0;36m<module>\u001b[1;34m()\u001b[0m\n\u001b[1;32m----> 1\u001b[1;33m \u001b[0mcalc_dist\u001b[0m\u001b[1;33m(\u001b[0m\u001b[0mng\u001b[0m\u001b[1;33m,\u001b[0m\u001b[0mmp01_c\u001b[0m\u001b[1;33m)\u001b[0m\u001b[1;33m\u001b[0m\u001b[0m\n\u001b[0m",
      "\u001b[1;31mNameError\u001b[0m: name 'ng' is not defined"
     ]
    }
   ],
   "source": [
    "calc_dist(ng,mp01_c)"
   ]
  },
  {
   "cell_type": "markdown",
   "metadata": {},
   "source": [
    "Считаем расстояния от стоянки 99002 до всех точек.  \n",
    "До сдвижки, после сдвижки, значение сдвижки."
   ]
  },
  {
   "cell_type": "code",
   "execution_count": 38,
   "metadata": {
    "collapsed": false
   },
   "outputs": [
    {
     "data": {
      "text/html": [
       "<div>\n",
       "<table border=\"1\" class=\"dataframe\">\n",
       "  <thead>\n",
       "    <tr style=\"text-align: right;\">\n",
       "      <th></th>\n",
       "      <th>Before</th>\n",
       "      <th>After</th>\n",
       "      <th>Diff</th>\n",
       "    </tr>\n",
       "  </thead>\n",
       "  <tbody>\n",
       "    <tr>\n",
       "      <th>0</th>\n",
       "      <td>25.252571</td>\n",
       "      <td>25.252571</td>\n",
       "      <td>-1.421085e-14</td>\n",
       "    </tr>\n",
       "    <tr>\n",
       "      <th>1</th>\n",
       "      <td>50.157687</td>\n",
       "      <td>50.157687</td>\n",
       "      <td>-1.421085e-14</td>\n",
       "    </tr>\n",
       "    <tr>\n",
       "      <th>2</th>\n",
       "      <td>126.121482</td>\n",
       "      <td>126.121482</td>\n",
       "      <td>0.000000e+00</td>\n",
       "    </tr>\n",
       "    <tr>\n",
       "      <th>3</th>\n",
       "      <td>75.169662</td>\n",
       "      <td>75.169662</td>\n",
       "      <td>0.000000e+00</td>\n",
       "    </tr>\n",
       "    <tr>\n",
       "      <th>4</th>\n",
       "      <td>152.672323</td>\n",
       "      <td>152.672323</td>\n",
       "      <td>-2.842171e-14</td>\n",
       "    </tr>\n",
       "    <tr>\n",
       "      <th>5</th>\n",
       "      <td>98.920154</td>\n",
       "      <td>98.920154</td>\n",
       "      <td>-1.421085e-14</td>\n",
       "    </tr>\n",
       "    <tr>\n",
       "      <th>6</th>\n",
       "      <td>2.066773</td>\n",
       "      <td>2.066773</td>\n",
       "      <td>-4.440892e-16</td>\n",
       "    </tr>\n",
       "    <tr>\n",
       "      <th>7</th>\n",
       "      <td>25.188433</td>\n",
       "      <td>25.188433</td>\n",
       "      <td>1.776357e-14</td>\n",
       "    </tr>\n",
       "    <tr>\n",
       "      <th>8</th>\n",
       "      <td>50.013787</td>\n",
       "      <td>50.013787</td>\n",
       "      <td>2.131628e-14</td>\n",
       "    </tr>\n",
       "    <tr>\n",
       "      <th>9</th>\n",
       "      <td>74.966249</td>\n",
       "      <td>74.966249</td>\n",
       "      <td>0.000000e+00</td>\n",
       "    </tr>\n",
       "    <tr>\n",
       "      <th>10</th>\n",
       "      <td>100.033508</td>\n",
       "      <td>100.033508</td>\n",
       "      <td>1.421085e-14</td>\n",
       "    </tr>\n",
       "    <tr>\n",
       "      <th>11</th>\n",
       "      <td>124.986537</td>\n",
       "      <td>124.986537</td>\n",
       "      <td>-1.421085e-14</td>\n",
       "    </tr>\n",
       "    <tr>\n",
       "      <th>12</th>\n",
       "      <td>126.121577</td>\n",
       "      <td>126.121577</td>\n",
       "      <td>-1.421085e-14</td>\n",
       "    </tr>\n",
       "    <tr>\n",
       "      <th>13</th>\n",
       "      <td>152.618951</td>\n",
       "      <td>152.618951</td>\n",
       "      <td>-5.684342e-14</td>\n",
       "    </tr>\n",
       "    <tr>\n",
       "      <th>14</th>\n",
       "      <td>152.721732</td>\n",
       "      <td>152.721732</td>\n",
       "      <td>-2.842171e-14</td>\n",
       "    </tr>\n",
       "    <tr>\n",
       "      <th>15</th>\n",
       "      <td>126.160675</td>\n",
       "      <td>126.160675</td>\n",
       "      <td>-1.421085e-14</td>\n",
       "    </tr>\n",
       "    <tr>\n",
       "      <th>16</th>\n",
       "      <td>126.052601</td>\n",
       "      <td>126.052601</td>\n",
       "      <td>-1.421085e-14</td>\n",
       "    </tr>\n",
       "    <tr>\n",
       "      <th>17</th>\n",
       "      <td>99.012002</td>\n",
       "      <td>99.012002</td>\n",
       "      <td>-1.421085e-14</td>\n",
       "    </tr>\n",
       "    <tr>\n",
       "      <th>18</th>\n",
       "      <td>99.162937</td>\n",
       "      <td>99.162937</td>\n",
       "      <td>-2.842171e-14</td>\n",
       "    </tr>\n",
       "    <tr>\n",
       "      <th>19</th>\n",
       "      <td>75.158152</td>\n",
       "      <td>75.158152</td>\n",
       "      <td>0.000000e+00</td>\n",
       "    </tr>\n",
       "    <tr>\n",
       "      <th>20</th>\n",
       "      <td>75.124207</td>\n",
       "      <td>75.124207</td>\n",
       "      <td>-1.421085e-14</td>\n",
       "    </tr>\n",
       "    <tr>\n",
       "      <th>21</th>\n",
       "      <td>50.137100</td>\n",
       "      <td>50.137100</td>\n",
       "      <td>0.000000e+00</td>\n",
       "    </tr>\n",
       "    <tr>\n",
       "      <th>22</th>\n",
       "      <td>50.203335</td>\n",
       "      <td>50.203335</td>\n",
       "      <td>0.000000e+00</td>\n",
       "    </tr>\n",
       "    <tr>\n",
       "      <th>23</th>\n",
       "      <td>49.163272</td>\n",
       "      <td>49.163272</td>\n",
       "      <td>-1.421085e-14</td>\n",
       "    </tr>\n",
       "    <tr>\n",
       "      <th>24</th>\n",
       "      <td>25.136298</td>\n",
       "      <td>25.136298</td>\n",
       "      <td>-7.105427e-15</td>\n",
       "    </tr>\n",
       "    <tr>\n",
       "      <th>25</th>\n",
       "      <td>25.065704</td>\n",
       "      <td>25.065704</td>\n",
       "      <td>-1.065814e-14</td>\n",
       "    </tr>\n",
       "    <tr>\n",
       "      <th>26</th>\n",
       "      <td>1.525563</td>\n",
       "      <td>1.525563</td>\n",
       "      <td>-4.440892e-16</td>\n",
       "    </tr>\n",
       "    <tr>\n",
       "      <th>27</th>\n",
       "      <td>0.000000</td>\n",
       "      <td>0.000000</td>\n",
       "      <td>0.000000e+00</td>\n",
       "    </tr>\n",
       "  </tbody>\n",
       "</table>\n",
       "</div>"
      ],
      "text/plain": [
       "        Before       After          Diff\n",
       "0    25.252571   25.252571 -1.421085e-14\n",
       "1    50.157687   50.157687 -1.421085e-14\n",
       "2   126.121482  126.121482  0.000000e+00\n",
       "3    75.169662   75.169662  0.000000e+00\n",
       "4   152.672323  152.672323 -2.842171e-14\n",
       "5    98.920154   98.920154 -1.421085e-14\n",
       "6     2.066773    2.066773 -4.440892e-16\n",
       "7    25.188433   25.188433  1.776357e-14\n",
       "8    50.013787   50.013787  2.131628e-14\n",
       "9    74.966249   74.966249  0.000000e+00\n",
       "10  100.033508  100.033508  1.421085e-14\n",
       "11  124.986537  124.986537 -1.421085e-14\n",
       "12  126.121577  126.121577 -1.421085e-14\n",
       "13  152.618951  152.618951 -5.684342e-14\n",
       "14  152.721732  152.721732 -2.842171e-14\n",
       "15  126.160675  126.160675 -1.421085e-14\n",
       "16  126.052601  126.052601 -1.421085e-14\n",
       "17   99.012002   99.012002 -1.421085e-14\n",
       "18   99.162937   99.162937 -2.842171e-14\n",
       "19   75.158152   75.158152  0.000000e+00\n",
       "20   75.124207   75.124207 -1.421085e-14\n",
       "21   50.137100   50.137100  0.000000e+00\n",
       "22   50.203335   50.203335  0.000000e+00\n",
       "23   49.163272   49.163272 -1.421085e-14\n",
       "24   25.136298   25.136298 -7.105427e-15\n",
       "25   25.065704   25.065704 -1.065814e-14\n",
       "26    1.525563    1.525563 -4.440892e-16\n",
       "27    0.000000    0.000000  0.000000e+00"
      ]
     },
     "execution_count": 38,
     "metadata": {},
     "output_type": "execute_result"
    }
   ],
   "source": [
    "dist_do = [mp02[-1].distance(i) for i in mp02]\n",
    "dist_po = [mp_moved[-1].distance(i) for i in mp_moved]\n",
    "od = zip(dist_do,dist_po)\n",
    "od = [[i[0],i[1],i[0]-i[1]] for i in od]\n",
    "df_od = pd.DataFrame.from_records(od,columns=('Before','After','Diff'))\n",
    "df_od"
   ]
  },
  {
   "cell_type": "markdown",
   "metadata": {},
   "source": [
    "Расстояние между всеми точками:"
   ]
  },
  {
   "cell_type": "code",
   "execution_count": null,
   "metadata": {
    "collapsed": false
   },
   "outputs": [],
   "source": [
    "all_l = []\n",
    "for origin in mp02:\n",
    "    nap = []\n",
    "    for p in mp02:\n",
    "        nap.append(origin.distance(p))\n",
    "    all_l.append(nap)\n",
    "\n",
    "all_2 = []\n",
    "for origin in mp_moved:\n",
    "    nap = []\n",
    "    for p in mp_moved:\n",
    "        nap.append(origin.distance(p))\n",
    "    all_2.append(nap)\n",
    "\n",
    "all_a = [list(zip(i[0],i[1])) for i in list(zip(all_l,all_2))]\n",
    "all_a"
   ]
  },
  {
   "cell_type": "markdown",
   "metadata": {},
   "source": [
    "Таблица с координатам сдвинутого 99002:"
   ]
  },
  {
   "cell_type": "code",
   "execution_count": null,
   "metadata": {
    "collapsed": false
   },
   "outputs": [],
   "source": [
    "df2_nums = list(zip(*df02['Num'].iteritems()))[1]\n",
    "al = list(zip(df2_nums,mp_moved))\n",
    "mov_stag = [[i[0],i[1].x,i[1].y,al[-1][1].distance(i[1])] for i in al]\n",
    "mov_df = pd.DataFrame.from_records(mov_stag,columns=('Num','X','Y','Dist'))\n",
    "mov_df\n",
    "\n"
   ]
  },
  {
   "cell_type": "markdown",
   "metadata": {},
   "source": [
    "Координаты 99001:"
   ]
  },
  {
   "cell_type": "code",
   "execution_count": null,
   "metadata": {
    "collapsed": false
   },
   "outputs": [],
   "source": [
    "df01"
   ]
  },
  {
   "cell_type": "markdown",
   "metadata": {},
   "source": [
    "Оригинальные координаты 990002:"
   ]
  },
  {
   "cell_type": "code",
   "execution_count": 72,
   "metadata": {
    "collapsed": false,
    "scrolled": true
   },
   "outputs": [
    {
     "data": {
      "text/html": [
       "<div>\n",
       "<table border=\"1\" class=\"dataframe\">\n",
       "  <thead>\n",
       "    <tr style=\"text-align: right;\">\n",
       "      <th></th>\n",
       "      <th>Num</th>\n",
       "      <th>X</th>\n",
       "      <th>Y</th>\n",
       "      <th>Dist</th>\n",
       "    </tr>\n",
       "  </thead>\n",
       "  <tbody>\n",
       "    <tr>\n",
       "      <th>0</th>\n",
       "      <td>26</td>\n",
       "      <td>-10.340730</td>\n",
       "      <td>2.554477</td>\n",
       "      <td>NaN</td>\n",
       "    </tr>\n",
       "    <tr>\n",
       "      <th>1</th>\n",
       "      <td>28</td>\n",
       "      <td>-59.204688</td>\n",
       "      <td>1.595030</td>\n",
       "      <td>NaN</td>\n",
       "    </tr>\n",
       "    <tr>\n",
       "      <th>2</th>\n",
       "      <td>29</td>\n",
       "      <td>-90.283492</td>\n",
       "      <td>0.614403</td>\n",
       "      <td>NaN</td>\n",
       "    </tr>\n",
       "    <tr>\n",
       "      <th>3</th>\n",
       "      <td>30</td>\n",
       "      <td>-111.348544</td>\n",
       "      <td>-5.354379</td>\n",
       "      <td>NaN</td>\n",
       "    </tr>\n",
       "    <tr>\n",
       "      <th>4</th>\n",
       "      <td>29a</td>\n",
       "      <td>-90.106648</td>\n",
       "      <td>-5.159582</td>\n",
       "      <td>NaN</td>\n",
       "    </tr>\n",
       "    <tr>\n",
       "      <th>5</th>\n",
       "      <td>27</td>\n",
       "      <td>-27.537217</td>\n",
       "      <td>-3.404122</td>\n",
       "      <td>NaN</td>\n",
       "    </tr>\n",
       "    <tr>\n",
       "      <th>6</th>\n",
       "      <td>25</td>\n",
       "      <td>8.584244</td>\n",
       "      <td>-2.743366</td>\n",
       "      <td>NaN</td>\n",
       "    </tr>\n",
       "    <tr>\n",
       "      <th>7</th>\n",
       "      <td>23</td>\n",
       "      <td>59.259360</td>\n",
       "      <td>-1.339418</td>\n",
       "      <td>NaN</td>\n",
       "    </tr>\n",
       "    <tr>\n",
       "      <th>8</th>\n",
       "      <td>21</td>\n",
       "      <td>-53.765223</td>\n",
       "      <td>-93.123585</td>\n",
       "      <td>NaN</td>\n",
       "    </tr>\n",
       "    <tr>\n",
       "      <th>9</th>\n",
       "      <td>20</td>\n",
       "      <td>109.630899</td>\n",
       "      <td>5.389003</td>\n",
       "      <td>NaN</td>\n",
       "    </tr>\n",
       "    <tr>\n",
       "      <th>10</th>\n",
       "      <td>22</td>\n",
       "      <td>89.296288</td>\n",
       "      <td>4.950710</td>\n",
       "      <td>NaN</td>\n",
       "    </tr>\n",
       "    <tr>\n",
       "      <th>11</th>\n",
       "      <td>24</td>\n",
       "      <td>33.844191</td>\n",
       "      <td>3.722107</td>\n",
       "      <td>NaN</td>\n",
       "    </tr>\n",
       "  </tbody>\n",
       "</table>\n",
       "</div>"
      ],
      "text/plain": [
       "    Num           X          Y  Dist\n",
       "0    26  -10.340730   2.554477   NaN\n",
       "1    28  -59.204688   1.595030   NaN\n",
       "2    29  -90.283492   0.614403   NaN\n",
       "3    30 -111.348544  -5.354379   NaN\n",
       "4   29a  -90.106648  -5.159582   NaN\n",
       "5    27  -27.537217  -3.404122   NaN\n",
       "6    25    8.584244  -2.743366   NaN\n",
       "7    23   59.259360  -1.339418   NaN\n",
       "8    21  -53.765223 -93.123585   NaN\n",
       "9    20  109.630899   5.389003   NaN\n",
       "10   22   89.296288   4.950710   NaN\n",
       "11   24   33.844191   3.722107   NaN"
      ]
     },
     "execution_count": 72,
     "metadata": {},
     "output_type": "execute_result"
    }
   ],
   "source": [
    "df02"
   ]
  },
  {
   "cell_type": "code",
   "execution_count": 73,
   "metadata": {
    "collapsed": false
   },
   "outputs": [],
   "source": [
    "df_stag = zip(df01.itertuples(),mov_df.itertuples())\n",
    "list(df_stag)\n",
    "staging = [[i[0][0],i[0][1],i[0][2],i[1][2],i[0][2]-i[1][2],i[0][3],i[1][3],i[0][3]-i[1][3],i[0][4],i[1][4],i[0][4]-i[1][4]] for i in list(df_stag)]"
   ]
  },
  {
   "cell_type": "code",
   "execution_count": 74,
   "metadata": {
    "collapsed": false
   },
   "outputs": [
    {
     "data": {
      "text/html": [
       "<div>\n",
       "<table border=\"1\" class=\"dataframe\">\n",
       "  <thead>\n",
       "    <tr style=\"text-align: right;\">\n",
       "      <th></th>\n",
       "      <th>Num</th>\n",
       "      <th>X</th>\n",
       "      <th>Y</th>\n",
       "      <th>Dist</th>\n",
       "    </tr>\n",
       "  </thead>\n",
       "  <tbody>\n",
       "    <tr>\n",
       "      <th>0</th>\n",
       "      <td>14</td>\n",
       "      <td>106.386369</td>\n",
       "      <td>0.001604</td>\n",
       "      <td>0.000000</td>\n",
       "    </tr>\n",
       "    <tr>\n",
       "      <th>1</th>\n",
       "      <td>15</td>\n",
       "      <td>83.030155</td>\n",
       "      <td>-5.084494</td>\n",
       "      <td>0.000000</td>\n",
       "    </tr>\n",
       "    <tr>\n",
       "      <th>2</th>\n",
       "      <td>16</td>\n",
       "      <td>57.482335</td>\n",
       "      <td>1.323236</td>\n",
       "      <td>0.000000</td>\n",
       "    </tr>\n",
       "    <tr>\n",
       "      <th>3</th>\n",
       "      <td>17</td>\n",
       "      <td>57.229627</td>\n",
       "      <td>-4.465531</td>\n",
       "      <td>0.000000</td>\n",
       "    </tr>\n",
       "    <tr>\n",
       "      <th>4</th>\n",
       "      <td>18</td>\n",
       "      <td>31.073248</td>\n",
       "      <td>1.825374</td>\n",
       "      <td>0.000000</td>\n",
       "    </tr>\n",
       "    <tr>\n",
       "      <th>5</th>\n",
       "      <td>19</td>\n",
       "      <td>7.883008</td>\n",
       "      <td>-3.063069</td>\n",
       "      <td>0.000000</td>\n",
       "    </tr>\n",
       "    <tr>\n",
       "      <th>6</th>\n",
       "      <td>20</td>\n",
       "      <td>-8.660629</td>\n",
       "      <td>3.107361</td>\n",
       "      <td>75.805036</td>\n",
       "    </tr>\n",
       "    <tr>\n",
       "      <th>7</th>\n",
       "      <td>21</td>\n",
       "      <td>-177.049314</td>\n",
       "      <td>-86.604806</td>\n",
       "      <td>130.592870</td>\n",
       "    </tr>\n",
       "    <tr>\n",
       "      <th>8</th>\n",
       "      <td>22</td>\n",
       "      <td>-28.989881</td>\n",
       "      <td>3.747656</td>\n",
       "      <td>55.465706</td>\n",
       "    </tr>\n",
       "    <tr>\n",
       "      <th>9</th>\n",
       "      <td>23</td>\n",
       "      <td>-59.318024</td>\n",
       "      <td>-0.941319</td>\n",
       "      <td>25.914278</td>\n",
       "    </tr>\n",
       "    <tr>\n",
       "      <th>10</th>\n",
       "      <td>24</td>\n",
       "      <td>-84.429136</td>\n",
       "      <td>5.460389</td>\n",
       "      <td>0.000000</td>\n",
       "    </tr>\n",
       "    <tr>\n",
       "      <th>11</th>\n",
       "      <td>25</td>\n",
       "      <td>-109.996312</td>\n",
       "      <td>0.343079</td>\n",
       "      <td>26.074265</td>\n",
       "    </tr>\n",
       "    <tr>\n",
       "      <th>12</th>\n",
       "      <td>26</td>\n",
       "      <td>-128.613827</td>\n",
       "      <td>6.636717</td>\n",
       "      <td>44.200346</td>\n",
       "    </tr>\n",
       "    <tr>\n",
       "      <th>13</th>\n",
       "      <td>27</td>\n",
       "      <td>-146.102009</td>\n",
       "      <td>1.598111</td>\n",
       "      <td>61.793692</td>\n",
       "    </tr>\n",
       "    <tr>\n",
       "      <th>14</th>\n",
       "      <td>28</td>\n",
       "      <td>-177.459939</td>\n",
       "      <td>8.268979</td>\n",
       "      <td>93.073189</td>\n",
       "    </tr>\n",
       "    <tr>\n",
       "      <th>15</th>\n",
       "      <td>29</td>\n",
       "      <td>-208.547028</td>\n",
       "      <td>8.937271</td>\n",
       "      <td>124.166580</td>\n",
       "    </tr>\n",
       "    <tr>\n",
       "      <th>16</th>\n",
       "      <td>29a</td>\n",
       "      <td>-208.676521</td>\n",
       "      <td>3.162030</td>\n",
       "      <td>124.268640</td>\n",
       "    </tr>\n",
       "    <tr>\n",
       "      <th>17</th>\n",
       "      <td>30</td>\n",
       "      <td>-229.898875</td>\n",
       "      <td>4.093576</td>\n",
       "      <td>145.476160</td>\n",
       "    </tr>\n",
       "    <tr>\n",
       "      <th>18</th>\n",
       "      <td>4000</td>\n",
       "      <td>106.620521</td>\n",
       "      <td>-2.304771</td>\n",
       "      <td>0.000000</td>\n",
       "    </tr>\n",
       "    <tr>\n",
       "      <th>19</th>\n",
       "      <td>4001</td>\n",
       "      <td>106.659472</td>\n",
       "      <td>-3.827290</td>\n",
       "      <td>0.000000</td>\n",
       "    </tr>\n",
       "    <tr>\n",
       "      <th>20</th>\n",
       "      <td>4002</td>\n",
       "      <td>83.040115</td>\n",
       "      <td>-3.125413</td>\n",
       "      <td>0.000000</td>\n",
       "    </tr>\n",
       "    <tr>\n",
       "      <th>21</th>\n",
       "      <td>4003</td>\n",
       "      <td>83.096124</td>\n",
       "      <td>-1.608621</td>\n",
       "      <td>0.000000</td>\n",
       "    </tr>\n",
       "    <tr>\n",
       "      <th>22</th>\n",
       "      <td>4004</td>\n",
       "      <td>57.576819</td>\n",
       "      <td>-0.846973</td>\n",
       "      <td>0.000000</td>\n",
       "    </tr>\n",
       "    <tr>\n",
       "      <th>23</th>\n",
       "      <td>4005</td>\n",
       "      <td>57.513881</td>\n",
       "      <td>-2.365815</td>\n",
       "      <td>0.000000</td>\n",
       "    </tr>\n",
       "    <tr>\n",
       "      <th>24</th>\n",
       "      <td>4006</td>\n",
       "      <td>31.075479</td>\n",
       "      <td>-0.056374</td>\n",
       "      <td>0.000000</td>\n",
       "    </tr>\n",
       "    <tr>\n",
       "      <th>25</th>\n",
       "      <td>4007</td>\n",
       "      <td>31.048155</td>\n",
       "      <td>-1.577129</td>\n",
       "      <td>0.000000</td>\n",
       "    </tr>\n",
       "    <tr>\n",
       "      <th>26</th>\n",
       "      <td>4008</td>\n",
       "      <td>8.044477</td>\n",
       "      <td>-0.894704</td>\n",
       "      <td>0.000000</td>\n",
       "    </tr>\n",
       "    <tr>\n",
       "      <th>27</th>\n",
       "      <td>4009</td>\n",
       "      <td>8.019930</td>\n",
       "      <td>0.627262</td>\n",
       "      <td>0.000000</td>\n",
       "    </tr>\n",
       "    <tr>\n",
       "      <th>28</th>\n",
       "      <td>4010</td>\n",
       "      <td>-8.800407</td>\n",
       "      <td>1.126057</td>\n",
       "      <td>0.000000</td>\n",
       "    </tr>\n",
       "    <tr>\n",
       "      <th>29</th>\n",
       "      <td>4011</td>\n",
       "      <td>-8.808325</td>\n",
       "      <td>-0.391768</td>\n",
       "      <td>0.000000</td>\n",
       "    </tr>\n",
       "  </tbody>\n",
       "</table>\n",
       "</div>"
      ],
      "text/plain": [
       "     Num           X          Y        Dist\n",
       "0     14  106.386369   0.001604    0.000000\n",
       "1     15   83.030155  -5.084494    0.000000\n",
       "2     16   57.482335   1.323236    0.000000\n",
       "3     17   57.229627  -4.465531    0.000000\n",
       "4     18   31.073248   1.825374    0.000000\n",
       "5     19    7.883008  -3.063069    0.000000\n",
       "6     20   -8.660629   3.107361   75.805036\n",
       "7     21 -177.049314 -86.604806  130.592870\n",
       "8     22  -28.989881   3.747656   55.465706\n",
       "9     23  -59.318024  -0.941319   25.914278\n",
       "10    24  -84.429136   5.460389    0.000000\n",
       "11    25 -109.996312   0.343079   26.074265\n",
       "12    26 -128.613827   6.636717   44.200346\n",
       "13    27 -146.102009   1.598111   61.793692\n",
       "14    28 -177.459939   8.268979   93.073189\n",
       "15    29 -208.547028   8.937271  124.166580\n",
       "16   29a -208.676521   3.162030  124.268640\n",
       "17    30 -229.898875   4.093576  145.476160\n",
       "18  4000  106.620521  -2.304771    0.000000\n",
       "19  4001  106.659472  -3.827290    0.000000\n",
       "20  4002   83.040115  -3.125413    0.000000\n",
       "21  4003   83.096124  -1.608621    0.000000\n",
       "22  4004   57.576819  -0.846973    0.000000\n",
       "23  4005   57.513881  -2.365815    0.000000\n",
       "24  4006   31.075479  -0.056374    0.000000\n",
       "25  4007   31.048155  -1.577129    0.000000\n",
       "26  4008    8.044477  -0.894704    0.000000\n",
       "27  4009    8.019930   0.627262    0.000000\n",
       "28  4010   -8.800407   1.126057    0.000000\n",
       "29  4011   -8.808325  -0.391768    0.000000"
      ]
     },
     "execution_count": 74,
     "metadata": {},
     "output_type": "execute_result"
    }
   ],
   "source": [
    "zz =  pd.concat([df01,mov_df.rename(columns={'Num':'Num'})]).fillna(0).groupby('Num', as_index=False).last()\n",
    "zz"
   ]
  },
  {
   "cell_type": "code",
   "execution_count": 75,
   "metadata": {
    "collapsed": false
   },
   "outputs": [
    {
     "ename": "FileNotFoundError",
     "evalue": "File b'data/chain/105.csv' does not exist",
     "output_type": "error",
     "traceback": [
      "\u001b[1;31m---------------------------------------------------------------------------\u001b[0m",
      "\u001b[1;31mFileNotFoundError\u001b[0m                         Traceback (most recent call last)",
      "\u001b[1;32m<ipython-input-75-7b1faa3514a1>\u001b[0m in \u001b[0;36m<module>\u001b[1;34m()\u001b[0m\n\u001b[0;32m      1\u001b[0m \u001b[0mdf01\u001b[0m \u001b[1;33m=\u001b[0m \u001b[0mzz\u001b[0m\u001b[1;33m\u001b[0m\u001b[0m\n\u001b[1;32m----> 2\u001b[1;33m \u001b[0mdf02\u001b[0m \u001b[1;33m=\u001b[0m \u001b[0mpd\u001b[0m\u001b[1;33m.\u001b[0m\u001b[0mread_csv\u001b[0m\u001b[1;33m(\u001b[0m\u001b[1;34mr'data/chain/105.csv'\u001b[0m\u001b[1;33m,\u001b[0m\u001b[0msep\u001b[0m\u001b[1;33m=\u001b[0m\u001b[1;34m';'\u001b[0m\u001b[1;33m,\u001b[0m \u001b[0mnames\u001b[0m\u001b[1;33m=\u001b[0m\u001b[1;33m[\u001b[0m\u001b[1;34m'Num'\u001b[0m\u001b[1;33m,\u001b[0m\u001b[1;34m'X'\u001b[0m\u001b[1;33m,\u001b[0m\u001b[1;34m'Y'\u001b[0m\u001b[1;33m,\u001b[0m\u001b[1;34m'Dist'\u001b[0m\u001b[1;33m]\u001b[0m\u001b[1;33m,\u001b[0m\u001b[0mdtype\u001b[0m\u001b[1;33m=\u001b[0m\u001b[1;33m{\u001b[0m\u001b[1;34m'Num'\u001b[0m\u001b[1;33m:\u001b[0m\u001b[1;34m'str'\u001b[0m\u001b[1;33m}\u001b[0m\u001b[1;33m)\u001b[0m\u001b[1;33m\u001b[0m\u001b[0m\n\u001b[0m\u001b[0;32m      3\u001b[0m \u001b[0mdf02\u001b[0m\u001b[1;33m\u001b[0m\u001b[0m\n",
      "\u001b[1;32mM:\\Anaconda3\\lib\\site-packages\\pandas\\io\\parsers.py\u001b[0m in \u001b[0;36mparser_f\u001b[1;34m(filepath_or_buffer, sep, delimiter, header, names, index_col, usecols, squeeze, prefix, mangle_dupe_cols, dtype, engine, converters, true_values, false_values, skipinitialspace, skiprows, nrows, na_values, keep_default_na, na_filter, verbose, skip_blank_lines, parse_dates, infer_datetime_format, keep_date_col, date_parser, dayfirst, iterator, chunksize, compression, thousands, decimal, lineterminator, quotechar, quoting, escapechar, comment, encoding, dialect, tupleize_cols, error_bad_lines, warn_bad_lines, skipfooter, skip_footer, doublequote, delim_whitespace, as_recarray, compact_ints, use_unsigned, low_memory, buffer_lines, memory_map, float_precision)\u001b[0m\n\u001b[0;32m    643\u001b[0m                     skip_blank_lines=skip_blank_lines)\n\u001b[0;32m    644\u001b[0m \u001b[1;33m\u001b[0m\u001b[0m\n\u001b[1;32m--> 645\u001b[1;33m         \u001b[1;32mreturn\u001b[0m \u001b[0m_read\u001b[0m\u001b[1;33m(\u001b[0m\u001b[0mfilepath_or_buffer\u001b[0m\u001b[1;33m,\u001b[0m \u001b[0mkwds\u001b[0m\u001b[1;33m)\u001b[0m\u001b[1;33m\u001b[0m\u001b[0m\n\u001b[0m\u001b[0;32m    646\u001b[0m \u001b[1;33m\u001b[0m\u001b[0m\n\u001b[0;32m    647\u001b[0m     \u001b[0mparser_f\u001b[0m\u001b[1;33m.\u001b[0m\u001b[0m__name__\u001b[0m \u001b[1;33m=\u001b[0m \u001b[0mname\u001b[0m\u001b[1;33m\u001b[0m\u001b[0m\n",
      "\u001b[1;32mM:\\Anaconda3\\lib\\site-packages\\pandas\\io\\parsers.py\u001b[0m in \u001b[0;36m_read\u001b[1;34m(filepath_or_buffer, kwds)\u001b[0m\n\u001b[0;32m    386\u001b[0m \u001b[1;33m\u001b[0m\u001b[0m\n\u001b[0;32m    387\u001b[0m     \u001b[1;31m# Create the parser.\u001b[0m\u001b[1;33m\u001b[0m\u001b[1;33m\u001b[0m\u001b[0m\n\u001b[1;32m--> 388\u001b[1;33m     \u001b[0mparser\u001b[0m \u001b[1;33m=\u001b[0m \u001b[0mTextFileReader\u001b[0m\u001b[1;33m(\u001b[0m\u001b[0mfilepath_or_buffer\u001b[0m\u001b[1;33m,\u001b[0m \u001b[1;33m**\u001b[0m\u001b[0mkwds\u001b[0m\u001b[1;33m)\u001b[0m\u001b[1;33m\u001b[0m\u001b[0m\n\u001b[0m\u001b[0;32m    389\u001b[0m \u001b[1;33m\u001b[0m\u001b[0m\n\u001b[0;32m    390\u001b[0m     \u001b[1;32mif\u001b[0m \u001b[1;33m(\u001b[0m\u001b[0mnrows\u001b[0m \u001b[1;32mis\u001b[0m \u001b[1;32mnot\u001b[0m \u001b[1;32mNone\u001b[0m\u001b[1;33m)\u001b[0m \u001b[1;32mand\u001b[0m \u001b[1;33m(\u001b[0m\u001b[0mchunksize\u001b[0m \u001b[1;32mis\u001b[0m \u001b[1;32mnot\u001b[0m \u001b[1;32mNone\u001b[0m\u001b[1;33m)\u001b[0m\u001b[1;33m:\u001b[0m\u001b[1;33m\u001b[0m\u001b[0m\n",
      "\u001b[1;32mM:\\Anaconda3\\lib\\site-packages\\pandas\\io\\parsers.py\u001b[0m in \u001b[0;36m__init__\u001b[1;34m(self, f, engine, **kwds)\u001b[0m\n\u001b[0;32m    727\u001b[0m             \u001b[0mself\u001b[0m\u001b[1;33m.\u001b[0m\u001b[0moptions\u001b[0m\u001b[1;33m[\u001b[0m\u001b[1;34m'has_index_names'\u001b[0m\u001b[1;33m]\u001b[0m \u001b[1;33m=\u001b[0m \u001b[0mkwds\u001b[0m\u001b[1;33m[\u001b[0m\u001b[1;34m'has_index_names'\u001b[0m\u001b[1;33m]\u001b[0m\u001b[1;33m\u001b[0m\u001b[0m\n\u001b[0;32m    728\u001b[0m \u001b[1;33m\u001b[0m\u001b[0m\n\u001b[1;32m--> 729\u001b[1;33m         \u001b[0mself\u001b[0m\u001b[1;33m.\u001b[0m\u001b[0m_make_engine\u001b[0m\u001b[1;33m(\u001b[0m\u001b[0mself\u001b[0m\u001b[1;33m.\u001b[0m\u001b[0mengine\u001b[0m\u001b[1;33m)\u001b[0m\u001b[1;33m\u001b[0m\u001b[0m\n\u001b[0m\u001b[0;32m    730\u001b[0m \u001b[1;33m\u001b[0m\u001b[0m\n\u001b[0;32m    731\u001b[0m     \u001b[1;32mdef\u001b[0m \u001b[0mclose\u001b[0m\u001b[1;33m(\u001b[0m\u001b[0mself\u001b[0m\u001b[1;33m)\u001b[0m\u001b[1;33m:\u001b[0m\u001b[1;33m\u001b[0m\u001b[0m\n",
      "\u001b[1;32mM:\\Anaconda3\\lib\\site-packages\\pandas\\io\\parsers.py\u001b[0m in \u001b[0;36m_make_engine\u001b[1;34m(self, engine)\u001b[0m\n\u001b[0;32m    920\u001b[0m     \u001b[1;32mdef\u001b[0m \u001b[0m_make_engine\u001b[0m\u001b[1;33m(\u001b[0m\u001b[0mself\u001b[0m\u001b[1;33m,\u001b[0m \u001b[0mengine\u001b[0m\u001b[1;33m=\u001b[0m\u001b[1;34m'c'\u001b[0m\u001b[1;33m)\u001b[0m\u001b[1;33m:\u001b[0m\u001b[1;33m\u001b[0m\u001b[0m\n\u001b[0;32m    921\u001b[0m         \u001b[1;32mif\u001b[0m \u001b[0mengine\u001b[0m \u001b[1;33m==\u001b[0m \u001b[1;34m'c'\u001b[0m\u001b[1;33m:\u001b[0m\u001b[1;33m\u001b[0m\u001b[0m\n\u001b[1;32m--> 922\u001b[1;33m             \u001b[0mself\u001b[0m\u001b[1;33m.\u001b[0m\u001b[0m_engine\u001b[0m \u001b[1;33m=\u001b[0m \u001b[0mCParserWrapper\u001b[0m\u001b[1;33m(\u001b[0m\u001b[0mself\u001b[0m\u001b[1;33m.\u001b[0m\u001b[0mf\u001b[0m\u001b[1;33m,\u001b[0m \u001b[1;33m**\u001b[0m\u001b[0mself\u001b[0m\u001b[1;33m.\u001b[0m\u001b[0moptions\u001b[0m\u001b[1;33m)\u001b[0m\u001b[1;33m\u001b[0m\u001b[0m\n\u001b[0m\u001b[0;32m    923\u001b[0m         \u001b[1;32melse\u001b[0m\u001b[1;33m:\u001b[0m\u001b[1;33m\u001b[0m\u001b[0m\n\u001b[0;32m    924\u001b[0m             \u001b[1;32mif\u001b[0m \u001b[0mengine\u001b[0m \u001b[1;33m==\u001b[0m \u001b[1;34m'python'\u001b[0m\u001b[1;33m:\u001b[0m\u001b[1;33m\u001b[0m\u001b[0m\n",
      "\u001b[1;32mM:\\Anaconda3\\lib\\site-packages\\pandas\\io\\parsers.py\u001b[0m in \u001b[0;36m__init__\u001b[1;34m(self, src, **kwds)\u001b[0m\n\u001b[0;32m   1387\u001b[0m         \u001b[0mkwds\u001b[0m\u001b[1;33m[\u001b[0m\u001b[1;34m'allow_leading_cols'\u001b[0m\u001b[1;33m]\u001b[0m \u001b[1;33m=\u001b[0m \u001b[0mself\u001b[0m\u001b[1;33m.\u001b[0m\u001b[0mindex_col\u001b[0m \u001b[1;32mis\u001b[0m \u001b[1;32mnot\u001b[0m \u001b[1;32mFalse\u001b[0m\u001b[1;33m\u001b[0m\u001b[0m\n\u001b[0;32m   1388\u001b[0m \u001b[1;33m\u001b[0m\u001b[0m\n\u001b[1;32m-> 1389\u001b[1;33m         \u001b[0mself\u001b[0m\u001b[1;33m.\u001b[0m\u001b[0m_reader\u001b[0m \u001b[1;33m=\u001b[0m \u001b[0m_parser\u001b[0m\u001b[1;33m.\u001b[0m\u001b[0mTextReader\u001b[0m\u001b[1;33m(\u001b[0m\u001b[0msrc\u001b[0m\u001b[1;33m,\u001b[0m \u001b[1;33m**\u001b[0m\u001b[0mkwds\u001b[0m\u001b[1;33m)\u001b[0m\u001b[1;33m\u001b[0m\u001b[0m\n\u001b[0m\u001b[0;32m   1390\u001b[0m \u001b[1;33m\u001b[0m\u001b[0m\n\u001b[0;32m   1391\u001b[0m         \u001b[1;31m# XXX\u001b[0m\u001b[1;33m\u001b[0m\u001b[1;33m\u001b[0m\u001b[0m\n",
      "\u001b[1;32mpandas\\parser.pyx\u001b[0m in \u001b[0;36mpandas.parser.TextReader.__cinit__ (pandas\\parser.c:4175)\u001b[1;34m()\u001b[0m\n",
      "\u001b[1;32mpandas\\parser.pyx\u001b[0m in \u001b[0;36mpandas.parser.TextReader._setup_parser_source (pandas\\parser.c:8440)\u001b[1;34m()\u001b[0m\n",
      "\u001b[1;31mFileNotFoundError\u001b[0m: File b'data/chain/105.csv' does not exist"
     ]
    }
   ],
   "source": [
    "df01 = zz\n",
    "df02 = pd.read_csv(r'data/chain/105.csv',sep=';', names=['Num','X','Y','Dist'],dtype={'Num':'str'})\n",
    "df02"
   ]
  },
  {
   "cell_type": "code",
   "execution_count": 125,
   "metadata": {
    "collapsed": true
   },
   "outputs": [],
   "source": [
    "inter = sorted(set(list(zip(*df01['Num'].iteritems()))[1]).intersection(set(list(zip(*df02['Num'].iteritems()))[1])))\n",
    "\n",
    "df01_com = df01.loc[df01['Num'].isin(inter)].sort_values(by='Num')\n",
    "df02_com = df02.loc[df02['Num'].isin(inter)].sort_values(by='Num')"
   ]
  },
  {
   "cell_type": "code",
   "execution_count": 126,
   "metadata": {
    "collapsed": true
   },
   "outputs": [],
   "source": [
    "mp01 = MultiPoint([i[2:4] for i in df01.itertuples()])\n",
    "mp01_c = MultiPoint([i[2:4] for i in df01_com.itertuples()])\n",
    "mp02 = MultiPoint([i[2:4] for i in df02.itertuples()])\n",
    "mp02_c = MultiPoint([i[2:4] for i in df02_com.itertuples()])"
   ]
  },
  {
   "cell_type": "code",
   "execution_count": 130,
   "metadata": {
    "collapsed": false
   },
   "outputs": [
    {
     "data": {
      "text/plain": [
       "     fun: 0.00426196957177334\n",
       "     jac: array([  -1.21600761,    1.9712386 , -560.31175013,    0.        ])\n",
       " message: 'Optimization terminated successfully.'\n",
       "    nfev: 498\n",
       "     nit: 88\n",
       "    njev: 88\n",
       "  status: 0\n",
       " success: True\n",
       "       x: array([ -494.04349035,  3402.32346331,    13.98854554])"
      ]
     },
     "execution_count": 130,
     "metadata": {},
     "output_type": "execute_result"
    }
   ],
   "source": [
    "x0 = (0,0,0)\n",
    "\n",
    "re = minimize(fun1,x0,args=(mp01_c,mp02_c),method='SLSQP')\n",
    "\n",
    "re"
   ]
  },
  {
   "cell_type": "code",
   "execution_count": 131,
   "metadata": {
    "collapsed": false
   },
   "outputs": [
    {
     "data": {
      "image/svg+xml": [
       "<svg xmlns=\"http://www.w3.org/2000/svg\" xmlns:xlink=\"http://www.w3.org/1999/xlink\" width=\"195.82193757864115\" height=\"100.0\" viewBox=\"-14581.635312939537 -478.8824506639335 195.82193757864115 91.0271352284791\" preserveAspectRatio=\"xMinYMin meet\"><g transform=\"matrix(1,0,0,-1,0,-866.737766099388)\"><g><circle cx=\"-14508.085613319006\" cy=\"-446.11755744642505\" r=\"3.0\" stroke=\"#555555\" stroke-width=\"1.0\" fill=\"#66cc99\" opacity=\"0.6\" /><circle cx=\"-14486.66003234265\" cy=\"-431.84111536600494\" r=\"3.0\" stroke=\"#555555\" stroke-width=\"1.0\" fill=\"#66cc99\" opacity=\"0.6\" /><circle cx=\"-14529.792545202079\" cy=\"-448.63529457998584\" r=\"3.0\" stroke=\"#555555\" stroke-width=\"1.0\" fill=\"#66cc99\" opacity=\"0.6\" /><circle cx=\"-14549.225133100197\" cy=\"-462.2655101597852\" r=\"3.0\" stroke=\"#555555\" stroke-width=\"1.0\" fill=\"#66cc99\" opacity=\"0.6\" /><circle cx=\"-14574.382648584773\" cy=\"-466.186257221696\" r=\"3.0\" stroke=\"#555555\" stroke-width=\"1.0\" fill=\"#66cc99\" opacity=\"0.6\" /><circle cx=\"-14528.056403545128\" cy=\"-454.0271202816389\" r=\"3.0\" stroke=\"#555555\" stroke-width=\"1.0\" fill=\"#66cc99\" opacity=\"0.6\" /><circle cx=\"-14551.228058091265\" cy=\"-457.04134558253827\" r=\"3.0\" stroke=\"#555555\" stroke-width=\"1.0\" fill=\"#66cc99\" opacity=\"0.6\" /><circle cx=\"-14573.031526901194\" cy=\"-471.62978630916905\" r=\"3.0\" stroke=\"#555555\" stroke-width=\"1.0\" fill=\"#66cc99\" opacity=\"0.6\" /><circle cx=\"-14461.388581791001\" cy=\"-427.8428274729781\" r=\"3.0\" stroke=\"#555555\" stroke-width=\"1.0\" fill=\"#66cc99\" opacity=\"0.6\" /><circle cx=\"-14414.776804428844\" cy=\"-409.600671833065\" r=\"3.0\" stroke=\"#555555\" stroke-width=\"1.0\" fill=\"#66cc99\" opacity=\"0.6\" /><circle cx=\"-14393.06603971566\" cy=\"-395.1079797902189\" r=\"3.0\" stroke=\"#555555\" stroke-width=\"1.0\" fill=\"#66cc99\" opacity=\"0.6\" /><circle cx=\"-14440.156397741981\" cy=\"-413.594261520273\" r=\"3.0\" stroke=\"#555555\" stroke-width=\"1.0\" fill=\"#66cc99\" opacity=\"0.6\" /></g></g></svg>"
      ],
      "text/plain": [
       "<shapely.geometry.multipoint.MultiPoint at 0x5db4c88>"
      ]
     },
     "execution_count": 131,
     "metadata": {},
     "output_type": "execute_result"
    }
   ],
   "source": [
    "mp_moved = mov(*re.x,mp02)\n",
    "mp_moved"
   ]
  },
  {
   "cell_type": "code",
   "execution_count": 132,
   "metadata": {
    "collapsed": false
   },
   "outputs": [
    {
     "data": {
      "text/html": [
       "<div>\n",
       "<table border=\"1\" class=\"dataframe\">\n",
       "  <thead>\n",
       "    <tr style=\"text-align: right;\">\n",
       "      <th></th>\n",
       "      <th>Num</th>\n",
       "      <th>X</th>\n",
       "      <th>Y</th>\n",
       "      <th>Dist</th>\n",
       "    </tr>\n",
       "  </thead>\n",
       "  <tbody>\n",
       "    <tr>\n",
       "      <th>0</th>\n",
       "      <td>609</td>\n",
       "      <td>-14508.085613</td>\n",
       "      <td>-446.117557</td>\n",
       "      <td>75.313632</td>\n",
       "    </tr>\n",
       "    <tr>\n",
       "      <th>1</th>\n",
       "      <td>608</td>\n",
       "      <td>-14486.660032</td>\n",
       "      <td>-431.841115</td>\n",
       "      <td>49.955337</td>\n",
       "    </tr>\n",
       "    <tr>\n",
       "      <th>2</th>\n",
       "      <td>610</td>\n",
       "      <td>-14529.792545</td>\n",
       "      <td>-448.635295</td>\n",
       "      <td>96.241950</td>\n",
       "    </tr>\n",
       "    <tr>\n",
       "      <th>3</th>\n",
       "      <td>611</td>\n",
       "      <td>-14549.225133</td>\n",
       "      <td>-462.265510</td>\n",
       "      <td>119.435671</td>\n",
       "    </tr>\n",
       "    <tr>\n",
       "      <th>4</th>\n",
       "      <td>612</td>\n",
       "      <td>-14574.382649</td>\n",
       "      <td>-466.186257</td>\n",
       "      <td>144.161730</td>\n",
       "    </tr>\n",
       "    <tr>\n",
       "      <th>5</th>\n",
       "      <td>610a</td>\n",
       "      <td>-14528.056404</td>\n",
       "      <td>-454.027120</td>\n",
       "      <td>96.753435</td>\n",
       "    </tr>\n",
       "    <tr>\n",
       "      <th>6</th>\n",
       "      <td>611a</td>\n",
       "      <td>-14551.228058</td>\n",
       "      <td>-457.041346</td>\n",
       "      <td>119.266772</td>\n",
       "    </tr>\n",
       "    <tr>\n",
       "      <th>7</th>\n",
       "      <td>612a</td>\n",
       "      <td>-14573.031527</td>\n",
       "      <td>-471.629786</td>\n",
       "      <td>144.996283</td>\n",
       "    </tr>\n",
       "    <tr>\n",
       "      <th>8</th>\n",
       "      <td>607</td>\n",
       "      <td>-14461.388582</td>\n",
       "      <td>-427.842827</td>\n",
       "      <td>25.570046</td>\n",
       "    </tr>\n",
       "    <tr>\n",
       "      <th>9</th>\n",
       "      <td>605</td>\n",
       "      <td>-14414.776804</td>\n",
       "      <td>-409.600672</td>\n",
       "      <td>25.691876</td>\n",
       "    </tr>\n",
       "    <tr>\n",
       "      <th>10</th>\n",
       "      <td>604</td>\n",
       "      <td>-14393.066040</td>\n",
       "      <td>-395.107980</td>\n",
       "      <td>50.588975</td>\n",
       "    </tr>\n",
       "    <tr>\n",
       "      <th>11</th>\n",
       "      <td>606</td>\n",
       "      <td>-14440.156398</td>\n",
       "      <td>-413.594262</td>\n",
       "      <td>0.000000</td>\n",
       "    </tr>\n",
       "  </tbody>\n",
       "</table>\n",
       "</div>"
      ],
      "text/plain": [
       "     Num             X           Y        Dist\n",
       "0    609 -14508.085613 -446.117557   75.313632\n",
       "1    608 -14486.660032 -431.841115   49.955337\n",
       "2    610 -14529.792545 -448.635295   96.241950\n",
       "3    611 -14549.225133 -462.265510  119.435671\n",
       "4    612 -14574.382649 -466.186257  144.161730\n",
       "5   610a -14528.056404 -454.027120   96.753435\n",
       "6   611a -14551.228058 -457.041346  119.266772\n",
       "7   612a -14573.031527 -471.629786  144.996283\n",
       "8    607 -14461.388582 -427.842827   25.570046\n",
       "9    605 -14414.776804 -409.600672   25.691876\n",
       "10   604 -14393.066040 -395.107980   50.588975\n",
       "11   606 -14440.156398 -413.594262    0.000000"
      ]
     },
     "execution_count": 132,
     "metadata": {},
     "output_type": "execute_result"
    }
   ],
   "source": [
    "df2_nums = list(zip(*df02['Num'].iteritems()))[1]\n",
    "al = list(zip(df2_nums,mp_moved))\n",
    "mov_stag = [[i[0],i[1].x,i[1].y,al[-1][1].distance(i[1])] for i in al]\n",
    "mov_df = pd.DataFrame.from_records(mov_stag,columns=('Num','X','Y','Dist'))\n",
    "mov_df"
   ]
  },
  {
   "cell_type": "code",
   "execution_count": 133,
   "metadata": {
    "collapsed": false
   },
   "outputs": [
    {
     "data": {
      "text/html": [
       "<div>\n",
       "<table border=\"1\" class=\"dataframe\">\n",
       "  <thead>\n",
       "    <tr style=\"text-align: right;\">\n",
       "      <th></th>\n",
       "      <th>Num</th>\n",
       "      <th>X</th>\n",
       "      <th>Y</th>\n",
       "      <th>Dist</th>\n",
       "    </tr>\n",
       "  </thead>\n",
       "  <tbody>\n",
       "    <tr>\n",
       "      <th>0</th>\n",
       "      <td>593</td>\n",
       "      <td>-14133.887400</td>\n",
       "      <td>-299.583600</td>\n",
       "      <td>0.000000</td>\n",
       "    </tr>\n",
       "    <tr>\n",
       "      <th>1</th>\n",
       "      <td>594</td>\n",
       "      <td>-14159.244600</td>\n",
       "      <td>-303.605200</td>\n",
       "      <td>0.000000</td>\n",
       "    </tr>\n",
       "    <tr>\n",
       "      <th>2</th>\n",
       "      <td>595</td>\n",
       "      <td>-14180.551200</td>\n",
       "      <td>-317.862700</td>\n",
       "      <td>0.000000</td>\n",
       "    </tr>\n",
       "    <tr>\n",
       "      <th>3</th>\n",
       "      <td>596</td>\n",
       "      <td>-14205.796800</td>\n",
       "      <td>-321.824000</td>\n",
       "      <td>0.000000</td>\n",
       "    </tr>\n",
       "    <tr>\n",
       "      <th>4</th>\n",
       "      <td>597</td>\n",
       "      <td>-14227.175700</td>\n",
       "      <td>-336.142800</td>\n",
       "      <td>0.000000</td>\n",
       "    </tr>\n",
       "    <tr>\n",
       "      <th>5</th>\n",
       "      <td>597a</td>\n",
       "      <td>-14229.019800</td>\n",
       "      <td>-330.917400</td>\n",
       "      <td>0.000000</td>\n",
       "    </tr>\n",
       "    <tr>\n",
       "      <th>6</th>\n",
       "      <td>598</td>\n",
       "      <td>-14252.268910</td>\n",
       "      <td>-340.045658</td>\n",
       "      <td>51.162629</td>\n",
       "    </tr>\n",
       "    <tr>\n",
       "      <th>7</th>\n",
       "      <td>599</td>\n",
       "      <td>-14274.391879</td>\n",
       "      <td>-354.624764</td>\n",
       "      <td>25.844611</td>\n",
       "    </tr>\n",
       "    <tr>\n",
       "      <th>8</th>\n",
       "      <td>600</td>\n",
       "      <td>-14299.915662</td>\n",
       "      <td>-358.684370</td>\n",
       "      <td>0.000000</td>\n",
       "    </tr>\n",
       "    <tr>\n",
       "      <th>9</th>\n",
       "      <td>601</td>\n",
       "      <td>-14321.163836</td>\n",
       "      <td>-372.931709</td>\n",
       "      <td>25.582642</td>\n",
       "    </tr>\n",
       "    <tr>\n",
       "      <th>10</th>\n",
       "      <td>602</td>\n",
       "      <td>-14346.579345</td>\n",
       "      <td>-376.987464</td>\n",
       "      <td>50.124869</td>\n",
       "    </tr>\n",
       "    <tr>\n",
       "      <th>11</th>\n",
       "      <td>603</td>\n",
       "      <td>-14367.718631</td>\n",
       "      <td>-391.157227</td>\n",
       "      <td>75.177982</td>\n",
       "    </tr>\n",
       "    <tr>\n",
       "      <th>12</th>\n",
       "      <td>604</td>\n",
       "      <td>-14393.066040</td>\n",
       "      <td>-395.107980</td>\n",
       "      <td>50.588975</td>\n",
       "    </tr>\n",
       "    <tr>\n",
       "      <th>13</th>\n",
       "      <td>605</td>\n",
       "      <td>-14414.776804</td>\n",
       "      <td>-409.600672</td>\n",
       "      <td>25.691876</td>\n",
       "    </tr>\n",
       "    <tr>\n",
       "      <th>14</th>\n",
       "      <td>606</td>\n",
       "      <td>-14440.156398</td>\n",
       "      <td>-413.594262</td>\n",
       "      <td>0.000000</td>\n",
       "    </tr>\n",
       "    <tr>\n",
       "      <th>15</th>\n",
       "      <td>607</td>\n",
       "      <td>-14461.388582</td>\n",
       "      <td>-427.842827</td>\n",
       "      <td>25.570046</td>\n",
       "    </tr>\n",
       "    <tr>\n",
       "      <th>16</th>\n",
       "      <td>608</td>\n",
       "      <td>-14486.660032</td>\n",
       "      <td>-431.841115</td>\n",
       "      <td>49.955337</td>\n",
       "    </tr>\n",
       "    <tr>\n",
       "      <th>17</th>\n",
       "      <td>609</td>\n",
       "      <td>-14508.085613</td>\n",
       "      <td>-446.117557</td>\n",
       "      <td>75.313632</td>\n",
       "    </tr>\n",
       "    <tr>\n",
       "      <th>18</th>\n",
       "      <td>610</td>\n",
       "      <td>-14529.792545</td>\n",
       "      <td>-448.635295</td>\n",
       "      <td>96.241950</td>\n",
       "    </tr>\n",
       "    <tr>\n",
       "      <th>19</th>\n",
       "      <td>610a</td>\n",
       "      <td>-14528.056404</td>\n",
       "      <td>-454.027120</td>\n",
       "      <td>96.753435</td>\n",
       "    </tr>\n",
       "    <tr>\n",
       "      <th>20</th>\n",
       "      <td>611</td>\n",
       "      <td>-14549.225133</td>\n",
       "      <td>-462.265510</td>\n",
       "      <td>119.435671</td>\n",
       "    </tr>\n",
       "    <tr>\n",
       "      <th>21</th>\n",
       "      <td>611a</td>\n",
       "      <td>-14551.228058</td>\n",
       "      <td>-457.041346</td>\n",
       "      <td>119.266772</td>\n",
       "    </tr>\n",
       "    <tr>\n",
       "      <th>22</th>\n",
       "      <td>612</td>\n",
       "      <td>-14574.382649</td>\n",
       "      <td>-466.186257</td>\n",
       "      <td>144.161730</td>\n",
       "    </tr>\n",
       "    <tr>\n",
       "      <th>23</th>\n",
       "      <td>612a</td>\n",
       "      <td>-14573.031527</td>\n",
       "      <td>-471.629786</td>\n",
       "      <td>144.996283</td>\n",
       "    </tr>\n",
       "  </tbody>\n",
       "</table>\n",
       "</div>"
      ],
      "text/plain": [
       "     Num             X           Y        Dist\n",
       "0    593 -14133.887400 -299.583600    0.000000\n",
       "1    594 -14159.244600 -303.605200    0.000000\n",
       "2    595 -14180.551200 -317.862700    0.000000\n",
       "3    596 -14205.796800 -321.824000    0.000000\n",
       "4    597 -14227.175700 -336.142800    0.000000\n",
       "5   597a -14229.019800 -330.917400    0.000000\n",
       "6    598 -14252.268910 -340.045658   51.162629\n",
       "7    599 -14274.391879 -354.624764   25.844611\n",
       "8    600 -14299.915662 -358.684370    0.000000\n",
       "9    601 -14321.163836 -372.931709   25.582642\n",
       "10   602 -14346.579345 -376.987464   50.124869\n",
       "11   603 -14367.718631 -391.157227   75.177982\n",
       "12   604 -14393.066040 -395.107980   50.588975\n",
       "13   605 -14414.776804 -409.600672   25.691876\n",
       "14   606 -14440.156398 -413.594262    0.000000\n",
       "15   607 -14461.388582 -427.842827   25.570046\n",
       "16   608 -14486.660032 -431.841115   49.955337\n",
       "17   609 -14508.085613 -446.117557   75.313632\n",
       "18   610 -14529.792545 -448.635295   96.241950\n",
       "19  610a -14528.056404 -454.027120   96.753435\n",
       "20   611 -14549.225133 -462.265510  119.435671\n",
       "21  611a -14551.228058 -457.041346  119.266772\n",
       "22   612 -14574.382649 -466.186257  144.161730\n",
       "23  612a -14573.031527 -471.629786  144.996283"
      ]
     },
     "execution_count": 133,
     "metadata": {},
     "output_type": "execute_result"
    }
   ],
   "source": [
    "zz =  pd.concat([df01,mov_df.rename(columns={'Num':'Num'})]).fillna(0).groupby('Num', as_index=False).last()\n",
    "zz"
   ]
  },
  {
   "cell_type": "code",
   "execution_count": null,
   "metadata": {
    "collapsed": true
   },
   "outputs": [],
   "source": []
  },
  {
   "cell_type": "code",
   "execution_count": 134,
   "metadata": {
    "collapsed": true
   },
   "outputs": [],
   "source": [
    "df01 = zz\n",
    "df02 = pd.read_csv(r'data/chain/106.csv',sep=';', names=['Num','X','Y','Dist'],dtype={'Num':'str'})\n",
    "inter = sorted(set(list(zip(*df01['Num'].iteritems()))[1]).intersection(set(list(zip(*df02['Num'].iteritems()))[1])))\n",
    "\n",
    "df01_com = df01.loc[df01['Num'].isin(inter)].sort_values(by='Num')\n",
    "df02_com = df02.loc[df02['Num'].isin(inter)].sort_values(by='Num')\n",
    "mp01 = MultiPoint([i[2:4] for i in df01.itertuples()])\n",
    "mp01_c = MultiPoint([i[2:4] for i in df01_com.itertuples()])\n",
    "mp02 = MultiPoint([i[2:4] for i in df02.itertuples()])\n",
    "mp02_c = MultiPoint([i[2:4] for i in df02_com.itertuples()])\n",
    "x0 = (0,0,0)\n",
    "\n",
    "re = minimize(fun1,x0,args=(mp01_c,mp02_c),method='SLSQP')\n",
    "mp_moved = mov(*re.x,mp02)"
   ]
  },
  {
   "cell_type": "code",
   "execution_count": 137,
   "metadata": {
    "collapsed": false
   },
   "outputs": [
    {
     "data": {
      "text/plain": [
       "     fun: 4.236177418337145\n",
       "     jac: array([   1.99254447,   -0.40828776,  221.74558228,    0.        ])\n",
       " message: 'Iteration limit exceeded'\n",
       "    nfev: 545\n",
       "     nit: 101\n",
       "    njev: 101\n",
       "  status: 9\n",
       " success: False\n",
       "       x: array([ -405.84391151,  3067.52073644,    12.65462041])"
      ]
     },
     "execution_count": 137,
     "metadata": {},
     "output_type": "execute_result"
    }
   ],
   "source": [
    "re"
   ]
  },
  {
   "cell_type": "code",
   "execution_count": 138,
   "metadata": {
    "collapsed": false
   },
   "outputs": [
    {
     "data": {
      "text/plain": [
       "['610', '610a', '611', '611a', '612', '612a']"
      ]
     },
     "execution_count": 138,
     "metadata": {},
     "output_type": "execute_result"
    }
   ],
   "source": [
    "inter"
   ]
  },
  {
   "cell_type": "code",
   "execution_count": 136,
   "metadata": {
    "collapsed": false
   },
   "outputs": [
    {
     "data": {
      "text/html": [
       "<div>\n",
       "<table border=\"1\" class=\"dataframe\">\n",
       "  <thead>\n",
       "    <tr style=\"text-align: right;\">\n",
       "      <th></th>\n",
       "      <th>Num</th>\n",
       "      <th>X</th>\n",
       "      <th>Y</th>\n",
       "      <th>Dist</th>\n",
       "    </tr>\n",
       "  </thead>\n",
       "  <tbody>\n",
       "    <tr>\n",
       "      <th>0</th>\n",
       "      <td>612</td>\n",
       "      <td>-14574.506644</td>\n",
       "      <td>-465.178297</td>\n",
       "      <td>24.894722</td>\n",
       "    </tr>\n",
       "    <tr>\n",
       "      <th>1</th>\n",
       "      <td>611</td>\n",
       "      <td>-14549.211001</td>\n",
       "      <td>-462.285522</td>\n",
       "      <td>5.594790</td>\n",
       "    </tr>\n",
       "    <tr>\n",
       "      <th>2</th>\n",
       "      <td>613</td>\n",
       "      <td>-14596.914747</td>\n",
       "      <td>-478.751945</td>\n",
       "      <td>50.814175</td>\n",
       "    </tr>\n",
       "    <tr>\n",
       "      <th>3</th>\n",
       "      <td>614</td>\n",
       "      <td>-14620.621286</td>\n",
       "      <td>-481.361715</td>\n",
       "      <td>73.766592</td>\n",
       "    </tr>\n",
       "    <tr>\n",
       "      <th>4</th>\n",
       "      <td>615</td>\n",
       "      <td>-14643.239990</td>\n",
       "      <td>-494.780231</td>\n",
       "      <td>99.684099</td>\n",
       "    </tr>\n",
       "    <tr>\n",
       "      <th>5</th>\n",
       "      <td>613a</td>\n",
       "      <td>-14599.453386</td>\n",
       "      <td>-473.751012</td>\n",
       "      <td>51.273215</td>\n",
       "    </tr>\n",
       "    <tr>\n",
       "      <th>6</th>\n",
       "      <td>614a</td>\n",
       "      <td>-14619.703802</td>\n",
       "      <td>-486.664942</td>\n",
       "      <td>74.841707</td>\n",
       "    </tr>\n",
       "    <tr>\n",
       "      <th>7</th>\n",
       "      <td>615a</td>\n",
       "      <td>-14639.901496</td>\n",
       "      <td>-488.013992</td>\n",
       "      <td>94.161997</td>\n",
       "    </tr>\n",
       "    <tr>\n",
       "      <th>8</th>\n",
       "      <td>612a</td>\n",
       "      <td>-14573.378611</td>\n",
       "      <td>-470.672027</td>\n",
       "      <td>26.233544</td>\n",
       "    </tr>\n",
       "    <tr>\n",
       "      <th>9</th>\n",
       "      <td>610a</td>\n",
       "      <td>-14527.723964</td>\n",
       "      <td>-454.916681</td>\n",
       "      <td>23.366804</td>\n",
       "    </tr>\n",
       "    <tr>\n",
       "      <th>10</th>\n",
       "      <td>610</td>\n",
       "      <td>-14529.238880</td>\n",
       "      <td>-449.458162</td>\n",
       "      <td>23.024965</td>\n",
       "    </tr>\n",
       "    <tr>\n",
       "      <th>11</th>\n",
       "      <td>611a</td>\n",
       "      <td>-14550.999123</td>\n",
       "      <td>-456.984174</td>\n",
       "      <td>0.000000</td>\n",
       "    </tr>\n",
       "  </tbody>\n",
       "</table>\n",
       "</div>"
      ],
      "text/plain": [
       "     Num             X           Y       Dist\n",
       "0    612 -14574.506644 -465.178297  24.894722\n",
       "1    611 -14549.211001 -462.285522   5.594790\n",
       "2    613 -14596.914747 -478.751945  50.814175\n",
       "3    614 -14620.621286 -481.361715  73.766592\n",
       "4    615 -14643.239990 -494.780231  99.684099\n",
       "5   613a -14599.453386 -473.751012  51.273215\n",
       "6   614a -14619.703802 -486.664942  74.841707\n",
       "7   615a -14639.901496 -488.013992  94.161997\n",
       "8   612a -14573.378611 -470.672027  26.233544\n",
       "9   610a -14527.723964 -454.916681  23.366804\n",
       "10   610 -14529.238880 -449.458162  23.024965\n",
       "11  611a -14550.999123 -456.984174   0.000000"
      ]
     },
     "execution_count": 136,
     "metadata": {},
     "output_type": "execute_result"
    }
   ],
   "source": [
    "df2_nums = list(zip(*df02['Num'].iteritems()))[1]\n",
    "al = list(zip(df2_nums,mp_moved))\n",
    "mov_stag = [[i[0],i[1].x,i[1].y,al[-1][1].distance(i[1])] for i in al]\n",
    "mov_df = pd.DataFrame.from_records(mov_stag,columns=('Num','X','Y','Dist'))\n",
    "mov_df"
   ]
  },
  {
   "cell_type": "code",
   "execution_count": null,
   "metadata": {
    "collapsed": true
   },
   "outputs": [],
   "source": []
  },
  {
   "cell_type": "code",
   "execution_count": null,
   "metadata": {
    "collapsed": true
   },
   "outputs": [],
   "source": []
  },
  {
   "cell_type": "markdown",
   "metadata": {},
   "source": [
    "g"
   ]
  }
 ],
 "metadata": {
  "anaconda-cloud": {},
  "kernelspec": {
   "display_name": "Python 3",
   "language": "python",
   "name": "python3"
  },
  "language_info": {
   "codemirror_mode": {
    "name": "ipython",
    "version": 3
   },
   "file_extension": ".py",
   "mimetype": "text/x-python",
   "name": "python",
   "nbconvert_exporter": "python",
   "pygments_lexer": "ipython3",
   "version": "3.5.1"
  }
 },
 "nbformat": 4,
 "nbformat_minor": 0
}
